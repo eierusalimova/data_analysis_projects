{
 "cells": [
  {
   "cell_type": "markdown",
   "metadata": {},
   "source": [
    "# Pr.7 Прогнозирование оттока клиентов банка"
   ]
  },
  {
   "cell_type": "markdown",
   "metadata": {},
   "source": [
    "<div style=\"border:solid blue 2px; padding: 20px\"> <h3 style=\"color: blue; margin-bottom:20px\">Внимание</h3> \n",
    "    Расчет нескольких ячеек (подбор параметров в цикле) занимает от 2 до 4 минут каждая.\n",
    "</div>"
   ]
  },
  {
   "cell_type": "markdown",
   "metadata": {},
   "source": [
    "Из «Бета-Банка» стали уходить клиенты. Каждый месяц. Немного, но заметно. Банковские маркетологи посчитали: сохранять текущих клиентов дешевле, чем привлекать новых.\n",
    "\n",
    "Нужно спрогнозировать, уйдёт клиент из банка в ближайшее время или нет. Вам предоставлены исторические данные о поведении клиентов и расторжении договоров с банком. \n",
    "\n",
    "Постройте модель с предельно большим значением *F1*-меры. Чтобы сдать проект успешно, нужно довести метрику до 0.59. Проверьте *F1*-меру на тестовой выборке самостоятельно.\n",
    "\n",
    "Дополнительно измеряйте *AUC-ROC*, сравнивайте её значение с *F1*-мерой.\n",
    "\n",
    "Источник данных: [https://www.kaggle.com/barelydedicated/bank-customer-churn-modeling](https://www.kaggle.com/barelydedicated/bank-customer-churn-modeling)"
   ]
  },
  {
   "cell_type": "markdown",
   "metadata": {},
   "source": [
    "# 1. Подготовка данных"
   ]
  },
  {
   "cell_type": "code",
   "execution_count": 1,
   "metadata": {},
   "outputs": [],
   "source": [
    "import pandas as pd\n",
    "import numpy as np\n",
    "import matplotlib.pyplot as plt\n",
    "#import seaborn as sns\n",
    "\n",
    "from sklearn.model_selection import train_test_split\n",
    "\n",
    "from sklearn.preprocessing import OrdinalEncoder\n",
    "from sklearn.preprocessing import StandardScaler\n",
    "from sklearn.utils import shuffle\n",
    "\n",
    "from sklearn.linear_model import LogisticRegression\n",
    "from sklearn.tree import DecisionTreeClassifier\n",
    "from sklearn.ensemble import RandomForestClassifier\n",
    "\n",
    "from sklearn.metrics import roc_curve\n",
    "#from sklearn.metrics import precision_recall_curve\n",
    "\n",
    "from sklearn.metrics import f1_score\n",
    "from sklearn.metrics import roc_auc_score \n",
    "\n",
    "#from sklearn.metrics import accuracy_score\n",
    "#from sklearn.metrics import confusion_matrix\n",
    "from sklearn.metrics import precision_score, recall_score\n",
    "\n",
    "import warnings\n",
    "#warnings.simplefilter(action='ignore', category=FutureWarning)  # игнорирование будущих предупреждений\n",
    "warnings.filterwarnings(\"ignore\")  - игнорирование всех предупреждений"
   ]
  },
  {
   "cell_type": "code",
   "execution_count": 2,
   "metadata": {},
   "outputs": [],
   "source": [
    "path='https://code.s3.yandex.net/datasets/'\n",
    "file_name='Churn.csv'\n",
    "df = pd.read_csv(path+file_name) #,sep='\\t')"
   ]
  },
  {
   "cell_type": "code",
   "execution_count": 3,
   "metadata": {},
   "outputs": [
    {
     "name": "stdout",
     "output_type": "stream",
     "text": [
      "<class 'pandas.core.frame.DataFrame'>\n",
      "RangeIndex: 10000 entries, 0 to 9999\n",
      "Data columns (total 14 columns):\n",
      " #   Column           Non-Null Count  Dtype  \n",
      "---  ------           --------------  -----  \n",
      " 0   RowNumber        10000 non-null  int64  \n",
      " 1   CustomerId       10000 non-null  int64  \n",
      " 2   Surname          10000 non-null  object \n",
      " 3   CreditScore      10000 non-null  int64  \n",
      " 4   Geography        10000 non-null  object \n",
      " 5   Gender           10000 non-null  object \n",
      " 6   Age              10000 non-null  int64  \n",
      " 7   Tenure           9091 non-null   float64\n",
      " 8   Balance          10000 non-null  float64\n",
      " 9   NumOfProducts    10000 non-null  int64  \n",
      " 10  HasCrCard        10000 non-null  int64  \n",
      " 11  IsActiveMember   10000 non-null  int64  \n",
      " 12  EstimatedSalary  10000 non-null  float64\n",
      " 13  Exited           10000 non-null  int64  \n",
      "dtypes: float64(3), int64(8), object(3)\n",
      "memory usage: 1.1+ MB\n"
     ]
    }
   ],
   "source": [
    "df.info()"
   ]
  },
  {
   "cell_type": "code",
   "execution_count": 4,
   "metadata": {
    "scrolled": true
   },
   "outputs": [
    {
     "data": {
      "text/html": [
       "<div>\n",
       "<style scoped>\n",
       "    .dataframe tbody tr th:only-of-type {\n",
       "        vertical-align: middle;\n",
       "    }\n",
       "\n",
       "    .dataframe tbody tr th {\n",
       "        vertical-align: top;\n",
       "    }\n",
       "\n",
       "    .dataframe thead th {\n",
       "        text-align: right;\n",
       "    }\n",
       "</style>\n",
       "<table border=\"1\" class=\"dataframe\">\n",
       "  <thead>\n",
       "    <tr style=\"text-align: right;\">\n",
       "      <th></th>\n",
       "      <th>RowNumber</th>\n",
       "      <th>CustomerId</th>\n",
       "      <th>Surname</th>\n",
       "      <th>CreditScore</th>\n",
       "      <th>Geography</th>\n",
       "      <th>Gender</th>\n",
       "      <th>Age</th>\n",
       "      <th>Tenure</th>\n",
       "      <th>Balance</th>\n",
       "      <th>NumOfProducts</th>\n",
       "      <th>HasCrCard</th>\n",
       "      <th>IsActiveMember</th>\n",
       "      <th>EstimatedSalary</th>\n",
       "      <th>Exited</th>\n",
       "    </tr>\n",
       "  </thead>\n",
       "  <tbody>\n",
       "    <tr>\n",
       "      <th>0</th>\n",
       "      <td>1</td>\n",
       "      <td>15634602</td>\n",
       "      <td>Hargrave</td>\n",
       "      <td>619</td>\n",
       "      <td>France</td>\n",
       "      <td>Female</td>\n",
       "      <td>42</td>\n",
       "      <td>2.0</td>\n",
       "      <td>0.00</td>\n",
       "      <td>1</td>\n",
       "      <td>1</td>\n",
       "      <td>1</td>\n",
       "      <td>101348.88</td>\n",
       "      <td>1</td>\n",
       "    </tr>\n",
       "    <tr>\n",
       "      <th>1</th>\n",
       "      <td>2</td>\n",
       "      <td>15647311</td>\n",
       "      <td>Hill</td>\n",
       "      <td>608</td>\n",
       "      <td>Spain</td>\n",
       "      <td>Female</td>\n",
       "      <td>41</td>\n",
       "      <td>1.0</td>\n",
       "      <td>83807.86</td>\n",
       "      <td>1</td>\n",
       "      <td>0</td>\n",
       "      <td>1</td>\n",
       "      <td>112542.58</td>\n",
       "      <td>0</td>\n",
       "    </tr>\n",
       "    <tr>\n",
       "      <th>2</th>\n",
       "      <td>3</td>\n",
       "      <td>15619304</td>\n",
       "      <td>Onio</td>\n",
       "      <td>502</td>\n",
       "      <td>France</td>\n",
       "      <td>Female</td>\n",
       "      <td>42</td>\n",
       "      <td>8.0</td>\n",
       "      <td>159660.80</td>\n",
       "      <td>3</td>\n",
       "      <td>1</td>\n",
       "      <td>0</td>\n",
       "      <td>113931.57</td>\n",
       "      <td>1</td>\n",
       "    </tr>\n",
       "    <tr>\n",
       "      <th>3</th>\n",
       "      <td>4</td>\n",
       "      <td>15701354</td>\n",
       "      <td>Boni</td>\n",
       "      <td>699</td>\n",
       "      <td>France</td>\n",
       "      <td>Female</td>\n",
       "      <td>39</td>\n",
       "      <td>1.0</td>\n",
       "      <td>0.00</td>\n",
       "      <td>2</td>\n",
       "      <td>0</td>\n",
       "      <td>0</td>\n",
       "      <td>93826.63</td>\n",
       "      <td>0</td>\n",
       "    </tr>\n",
       "    <tr>\n",
       "      <th>4</th>\n",
       "      <td>5</td>\n",
       "      <td>15737888</td>\n",
       "      <td>Mitchell</td>\n",
       "      <td>850</td>\n",
       "      <td>Spain</td>\n",
       "      <td>Female</td>\n",
       "      <td>43</td>\n",
       "      <td>2.0</td>\n",
       "      <td>125510.82</td>\n",
       "      <td>1</td>\n",
       "      <td>1</td>\n",
       "      <td>1</td>\n",
       "      <td>79084.10</td>\n",
       "      <td>0</td>\n",
       "    </tr>\n",
       "  </tbody>\n",
       "</table>\n",
       "</div>"
      ],
      "text/plain": [
       "   RowNumber  CustomerId   Surname  CreditScore Geography  Gender  Age  \\\n",
       "0          1    15634602  Hargrave          619    France  Female   42   \n",
       "1          2    15647311      Hill          608     Spain  Female   41   \n",
       "2          3    15619304      Onio          502    France  Female   42   \n",
       "3          4    15701354      Boni          699    France  Female   39   \n",
       "4          5    15737888  Mitchell          850     Spain  Female   43   \n",
       "\n",
       "   Tenure    Balance  NumOfProducts  HasCrCard  IsActiveMember  \\\n",
       "0     2.0       0.00              1          1               1   \n",
       "1     1.0   83807.86              1          0               1   \n",
       "2     8.0  159660.80              3          1               0   \n",
       "3     1.0       0.00              2          0               0   \n",
       "4     2.0  125510.82              1          1               1   \n",
       "\n",
       "   EstimatedSalary  Exited  \n",
       "0        101348.88       1  \n",
       "1        112542.58       0  \n",
       "2        113931.57       1  \n",
       "3         93826.63       0  \n",
       "4         79084.10       0  "
      ]
     },
     "execution_count": 4,
     "metadata": {},
     "output_type": "execute_result"
    }
   ],
   "source": [
    "df.head()"
   ]
  },
  {
   "cell_type": "code",
   "execution_count": 5,
   "metadata": {
    "scrolled": true
   },
   "outputs": [
    {
     "data": {
      "text/plain": [
       "Index(['RowNumber', 'CustomerId', 'Surname', 'CreditScore', 'Geography',\n",
       "       'Gender', 'Age', 'Tenure', 'Balance', 'NumOfProducts', 'HasCrCard',\n",
       "       'IsActiveMember', 'EstimatedSalary', 'Exited'],\n",
       "      dtype='object')"
      ]
     },
     "execution_count": 5,
     "metadata": {},
     "output_type": "execute_result"
    }
   ],
   "source": [
    "df.columns"
   ]
  },
  {
   "cell_type": "markdown",
   "metadata": {},
   "source": [
    "Сменим регистр в названиях столбцов и переименуем некоторые из них для бОльшей \"читабельности\"."
   ]
  },
  {
   "cell_type": "code",
   "execution_count": 6,
   "metadata": {
    "scrolled": true
   },
   "outputs": [
    {
     "data": {
      "text/plain": [
       "Index(['row_number', 'customer_id', 'surname', 'cred_score', 'geogr', 'gend',\n",
       "       'age', 'tenure', 'balance', 'prod_number', 'has_cr_card', 'is_active',\n",
       "       'salary', 'exited'],\n",
       "      dtype='object')"
      ]
     },
     "execution_count": 6,
     "metadata": {},
     "output_type": "execute_result"
    }
   ],
   "source": [
    "df.columns = df.columns.str.lower()\n",
    "df = df.rename(columns = {'rownumber' : 'row_number',\n",
    "                            'customerid' : 'customer_id',\n",
    "                            'creditscore' : 'cred_score',\n",
    "                            'numofproducts' : 'prod_number',\n",
    "                            'hascrcard' : 'has_cr_card',\n",
    "                            'isactivemember' : 'is_active',\n",
    "                            'estimatedsalary' : 'salary',\n",
    "                            'geography':'geogr',\n",
    "                            'gender':'gend'\n",
    "                           })\n",
    "df.columns"
   ]
  },
  {
   "cell_type": "markdown",
   "metadata": {},
   "source": [
    "Изучим описательные статистики для численных признаков:"
   ]
  },
  {
   "cell_type": "code",
   "execution_count": 7,
   "metadata": {},
   "outputs": [
    {
     "data": {
      "text/html": [
       "<div>\n",
       "<style scoped>\n",
       "    .dataframe tbody tr th:only-of-type {\n",
       "        vertical-align: middle;\n",
       "    }\n",
       "\n",
       "    .dataframe tbody tr th {\n",
       "        vertical-align: top;\n",
       "    }\n",
       "\n",
       "    .dataframe thead th {\n",
       "        text-align: right;\n",
       "    }\n",
       "</style>\n",
       "<table border=\"1\" class=\"dataframe\">\n",
       "  <thead>\n",
       "    <tr style=\"text-align: right;\">\n",
       "      <th></th>\n",
       "      <th>row_number</th>\n",
       "      <th>customer_id</th>\n",
       "      <th>cred_score</th>\n",
       "      <th>age</th>\n",
       "      <th>tenure</th>\n",
       "      <th>balance</th>\n",
       "      <th>prod_number</th>\n",
       "      <th>has_cr_card</th>\n",
       "      <th>is_active</th>\n",
       "      <th>salary</th>\n",
       "      <th>exited</th>\n",
       "    </tr>\n",
       "  </thead>\n",
       "  <tbody>\n",
       "    <tr>\n",
       "      <th>count</th>\n",
       "      <td>10000.0</td>\n",
       "      <td>10000.0</td>\n",
       "      <td>10000.0</td>\n",
       "      <td>10000.0</td>\n",
       "      <td>9091.0</td>\n",
       "      <td>10000.0</td>\n",
       "      <td>10000.0</td>\n",
       "      <td>10000.0</td>\n",
       "      <td>10000.0</td>\n",
       "      <td>10000.0</td>\n",
       "      <td>10000.0</td>\n",
       "    </tr>\n",
       "    <tr>\n",
       "      <th>mean</th>\n",
       "      <td>5000.5</td>\n",
       "      <td>15690940.6</td>\n",
       "      <td>650.5</td>\n",
       "      <td>38.9</td>\n",
       "      <td>5.0</td>\n",
       "      <td>76485.9</td>\n",
       "      <td>1.5</td>\n",
       "      <td>0.7</td>\n",
       "      <td>0.5</td>\n",
       "      <td>100090.2</td>\n",
       "      <td>0.2</td>\n",
       "    </tr>\n",
       "    <tr>\n",
       "      <th>std</th>\n",
       "      <td>2886.9</td>\n",
       "      <td>71936.2</td>\n",
       "      <td>96.7</td>\n",
       "      <td>10.5</td>\n",
       "      <td>2.9</td>\n",
       "      <td>62397.4</td>\n",
       "      <td>0.6</td>\n",
       "      <td>0.5</td>\n",
       "      <td>0.5</td>\n",
       "      <td>57510.5</td>\n",
       "      <td>0.4</td>\n",
       "    </tr>\n",
       "    <tr>\n",
       "      <th>min</th>\n",
       "      <td>1.0</td>\n",
       "      <td>15565701.0</td>\n",
       "      <td>350.0</td>\n",
       "      <td>18.0</td>\n",
       "      <td>0.0</td>\n",
       "      <td>0.0</td>\n",
       "      <td>1.0</td>\n",
       "      <td>0.0</td>\n",
       "      <td>0.0</td>\n",
       "      <td>11.6</td>\n",
       "      <td>0.0</td>\n",
       "    </tr>\n",
       "    <tr>\n",
       "      <th>25%</th>\n",
       "      <td>2500.8</td>\n",
       "      <td>15628528.2</td>\n",
       "      <td>584.0</td>\n",
       "      <td>32.0</td>\n",
       "      <td>2.0</td>\n",
       "      <td>0.0</td>\n",
       "      <td>1.0</td>\n",
       "      <td>0.0</td>\n",
       "      <td>0.0</td>\n",
       "      <td>51002.1</td>\n",
       "      <td>0.0</td>\n",
       "    </tr>\n",
       "    <tr>\n",
       "      <th>50%</th>\n",
       "      <td>5000.5</td>\n",
       "      <td>15690738.0</td>\n",
       "      <td>652.0</td>\n",
       "      <td>37.0</td>\n",
       "      <td>5.0</td>\n",
       "      <td>97198.5</td>\n",
       "      <td>1.0</td>\n",
       "      <td>1.0</td>\n",
       "      <td>1.0</td>\n",
       "      <td>100193.9</td>\n",
       "      <td>0.0</td>\n",
       "    </tr>\n",
       "    <tr>\n",
       "      <th>75%</th>\n",
       "      <td>7500.2</td>\n",
       "      <td>15753233.8</td>\n",
       "      <td>718.0</td>\n",
       "      <td>44.0</td>\n",
       "      <td>7.0</td>\n",
       "      <td>127644.2</td>\n",
       "      <td>2.0</td>\n",
       "      <td>1.0</td>\n",
       "      <td>1.0</td>\n",
       "      <td>149388.2</td>\n",
       "      <td>0.0</td>\n",
       "    </tr>\n",
       "    <tr>\n",
       "      <th>max</th>\n",
       "      <td>10000.0</td>\n",
       "      <td>15815690.0</td>\n",
       "      <td>850.0</td>\n",
       "      <td>92.0</td>\n",
       "      <td>10.0</td>\n",
       "      <td>250898.1</td>\n",
       "      <td>4.0</td>\n",
       "      <td>1.0</td>\n",
       "      <td>1.0</td>\n",
       "      <td>199992.5</td>\n",
       "      <td>1.0</td>\n",
       "    </tr>\n",
       "  </tbody>\n",
       "</table>\n",
       "</div>"
      ],
      "text/plain": [
       "       row_number  customer_id  cred_score      age  tenure   balance  \\\n",
       "count     10000.0      10000.0     10000.0  10000.0  9091.0   10000.0   \n",
       "mean       5000.5   15690940.6       650.5     38.9     5.0   76485.9   \n",
       "std        2886.9      71936.2        96.7     10.5     2.9   62397.4   \n",
       "min           1.0   15565701.0       350.0     18.0     0.0       0.0   \n",
       "25%        2500.8   15628528.2       584.0     32.0     2.0       0.0   \n",
       "50%        5000.5   15690738.0       652.0     37.0     5.0   97198.5   \n",
       "75%        7500.2   15753233.8       718.0     44.0     7.0  127644.2   \n",
       "max       10000.0   15815690.0       850.0     92.0    10.0  250898.1   \n",
       "\n",
       "       prod_number  has_cr_card  is_active    salary   exited  \n",
       "count      10000.0      10000.0    10000.0   10000.0  10000.0  \n",
       "mean           1.5          0.7        0.5  100090.2      0.2  \n",
       "std            0.6          0.5        0.5   57510.5      0.4  \n",
       "min            1.0          0.0        0.0      11.6      0.0  \n",
       "25%            1.0          0.0        0.0   51002.1      0.0  \n",
       "50%            1.0          1.0        1.0  100193.9      0.0  \n",
       "75%            2.0          1.0        1.0  149388.2      0.0  \n",
       "max            4.0          1.0        1.0  199992.5      1.0  "
      ]
     },
     "execution_count": 7,
     "metadata": {},
     "output_type": "execute_result"
    }
   ],
   "source": [
    "df.describe().round(1)"
   ]
  },
  {
   "cell_type": "markdown",
   "metadata": {},
   "source": [
    "Это сразу позволяет проанализировать многое.<br>\n",
    "- Колонки \"row_number\", \"credit_score\", \"age\", \"tenure\" и \"salary\" имеют  несмещенное распределение (их медианы практически равны их средним);\n",
    "- Имеем сильный дисбаланс классов: ушедших клиентов - 20%, оставшихся - 80%;\n",
    "- Колонка \"row_number\" полностью дублирует индексы датафрейма;\n",
    "- Средний кредитный рейтинг - 650, средний возраст - 39 лет, среднее число продуктов - 1.5, средняя зарплата - 100090, в среднем у клиента 5 объектов недвижимости, 70% клиентов имеют кредитные карты, активных и пассивных клиентов поровну.\n",
    "\n",
    "Чтобы объекты с бОльшим номером ряда не влияли на модель в бОльшей степени, удалим колонку \"row_number\"."
   ]
  },
  {
   "cell_type": "code",
   "execution_count": 8,
   "metadata": {},
   "outputs": [],
   "source": [
    "df = df.drop('row_number', axis = 1)"
   ]
  },
  {
   "cell_type": "code",
   "execution_count": 9,
   "metadata": {
    "scrolled": true
   },
   "outputs": [
    {
     "data": {
      "text/html": [
       "<div>\n",
       "<style scoped>\n",
       "    .dataframe tbody tr th:only-of-type {\n",
       "        vertical-align: middle;\n",
       "    }\n",
       "\n",
       "    .dataframe tbody tr th {\n",
       "        vertical-align: top;\n",
       "    }\n",
       "\n",
       "    .dataframe thead th {\n",
       "        text-align: right;\n",
       "    }\n",
       "</style>\n",
       "<table border=\"1\" class=\"dataframe\">\n",
       "  <thead>\n",
       "    <tr style=\"text-align: right;\">\n",
       "      <th></th>\n",
       "      <th>customer_id</th>\n",
       "      <th>surname</th>\n",
       "      <th>cred_score</th>\n",
       "      <th>geogr</th>\n",
       "      <th>gend</th>\n",
       "      <th>age</th>\n",
       "      <th>tenure</th>\n",
       "      <th>balance</th>\n",
       "      <th>prod_number</th>\n",
       "      <th>has_cr_card</th>\n",
       "      <th>is_active</th>\n",
       "      <th>salary</th>\n",
       "      <th>exited</th>\n",
       "    </tr>\n",
       "  </thead>\n",
       "  <tbody>\n",
       "    <tr>\n",
       "      <th>0</th>\n",
       "      <td>15634602</td>\n",
       "      <td>Hargrave</td>\n",
       "      <td>619</td>\n",
       "      <td>France</td>\n",
       "      <td>Female</td>\n",
       "      <td>42</td>\n",
       "      <td>2.0</td>\n",
       "      <td>0.0</td>\n",
       "      <td>1</td>\n",
       "      <td>1</td>\n",
       "      <td>1</td>\n",
       "      <td>101348.88</td>\n",
       "      <td>1</td>\n",
       "    </tr>\n",
       "  </tbody>\n",
       "</table>\n",
       "</div>"
      ],
      "text/plain": [
       "   customer_id   surname  cred_score   geogr    gend  age  tenure  balance  \\\n",
       "0     15634602  Hargrave         619  France  Female   42     2.0      0.0   \n",
       "\n",
       "   prod_number  has_cr_card  is_active     salary  exited  \n",
       "0            1            1          1  101348.88       1  "
      ]
     },
     "execution_count": 9,
     "metadata": {},
     "output_type": "execute_result"
    }
   ],
   "source": [
    "df.head(1)"
   ]
  },
  {
   "cell_type": "code",
   "execution_count": 10,
   "metadata": {
    "scrolled": false
   },
   "outputs": [
    {
     "data": {
      "text/plain": [
       "1.0     952\n",
       "2.0     950\n",
       "8.0     933\n",
       "3.0     928\n",
       "5.0     927\n",
       "7.0     925\n",
       "4.0     885\n",
       "9.0     882\n",
       "6.0     881\n",
       "10.0    446\n",
       "0.0     382\n",
       "Name: tenure, dtype: int64"
      ]
     },
     "execution_count": 10,
     "metadata": {},
     "output_type": "execute_result"
    }
   ],
   "source": [
    "df['tenure'].value_counts()"
   ]
  },
  {
   "cell_type": "code",
   "execution_count": 11,
   "metadata": {
    "scrolled": true
   },
   "outputs": [
    {
     "data": {
      "text/plain": [
       "9091"
      ]
     },
     "execution_count": 11,
     "metadata": {},
     "output_type": "execute_result"
    }
   ],
   "source": [
    "df['tenure'].value_counts().sum()"
   ]
  },
  {
   "cell_type": "code",
   "execution_count": 12,
   "metadata": {},
   "outputs": [
    {
     "data": {
      "text/plain": [
       "909"
      ]
     },
     "execution_count": 12,
     "metadata": {},
     "output_type": "execute_result"
    }
   ],
   "source": [
    "df['tenure'].isna().sum()"
   ]
  },
  {
   "cell_type": "markdown",
   "metadata": {},
   "source": [
    "Заполним пропуски в количестве недвижимости медианой и заодно изменим тип на целочисленный:"
   ]
  },
  {
   "cell_type": "code",
   "execution_count": 13,
   "metadata": {},
   "outputs": [
    {
     "name": "stdout",
     "output_type": "stream",
     "text": [
      "<class 'pandas.core.frame.DataFrame'>\n",
      "RangeIndex: 10000 entries, 0 to 9999\n",
      "Data columns (total 13 columns):\n",
      " #   Column       Non-Null Count  Dtype  \n",
      "---  ------       --------------  -----  \n",
      " 0   customer_id  10000 non-null  int64  \n",
      " 1   surname      10000 non-null  object \n",
      " 2   cred_score   10000 non-null  int64  \n",
      " 3   geogr        10000 non-null  object \n",
      " 4   gend         10000 non-null  object \n",
      " 5   age          10000 non-null  int64  \n",
      " 6   tenure       10000 non-null  int32  \n",
      " 7   balance      10000 non-null  float64\n",
      " 8   prod_number  10000 non-null  int64  \n",
      " 9   has_cr_card  10000 non-null  int64  \n",
      " 10  is_active    10000 non-null  int64  \n",
      " 11  salary       10000 non-null  float64\n",
      " 12  exited       10000 non-null  int64  \n",
      "dtypes: float64(2), int32(1), int64(7), object(3)\n",
      "memory usage: 976.7+ KB\n"
     ]
    }
   ],
   "source": [
    "df['tenure'] = df['tenure'].fillna(df['tenure'].median()).astype('int')\n",
    "df.info()"
   ]
  },
  {
   "cell_type": "code",
   "execution_count": 14,
   "metadata": {},
   "outputs": [
    {
     "data": {
      "text/plain": [
       "0"
      ]
     },
     "execution_count": 14,
     "metadata": {},
     "output_type": "execute_result"
    }
   ],
   "source": [
    "df.duplicated().sum()"
   ]
  },
  {
   "cell_type": "markdown",
   "metadata": {},
   "source": [
    "Полных дубликатов нет.  Теперь проанализируем качественные признаки."
   ]
  },
  {
   "cell_type": "code",
   "execution_count": 15,
   "metadata": {},
   "outputs": [
    {
     "data": {
      "text/plain": [
       "Male      5457\n",
       "Female    4543\n",
       "Name: gend, dtype: int64"
      ]
     },
     "execution_count": 15,
     "metadata": {},
     "output_type": "execute_result"
    }
   ],
   "source": [
    "df['gend'].value_counts()"
   ]
  },
  {
   "cell_type": "code",
   "execution_count": 16,
   "metadata": {},
   "outputs": [
    {
     "data": {
      "text/plain": [
       "France     5014\n",
       "Germany    2509\n",
       "Spain      2477\n",
       "Name: geogr, dtype: int64"
      ]
     },
     "execution_count": 16,
     "metadata": {},
     "output_type": "execute_result"
    }
   ],
   "source": [
    "df['geogr'].value_counts()"
   ]
  },
  {
   "cell_type": "markdown",
   "metadata": {},
   "source": [
    "Соотношение мужчин и женщин - 55% / 45%. География представлена 3мя странами.<br>\n",
    "\n",
    "Фамилия не является признаком, от которого зависит отток, так же как и идентификатор клиента: эти колонки мы удалим. <br>\n",
    "Колонки с полом и географией преобразуем техникой прямого кодирования OHE.\n"
   ]
  },
  {
   "cell_type": "code",
   "execution_count": 17,
   "metadata": {},
   "outputs": [],
   "source": [
    "df = df.drop('surname', axis = 1)\n",
    "df = df.drop('customer_id', axis = 1)"
   ]
  },
  {
   "cell_type": "code",
   "execution_count": 18,
   "metadata": {
    "scrolled": false
   },
   "outputs": [
    {
     "data": {
      "text/html": [
       "<div>\n",
       "<style scoped>\n",
       "    .dataframe tbody tr th:only-of-type {\n",
       "        vertical-align: middle;\n",
       "    }\n",
       "\n",
       "    .dataframe tbody tr th {\n",
       "        vertical-align: top;\n",
       "    }\n",
       "\n",
       "    .dataframe thead th {\n",
       "        text-align: right;\n",
       "    }\n",
       "</style>\n",
       "<table border=\"1\" class=\"dataframe\">\n",
       "  <thead>\n",
       "    <tr style=\"text-align: right;\">\n",
       "      <th></th>\n",
       "      <th>cred_score</th>\n",
       "      <th>age</th>\n",
       "      <th>tenure</th>\n",
       "      <th>balance</th>\n",
       "      <th>prod_number</th>\n",
       "      <th>has_cr_card</th>\n",
       "      <th>is_active</th>\n",
       "      <th>salary</th>\n",
       "      <th>exited</th>\n",
       "      <th>geogr_Germany</th>\n",
       "      <th>geogr_Spain</th>\n",
       "      <th>gend_Male</th>\n",
       "    </tr>\n",
       "  </thead>\n",
       "  <tbody>\n",
       "    <tr>\n",
       "      <th>0</th>\n",
       "      <td>619</td>\n",
       "      <td>42</td>\n",
       "      <td>2</td>\n",
       "      <td>0.00</td>\n",
       "      <td>1</td>\n",
       "      <td>1</td>\n",
       "      <td>1</td>\n",
       "      <td>101348.88</td>\n",
       "      <td>1</td>\n",
       "      <td>0</td>\n",
       "      <td>0</td>\n",
       "      <td>0</td>\n",
       "    </tr>\n",
       "    <tr>\n",
       "      <th>1</th>\n",
       "      <td>608</td>\n",
       "      <td>41</td>\n",
       "      <td>1</td>\n",
       "      <td>83807.86</td>\n",
       "      <td>1</td>\n",
       "      <td>0</td>\n",
       "      <td>1</td>\n",
       "      <td>112542.58</td>\n",
       "      <td>0</td>\n",
       "      <td>0</td>\n",
       "      <td>1</td>\n",
       "      <td>0</td>\n",
       "    </tr>\n",
       "  </tbody>\n",
       "</table>\n",
       "</div>"
      ],
      "text/plain": [
       "   cred_score  age  tenure   balance  prod_number  has_cr_card  is_active  \\\n",
       "0         619   42       2      0.00            1            1          1   \n",
       "1         608   41       1  83807.86            1            0          1   \n",
       "\n",
       "      salary  exited  geogr_Germany  geogr_Spain  gend_Male  \n",
       "0  101348.88       1              0            0          0  \n",
       "1  112542.58       0              0            1          0  "
      ]
     },
     "execution_count": 18,
     "metadata": {},
     "output_type": "execute_result"
    }
   ],
   "source": [
    "df = pd.get_dummies(df, drop_first=True)\n",
    "df.head(2)"
   ]
  },
  {
   "cell_type": "code",
   "execution_count": 19,
   "metadata": {
    "scrolled": false
   },
   "outputs": [
    {
     "data": {
      "text/html": [
       "<div>\n",
       "<style scoped>\n",
       "    .dataframe tbody tr th:only-of-type {\n",
       "        vertical-align: middle;\n",
       "    }\n",
       "\n",
       "    .dataframe tbody tr th {\n",
       "        vertical-align: top;\n",
       "    }\n",
       "\n",
       "    .dataframe thead th {\n",
       "        text-align: right;\n",
       "    }\n",
       "</style>\n",
       "<table border=\"1\" class=\"dataframe\">\n",
       "  <thead>\n",
       "    <tr style=\"text-align: right;\">\n",
       "      <th></th>\n",
       "      <th>cred_score</th>\n",
       "      <th>age</th>\n",
       "      <th>tenure</th>\n",
       "      <th>balance</th>\n",
       "      <th>prod_number</th>\n",
       "      <th>has_cr_card</th>\n",
       "      <th>is_active</th>\n",
       "      <th>salary</th>\n",
       "      <th>exited</th>\n",
       "      <th>geogr_germany</th>\n",
       "      <th>geogr_spain</th>\n",
       "      <th>gend_male</th>\n",
       "    </tr>\n",
       "  </thead>\n",
       "  <tbody>\n",
       "    <tr>\n",
       "      <th>0</th>\n",
       "      <td>619</td>\n",
       "      <td>42</td>\n",
       "      <td>2</td>\n",
       "      <td>0.0</td>\n",
       "      <td>1</td>\n",
       "      <td>1</td>\n",
       "      <td>1</td>\n",
       "      <td>101348.88</td>\n",
       "      <td>1</td>\n",
       "      <td>0</td>\n",
       "      <td>0</td>\n",
       "      <td>0</td>\n",
       "    </tr>\n",
       "  </tbody>\n",
       "</table>\n",
       "</div>"
      ],
      "text/plain": [
       "   cred_score  age  tenure  balance  prod_number  has_cr_card  is_active  \\\n",
       "0         619   42       2      0.0            1            1          1   \n",
       "\n",
       "      salary  exited  geogr_germany  geogr_spain  gend_male  \n",
       "0  101348.88       1              0            0          0  "
      ]
     },
     "metadata": {},
     "output_type": "display_data"
    },
    {
     "name": "stdout",
     "output_type": "stream",
     "text": [
      "(10000, 12)\n"
     ]
    }
   ],
   "source": [
    "df.columns = df.columns.str.lower()\n",
    "display(df.head(1))\n",
    "print(df.shape)"
   ]
  },
  {
   "cell_type": "code",
   "execution_count": 20,
   "metadata": {},
   "outputs": [
    {
     "name": "stdout",
     "output_type": "stream",
     "text": [
      "<class 'pandas.core.frame.DataFrame'>\n",
      "RangeIndex: 10000 entries, 0 to 9999\n",
      "Data columns (total 12 columns):\n",
      " #   Column         Non-Null Count  Dtype  \n",
      "---  ------         --------------  -----  \n",
      " 0   cred_score     10000 non-null  int64  \n",
      " 1   age            10000 non-null  int64  \n",
      " 2   tenure         10000 non-null  int32  \n",
      " 3   balance        10000 non-null  float64\n",
      " 4   prod_number    10000 non-null  int64  \n",
      " 5   has_cr_card    10000 non-null  int64  \n",
      " 6   is_active      10000 non-null  int64  \n",
      " 7   salary         10000 non-null  float64\n",
      " 8   exited         10000 non-null  int64  \n",
      " 9   geogr_germany  10000 non-null  uint8  \n",
      " 10  geogr_spain    10000 non-null  uint8  \n",
      " 11  gend_male      10000 non-null  uint8  \n",
      "dtypes: float64(2), int32(1), int64(6), uint8(3)\n",
      "memory usage: 693.5 KB\n"
     ]
    }
   ],
   "source": [
    "df.info()"
   ]
  },
  {
   "cell_type": "markdown",
   "metadata": {},
   "source": [
    "# 2. Исследование задачи"
   ]
  },
  {
   "cell_type": "markdown",
   "metadata": {},
   "source": [
    "Выделим признаки и целевую переменную."
   ]
  },
  {
   "cell_type": "code",
   "execution_count": 21,
   "metadata": {},
   "outputs": [],
   "source": [
    "target = df['exited']\n",
    "features = df.drop('exited', axis=1)"
   ]
  },
  {
   "cell_type": "markdown",
   "metadata": {},
   "source": [
    "Поделим наш датасет на обучающую, валидационную и тестовую выборки в соотношении 60% / 20% / 20%. <br>\n",
    "\n",
    "Зададим для удобства изменения некоторые гиперпараметры."
   ]
  },
  {
   "cell_type": "code",
   "execution_count": 22,
   "metadata": {},
   "outputs": [],
   "source": [
    "RS = 12345 # random_state"
   ]
  },
  {
   "cell_type": "code",
   "execution_count": 23,
   "metadata": {},
   "outputs": [],
   "source": [
    "#выделяем 20% из всего набора на тестовую выборку  \n",
    "features_train_valid, features_test, target_train_valid, target_test = train_test_split(\n",
    "    features, target, test_size=0.2, random_state = RS, stratify = target)   # будем использовать разделение \n",
    "                                                                       #на стратифицированные выборки по таргету\n",
    "#из оставшихся 80%  отделяем четверть на валидационную выборку \n",
    "features_train, features_valid, target_train, target_valid = train_test_split(\n",
    "    features_train_valid, target_train_valid, test_size=0.25, random_state = RS, stratify = target_train_valid)"
   ]
  },
  {
   "cell_type": "markdown",
   "metadata": {},
   "source": [
    "Проверим размеры получившихся выборок:"
   ]
  },
  {
   "cell_type": "code",
   "execution_count": 24,
   "metadata": {},
   "outputs": [
    {
     "name": "stdout",
     "output_type": "stream",
     "text": [
      "(6000, 11)\n",
      "(2000, 11)\n",
      "(2000, 11)\n"
     ]
    }
   ],
   "source": [
    "print(features_train.shape)\n",
    "print(features_valid.shape)\n",
    "print(features_test.shape)"
   ]
  },
  {
   "cell_type": "code",
   "execution_count": 25,
   "metadata": {
    "scrolled": true
   },
   "outputs": [
    {
     "name": "stdout",
     "output_type": "stream",
     "text": [
      "(6000,)\n",
      "(2000,)\n",
      "(2000,)\n"
     ]
    }
   ],
   "source": [
    "print(target_train.shape)\n",
    "print(target_valid.shape)\n",
    "print(target_test.shape)"
   ]
  },
  {
   "cell_type": "markdown",
   "metadata": {},
   "source": [
    "Соотношение выборок верное."
   ]
  },
  {
   "cell_type": "markdown",
   "metadata": {},
   "source": [
    "Проведем стандартизацию признаков. "
   ]
  },
  {
   "cell_type": "markdown",
   "metadata": {},
   "source": [
    "Отделим изначально-численные признаки в отдельный массив и стандартизируем их. Несмотря на то, что после обработки категориальных признаков все признаки стали численным, отделить их все равно нужно, потому что три новых признака ('geogr_germany',  'geogr_spain' и 'gend_male') имеют тип \"uint8\", то есть не могут быть отрицательными, а только положительными. А стандартизация приводит к стандартному нормальному рапределению, то есть стандартизирует из вокруг нуля (и больше нуля, и меньше). "
   ]
  },
  {
   "cell_type": "code",
   "execution_count": 26,
   "metadata": {},
   "outputs": [],
   "source": [
    "numeric = ['cred_score', 'age', 'tenure', 'balance', 'prod_number', 'has_cr_card', 'is_active', 'salary']"
   ]
  },
  {
   "cell_type": "code",
   "execution_count": 46,
   "metadata": {},
   "outputs": [
    {
     "name": "stderr",
     "output_type": "stream",
     "text": [
      "C:\\Users\\EI\\anaconda3\\lib\\site-packages\\ipykernel_launcher.py:3: SettingWithCopyWarning: \n",
      "A value is trying to be set on a copy of a slice from a DataFrame.\n",
      "Try using .loc[row_indexer,col_indexer] = value instead\n",
      "\n",
      "See the caveats in the documentation: https://pandas.pydata.org/pandas-docs/stable/user_guide/indexing.html#returning-a-view-versus-a-copy\n",
      "  This is separate from the ipykernel package so we can avoid doing imports until\n",
      "C:\\Users\\EI\\anaconda3\\lib\\site-packages\\pandas\\core\\indexing.py:1738: SettingWithCopyWarning: \n",
      "A value is trying to be set on a copy of a slice from a DataFrame.\n",
      "Try using .loc[row_indexer,col_indexer] = value instead\n",
      "\n",
      "See the caveats in the documentation: https://pandas.pydata.org/pandas-docs/stable/user_guide/indexing.html#returning-a-view-versus-a-copy\n",
      "  self._setitem_single_column(loc, value[:, i].tolist(), pi)\n",
      "C:\\Users\\EI\\anaconda3\\lib\\site-packages\\ipykernel_launcher.py:4: SettingWithCopyWarning: \n",
      "A value is trying to be set on a copy of a slice from a DataFrame.\n",
      "Try using .loc[row_indexer,col_indexer] = value instead\n",
      "\n",
      "See the caveats in the documentation: https://pandas.pydata.org/pandas-docs/stable/user_guide/indexing.html#returning-a-view-versus-a-copy\n",
      "  after removing the cwd from sys.path.\n",
      "C:\\Users\\EI\\anaconda3\\lib\\site-packages\\pandas\\core\\indexing.py:1738: SettingWithCopyWarning: \n",
      "A value is trying to be set on a copy of a slice from a DataFrame.\n",
      "Try using .loc[row_indexer,col_indexer] = value instead\n",
      "\n",
      "See the caveats in the documentation: https://pandas.pydata.org/pandas-docs/stable/user_guide/indexing.html#returning-a-view-versus-a-copy\n",
      "  self._setitem_single_column(loc, value[:, i].tolist(), pi)\n",
      "C:\\Users\\EI\\anaconda3\\lib\\site-packages\\ipykernel_launcher.py:5: SettingWithCopyWarning: \n",
      "A value is trying to be set on a copy of a slice from a DataFrame.\n",
      "Try using .loc[row_indexer,col_indexer] = value instead\n",
      "\n",
      "See the caveats in the documentation: https://pandas.pydata.org/pandas-docs/stable/user_guide/indexing.html#returning-a-view-versus-a-copy\n",
      "  \"\"\"\n",
      "C:\\Users\\EI\\anaconda3\\lib\\site-packages\\pandas\\core\\indexing.py:1738: SettingWithCopyWarning: \n",
      "A value is trying to be set on a copy of a slice from a DataFrame.\n",
      "Try using .loc[row_indexer,col_indexer] = value instead\n",
      "\n",
      "See the caveats in the documentation: https://pandas.pydata.org/pandas-docs/stable/user_guide/indexing.html#returning-a-view-versus-a-copy\n",
      "  self._setitem_single_column(loc, value[:, i].tolist(), pi)\n"
     ]
    }
   ],
   "source": [
    "scaler = StandardScaler()\n",
    "scaler.fit(features_train[numeric])\n",
    "features_train[numeric] = scaler.transform(features_train[numeric])\n",
    "features_valid[numeric] = scaler.transform(features_valid[numeric])\n",
    "features_test[numeric] = scaler.transform(features_test[numeric])"
   ]
  },
  {
   "cell_type": "markdown",
   "metadata": {},
   "source": [
    "Мы имеем дело с задачей классификации. "
   ]
  },
  {
   "cell_type": "markdown",
   "metadata": {},
   "source": [
    "Построим модель логистической регрессии. Посчитаем на ней метрики F1 и AUC-ROC."
   ]
  },
  {
   "cell_type": "code",
   "execution_count": 28,
   "metadata": {
    "scrolled": true
   },
   "outputs": [
    {
     "name": "stdout",
     "output_type": "stream",
     "text": [
      "F1 для логистической регрессии : 0.3214953271028037\n",
      "AUC-ROC для логистической регрессии : 0.7875502621265333\n"
     ]
    }
   ],
   "source": [
    "model_lr = LogisticRegression(random_state = RS, solver='liblinear')\n",
    "model_lr.fit(features_train, target_train)\n",
    "predicted_valid = model_lr.predict(features_valid)\n",
    "print(f'F1 для логистической регрессии : {f1_score( target_valid, predicted_valid )}')\n",
    "\n",
    "# для построения AUC-ROC посчитаем вероятности попадания целевой переменной в тот или иной класс\n",
    "probabilities_valid = model_lr.predict_proba(features_valid)\n",
    "\n",
    "# веротности попадания в класс \"1\":\n",
    "probabilities_one_valid = probabilities_valid[:, 1] \n",
    "\n",
    "auc_roc = roc_auc_score(target_valid , probabilities_one_valid)\n",
    "print(f'AUC-ROC для логистической регрессии : {auc_roc}')"
   ]
  },
  {
   "cell_type": "markdown",
   "metadata": {},
   "source": [
    "**F1 для логистической регрессии равно 0.321. \n",
    "AUC-ROC для логистической регрессии равно 0.787**"
   ]
  },
  {
   "cell_type": "markdown",
   "metadata": {},
   "source": [
    "Визуализируем метрику AUC_ROC: построим roc-кривую и оценим визуально площадь под ней."
   ]
  },
  {
   "cell_type": "code",
   "execution_count": 29,
   "metadata": {},
   "outputs": [
    {
     "data": {
      "image/png": "[encoded data removed]",
      "text/plain": [
       "<Figure size 432x288 with 1 Axes>"
      ]
     },
     "metadata": {
      "needs_background": "light"
     },
     "output_type": "display_data"
    }
   ],
   "source": [
    "fpr, tpr, thresholds =  roc_curve(target_valid, probabilities_one_valid) \n",
    "\n",
    "# построим график roc-кривой для модели логистической регрессии\n",
    "plt.figure() \n",
    "plt.plot(fpr, tpr)\n",
    "plt.xlim([0.0, 1.0])\n",
    "plt.ylim([0.0, 1.0])\n",
    "plt.xlabel('False Positive Rate')\n",
    "plt.ylabel('True Positive Rate')\n",
    "plt.title('ROC-кривая модели логистической регрессии')\n",
    "# ROC-кривая случайной модели \n",
    "plt.plot([0, 1], [0, 1], linestyle='--')\n",
    "plt.show()"
   ]
  },
  {
   "cell_type": "markdown",
   "metadata": {},
   "source": [
    "По умолчанию порог логистической регрессии равен 0.5. Попробуем его поменять."
   ]
  },
  {
   "cell_type": "code",
   "execution_count": 30,
   "metadata": {
    "scrolled": false
   },
   "outputs": [
    {
     "name": "stdout",
     "output_type": "stream",
     "text": [
      "Порог = 0.00 | Точность = 0.203, Полнота = 1.000, F1 = 0.338, AUC_ROC = 0.788\n",
      "Порог = 0.02 | Точность = 0.204, Полнота = 1.000, F1 = 0.339, AUC_ROC = 0.788\n",
      "Порог = 0.04 | Точность = 0.213, Полнота = 0.993, F1 = 0.351, AUC_ROC = 0.788\n",
      "Порог = 0.06 | Точность = 0.230, Полнота = 0.975, F1 = 0.372, AUC_ROC = 0.788\n",
      "Порог = 0.08 | Точность = 0.251, Полнота = 0.951, F1 = 0.397, AUC_ROC = 0.788\n",
      "Порог = 0.10 | Точность = 0.266, Полнота = 0.919, F1 = 0.413, AUC_ROC = 0.788\n",
      "Порог = 0.12 | Точность = 0.288, Полнота = 0.897, F1 = 0.436, AUC_ROC = 0.788\n",
      "Порог = 0.14 | Точность = 0.311, Полнота = 0.860, F1 = 0.456, AUC_ROC = 0.788\n",
      "Порог = 0.16 | Точность = 0.334, Полнота = 0.833, F1 = 0.477, AUC_ROC = 0.788\n",
      "Порог = 0.18 | Точность = 0.357, Полнота = 0.784, F1 = 0.490, AUC_ROC = 0.788\n",
      "Порог = 0.20 | Точность = 0.382, Полнота = 0.742, F1 = 0.504, AUC_ROC = 0.788\n",
      "Порог = 0.22 | Точность = 0.404, Полнота = 0.690, F1 = 0.510, AUC_ROC = 0.788\n",
      "Порог = 0.24 | Точность = 0.432, Полнота = 0.661, F1 = 0.523, AUC_ROC = 0.788\n",
      "Порог = 0.26 | Точность = 0.453, Полнота = 0.624, F1 = 0.525, AUC_ROC = 0.788\n",
      "Порог = 0.28 | Точность = 0.478, Полнота = 0.585, F1 = 0.526, AUC_ROC = 0.788\n",
      "Порог = 0.30 | Точность = 0.500, Полнота = 0.531, F1 = 0.515, AUC_ROC = 0.788\n",
      "Порог = 0.32 | Точность = 0.521, Полнота = 0.496, F1 = 0.508, AUC_ROC = 0.788\n",
      "Порог = 0.34 | Точность = 0.545, Полнота = 0.474, F1 = 0.507, AUC_ROC = 0.788\n",
      "Порог = 0.36 | Точность = 0.555, Полнота = 0.432, F1 = 0.486, AUC_ROC = 0.788\n",
      "Порог = 0.38 | Точность = 0.569, Полнота = 0.393, F1 = 0.465, AUC_ROC = 0.788\n",
      "Порог = 0.40 | Точность = 0.564, Полнота = 0.337, F1 = 0.422, AUC_ROC = 0.788\n",
      "Порог = 0.42 | Точность = 0.573, Полнота = 0.300, F1 = 0.394, AUC_ROC = 0.788\n",
      "Порог = 0.44 | Точность = 0.606, Полнота = 0.280, F1 = 0.383, AUC_ROC = 0.788\n",
      "Порог = 0.46 | Точность = 0.638, Полнота = 0.256, F1 = 0.365, AUC_ROC = 0.788\n",
      "Порог = 0.48 | Точность = 0.656, Полнота = 0.243, F1 = 0.355, AUC_ROC = 0.788\n",
      "Порог = 0.50 | Точность = 0.672, Полнота = 0.211, F1 = 0.321, AUC_ROC = 0.788\n",
      "Порог = 0.52 | Точность = 0.685, Полнота = 0.187, F1 = 0.293, AUC_ROC = 0.788\n",
      "Порог = 0.54 | Точность = 0.663, Полнота = 0.150, F1 = 0.244, AUC_ROC = 0.788\n",
      "Порог = 0.56 | Точность = 0.716, Полнота = 0.130, F1 = 0.220, AUC_ROC = 0.788\n",
      "Порог = 0.58 | Точность = 0.778, Полнота = 0.120, F1 = 0.209, AUC_ROC = 0.788\n",
      "\n",
      "Лучшее значение F1 = 0.5259668508287293 при пороге = 0.28\n"
     ]
    }
   ],
   "source": [
    "best_lr_result = 0\n",
    "best_threshold = 0\n",
    "for threshold in np.arange(0, 0.6, 0.02):\n",
    "    predicted_valid = probabilities_one_valid > threshold \n",
    "    precision = precision_score(target_valid, predicted_valid )\n",
    "    recall = recall_score(target_valid, predicted_valid)\n",
    "    f1 = f1_score(target_valid, predicted_valid)\n",
    "    auc_roc = roc_auc_score(target_valid , probabilities_one_valid)\n",
    "    if f1 > best_lr_result:\n",
    "        best_lr_result = f1\n",
    "        best_threshold = threshold\n",
    "    print(\"Порог = {:.2f} | Точность = {:.3f}, Полнота = {:.3f}, F1 = {:.3f}, AUC_ROC = {:.3f}\".format(\n",
    "        threshold, precision, recall, f1, auc_roc))\n",
    "print()\n",
    "print(f'Лучшее значение F1 = {best_lr_result} при пороге = {best_threshold}')"
   ]
  },
  {
   "cell_type": "markdown",
   "metadata": {},
   "source": [
    "Получили, что ***для логистической регрессии наилучшее значение F1-меры*** (среднего гармонического полноты и точности)  достигается при снижении порога сильно вниз: ***F1 = 0.526 при пороге = 0.26***. "
   ]
  },
  {
   "cell_type": "markdown",
   "metadata": {},
   "source": [
    "Построим модель дерева решений. Подберем лучшую модель решающего дерева, перебирая гиперпараметр максимальной глубины."
   ]
  },
  {
   "cell_type": "code",
   "execution_count": 31,
   "metadata": {
    "scrolled": false
   },
   "outputs": [
    {
     "name": "stdout",
     "output_type": "stream",
     "text": [
      "Глубина дерева = 1 | F1 = 0.0000, AUC-ROC = 0.7020\n",
      "Глубина дерева = 2 | F1 = 0.5148, AUC-ROC = 0.7398\n",
      "Глубина дерева = 3 | F1 = 0.3750, AUC-ROC = 0.8042\n",
      "Глубина дерева = 4 | F1 = 0.5169, AUC-ROC = 0.8272\n",
      "Глубина дерева = 5 | F1 = 0.4632, AUC-ROC = 0.8351\n",
      "Глубина дерева = 6 | F1 = 0.5382, AUC-ROC = 0.8285\n",
      "Глубина дерева = 7 | F1 = 0.5505, AUC-ROC = 0.8311\n",
      "Глубина дерева = 8 | F1 = 0.5817, AUC-ROC = 0.8097\n",
      "Глубина дерева = 9 | F1 = 0.5770, AUC-ROC = 0.7983\n",
      "Глубина дерева = 10 | F1 = 0.5330, AUC-ROC = 0.7789\n",
      "Глубина дерева = 11 | F1 = 0.5591, AUC-ROC = 0.7608\n",
      "Глубина дерева = 12 | F1 = 0.5354, AUC-ROC = 0.7417\n",
      "Глубина дерева = 13 | F1 = 0.5104, AUC-ROC = 0.7289\n",
      "Глубина дерева = 14 | F1 = 0.5171, AUC-ROC = 0.7064\n",
      "Глубина дерева = 15 | F1 = 0.5118, AUC-ROC = 0.7006\n",
      "\n",
      "F1 лучшей модели дерева на валид. выборке: 0.582 , лучшая макс. глубина: 8\n",
      "\n",
      "AUC-ROC лучшей модели дерева на валид. выборке: 0.835 , лучшая макс. глубина: 5\n"
     ]
    }
   ],
   "source": [
    "best_tree_model = None\n",
    "best_tree_result = 0\n",
    "best_tree_depth = 0\n",
    "best_tree_auc_roc = 0\n",
    "best_tree_auc_depth = 0\n",
    "\n",
    "for depth in range(1, 16):\n",
    "    model_tree = DecisionTreeClassifier(random_state = RS, max_depth = depth)\n",
    "    model_tree.fit(features_train, target_train)\n",
    "    predicted_valid = model_tree.predict(features_valid)\n",
    "    result = f1_score( target_valid, predicted_valid )\n",
    "    probabilities_valid = model_tree.predict_proba(features_valid)\n",
    "    probabilities_one_valid = probabilities_valid[:, 1]\n",
    "    auc_roc = roc_auc_score(target_valid, probabilities_one_valid)\n",
    "    print(\"Глубина дерева = {} | F1 = {:.4f}, AUC-ROC = {:.4f}\".format( depth, result, auc_roc ))\n",
    "    if result > best_tree_result:\n",
    "        best_tree_model = model_tree\n",
    "        best_tree_result = result\n",
    "        best_tree_depth = depth\n",
    "    if auc_roc > best_tree_auc_roc:\n",
    "        best_tree_auc_roc = auc_roc\n",
    "        best_tree_auc_depth = depth\n",
    "\n",
    "print(\"\\nF1 лучшей модели дерева на валид. выборке: {:.3f} , лучшая макс. глубина: {}\".format(\n",
    "                                                                        best_tree_result, best_tree_depth))\n",
    "print(\"\\nAUC-ROC лучшей модели дерева на валид. выборке: {:.3f} , лучшая макс. глубина: {}\".format(\n",
    "                                                                    best_tree_auc_roc, best_tree_auc_depth))"
   ]
  },
  {
   "cell_type": "markdown",
   "metadata": {},
   "source": [
    "***F1 лучшей модели дерева на валид. выборке: 0.582 , лучшая макс. глубина: 8.***\n",
    "\n",
    "AUC-ROC лучшей модели дерева на валид. выборке: 0.835 , лучшая макс. глубина: 5"
   ]
  },
  {
   "cell_type": "code",
   "execution_count": 32,
   "metadata": {
    "scrolled": true
   },
   "outputs": [
    {
     "data": {
      "image/png": "[encoded data removed]",
      "text/plain": [
       "<Figure size 432x288 with 1 Axes>"
      ]
     },
     "metadata": {
      "needs_background": "light"
     },
     "output_type": "display_data"
    }
   ],
   "source": [
    "fpr, tpr, thresholds =  roc_curve(target_valid, probabilities_one_valid) \n",
    "\n",
    "# построим график roc-кривой для модели решающего дерева\n",
    "plt.figure() \n",
    "plt.plot(fpr, tpr)\n",
    "plt.xlim([0.0, 1.0])\n",
    "plt.ylim([0.0, 1.0])\n",
    "plt.xlabel('False Positive Rate')\n",
    "plt.ylabel('True Positive Rate')\n",
    "plt.title('ROC-кривая модели решающего дерева')\n",
    "# ROC-кривая случайной модели \n",
    "plt.plot([0, 1], [0, 1], linestyle='--')\n",
    "plt.show()"
   ]
  },
  {
   "cell_type": "markdown",
   "metadata": {},
   "source": [
    "Построим модель случайного леса. Поищем лучший лес, изменяя количество деверьев и их максимальную глубину."
   ]
  },
  {
   "cell_type": "code",
   "execution_count": 33,
   "metadata": {
    "scrolled": false
   },
   "outputs": [
    {
     "name": "stdout",
     "output_type": "stream",
     "text": [
      "\n",
      "F1 лучшей модели случ. леса на валид. выборке: 0.580 , лучшая макс. глубина: 19, кол-во деревьев: 100\n",
      "\n",
      "AUC-ROC лучшей модели случ. леса на валид. выборке: 0.874 , лучшая макс. глубина: 7, кол-во деревьев: 150\n",
      "Wall time: 4min 24s\n"
     ]
    }
   ],
   "source": [
    "%%time\n",
    "\n",
    "best_rf_result = 0        # лучший результат по основной метрике (F1)\n",
    "best_rf_model = None      # лучшие модель, количество деревьев и глубина при этом\n",
    "best_est = 0           \n",
    "best_rf_depth = 0\n",
    "\n",
    "best_rf_auc_roc = 0      # лучший результат по AUC-ROC\n",
    "best_rf_auc_depth = 0    # лучшие глубина, количество деревьев  при этом\n",
    "best_auc_est = 0\n",
    "\n",
    "for est in range(10, 160, 10):\n",
    "    for depth in range (1, 21):\n",
    "        model_rf = RandomForestClassifier(random_state = RS, n_estimators = est, max_depth = depth)\n",
    "        model_rf.fit(features_train, target_train) \n",
    "        predicted_valid = model_rf.predict(features_valid)\n",
    "        result = f1_score( target_valid, predicted_valid )                   #F1\n",
    "        probabilities_valid = model_rf.predict_proba(features_valid)\n",
    "        probabilities_one_valid = probabilities_valid[:, 1]                  #AUC_ROC\n",
    "        auc_roc = roc_auc_score(target_valid, probabilities_one_valid)\n",
    "        #print(\"Деревьев = {} | Глубина = {} | F1 = {:.4f}, AUC-ROC = {:.4f}\".format( est, depth, result, auc_roc ))\n",
    "        if result > best_rf_result:\n",
    "            best_rf_model = model_rf\n",
    "            best_rf_result = result\n",
    "            best_rf_depth = depth\n",
    "            best_est = est\n",
    "        if auc_roc > best_rf_auc_roc:\n",
    "            best_rf_auc_roc = auc_roc\n",
    "            best_rf_auc_depth = depth\n",
    "            best_auc_est = est\n",
    "            \n",
    "print(\"\\nF1 лучшей модели случ. леса на валид. выборке: {:.3f} , лучшая макс. глубина: {}, кол-во деревьев: {}\".format(\n",
    "                                                         best_rf_result, best_rf_depth, best_est))\n",
    "print(\"\\nAUC-ROC лучшей модели случ. леса на валид. выборке: {:.3f} , лучшая макс. глубина: {}, кол-во деревьев: {}\".format(\n",
    "                                                  best_rf_auc_roc, best_rf_auc_depth, best_auc_est))\n",
    "                                                  "
   ]
  },
  {
   "cell_type": "markdown",
   "metadata": {},
   "source": [
    "**F1 лучшей модели дерева на валид. выборке: 0.580 , лучшая макс. глубина: 19, кол-во деревьев: 100**\n",
    "\n",
    "**AUC-ROC лучшей модели дерева на валид. выборке: 0.874, лучшая макс. глубина: 7, кол-во деревьев: 150**"
   ]
  },
  {
   "cell_type": "code",
   "execution_count": 34,
   "metadata": {
    "scrolled": true
   },
   "outputs": [
    {
     "data": {
      "image/png": "[encoded data removed]",
      "text/plain": [
       "<Figure size 432x288 with 1 Axes>"
      ]
     },
     "metadata": {
      "needs_background": "light"
     },
     "output_type": "display_data"
    }
   ],
   "source": [
    "fpr, tpr, thresholds =  roc_curve(target_valid, probabilities_one_valid) \n",
    "\n",
    "# построим график roc-кривой для модели случайного леса\n",
    "plt.figure() \n",
    "plt.plot(fpr, tpr)\n",
    "plt.xlim([0.0, 1.0])\n",
    "plt.ylim([0.0, 1.0])\n",
    "plt.xlabel('False Positive Rate')\n",
    "plt.ylabel('True Positive Rate')\n",
    "plt.title('ROC-кривая модели случайного леса')\n",
    "# ROC-кривая случайной модели \n",
    "plt.plot([0, 1], [0, 1], linestyle='--')\n",
    "plt.show()"
   ]
  },
  {
   "cell_type": "markdown",
   "metadata": {},
   "source": [
    "Посчитав F1-меру и AUC_ROC для моделей логистической регрессии, дерева и случайного леса **при несбалансированных классах, лучший результат по метрике F1 получили на модели решающего дерева (0.582), а по метрике AUC-ROC лучший результат - на мдели случайного леса (0.874)**."
   ]
  },
  {
   "cell_type": "code",
   "execution_count": 35,
   "metadata": {},
   "outputs": [
    {
     "name": "stdout",
     "output_type": "stream",
     "text": [
      "0    0.7963\n",
      "1    0.2037\n",
      "Name: exited, dtype: float64\n"
     ]
    },
    {
     "data": {
      "image/png": "[encoded data removed]",
      "text/plain": [
       "<Figure size 432x288 with 1 Axes>"
      ]
     },
     "metadata": {
      "needs_background": "light"
     },
     "output_type": "display_data"
    }
   ],
   "source": [
    "class_frequency = target.value_counts(normalize=True)\n",
    "print(class_frequency)\n",
    "class_frequency.plot(kind='bar');"
   ]
  },
  {
   "cell_type": "markdown",
   "metadata": {},
   "source": [
    "Как мы заметили ранее, мы имеем дело с несбалансированными классами целевой переменной: нулей в 4 раза больше, чем единиц. Посмотрим, что нам даст приведение классов к балансу."
   ]
  },
  {
   "cell_type": "markdown",
   "metadata": {},
   "source": [
    "# 3. Борьба с дисбалансом"
   ]
  },
  {
   "cell_type": "markdown",
   "metadata": {},
   "source": [
    "## 3.1. Взвешивание классов"
   ]
  },
  {
   "cell_type": "markdown",
   "metadata": {},
   "source": [
    "Используем взвешивание классов с помощью параметра class_weight, который есть у всех трех наших типов моделей."
   ]
  },
  {
   "cell_type": "code",
   "execution_count": 36,
   "metadata": {
    "scrolled": true
   },
   "outputs": [
    {
     "name": "stdout",
     "output_type": "stream",
     "text": [
      "F1 для логистической регрессии при балансе классов: 0.5108601216333623\n",
      "AUC-ROC для логистической регрессии при балансе классов: 0.7917624866777409\n"
     ]
    }
   ],
   "source": [
    "model_lr_bal = LogisticRegression(random_state = RS, solver='liblinear', class_weight='balanced')\n",
    "model_lr_bal.fit(features_train, target_train)\n",
    "predicted_valid = model_lr_bal.predict(features_valid)\n",
    "print(f'F1 для логистической регрессии при балансе классов: {f1_score( target_valid, predicted_valid )}')\n",
    "\n",
    "probabilities_valid = model_lr_bal.predict_proba(features_valid)\n",
    "probabilities_one_valid = probabilities_valid[:, 1]\n",
    "auc_roc = roc_auc_score(target_valid , probabilities_one_valid)\n",
    "print(f'AUC-ROC для логистической регрессии при балансе классов: {auc_roc}')"
   ]
  },
  {
   "cell_type": "markdown",
   "metadata": {},
   "source": [
    "F1 для логистической регрессии **при балансе классов равно  0.511  против 0.321** без баланса классов. **Это увеличение метрики на целых 60%!** <br>\n",
    "AUC-ROC для логистической регрессии при балансе классов  0.792 против 0.787. Баланс классов для AUC-ROC так же дал увеличение метрики, но менее, чем на 1%. "
   ]
  },
  {
   "cell_type": "markdown",
   "metadata": {},
   "source": [
    "Также попробуем подвигать порог: сейчас классы взвешены, поэтому порог не должен сильно отклоняться от 0.5. Поэтому перебор будем делать в пределах от 0.3 до 0.7."
   ]
  },
  {
   "cell_type": "code",
   "execution_count": 37,
   "metadata": {
    "scrolled": false
   },
   "outputs": [
    {
     "name": "stdout",
     "output_type": "stream",
     "text": [
      "Порог = 0.30 | Точность = 0.268, Полнота = 0.929, F1 = 0.416, AUC_ROC = 0.792\n",
      "Порог = 0.32 | Точность = 0.278, Полнота = 0.921, F1 = 0.428, AUC_ROC = 0.792\n",
      "Порог = 0.34 | Точность = 0.290, Полнота = 0.914, F1 = 0.440, AUC_ROC = 0.792\n",
      "Порог = 0.36 | Точность = 0.298, Полнота = 0.887, F1 = 0.446, AUC_ROC = 0.792\n",
      "Порог = 0.38 | Точность = 0.305, Полнота = 0.860, F1 = 0.450, AUC_ROC = 0.792\n",
      "Порог = 0.40 | Точность = 0.322, Полнота = 0.853, F1 = 0.468, AUC_ROC = 0.792\n",
      "Порог = 0.42 | Точность = 0.337, Полнота = 0.838, F1 = 0.481, AUC_ROC = 0.792\n",
      "Порог = 0.44 | Точность = 0.351, Полнота = 0.811, F1 = 0.490, AUC_ROC = 0.792\n",
      "Порог = 0.46 | Точность = 0.368, Полнота = 0.794, F1 = 0.503, AUC_ROC = 0.792\n",
      "Порог = 0.48 | Точность = 0.384, Полнота = 0.764, F1 = 0.512, AUC_ROC = 0.792\n",
      "Порог = 0.50 | Точность = 0.395, Полнота = 0.722, F1 = 0.511, AUC_ROC = 0.792\n",
      "Порог = 0.52 | Точность = 0.409, Полнота = 0.698, F1 = 0.516, AUC_ROC = 0.792\n",
      "Порог = 0.54 | Точность = 0.433, Полнота = 0.688, F1 = 0.532, AUC_ROC = 0.792\n",
      "Порог = 0.56 | Точность = 0.449, Полнота = 0.656, F1 = 0.533, AUC_ROC = 0.792\n",
      "Порог = 0.58 | Точность = 0.461, Полнота = 0.627, F1 = 0.531, AUC_ROC = 0.792\n",
      "Порог = 0.60 | Точность = 0.484, Полнота = 0.580, F1 = 0.527, AUC_ROC = 0.792\n",
      "Порог = 0.62 | Точность = 0.490, Полнота = 0.541, F1 = 0.514, AUC_ROC = 0.792\n",
      "Порог = 0.64 | Точность = 0.516, Полнота = 0.514, F1 = 0.515, AUC_ROC = 0.792\n",
      "Порог = 0.66 | Точность = 0.542, Полнота = 0.489, F1 = 0.514, AUC_ROC = 0.792\n",
      "Порог = 0.68 | Точность = 0.556, Полнота = 0.452, F1 = 0.499, AUC_ROC = 0.792\n",
      "\n",
      "Лучшее значение F1 = 0.5334665334665335 при пороге = 0.5600000000000003\n"
     ]
    }
   ],
   "source": [
    "best_lr_result = 0\n",
    "best_threshold = 0\n",
    "for threshold in np.arange(0.3, 0.7, 0.02):\n",
    "    predicted_valid = probabilities_one_valid > threshold \n",
    "    precision = precision_score(target_valid, predicted_valid )\n",
    "    recall = recall_score(target_valid, predicted_valid)\n",
    "    f1 = f1_score(target_valid, predicted_valid)\n",
    "    auc_roc = roc_auc_score(target_valid , probabilities_one_valid)\n",
    "    if f1 > best_lr_result:\n",
    "        best_lr_result = f1\n",
    "        best_threshold = threshold\n",
    "    print(\"Порог = {:.2f} | Точность = {:.3f}, Полнота = {:.3f}, F1 = {:.3f}, AUC_ROC = {:.3f}\".format(\n",
    "        threshold, precision, recall, f1, auc_roc))\n",
    "print()\n",
    "print(f'Лучшее значение F1 = {best_lr_result} при пороге = {best_threshold}')"
   ]
  },
  {
   "cell_type": "markdown",
   "metadata": {},
   "source": [
    "**В итоге смещение порога вероятности отнесения к классу \"1\" с 0.5 до 0.56 дало прибавку метрики с 0.511 до 0.533.**"
   ]
  },
  {
   "cell_type": "markdown",
   "metadata": {},
   "source": [
    "Поищем теперь лучшую модель дерева при взвешенных классах."
   ]
  },
  {
   "cell_type": "code",
   "execution_count": 38,
   "metadata": {
    "scrolled": true
   },
   "outputs": [
    {
     "name": "stdout",
     "output_type": "stream",
     "text": [
      "Глубина дерева = 1 | F1 = 0.499, AUC-ROC = 0.713\n",
      "Глубина дерева = 2 | F1 = 0.507, AUC-ROC = 0.754\n",
      "Глубина дерева = 3 | F1 = 0.534, AUC-ROC = 0.806\n",
      "Глубина дерева = 4 | F1 = 0.542, AUC-ROC = 0.825\n",
      "Глубина дерева = 5 | F1 = 0.561, AUC-ROC = 0.837\n",
      "Глубина дерева = 6 | F1 = 0.575, AUC-ROC = 0.835\n",
      "Глубина дерева = 7 | F1 = 0.569, AUC-ROC = 0.816\n",
      "Глубина дерева = 8 | F1 = 0.555, AUC-ROC = 0.796\n",
      "Глубина дерева = 9 | F1 = 0.529, AUC-ROC = 0.772\n",
      "Глубина дерева = 10 | F1 = 0.523, AUC-ROC = 0.741\n",
      "Глубина дерева = 11 | F1 = 0.530, AUC-ROC = 0.731\n",
      "Глубина дерева = 12 | F1 = 0.522, AUC-ROC = 0.715\n",
      "Глубина дерева = 13 | F1 = 0.519, AUC-ROC = 0.714\n",
      "Глубина дерева = 14 | F1 = 0.492, AUC-ROC = 0.700\n",
      "Глубина дерева = 15 | F1 = 0.497, AUC-ROC = 0.699\n",
      "\n",
      "F1 лучшей модели дерева на валид. выборке при взвешивании: 0.575 , макс. глубина: 6\n",
      "\n",
      "AUC-ROC лучшей модели дерева на валид. выборке при взвешивании: 0.837 ,  макс. глубина: 5\n"
     ]
    }
   ],
   "source": [
    "best_tree_model_bal = None\n",
    "best_tree_result_bal = 0\n",
    "best_tree_depth_bal = 0\n",
    "\n",
    "best_tree_auc_roc_bal = 0\n",
    "best_tree_auc_depth_bal = 0\n",
    "\n",
    "for depth in range(1, 16):\n",
    "    model_tree_bal = DecisionTreeClassifier(random_state = RS, max_depth = depth, class_weight='balanced')\n",
    "    model_tree_bal.fit(features_train, target_train)\n",
    "    predicted_valid = model_tree_bal.predict(features_valid)\n",
    "    result = f1_score( target_valid, predicted_valid )\n",
    "    probabilities_valid = model_tree_bal.predict_proba(features_valid)\n",
    "    probabilities_one_valid = probabilities_valid[:, 1]\n",
    "    auc_roc = roc_auc_score(target_valid, probabilities_one_valid)\n",
    "    print(\"Глубина дерева = {} | F1 = {:.3f}, AUC-ROC = {:.3f}\".format( depth, result, auc_roc ))\n",
    "    if result > best_tree_result_bal:\n",
    "        best_tree_model_bal = model_tree_bal\n",
    "        best_tree_result_bal = result\n",
    "        best_tree_depth_bal = depth\n",
    "    if auc_roc > best_tree_auc_roc_bal:\n",
    "        best_tree_auc_roc_bal = auc_roc\n",
    "        best_tree_auc_depth_bal = depth\n",
    "\n",
    "print(\"\\nF1 лучшей модели дерева на валид. выборке при взвешивании: {:.3f} , макс. глубина: {}\".format(\n",
    "                                                                        best_tree_result_bal, best_tree_depth_bal))\n",
    "print(\"\\nAUC-ROC лучшей модели дерева на валид. выборке при взвешивании: {:.3f} ,  макс. глубина: {}\".format(\n",
    "                                                                    best_tree_auc_roc_bal, best_tree_auc_depth_bal))"
   ]
  },
  {
   "cell_type": "markdown",
   "metadata": {},
   "source": [
    "***При взвешивании классов в модели дерева значение F1 даже несколько ухудшилось, а AUC-ROC слегка увеличился***:<br>\n",
    "    F1 лучшей модели дерева на валид. выборке при взвешивании классов: 0.575 , лучшая макс. глубина: 6 (до взвешивания 0.582 , лучшая макс. глубина: 8).<br>\n",
    "    AUC-ROC лучшей модели дерева на валид. выборке при взвешивании классов: 0.837 , лучшая макс. глубина: 5 (до взвешивания 0.835, глубина 5)."
   ]
  },
  {
   "cell_type": "markdown",
   "metadata": {},
   "source": [
    "Теперь поищем  лучшую модель случайного леса при сбалансированных классах."
   ]
  },
  {
   "cell_type": "code",
   "execution_count": 39,
   "metadata": {},
   "outputs": [
    {
     "name": "stdout",
     "output_type": "stream",
     "text": [
      "\n",
      "F1 лучшей модели случ. леса на валид. выборке при взвешивании классов: 0.644 , макс. глубина: 10, кол-во деревьев: 60\n",
      "\n",
      "AUC-ROC лучшей модели случ. леса на валид. выборке при взвешивании классов: 0.875 , макс. глубина: 7, кол-во деревьев: 150\n",
      "Wall time: 4min 13s\n"
     ]
    }
   ],
   "source": [
    "%%time\n",
    "\n",
    "best_rf_result_bal = 0        # лучший результат по основной метрике (F1)\n",
    "best_rf_model_bal = None      # лучшие модель, количество деревьев и глубина при этом\n",
    "best_est_bal = 0           \n",
    "best_rf_depth_bal = 0\n",
    "\n",
    "best_rf_auc_roc_bal = 0      # лучший результат по AUC-ROC\n",
    "best_rf_auc_depth_bal = 0    # лучшие глубина, количество деревьев  при этом\n",
    "best_auc_est_bal = 0\n",
    "\n",
    "for est in range(10, 160, 10):\n",
    "    for depth in range (1, 21):\n",
    "        model_rf_bal = RandomForestClassifier(random_state = RS, n_estimators = est, max_depth = depth, class_weight='balanced')\n",
    "        model_rf_bal.fit(features_train, target_train) \n",
    "        predicted_valid = model_rf_bal.predict(features_valid)\n",
    "        result = f1_score( target_valid, predicted_valid )                   #F1\n",
    "        probabilities_valid = model_rf_bal.predict_proba(features_valid)\n",
    "        probabilities_one_valid = probabilities_valid[:, 1]                  #AUC_ROC\n",
    "        auc_roc = roc_auc_score(target_valid, probabilities_one_valid)\n",
    "        #print(\"Деревьев = {} | Глубина = {} | F1 = {:.3f}, AUC-ROC = {:.3f}\".format( est, depth, result, auc_roc ))\n",
    "        if result > best_rf_result_bal:\n",
    "            best_rf_model_bal = model_rf_bal\n",
    "            best_rf_result_bal = result\n",
    "            best_rf_depth_bal = depth\n",
    "            best_est_bal = est\n",
    "        if auc_roc > best_rf_auc_roc_bal:\n",
    "            best_rf_auc_roc_bal = auc_roc\n",
    "            best_rf_auc_depth_bal = depth\n",
    "            best_auc_est_bal = est\n",
    "            \n",
    "print(\"\\nF1 лучшей модели случ. леса на валид. выборке при взвешивании классов: {:.3f} , макс. глубина: {}, кол-во деревьев: {}\".format(\n",
    "                                                         best_rf_result_bal, best_rf_depth_bal, best_est_bal))\n",
    "print(\"\\nAUC-ROC лучшей модели случ. леса на валид. выборке при взвешивании классов: {:.3f} , макс. глубина: {}, кол-во деревьев: {}\".format(\n",
    "                                                  best_rf_auc_roc_bal, best_rf_auc_depth_bal, best_auc_est_bal))\n",
    "                                                  "
   ]
  },
  {
   "cell_type": "markdown",
   "metadata": {},
   "source": [
    "Взвешивание классов показало самый сильный эффект для модели логистической регрессии: F1-мера увеличилась в 1,6 раз! Однако, **наилучший скор (значение ключевой метрики F1) мы получили с помощью взвешивания для модели случайного леса :  0.644** (против 0.580 до взвешивания), **макс. глубина: 9, кол-во деревьев: 100** .<br>\n",
    "AUC-ROC случайного леса при взвешивании также едва заметно вырос: 0.874 (против 0.873 до взвешивания классов), макс. глубина: 7, кол-во деревьев: 140"
   ]
  },
  {
   "cell_type": "markdown",
   "metadata": {},
   "source": [
    "В принципе, значение метрики 0.644 на валидации скорее всего даст нам нужное значение (более 0.59) и на тесте. Но по условиям проекта мы должны провести балансировку более, чем одим способом. Поэтому проведем Upsampling данных."
   ]
  },
  {
   "cell_type": "markdown",
   "metadata": {},
   "source": [
    "## 3.2. Балансировка классов техникой Upsampling"
   ]
  },
  {
   "cell_type": "markdown",
   "metadata": {},
   "source": [
    "Напишем функцию для балансировки классов техникой Upsampling."
   ]
  },
  {
   "cell_type": "code",
   "execution_count": 40,
   "metadata": {},
   "outputs": [],
   "source": [
    "\"\"\"\n",
    "Принимает на вход признаки, целевую переменную и число, во сколько раз мы должны увеличить меньший класс.\n",
    "Возвращает увеличенный в размерах и перемешанный набор признаков и целевой переменной\n",
    "\"\"\"\n",
    "def upsample(features, target, repeat):\n",
    "\n",
    "    features_zeros = features[target == 0]\n",
    "    features_ones = features[target == 1]\n",
    "    target_zeros = target[target == 0]\n",
    "    target_ones = target[target == 1]\n",
    "\n",
    "    features_upsampled = pd.concat([features_zeros] + [features_ones] * repeat)\n",
    "    target_upsampled = pd.concat([target_zeros] + [target_ones] * repeat)\n",
    "\n",
    "    # добавим перемешивание\n",
    "    features_upsampled, target_upsampled = shuffle(features_upsampled, target_upsampled, random_state = RS)\n",
    "\n",
    "    return features_upsampled, target_upsampled "
   ]
  },
  {
   "cell_type": "markdown",
   "metadata": {},
   "source": [
    "Как мы уже отмечали ранее, нулей у нас в 4 раза больше, чем единиц. Значит, repeat = 4.<br>\n",
    "Балансируем классы только на обучающей выборке (train). Размеры валидационной и тестовой остаются прежними."
   ]
  },
  {
   "cell_type": "code",
   "execution_count": 41,
   "metadata": {},
   "outputs": [
    {
     "name": "stdout",
     "output_type": "stream",
     "text": [
      "(9669, 11)\n",
      "(9669,)\n"
     ]
    }
   ],
   "source": [
    "features_upsampled, target_upsampled = upsample(features_train, target_train, 4)\n",
    "\n",
    "print(features_upsampled.shape)\n",
    "print(target_upsampled.shape)"
   ]
  },
  {
   "cell_type": "markdown",
   "metadata": {},
   "source": [
    "Проверим модель лог. регрессии с данными после Upsampling."
   ]
  },
  {
   "cell_type": "code",
   "execution_count": 42,
   "metadata": {},
   "outputs": [
    {
     "name": "stdout",
     "output_type": "stream",
     "text": [
      "F1 для лог. регрессии на валид. выборке с использованием Upsampling: 0.5072836332476435\n",
      "AUC-ROC для лог. регрессии на валид. выборке с использованием Upsampling: 0.7918241816546902\n"
     ]
    }
   ],
   "source": [
    "model_lr_up = LogisticRegression(solver='liblinear', random_state = RS)\n",
    "model_lr_up.fit(features_upsampled, target_upsampled) # обучаем на увеличенной обучающей выборке\n",
    "predicted_valid_up = model_lr_up.predict(features_valid) # предсказываем на валидационной не увеличененной\n",
    "print(\"F1 для лог. регрессии на валид. выборке с использованием Upsampling:\", f1_score(target_valid, predicted_valid_up))\n",
    "\n",
    "probabilities_valid_up = model_lr_up.predict_proba(features_valid)\n",
    "probabilities_one_valid_up = probabilities_valid_up[:, 1]\n",
    "auc_roc_up = roc_auc_score(target_valid , probabilities_one_valid_up)\n",
    "print(f'AUC-ROC для лог. регрессии на валид. выборке с использованием Upsampling: {auc_roc_up}')"
   ]
  },
  {
   "cell_type": "markdown",
   "metadata": {},
   "source": [
    "**F1 для лог. регрессии на валид. выборке с использованием Upsampling: 0.507**, <br>\n",
    "AUC-ROC для лог. регрессии на валид. выборке с использованием Upsampling: 0.792<br>\n",
    "**Основная метрика F1 при Upsampling на лог.регрессии показала чуть худший результат, чем при взвешивании классов**."
   ]
  },
  {
   "cell_type": "markdown",
   "metadata": {},
   "source": [
    "Подберем модель дерева с данными после Upsampling."
   ]
  },
  {
   "cell_type": "code",
   "execution_count": 43,
   "metadata": {
    "scrolled": true
   },
   "outputs": [
    {
     "name": "stdout",
     "output_type": "stream",
     "text": [
      "Глубина дерева = 1 | F1 = 0.499, AUC-ROC = 0.713\n",
      "Глубина дерева = 2 | F1 = 0.507, AUC-ROC = 0.754\n",
      "Глубина дерева = 3 | F1 = 0.507, AUC-ROC = 0.806\n",
      "Глубина дерева = 4 | F1 = 0.542, AUC-ROC = 0.833\n",
      "Глубина дерева = 5 | F1 = 0.562, AUC-ROC = 0.841\n",
      "Глубина дерева = 6 | F1 = 0.577, AUC-ROC = 0.836\n",
      "Глубина дерева = 7 | F1 = 0.570, AUC-ROC = 0.816\n",
      "Глубина дерева = 8 | F1 = 0.540, AUC-ROC = 0.794\n",
      "Глубина дерева = 9 | F1 = 0.533, AUC-ROC = 0.760\n",
      "Глубина дерева = 10 | F1 = 0.522, AUC-ROC = 0.744\n",
      "Глубина дерева = 11 | F1 = 0.530, AUC-ROC = 0.729\n",
      "Глубина дерева = 12 | F1 = 0.517, AUC-ROC = 0.708\n",
      "Глубина дерева = 13 | F1 = 0.510, AUC-ROC = 0.706\n",
      "Глубина дерева = 14 | F1 = 0.501, AUC-ROC = 0.706\n",
      "Глубина дерева = 15 | F1 = 0.498, AUC-ROC = 0.699\n",
      "\n",
      "F1 лучшей модели дерева на валид. выборке с использованием Upsampling: 0.577 , макс. глубина: 6\n",
      "\n",
      "AUC-ROC лучшей модели дерева на валид. выборке с использованием Upsampling: 0.841 ,  макс. глубина: 5\n"
     ]
    }
   ],
   "source": [
    "best_tree_model_up = None\n",
    "best_tree_result_up = 0\n",
    "best_tree_depth_up = 0\n",
    "\n",
    "best_tree_auc_roc_up = 0\n",
    "best_tree_auc_depth_up = 0\n",
    "\n",
    "for depth in range(1, 16):\n",
    "    model_tree_up = DecisionTreeClassifier(random_state = RS, max_depth = depth)\n",
    "    model_tree_up.fit(features_upsampled, target_upsampled) # обучаем на увеличенной обучающей выборке\n",
    "    predicted_valid_up = model_tree_up.predict(features_valid)  # предсказываем на валидационной не увеличененной\n",
    "    result = f1_score( target_valid, predicted_valid_up )\n",
    "    probabilities_valid_up = model_tree_up.predict_proba(features_valid)\n",
    "    probabilities_one_valid_up = probabilities_valid_up[:, 1]\n",
    "    auc_roc = roc_auc_score(target_valid, probabilities_one_valid_up)\n",
    "    print(\"Глубина дерева = {} | F1 = {:.3f}, AUC-ROC = {:.3f}\".format( depth, result, auc_roc ))\n",
    "    if result > best_tree_result_up:\n",
    "        best_tree_model_up = model_tree_up\n",
    "        best_tree_result_up = result\n",
    "        best_tree_depth_up = depth\n",
    "    if auc_roc > best_tree_auc_roc_up:\n",
    "        best_tree_auc_roc_up = auc_roc\n",
    "        best_tree_auc_depth_up = depth\n",
    "\n",
    "print(\"\\nF1 лучшей модели дерева на валид. выборке с использованием Upsampling: {:.3f} , макс. глубина: {}\".format(\n",
    "                                                                        best_tree_result_up, best_tree_depth_up))\n",
    "print(\"\\nAUC-ROC лучшей модели дерева на валид. выборке с использованием Upsampling: {:.3f} ,  макс. глубина: {}\".format(\n",
    "                                                                    best_tree_auc_roc_up, best_tree_auc_depth_up))"
   ]
  },
  {
   "cell_type": "markdown",
   "metadata": {},
   "source": [
    "**F1 лучшей модели дерева на валид. выборке с использованием Upsampling:: 0.577 , макс. глубина: 6**, <br>\n",
    "\n",
    "AUC-ROC лучшей модели дерева на валид. выборке с использованием Upsampling:: 0.841 ,  макс. глубина: 5<br>\n",
    "**Основная метрика F1 при Upsampling на модели дерева показала чуть лучший результат, чем при взвешивании классов, но все равно он хуже, чем вообще без балансировки**."
   ]
  },
  {
   "cell_type": "markdown",
   "metadata": {},
   "source": [
    "Подберем модель случайного леса с данными после Upsampling."
   ]
  },
  {
   "cell_type": "code",
   "execution_count": 44,
   "metadata": {},
   "outputs": [
    {
     "name": "stdout",
     "output_type": "stream",
     "text": [
      "\n",
      "F1 лучшей модели случ. леса на валид. выборке с использованием Upsampling: 0.641 , макс. глубина: 10, кол-во деревьев: 140\n",
      "\n",
      "AUC-ROC лучшей модели случ. леса на валид. выборке с использованием Upsampling: 0.874 , макс. глубина: 8, кол-во деревьев: 140\n",
      "Wall time: 5min 49s\n"
     ]
    }
   ],
   "source": [
    "%%time\n",
    "\n",
    "best_rf_result_up = 0        # лучший результат по основной метрике (F1)\n",
    "best_rf_model_up = None      # лучшие модель, количество деревьев и глубина при этом\n",
    "best_est_up = 0           \n",
    "best_rf_depth_up = 0\n",
    "\n",
    "best_rf_auc_roc_up = 0      # лучший результат по AUC-ROC\n",
    "best_rf_auc_depth_up = 0    # лучшие глубина, количество деревьев  при этом\n",
    "best_auc_est_up = 0\n",
    "\n",
    "for est in range(10, 160, 10):\n",
    "    for depth in range (1, 21):\n",
    "        model_rf_up = RandomForestClassifier(random_state = RS, n_estimators = est, max_depth = depth)\n",
    "        model_rf_up.fit(features_upsampled, target_upsampled)    # обучаем на увеличенной обучающей выборке\n",
    "        predicted_valid_up = model_rf_up.predict(features_valid)  # предсказываем на валидационной не увеличененной\n",
    "        result = f1_score( target_valid, predicted_valid_up )                   #F1\n",
    "        probabilities_valid_up = model_rf_up.predict_proba(features_valid)\n",
    "        probabilities_one_valid_up = probabilities_valid_up[:, 1]                  #AUC_ROC\n",
    "        auc_roc = roc_auc_score(target_valid, probabilities_one_valid_up)\n",
    "        #print(\"Деревьев = {} | Глубина = {} | F1 = {:.3f}, AUC-ROC = {:.3f}\".format( est, depth, result, auc_roc ))\n",
    "        if result > best_rf_result_up:\n",
    "            best_rf_model_up = model_rf_up\n",
    "            best_rf_result_up = result\n",
    "            best_rf_depth_up = depth\n",
    "            best_est_up = est\n",
    "        if auc_roc > best_rf_auc_roc_up:\n",
    "            best_rf_auc_roc_up = auc_roc\n",
    "            best_rf_auc_depth_up = depth\n",
    "            best_auc_est_up = est\n",
    "            \n",
    "print(\"\\nF1 лучшей модели случ. леса на валид. выборке с использованием Upsampling: {:.3f} , макс. глубина: {}, кол-во деревьев: {}\".format(\n",
    "                                                         best_rf_result_up, best_rf_depth_up, best_est_up))\n",
    "print(\"\\nAUC-ROC лучшей модели случ. леса на валид. выборке с использованием Upsampling: {:.3f} , макс. глубина: {}, кол-во деревьев: {}\".format(\n",
    "                                                  best_rf_auc_roc_up, best_rf_auc_depth_up, best_auc_est_up))\n",
    "                                                  "
   ]
  },
  {
   "cell_type": "markdown",
   "metadata": {},
   "source": [
    "**F1 лучшей модели случ. леса на валид. выборке с использованием Upsampling: 0.641 , макс. глубина: 10, кол-во деревьев: 140** <br>\n",
    "\n",
    "AUC-ROC лучшей модели случ. леса на валид. выборке с использованием Upsampling: 0.874 , макс. глубина: 8, кол-во деревьев: 140<br>\n",
    "**Основная метрика F1 при Upsampling на модели слуйчаного леса показала чуть худший результат, чем при взвешивании классов, но гораздо лучший, чем вообще без балансировки.**"
   ]
  },
  {
   "cell_type": "markdown",
   "metadata": {},
   "source": [
    "# 4. Тестирование модели"
   ]
  },
  {
   "cell_type": "markdown",
   "metadata": {},
   "source": [
    "**Лучшей моделью с использованием балансировки классов с помощью взвешивания получилась модель случайного леса с максимальной глубиной 9 и количеством оценщиков 100. На валидации её F1-мера была 0.644, AUC-ROC - 0.874.** <br>\n",
    "Проверим эту модель на тесте."
   ]
  },
  {
   "cell_type": "code",
   "execution_count": 45,
   "metadata": {},
   "outputs": [
    {
     "name": "stdout",
     "output_type": "stream",
     "text": [
      "\n",
      "F1 модели (RF с взвешиванием классов) на тестовой выборке: 0.6302 , макс. глубина: 10, кол-во деревьев: 60\n",
      "\n",
      "AUC-ROC модели (RF с взвешиванием классов) на тестовой выборке: 0.8616 , макс. глубина: 7, кол-во деревьев: 150\n"
     ]
    }
   ],
   "source": [
    "predicted_test_bal = best_rf_model_bal.predict(features_test)\n",
    "test_result = f1_score( target_test, predicted_test_bal )                   #F1\n",
    "probabilities_test = best_rf_model_bal.predict_proba(features_test)\n",
    "probabilities_one_test = probabilities_test[:, 1]                  #AUC_ROC\n",
    "test_auc_roc = roc_auc_score(target_test, probabilities_one_test)\n",
    "\n",
    "print(\"\\nF1 модели (RF с взвешиванием классов) на тестовой выборке: {:.4f} , макс. глубина: {}, кол-во деревьев: {}\".format(\n",
    "                                                         test_result, best_rf_depth_bal, best_est_bal))\n",
    "print(\"\\nAUC-ROC модели (RF с взвешиванием классов) на тестовой выборке: {:.4f} , макс. глубина: {}, кол-во деревьев: {}\".format(\n",
    "                                                test_auc_roc , best_rf_auc_depth_bal, best_auc_est_bal))"
   ]
  },
  {
   "cell_type": "markdown",
   "metadata": {},
   "source": [
    "**В итоге нам удалось достичь значения F1-меры 0.641  (это выше заданного уровня  0.59) макс. глубина: 9, кол-во деревьев: 100**.  <br>  \n",
    "AUC-ROC модели (RF с взвешиванием классов) на тестовой выборке: 0.8649 , макс. глубина: 7, кол-во деревьев: 140 <br>\n",
    "\n",
    "**Задание выполнено!**"
   ]
  },
  {
   "cell_type": "code",
   "execution_count": null,
   "metadata": {},
   "outputs": [],
   "source": []
  }
 ],
 "metadata": {
  "kernelspec": {
   "display_name": "Python 3",
   "language": "python",
   "name": "python3"
  },
  "language_info": {
   "codemirror_mode": {
    "name": "ipython",
    "version": 3
   },
   "file_extension": ".py",
   "mimetype": "text/x-python",
   "name": "python",
   "nbconvert_exporter": "python",
   "pygments_lexer": "ipython3",
   "version": "3.7.9"
  }
 },
 "nbformat": 4,
 "nbformat_minor": 2
}
