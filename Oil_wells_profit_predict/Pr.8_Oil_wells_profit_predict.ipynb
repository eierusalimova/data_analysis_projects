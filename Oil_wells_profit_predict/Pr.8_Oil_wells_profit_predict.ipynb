{
 "cells": [
  {
   "cell_type": "markdown",
   "metadata": {},
   "source": [
    "# Pr.8 Определение региона добычи, где разработка нефтяных скважин принесет наибольшую прибыль"
   ]
  },
  {
   "cell_type": "markdown",
   "metadata": {},
   "source": [
    "## Описание проекта"
   ]
  },
  {
   "cell_type": "markdown",
   "metadata": {},
   "source": [
    "Допустим, вы работаете в добывающей компании «ГлавРосГосНефть». Нужно решить, где бурить новую скважину.\n",
    "\n",
    "Вам предоставлены пробы нефти в трёх регионах: в каждом 10 000 месторождений, где измерили качество нефти и объём её запасов. Постройте модель машинного обучения, которая поможет определить регион, где добыча принесёт наибольшую прибыль. Проанализируйте возможную прибыль и риски техникой *Bootstrap.*\n",
    "\n",
    "Шаги для выбора локации:\n",
    "\n",
    "- В избранном регионе ищут месторождения, для каждого определяют значения признаков;\n",
    "- Строят модель и оценивают объём запасов;\n",
    "- Выбирают месторождения с самым высокими оценками значений. Количество месторождений зависит от бюджета компании и стоимости разработки одной скважины;\n",
    "- Прибыль равна суммарной прибыли отобранных месторождений."
   ]
  },
  {
   "cell_type": "markdown",
   "metadata": {},
   "source": [
    "# 1. Загрузка и подготовка данных"
   ]
  },
  {
   "cell_type": "code",
   "execution_count": 1,
   "metadata": {},
   "outputs": [],
   "source": [
    "import pandas as pd\n",
    "import numpy as np\n",
    "#from scipy import stats as st\n",
    "import matplotlib.pyplot as plt\n",
    "import seaborn as sns\n",
    "\n",
    "from sklearn.model_selection import train_test_split\n",
    "\n",
    "#from sklearn.preprocessing import OrdinalEncoder\n",
    "from sklearn.preprocessing import StandardScaler\n",
    "#from sklearn.utils import shuffle\n",
    "\n",
    "from sklearn.linear_model import LinearRegression\n",
    "from sklearn.linear_model import Lasso, Ridge\n",
    "\n",
    "from sklearn.metrics import mean_absolute_error, mean_squared_error, r2_score\n",
    "\n",
    "#from sklearn.dummy import DummyClassifier\n",
    "from sklearn.dummy import DummyRegressor\n",
    "\n",
    "from numpy.random import RandomState\n",
    "\n",
    "import warnings\n",
    "warnings.filterwarnings(\"ignore\")  # игнорирование всех предупреждений\n",
    "#warnings.simplefilter(action='ignore', category=FutureWarning)  # игнорирование будущих предупреждений"
   ]
  },
  {
   "cell_type": "code",
   "execution_count": 2,
   "metadata": {},
   "outputs": [],
   "source": [
    "path='https://code.s3.yandex.net/datasets/'\n",
    "\n",
    "file_name='geo_data_0.csv'\n",
    "df_0 = pd.read_csv(path+file_name) #,sep='\\t')\n",
    "\n",
    "file_name='geo_data_1.csv'\n",
    "df_1 = pd.read_csv(path+file_name) \n",
    "\n",
    "file_name='geo_data_2.csv'\n",
    "df_2 = pd.read_csv(path+file_name) "
   ]
  },
  {
   "cell_type": "code",
   "execution_count": 3,
   "metadata": {
    "scrolled": true
   },
   "outputs": [
    {
     "name": "stdout",
     "output_type": "stream",
     "text": [
      "<class 'pandas.core.frame.DataFrame'>\n",
      "RangeIndex: 100000 entries, 0 to 99999\n",
      "Data columns (total 5 columns):\n",
      " #   Column   Non-Null Count   Dtype  \n",
      "---  ------   --------------   -----  \n",
      " 0   id       100000 non-null  object \n",
      " 1   f0       100000 non-null  float64\n",
      " 2   f1       100000 non-null  float64\n",
      " 3   f2       100000 non-null  float64\n",
      " 4   product  100000 non-null  float64\n",
      "dtypes: float64(4), object(1)\n",
      "memory usage: 3.8+ MB\n"
     ]
    },
    {
     "data": {
      "text/html": [
       "<div>\n",
       "<style scoped>\n",
       "    .dataframe tbody tr th:only-of-type {\n",
       "        vertical-align: middle;\n",
       "    }\n",
       "\n",
       "    .dataframe tbody tr th {\n",
       "        vertical-align: top;\n",
       "    }\n",
       "\n",
       "    .dataframe thead th {\n",
       "        text-align: right;\n",
       "    }\n",
       "</style>\n",
       "<table border=\"1\" class=\"dataframe\">\n",
       "  <thead>\n",
       "    <tr style=\"text-align: right;\">\n",
       "      <th></th>\n",
       "      <th>id</th>\n",
       "      <th>f0</th>\n",
       "      <th>f1</th>\n",
       "      <th>f2</th>\n",
       "      <th>product</th>\n",
       "    </tr>\n",
       "  </thead>\n",
       "  <tbody>\n",
       "    <tr>\n",
       "      <th>0</th>\n",
       "      <td>txEyH</td>\n",
       "      <td>0.705745</td>\n",
       "      <td>-0.497823</td>\n",
       "      <td>1.221170</td>\n",
       "      <td>105.280062</td>\n",
       "    </tr>\n",
       "    <tr>\n",
       "      <th>1</th>\n",
       "      <td>2acmU</td>\n",
       "      <td>1.334711</td>\n",
       "      <td>-0.340164</td>\n",
       "      <td>4.365080</td>\n",
       "      <td>73.037750</td>\n",
       "    </tr>\n",
       "    <tr>\n",
       "      <th>2</th>\n",
       "      <td>409Wp</td>\n",
       "      <td>1.022732</td>\n",
       "      <td>0.151990</td>\n",
       "      <td>1.419926</td>\n",
       "      <td>85.265647</td>\n",
       "    </tr>\n",
       "    <tr>\n",
       "      <th>3</th>\n",
       "      <td>iJLyR</td>\n",
       "      <td>-0.032172</td>\n",
       "      <td>0.139033</td>\n",
       "      <td>2.978566</td>\n",
       "      <td>168.620776</td>\n",
       "    </tr>\n",
       "    <tr>\n",
       "      <th>4</th>\n",
       "      <td>Xdl7t</td>\n",
       "      <td>1.988431</td>\n",
       "      <td>0.155413</td>\n",
       "      <td>4.751769</td>\n",
       "      <td>154.036647</td>\n",
       "    </tr>\n",
       "  </tbody>\n",
       "</table>\n",
       "</div>"
      ],
      "text/plain": [
       "      id        f0        f1        f2     product\n",
       "0  txEyH  0.705745 -0.497823  1.221170  105.280062\n",
       "1  2acmU  1.334711 -0.340164  4.365080   73.037750\n",
       "2  409Wp  1.022732  0.151990  1.419926   85.265647\n",
       "3  iJLyR -0.032172  0.139033  2.978566  168.620776\n",
       "4  Xdl7t  1.988431  0.155413  4.751769  154.036647"
      ]
     },
     "execution_count": 3,
     "metadata": {},
     "output_type": "execute_result"
    }
   ],
   "source": [
    "df_0.info()\n",
    "df_0.head()"
   ]
  },
  {
   "cell_type": "code",
   "execution_count": 4,
   "metadata": {
    "scrolled": true
   },
   "outputs": [
    {
     "name": "stdout",
     "output_type": "stream",
     "text": [
      "<class 'pandas.core.frame.DataFrame'>\n",
      "RangeIndex: 100000 entries, 0 to 99999\n",
      "Data columns (total 5 columns):\n",
      " #   Column   Non-Null Count   Dtype  \n",
      "---  ------   --------------   -----  \n",
      " 0   id       100000 non-null  object \n",
      " 1   f0       100000 non-null  float64\n",
      " 2   f1       100000 non-null  float64\n",
      " 3   f2       100000 non-null  float64\n",
      " 4   product  100000 non-null  float64\n",
      "dtypes: float64(4), object(1)\n",
      "memory usage: 3.8+ MB\n"
     ]
    },
    {
     "data": {
      "text/html": [
       "<div>\n",
       "<style scoped>\n",
       "    .dataframe tbody tr th:only-of-type {\n",
       "        vertical-align: middle;\n",
       "    }\n",
       "\n",
       "    .dataframe tbody tr th {\n",
       "        vertical-align: top;\n",
       "    }\n",
       "\n",
       "    .dataframe thead th {\n",
       "        text-align: right;\n",
       "    }\n",
       "</style>\n",
       "<table border=\"1\" class=\"dataframe\">\n",
       "  <thead>\n",
       "    <tr style=\"text-align: right;\">\n",
       "      <th></th>\n",
       "      <th>id</th>\n",
       "      <th>f0</th>\n",
       "      <th>f1</th>\n",
       "      <th>f2</th>\n",
       "      <th>product</th>\n",
       "    </tr>\n",
       "  </thead>\n",
       "  <tbody>\n",
       "    <tr>\n",
       "      <th>0</th>\n",
       "      <td>kBEdx</td>\n",
       "      <td>-15.001348</td>\n",
       "      <td>-8.276000</td>\n",
       "      <td>-0.005876</td>\n",
       "      <td>3.179103</td>\n",
       "    </tr>\n",
       "    <tr>\n",
       "      <th>1</th>\n",
       "      <td>62mP7</td>\n",
       "      <td>14.272088</td>\n",
       "      <td>-3.475083</td>\n",
       "      <td>0.999183</td>\n",
       "      <td>26.953261</td>\n",
       "    </tr>\n",
       "    <tr>\n",
       "      <th>2</th>\n",
       "      <td>vyE1P</td>\n",
       "      <td>6.263187</td>\n",
       "      <td>-5.948386</td>\n",
       "      <td>5.001160</td>\n",
       "      <td>134.766305</td>\n",
       "    </tr>\n",
       "    <tr>\n",
       "      <th>3</th>\n",
       "      <td>KcrkZ</td>\n",
       "      <td>-13.081196</td>\n",
       "      <td>-11.506057</td>\n",
       "      <td>4.999415</td>\n",
       "      <td>137.945408</td>\n",
       "    </tr>\n",
       "    <tr>\n",
       "      <th>4</th>\n",
       "      <td>AHL4O</td>\n",
       "      <td>12.702195</td>\n",
       "      <td>-8.147433</td>\n",
       "      <td>5.004363</td>\n",
       "      <td>134.766305</td>\n",
       "    </tr>\n",
       "  </tbody>\n",
       "</table>\n",
       "</div>"
      ],
      "text/plain": [
       "      id         f0         f1        f2     product\n",
       "0  kBEdx -15.001348  -8.276000 -0.005876    3.179103\n",
       "1  62mP7  14.272088  -3.475083  0.999183   26.953261\n",
       "2  vyE1P   6.263187  -5.948386  5.001160  134.766305\n",
       "3  KcrkZ -13.081196 -11.506057  4.999415  137.945408\n",
       "4  AHL4O  12.702195  -8.147433  5.004363  134.766305"
      ]
     },
     "execution_count": 4,
     "metadata": {},
     "output_type": "execute_result"
    }
   ],
   "source": [
    "df_1.info()\n",
    "df_1.head()"
   ]
  },
  {
   "cell_type": "code",
   "execution_count": 5,
   "metadata": {
    "scrolled": false
   },
   "outputs": [
    {
     "name": "stdout",
     "output_type": "stream",
     "text": [
      "<class 'pandas.core.frame.DataFrame'>\n",
      "RangeIndex: 100000 entries, 0 to 99999\n",
      "Data columns (total 5 columns):\n",
      " #   Column   Non-Null Count   Dtype  \n",
      "---  ------   --------------   -----  \n",
      " 0   id       100000 non-null  object \n",
      " 1   f0       100000 non-null  float64\n",
      " 2   f1       100000 non-null  float64\n",
      " 3   f2       100000 non-null  float64\n",
      " 4   product  100000 non-null  float64\n",
      "dtypes: float64(4), object(1)\n",
      "memory usage: 3.8+ MB\n"
     ]
    },
    {
     "data": {
      "text/html": [
       "<div>\n",
       "<style scoped>\n",
       "    .dataframe tbody tr th:only-of-type {\n",
       "        vertical-align: middle;\n",
       "    }\n",
       "\n",
       "    .dataframe tbody tr th {\n",
       "        vertical-align: top;\n",
       "    }\n",
       "\n",
       "    .dataframe thead th {\n",
       "        text-align: right;\n",
       "    }\n",
       "</style>\n",
       "<table border=\"1\" class=\"dataframe\">\n",
       "  <thead>\n",
       "    <tr style=\"text-align: right;\">\n",
       "      <th></th>\n",
       "      <th>id</th>\n",
       "      <th>f0</th>\n",
       "      <th>f1</th>\n",
       "      <th>f2</th>\n",
       "      <th>product</th>\n",
       "    </tr>\n",
       "  </thead>\n",
       "  <tbody>\n",
       "    <tr>\n",
       "      <th>0</th>\n",
       "      <td>fwXo0</td>\n",
       "      <td>-1.146987</td>\n",
       "      <td>0.963328</td>\n",
       "      <td>-0.828965</td>\n",
       "      <td>27.758673</td>\n",
       "    </tr>\n",
       "    <tr>\n",
       "      <th>1</th>\n",
       "      <td>WJtFt</td>\n",
       "      <td>0.262778</td>\n",
       "      <td>0.269839</td>\n",
       "      <td>-2.530187</td>\n",
       "      <td>56.069697</td>\n",
       "    </tr>\n",
       "    <tr>\n",
       "      <th>2</th>\n",
       "      <td>ovLUW</td>\n",
       "      <td>0.194587</td>\n",
       "      <td>0.289035</td>\n",
       "      <td>-5.586433</td>\n",
       "      <td>62.871910</td>\n",
       "    </tr>\n",
       "    <tr>\n",
       "      <th>3</th>\n",
       "      <td>q6cA6</td>\n",
       "      <td>2.236060</td>\n",
       "      <td>-0.553760</td>\n",
       "      <td>0.930038</td>\n",
       "      <td>114.572842</td>\n",
       "    </tr>\n",
       "    <tr>\n",
       "      <th>4</th>\n",
       "      <td>WPMUX</td>\n",
       "      <td>-0.515993</td>\n",
       "      <td>1.716266</td>\n",
       "      <td>5.899011</td>\n",
       "      <td>149.600746</td>\n",
       "    </tr>\n",
       "  </tbody>\n",
       "</table>\n",
       "</div>"
      ],
      "text/plain": [
       "      id        f0        f1        f2     product\n",
       "0  fwXo0 -1.146987  0.963328 -0.828965   27.758673\n",
       "1  WJtFt  0.262778  0.269839 -2.530187   56.069697\n",
       "2  ovLUW  0.194587  0.289035 -5.586433   62.871910\n",
       "3  q6cA6  2.236060 -0.553760  0.930038  114.572842\n",
       "4  WPMUX -0.515993  1.716266  5.899011  149.600746"
      ]
     },
     "execution_count": 5,
     "metadata": {},
     "output_type": "execute_result"
    }
   ],
   "source": [
    "df_2.info()\n",
    "df_2.head()"
   ]
  },
  {
   "cell_type": "code",
   "execution_count": 6,
   "metadata": {},
   "outputs": [
    {
     "data": {
      "text/plain": [
       "0"
      ]
     },
     "execution_count": 6,
     "metadata": {},
     "output_type": "execute_result"
    }
   ],
   "source": [
    "df_0.duplicated().sum()"
   ]
  },
  {
   "cell_type": "code",
   "execution_count": 7,
   "metadata": {},
   "outputs": [
    {
     "data": {
      "text/plain": [
       "0"
      ]
     },
     "execution_count": 7,
     "metadata": {},
     "output_type": "execute_result"
    }
   ],
   "source": [
    "df_1.duplicated().sum()"
   ]
  },
  {
   "cell_type": "code",
   "execution_count": 8,
   "metadata": {},
   "outputs": [
    {
     "data": {
      "text/plain": [
       "0"
      ]
     },
     "execution_count": 8,
     "metadata": {},
     "output_type": "execute_result"
    }
   ],
   "source": [
    "df_2.duplicated().sum()"
   ]
  },
  {
   "cell_type": "code",
   "execution_count": 9,
   "metadata": {
    "scrolled": true
   },
   "outputs": [
    {
     "data": {
      "text/plain": [
       "Index(['id', 'f0', 'f1', 'f2', 'product'], dtype='object')"
      ]
     },
     "execution_count": 9,
     "metadata": {},
     "output_type": "execute_result"
    }
   ],
   "source": [
    "df_0.columns"
   ]
  },
  {
   "cell_type": "code",
   "execution_count": 10,
   "metadata": {},
   "outputs": [
    {
     "data": {
      "text/plain": [
       "Index(['id', 'f0', 'f1', 'f2', 'product'], dtype='object')"
      ]
     },
     "execution_count": 10,
     "metadata": {},
     "output_type": "execute_result"
    }
   ],
   "source": [
    "df_1.columns"
   ]
  },
  {
   "cell_type": "code",
   "execution_count": 11,
   "metadata": {},
   "outputs": [
    {
     "data": {
      "text/plain": [
       "Index(['id', 'f0', 'f1', 'f2', 'product'], dtype='object')"
      ]
     },
     "execution_count": 11,
     "metadata": {},
     "output_type": "execute_result"
    }
   ],
   "source": [
    "df_2.columns"
   ]
  },
  {
   "cell_type": "markdown",
   "metadata": {},
   "source": [
    "Пропусков и полных дубликатов нет. Названия столбцов корректны (без пробелов). "
   ]
  },
  {
   "cell_type": "code",
   "execution_count": 12,
   "metadata": {
    "scrolled": true
   },
   "outputs": [
    {
     "data": {
      "text/plain": [
       "QcMuo    2\n",
       "HZww2    2\n",
       "A5aEY    2\n",
       "TtcGQ    2\n",
       "bsk9y    2\n",
       "        ..\n",
       "dWq3j    1\n",
       "DVAXH    1\n",
       "2TlJc    1\n",
       "EutN1    1\n",
       "Oag5x    1\n",
       "Name: id, Length: 99990, dtype: int64"
      ]
     },
     "execution_count": 12,
     "metadata": {},
     "output_type": "execute_result"
    }
   ],
   "source": [
    "df_0['id'].value_counts()"
   ]
  },
  {
   "cell_type": "code",
   "execution_count": 13,
   "metadata": {},
   "outputs": [
    {
     "data": {
      "text/plain": [
       "QcMuo    2\n",
       "HZww2    2\n",
       "A5aEY    2\n",
       "TtcGQ    2\n",
       "bsk9y    2\n",
       "bxg6G    2\n",
       "74z30    2\n",
       "fiKDv    2\n",
       "AGS9W    2\n",
       "Tdehs    2\n",
       "Name: id, dtype: int64"
      ]
     },
     "execution_count": 13,
     "metadata": {},
     "output_type": "execute_result"
    }
   ],
   "source": [
    "df_0['id'].value_counts()[df_0['id'].value_counts() > 1]"
   ]
  },
  {
   "cell_type": "code",
   "execution_count": 14,
   "metadata": {},
   "outputs": [
    {
     "data": {
      "text/plain": [
       "bfPNe    2\n",
       "wt4Uk    2\n",
       "LHZR0    2\n",
       "5ltQ6    2\n",
       "Name: id, dtype: int64"
      ]
     },
     "execution_count": 14,
     "metadata": {},
     "output_type": "execute_result"
    }
   ],
   "source": [
    "df_1['id'].value_counts()[df_1['id'].value_counts() > 1]"
   ]
  },
  {
   "cell_type": "code",
   "execution_count": 15,
   "metadata": {
    "scrolled": true
   },
   "outputs": [
    {
     "data": {
      "text/plain": [
       "KUPhW    2\n",
       "Vcm5J    2\n",
       "VF7Jo    2\n",
       "xCHr8    2\n",
       "Name: id, dtype: int64"
      ]
     },
     "execution_count": 15,
     "metadata": {},
     "output_type": "execute_result"
    }
   ],
   "source": [
    "df_2['id'].value_counts()[df_2['id'].value_counts() > 1]"
   ]
  },
  {
   "cell_type": "code",
   "execution_count": 16,
   "metadata": {
    "scrolled": true
   },
   "outputs": [
    {
     "data": {
      "text/html": [
       "<div>\n",
       "<style scoped>\n",
       "    .dataframe tbody tr th:only-of-type {\n",
       "        vertical-align: middle;\n",
       "    }\n",
       "\n",
       "    .dataframe tbody tr th {\n",
       "        vertical-align: top;\n",
       "    }\n",
       "\n",
       "    .dataframe thead th {\n",
       "        text-align: right;\n",
       "    }\n",
       "</style>\n",
       "<table border=\"1\" class=\"dataframe\">\n",
       "  <thead>\n",
       "    <tr style=\"text-align: right;\">\n",
       "      <th></th>\n",
       "      <th>id</th>\n",
       "      <th>f0</th>\n",
       "      <th>f1</th>\n",
       "      <th>f2</th>\n",
       "      <th>product</th>\n",
       "    </tr>\n",
       "  </thead>\n",
       "  <tbody>\n",
       "    <tr>\n",
       "      <th>45404</th>\n",
       "      <td>KUPhW</td>\n",
       "      <td>0.231846</td>\n",
       "      <td>-1.698941</td>\n",
       "      <td>4.990775</td>\n",
       "      <td>11.716299</td>\n",
       "    </tr>\n",
       "    <tr>\n",
       "      <th>55967</th>\n",
       "      <td>KUPhW</td>\n",
       "      <td>1.211150</td>\n",
       "      <td>3.176408</td>\n",
       "      <td>5.543540</td>\n",
       "      <td>132.831802</td>\n",
       "    </tr>\n",
       "  </tbody>\n",
       "</table>\n",
       "</div>"
      ],
      "text/plain": [
       "          id        f0        f1        f2     product\n",
       "45404  KUPhW  0.231846 -1.698941  4.990775   11.716299\n",
       "55967  KUPhW  1.211150  3.176408  5.543540  132.831802"
      ]
     },
     "execution_count": 16,
     "metadata": {},
     "output_type": "execute_result"
    }
   ],
   "source": [
    "df_2[df_2['id'] == 'KUPhW']"
   ]
  },
  {
   "cell_type": "markdown",
   "metadata": {},
   "source": [
    "Обнаружены для одних и тех же скаважин разные наборы признаков и целевой переменной: 10 повторов для датасета df_0  и по 4 повтора для латасатов df_1 и df_2. Это могут быть либо ошибочные данные, либо можно считать, что из одной и той же скважины в разное время делалось по 2 измерения. Поскольку уточнить этот момент мы не имеем возможности, а также в силу незначительности количества таких данных (10 / 100000 = 0,01%, 4 / 100000 = 0,004%, т.е. всего 0,01% и 0,004% от всего объема наблюдений в датасетах), нам подходит любой вариант. Пойдем по второму варианту (повторные замеры в скважинах) и оставим эти данные."
   ]
  },
  {
   "cell_type": "markdown",
   "metadata": {},
   "source": [
    "На этапе построения и обучения моделей лучше избавляться от ненужных признаков, коими являются 'id' скаважин. Мы можем либо сделать 'id' индексом, либо просто удалить этот признак, присоединив его в конце (так как порядок строк в датафреймах  у нас изменяться не будет). Пойдем по второму варианту: сохраним признак 'id' в отдельную переменную и удалим его из признаков."
   ]
  },
  {
   "cell_type": "code",
   "execution_count": 17,
   "metadata": {
    "scrolled": true
   },
   "outputs": [],
   "source": [
    "id_0 = df_0['id']\n",
    "id_1 = df_1['id']\n",
    "id_2 = df_2['id']\n",
    "\n",
    "df_0.drop('id', axis = 1, inplace = True)\n",
    "df_1.drop('id', axis = 1, inplace = True)\n",
    "df_2.drop('id', axis = 1, inplace = True)"
   ]
  },
  {
   "cell_type": "code",
   "execution_count": 18,
   "metadata": {},
   "outputs": [
    {
     "data": {
      "text/html": [
       "<div>\n",
       "<style scoped>\n",
       "    .dataframe tbody tr th:only-of-type {\n",
       "        vertical-align: middle;\n",
       "    }\n",
       "\n",
       "    .dataframe tbody tr th {\n",
       "        vertical-align: top;\n",
       "    }\n",
       "\n",
       "    .dataframe thead th {\n",
       "        text-align: right;\n",
       "    }\n",
       "</style>\n",
       "<table border=\"1\" class=\"dataframe\">\n",
       "  <thead>\n",
       "    <tr style=\"text-align: right;\">\n",
       "      <th></th>\n",
       "      <th>f0</th>\n",
       "      <th>f1</th>\n",
       "      <th>f2</th>\n",
       "      <th>product</th>\n",
       "    </tr>\n",
       "  </thead>\n",
       "  <tbody>\n",
       "    <tr>\n",
       "      <th>0</th>\n",
       "      <td>0.705745</td>\n",
       "      <td>-0.497823</td>\n",
       "      <td>1.22117</td>\n",
       "      <td>105.280062</td>\n",
       "    </tr>\n",
       "  </tbody>\n",
       "</table>\n",
       "</div>"
      ],
      "text/plain": [
       "         f0        f1       f2     product\n",
       "0  0.705745 -0.497823  1.22117  105.280062"
      ]
     },
     "execution_count": 18,
     "metadata": {},
     "output_type": "execute_result"
    }
   ],
   "source": [
    "df_0.head(1)"
   ]
  },
  {
   "cell_type": "markdown",
   "metadata": {},
   "source": [
    "Оценим распределения признаков по описательным статистикам признаков.\n"
   ]
  },
  {
   "cell_type": "code",
   "execution_count": 19,
   "metadata": {
    "scrolled": true
   },
   "outputs": [
    {
     "data": {
      "text/html": [
       "<div>\n",
       "<style scoped>\n",
       "    .dataframe tbody tr th:only-of-type {\n",
       "        vertical-align: middle;\n",
       "    }\n",
       "\n",
       "    .dataframe tbody tr th {\n",
       "        vertical-align: top;\n",
       "    }\n",
       "\n",
       "    .dataframe thead th {\n",
       "        text-align: right;\n",
       "    }\n",
       "</style>\n",
       "<table border=\"1\" class=\"dataframe\">\n",
       "  <thead>\n",
       "    <tr style=\"text-align: right;\">\n",
       "      <th></th>\n",
       "      <th>count</th>\n",
       "      <th>mean</th>\n",
       "      <th>std</th>\n",
       "      <th>min</th>\n",
       "      <th>25%</th>\n",
       "      <th>50%</th>\n",
       "      <th>75%</th>\n",
       "      <th>max</th>\n",
       "    </tr>\n",
       "  </thead>\n",
       "  <tbody>\n",
       "    <tr>\n",
       "      <th>f0</th>\n",
       "      <td>100000.0</td>\n",
       "      <td>0.500419</td>\n",
       "      <td>0.871832</td>\n",
       "      <td>-1.408605</td>\n",
       "      <td>-0.072580</td>\n",
       "      <td>0.502360</td>\n",
       "      <td>1.073581</td>\n",
       "      <td>2.362331</td>\n",
       "    </tr>\n",
       "    <tr>\n",
       "      <th>f1</th>\n",
       "      <td>100000.0</td>\n",
       "      <td>0.250143</td>\n",
       "      <td>0.504433</td>\n",
       "      <td>-0.848218</td>\n",
       "      <td>-0.200881</td>\n",
       "      <td>0.250252</td>\n",
       "      <td>0.700646</td>\n",
       "      <td>1.343769</td>\n",
       "    </tr>\n",
       "    <tr>\n",
       "      <th>f2</th>\n",
       "      <td>100000.0</td>\n",
       "      <td>2.502647</td>\n",
       "      <td>3.248248</td>\n",
       "      <td>-12.088328</td>\n",
       "      <td>0.287748</td>\n",
       "      <td>2.515969</td>\n",
       "      <td>4.715088</td>\n",
       "      <td>16.003790</td>\n",
       "    </tr>\n",
       "    <tr>\n",
       "      <th>product</th>\n",
       "      <td>100000.0</td>\n",
       "      <td>92.500000</td>\n",
       "      <td>44.288691</td>\n",
       "      <td>0.000000</td>\n",
       "      <td>56.497507</td>\n",
       "      <td>91.849972</td>\n",
       "      <td>128.564089</td>\n",
       "      <td>185.364347</td>\n",
       "    </tr>\n",
       "  </tbody>\n",
       "</table>\n",
       "</div>"
      ],
      "text/plain": [
       "            count       mean        std        min        25%        50%  \\\n",
       "f0       100000.0   0.500419   0.871832  -1.408605  -0.072580   0.502360   \n",
       "f1       100000.0   0.250143   0.504433  -0.848218  -0.200881   0.250252   \n",
       "f2       100000.0   2.502647   3.248248 -12.088328   0.287748   2.515969   \n",
       "product  100000.0  92.500000  44.288691   0.000000  56.497507  91.849972   \n",
       "\n",
       "                75%         max  \n",
       "f0         1.073581    2.362331  \n",
       "f1         0.700646    1.343769  \n",
       "f2         4.715088   16.003790  \n",
       "product  128.564089  185.364347  "
      ]
     },
     "execution_count": 19,
     "metadata": {},
     "output_type": "execute_result"
    }
   ],
   "source": [
    "df_0.describe().T"
   ]
  },
  {
   "cell_type": "code",
   "execution_count": 20,
   "metadata": {},
   "outputs": [
    {
     "data": {
      "text/html": [
       "<div>\n",
       "<style scoped>\n",
       "    .dataframe tbody tr th:only-of-type {\n",
       "        vertical-align: middle;\n",
       "    }\n",
       "\n",
       "    .dataframe tbody tr th {\n",
       "        vertical-align: top;\n",
       "    }\n",
       "\n",
       "    .dataframe thead th {\n",
       "        text-align: right;\n",
       "    }\n",
       "</style>\n",
       "<table border=\"1\" class=\"dataframe\">\n",
       "  <thead>\n",
       "    <tr style=\"text-align: right;\">\n",
       "      <th></th>\n",
       "      <th>count</th>\n",
       "      <th>mean</th>\n",
       "      <th>std</th>\n",
       "      <th>min</th>\n",
       "      <th>25%</th>\n",
       "      <th>50%</th>\n",
       "      <th>75%</th>\n",
       "      <th>85%</th>\n",
       "      <th>max</th>\n",
       "    </tr>\n",
       "  </thead>\n",
       "  <tbody>\n",
       "    <tr>\n",
       "      <th>f0</th>\n",
       "      <td>100000.0</td>\n",
       "      <td>1.141296</td>\n",
       "      <td>8.965932</td>\n",
       "      <td>-31.609576</td>\n",
       "      <td>-6.298551</td>\n",
       "      <td>1.153055</td>\n",
       "      <td>8.621015</td>\n",
       "      <td>11.181926</td>\n",
       "      <td>29.421755</td>\n",
       "    </tr>\n",
       "    <tr>\n",
       "      <th>f1</th>\n",
       "      <td>100000.0</td>\n",
       "      <td>-4.796579</td>\n",
       "      <td>5.119872</td>\n",
       "      <td>-26.358598</td>\n",
       "      <td>-8.267985</td>\n",
       "      <td>-4.813172</td>\n",
       "      <td>-1.332816</td>\n",
       "      <td>0.528576</td>\n",
       "      <td>18.734063</td>\n",
       "    </tr>\n",
       "    <tr>\n",
       "      <th>f2</th>\n",
       "      <td>100000.0</td>\n",
       "      <td>2.494541</td>\n",
       "      <td>1.703572</td>\n",
       "      <td>-0.018144</td>\n",
       "      <td>1.000021</td>\n",
       "      <td>2.011479</td>\n",
       "      <td>3.999904</td>\n",
       "      <td>4.993338</td>\n",
       "      <td>5.019721</td>\n",
       "    </tr>\n",
       "    <tr>\n",
       "      <th>product</th>\n",
       "      <td>100000.0</td>\n",
       "      <td>68.825000</td>\n",
       "      <td>45.944423</td>\n",
       "      <td>0.000000</td>\n",
       "      <td>26.953261</td>\n",
       "      <td>57.085625</td>\n",
       "      <td>107.813044</td>\n",
       "      <td>134.766305</td>\n",
       "      <td>137.945408</td>\n",
       "    </tr>\n",
       "  </tbody>\n",
       "</table>\n",
       "</div>"
      ],
      "text/plain": [
       "            count       mean        std        min        25%        50%  \\\n",
       "f0       100000.0   1.141296   8.965932 -31.609576  -6.298551   1.153055   \n",
       "f1       100000.0  -4.796579   5.119872 -26.358598  -8.267985  -4.813172   \n",
       "f2       100000.0   2.494541   1.703572  -0.018144   1.000021   2.011479   \n",
       "product  100000.0  68.825000  45.944423   0.000000  26.953261  57.085625   \n",
       "\n",
       "                75%         85%         max  \n",
       "f0         8.621015   11.181926   29.421755  \n",
       "f1        -1.332816    0.528576   18.734063  \n",
       "f2         3.999904    4.993338    5.019721  \n",
       "product  107.813044  134.766305  137.945408  "
      ]
     },
     "execution_count": 20,
     "metadata": {},
     "output_type": "execute_result"
    }
   ],
   "source": [
    "df_1.describe(percentiles = [.25, .75, 0.85]).T"
   ]
  },
  {
   "cell_type": "code",
   "execution_count": 21,
   "metadata": {
    "scrolled": true
   },
   "outputs": [
    {
     "data": {
      "text/html": [
       "<div>\n",
       "<style scoped>\n",
       "    .dataframe tbody tr th:only-of-type {\n",
       "        vertical-align: middle;\n",
       "    }\n",
       "\n",
       "    .dataframe tbody tr th {\n",
       "        vertical-align: top;\n",
       "    }\n",
       "\n",
       "    .dataframe thead th {\n",
       "        text-align: right;\n",
       "    }\n",
       "</style>\n",
       "<table border=\"1\" class=\"dataframe\">\n",
       "  <thead>\n",
       "    <tr style=\"text-align: right;\">\n",
       "      <th></th>\n",
       "      <th>count</th>\n",
       "      <th>mean</th>\n",
       "      <th>std</th>\n",
       "      <th>min</th>\n",
       "      <th>25%</th>\n",
       "      <th>50%</th>\n",
       "      <th>75%</th>\n",
       "      <th>max</th>\n",
       "    </tr>\n",
       "  </thead>\n",
       "  <tbody>\n",
       "    <tr>\n",
       "      <th>f0</th>\n",
       "      <td>100000.0</td>\n",
       "      <td>0.002023</td>\n",
       "      <td>1.732045</td>\n",
       "      <td>-8.760004</td>\n",
       "      <td>-1.162288</td>\n",
       "      <td>0.009424</td>\n",
       "      <td>1.158535</td>\n",
       "      <td>7.238262</td>\n",
       "    </tr>\n",
       "    <tr>\n",
       "      <th>f1</th>\n",
       "      <td>100000.0</td>\n",
       "      <td>-0.002081</td>\n",
       "      <td>1.730417</td>\n",
       "      <td>-7.084020</td>\n",
       "      <td>-1.174820</td>\n",
       "      <td>-0.009482</td>\n",
       "      <td>1.163678</td>\n",
       "      <td>7.844801</td>\n",
       "    </tr>\n",
       "    <tr>\n",
       "      <th>f2</th>\n",
       "      <td>100000.0</td>\n",
       "      <td>2.495128</td>\n",
       "      <td>3.473445</td>\n",
       "      <td>-11.970335</td>\n",
       "      <td>0.130359</td>\n",
       "      <td>2.484236</td>\n",
       "      <td>4.858794</td>\n",
       "      <td>16.739402</td>\n",
       "    </tr>\n",
       "    <tr>\n",
       "      <th>product</th>\n",
       "      <td>100000.0</td>\n",
       "      <td>95.000000</td>\n",
       "      <td>44.749921</td>\n",
       "      <td>0.000000</td>\n",
       "      <td>59.450441</td>\n",
       "      <td>94.925613</td>\n",
       "      <td>130.595027</td>\n",
       "      <td>190.029838</td>\n",
       "    </tr>\n",
       "  </tbody>\n",
       "</table>\n",
       "</div>"
      ],
      "text/plain": [
       "            count       mean        std        min        25%        50%  \\\n",
       "f0       100000.0   0.002023   1.732045  -8.760004  -1.162288   0.009424   \n",
       "f1       100000.0  -0.002081   1.730417  -7.084020  -1.174820  -0.009482   \n",
       "f2       100000.0   2.495128   3.473445 -11.970335   0.130359   2.484236   \n",
       "product  100000.0  95.000000  44.749921   0.000000  59.450441  94.925613   \n",
       "\n",
       "                75%         max  \n",
       "f0         1.158535    7.238262  \n",
       "f1         1.163678    7.844801  \n",
       "f2         4.858794   16.739402  \n",
       "product  130.595027  190.029838  "
      ]
     },
     "execution_count": 21,
     "metadata": {},
     "output_type": "execute_result"
    }
   ],
   "source": [
    "df_2.describe().T"
   ]
  },
  {
   "cell_type": "markdown",
   "metadata": {},
   "source": [
    "Поскольку мы не знаем, что именно за данные соержаться в признаках f0, f1 и f2, описательные статистики для нас малоинформативны. Мы можем лишь сказать, что почти у всех признаков во всех датасетах среднее практически совпадает с медианой, а минимум примерно симметричен максимуму, что говорит о том, что в распределениях этих признаков практически отсутствует смещение. Исключение составляет признак f2 датасета df_1: у него среднее больше медианы на 25%, то есть этот признак имеет смещенное вправо распределение."
   ]
  },
  {
   "cell_type": "markdown",
   "metadata": {},
   "source": [
    "Посмотрим на графики распределений целевой переменной."
   ]
  },
  {
   "cell_type": "code",
   "execution_count": 22,
   "metadata": {
    "scrolled": false
   },
   "outputs": [
    {
     "data": {
      "image/png": "[encoded data removed]",
      "text/plain": [
       "<Figure size 936x504 with 1 Axes>"
      ]
     },
     "metadata": {
      "needs_background": "light"
     },
     "output_type": "display_data"
    }
   ],
   "source": [
    "plt.figure(figsize = (13,7))\n",
    "plt.title(\"Графики распределений объемов запасов в трех регионах\")\n",
    "plt.xlabel(\"тыс.баррелей\")\n",
    "plt.ylabel(\"Плотность распределения\")\n",
    "\n",
    "sns.distplot(df_0['product'], color=\"red\");\n",
    "sns.distplot(df_1['product'], color=\"blue\");\n",
    "sns.distplot(df_2['product'], color=\"green\");\n",
    "\n",
    "#plt.legend();"
   ]
  },
  {
   "cell_type": "markdown",
   "metadata": {},
   "source": [
    "Распределения запасов в трех регионах очень отличается (особенно  выбивается второй регион, df_1). Поэтому целесоообразно строить отдельную модель для каждого региона."
   ]
  },
  {
   "cell_type": "markdown",
   "metadata": {},
   "source": [
    "# 2. Обучение и проверка модели"
   ]
  },
  {
   "cell_type": "markdown",
   "metadata": {},
   "source": [
    "## 2.1.  Проверим признаки на мультиколлинеарность"
   ]
  },
  {
   "cell_type": "markdown",
   "metadata": {},
   "source": [
    "Построим матрицу корреляций признаков и целевой переменной для каждого региона и визуализируем результаты с помощью тепловой карты."
   ]
  },
  {
   "cell_type": "code",
   "execution_count": 23,
   "metadata": {
    "scrolled": true
   },
   "outputs": [
    {
     "data": {
      "image/png": "[encoded data removed]",
      "text/plain": [
       "<Figure size 432x288 with 2 Axes>"
      ]
     },
     "metadata": {
      "needs_background": "light"
     },
     "output_type": "display_data"
    }
   ],
   "source": [
    "#поменять палитру можно с помощью параметра cmap= 'coolwarm'\n",
    "sns.heatmap(df_0.corr().round(2), annot = True, square = True, linewidths=1, linecolor='gray', cmap= 'coolwarm'); "
   ]
  },
  {
   "cell_type": "code",
   "execution_count": 24,
   "metadata": {
    "scrolled": true
   },
   "outputs": [
    {
     "data": {
      "image/png": "[encoded data removed]",
      "text/plain": [
       "<Figure size 432x288 with 2 Axes>"
      ]
     },
     "metadata": {
      "needs_background": "light"
     },
     "output_type": "display_data"
    }
   ],
   "source": [
    "sns.heatmap(df_1.corr().round(2), annot = True, square = True, linewidths=1, linecolor='gray', cmap= 'coolwarm'); "
   ]
  },
  {
   "cell_type": "code",
   "execution_count": 25,
   "metadata": {
    "scrolled": false
   },
   "outputs": [
    {
     "data": {
      "image/png": "[encoded data removed]",
      "text/plain": [
       "<Figure size 432x288 with 2 Axes>"
      ]
     },
     "metadata": {
      "needs_background": "light"
     },
     "output_type": "display_data"
    }
   ],
   "source": [
    "sns.heatmap(df_2.corr().round(2), annot = True, square = True, linewidths=1, linecolor='gray', cmap= 'coolwarm'); "
   ]
  },
  {
   "cell_type": "markdown",
   "metadata": {},
   "source": [
    "Глядя на тепловую карту и значения коэффициентов корреляции сразу видно, что представленные данные - полностью синтетические (в особенности это заметно по второму и третьему регионам) - слишком \"круглые\" значения коэффициентов.<br>\n"
   ]
  },
  {
   "cell_type": "markdown",
   "metadata": {},
   "source": [
    "В датафрейме первого региона (df_0) мы имеем 2 признака, имеющих между собой заметную зависимость:f0 и f1 имеют коэффициент корреляции (-0,44). И хотя до \"мультиколлинеарности\" этих признаков еще далеко (обычно признаки считаются мультиколлинеарными при коэффициенте корреляции по модулю выше 0,8 - 0,9), все же лучше подстраховаться и для данного данных этого региона взять модель линейной регрессии с встроенной регуляризацей весов, например, Lasso() или Ridge(). Для данных остальных регионов можно брать обычную линейную регрессию."
   ]
  },
  {
   "cell_type": "markdown",
   "metadata": {},
   "source": [
    "## 2.2. Разделим данные на выборки, стандартизируем их"
   ]
  },
  {
   "cell_type": "markdown",
   "metadata": {},
   "source": [
    "Выделим признаки и целевую переменную для каждого региона."
   ]
  },
  {
   "cell_type": "code",
   "execution_count": 26,
   "metadata": {},
   "outputs": [],
   "source": [
    "target_0 = df_0['product']\n",
    "features_0 = df_0.drop('product', axis=1)\n",
    "\n",
    "target_1 = df_1['product']\n",
    "features_1 = df_1.drop('product', axis=1)\n",
    "\n",
    "target_2 = df_2['product']\n",
    "features_2 = df_2.drop('product', axis=1)"
   ]
  },
  {
   "cell_type": "markdown",
   "metadata": {},
   "source": [
    "Поделим наш датасет на обучающую, валидационную и тестовую выборки в соотношении 60% / 20% / 20%. <br>\n",
    "\n",
    "Зададим для удобства изменения некоторые гиперпараметры."
   ]
  },
  {
   "cell_type": "code",
   "execution_count": 27,
   "metadata": {},
   "outputs": [],
   "source": [
    "RS = 12345 # random_state"
   ]
  },
  {
   "cell_type": "code",
   "execution_count": 28,
   "metadata": {},
   "outputs": [],
   "source": [
    "#поделим выборки на обучющую и валидационную  \n",
    "features_train_0, features_valid_0, target_train_0, target_valid_0 = train_test_split(\n",
    "    features_0, target_0, test_size=0.25, random_state = RS)\n",
    "\n",
    "features_train_1, features_valid_1, target_train_1, target_valid_1 = train_test_split(\n",
    "    features_1, target_1, test_size=0.25, random_state = RS)\n",
    "\n",
    "features_train_2, features_valid_2, target_train_2, target_valid_2 = train_test_split(\n",
    "    features_2, target_2, test_size=0.25, random_state = RS)"
   ]
  },
  {
   "cell_type": "code",
   "execution_count": 29,
   "metadata": {},
   "outputs": [
    {
     "data": {
      "text/html": [
       "<div>\n",
       "<style scoped>\n",
       "    .dataframe tbody tr th:only-of-type {\n",
       "        vertical-align: middle;\n",
       "    }\n",
       "\n",
       "    .dataframe tbody tr th {\n",
       "        vertical-align: top;\n",
       "    }\n",
       "\n",
       "    .dataframe thead th {\n",
       "        text-align: right;\n",
       "    }\n",
       "</style>\n",
       "<table border=\"1\" class=\"dataframe\">\n",
       "  <thead>\n",
       "    <tr style=\"text-align: right;\">\n",
       "      <th></th>\n",
       "      <th>f0</th>\n",
       "      <th>f1</th>\n",
       "      <th>f2</th>\n",
       "    </tr>\n",
       "  </thead>\n",
       "  <tbody>\n",
       "    <tr>\n",
       "      <th>27212</th>\n",
       "      <td>0.022450</td>\n",
       "      <td>0.951034</td>\n",
       "      <td>2.197333</td>\n",
       "    </tr>\n",
       "    <tr>\n",
       "      <th>7866</th>\n",
       "      <td>1.766731</td>\n",
       "      <td>0.007835</td>\n",
       "      <td>6.436602</td>\n",
       "    </tr>\n",
       "    <tr>\n",
       "      <th>62041</th>\n",
       "      <td>0.724514</td>\n",
       "      <td>0.666063</td>\n",
       "      <td>1.840177</td>\n",
       "    </tr>\n",
       "  </tbody>\n",
       "</table>\n",
       "</div>"
      ],
      "text/plain": [
       "             f0        f1        f2\n",
       "27212  0.022450  0.951034  2.197333\n",
       "7866   1.766731  0.007835  6.436602\n",
       "62041  0.724514  0.666063  1.840177"
      ]
     },
     "execution_count": 29,
     "metadata": {},
     "output_type": "execute_result"
    }
   ],
   "source": [
    "features_train_0.head(3)"
   ]
  },
  {
   "cell_type": "markdown",
   "metadata": {},
   "source": [
    "Проверим размеры получившихся выборок по региону № 0:"
   ]
  },
  {
   "cell_type": "code",
   "execution_count": 30,
   "metadata": {
    "scrolled": false
   },
   "outputs": [
    {
     "name": "stdout",
     "output_type": "stream",
     "text": [
      "(75000, 3)\n",
      "(25000, 3)\n",
      "(75000,)\n",
      "(25000,)\n"
     ]
    }
   ],
   "source": [
    "print(features_train_0.shape)\n",
    "print(features_valid_0.shape)\n",
    "print(target_train_0.shape)\n",
    "print(target_valid_0.shape)"
   ]
  },
  {
   "cell_type": "markdown",
   "metadata": {},
   "source": [
    "Соотношение выборок верное."
   ]
  },
  {
   "cell_type": "markdown",
   "metadata": {},
   "source": [
    "Проведем стандартизацию признаков. Занесем названия численных признаков, подлежащих стандартизации (в данном случае это все три основных признака) в список. Это поможет нам после стандартизации получить признаки не в виде numpy darray, а в виде датафрейма, что удобнее для нас."
   ]
  },
  {
   "cell_type": "code",
   "execution_count": 31,
   "metadata": {},
   "outputs": [],
   "source": [
    "numeric = ['f0', 'f1', 'f2']"
   ]
  },
  {
   "cell_type": "code",
   "execution_count": 32,
   "metadata": {
    "scrolled": false
   },
   "outputs": [],
   "source": [
    "scaler = StandardScaler()\n",
    "\n",
    "scaler.fit(features_train_0[numeric])\n",
    "features_train_0[numeric] = scaler.transform(features_train_0[numeric])\n",
    "features_valid_0[numeric] = scaler.transform(features_valid_0[numeric])\n",
    "\n",
    "scaler.fit(features_train_1[numeric])\n",
    "features_train_1[numeric] = scaler.transform(features_train_1[numeric])\n",
    "features_valid_1[numeric] = scaler.transform(features_valid_1[numeric])\n",
    "\n",
    "scaler.fit(features_train_2[numeric])\n",
    "features_train_2[numeric] = scaler.transform(features_train_2[numeric])\n",
    "features_valid_2[numeric] = scaler.transform(features_valid_2[numeric])"
   ]
  },
  {
   "cell_type": "code",
   "execution_count": 33,
   "metadata": {
    "scrolled": false
   },
   "outputs": [
    {
     "data": {
      "text/html": [
       "<div>\n",
       "<style scoped>\n",
       "    .dataframe tbody tr th:only-of-type {\n",
       "        vertical-align: middle;\n",
       "    }\n",
       "\n",
       "    .dataframe tbody tr th {\n",
       "        vertical-align: top;\n",
       "    }\n",
       "\n",
       "    .dataframe thead th {\n",
       "        text-align: right;\n",
       "    }\n",
       "</style>\n",
       "<table border=\"1\" class=\"dataframe\">\n",
       "  <thead>\n",
       "    <tr style=\"text-align: right;\">\n",
       "      <th></th>\n",
       "      <th>f0</th>\n",
       "      <th>f1</th>\n",
       "      <th>f2</th>\n",
       "    </tr>\n",
       "  </thead>\n",
       "  <tbody>\n",
       "    <tr>\n",
       "      <th>27212</th>\n",
       "      <td>-0.544828</td>\n",
       "      <td>1.390264</td>\n",
       "      <td>-0.094959</td>\n",
       "    </tr>\n",
       "    <tr>\n",
       "      <th>7866</th>\n",
       "      <td>1.455912</td>\n",
       "      <td>-0.480422</td>\n",
       "      <td>1.209567</td>\n",
       "    </tr>\n",
       "    <tr>\n",
       "      <th>62041</th>\n",
       "      <td>0.260460</td>\n",
       "      <td>0.825069</td>\n",
       "      <td>-0.204865</td>\n",
       "    </tr>\n",
       "  </tbody>\n",
       "</table>\n",
       "</div>"
      ],
      "text/plain": [
       "             f0        f1        f2\n",
       "27212 -0.544828  1.390264 -0.094959\n",
       "7866   1.455912 -0.480422  1.209567\n",
       "62041  0.260460  0.825069 -0.204865"
      ]
     },
     "execution_count": 33,
     "metadata": {},
     "output_type": "execute_result"
    }
   ],
   "source": [
    "features_train_0.head(3)"
   ]
  },
  {
   "cell_type": "code",
   "execution_count": 34,
   "metadata": {
    "scrolled": true
   },
   "outputs": [
    {
     "data": {
      "text/plain": [
       "27212    147.370612\n",
       "7866     147.630053\n",
       "62041     77.696728\n",
       "Name: product, dtype: float64"
      ]
     },
     "execution_count": 34,
     "metadata": {},
     "output_type": "execute_result"
    }
   ],
   "source": [
    "target_train_0.head(3)"
   ]
  },
  {
   "cell_type": "markdown",
   "metadata": {},
   "source": [
    "Cоздадим список, в котором будем фиксировать обозначение модели, результаты метрик, средний запас сырья по предсказанию модели."
   ]
  },
  {
   "cell_type": "code",
   "execution_count": 35,
   "metadata": {},
   "outputs": [],
   "source": [
    "results = []"
   ]
  },
  {
   "cell_type": "markdown",
   "metadata": {},
   "source": [
    "## 2.3.0. Расчет для региона № 0"
   ]
  },
  {
   "cell_type": "markdown",
   "metadata": {},
   "source": [
    "### Построим и обучим модель линейной регрессии, сделаем предсказания, выведем средние значения и метрики. Построим  baseline и сравним с ней результаты "
   ]
  },
  {
   "cell_type": "code",
   "execution_count": 36,
   "metadata": {},
   "outputs": [
    {
     "data": {
      "text/plain": [
       "LinearRegression()"
      ]
     },
     "execution_count": 36,
     "metadata": {},
     "output_type": "execute_result"
    }
   ],
   "source": [
    "LinearRegression()"
   ]
  },
  {
   "cell_type": "code",
   "execution_count": 37,
   "metadata": {
    "scrolled": true
   },
   "outputs": [
    {
     "name": "stdout",
     "output_type": "stream",
     "text": [
      "РЕГИОН № 0.    Linear Regression\n",
      "Средний запас предсказанного сырья в регионе 0: 92.59\n",
      "Средний реальный запас сырья в регионе 0: 92.08\n",
      "RMSE модели = 37.5794217\n",
      "МАЕ модели = 30.9196008\n",
      "R2-score модели = 0.2799432\n",
      "\n",
      "Константная модель (Mean)\n",
      "RMSE конст. модели = 44.29\n",
      "МАЕ конст. модели = 37.6774351\n",
      "R2-score конст. модели = -0.0001610\n"
     ]
    }
   ],
   "source": [
    "lr_0 = LinearRegression()\n",
    "lr_0.fit(features_train_0, target_train_0)\n",
    "predicted_valid_0 = lr_0.predict(features_valid_0)\n",
    "\n",
    "mse = mean_squared_error(target_valid_0, predicted_valid_0)\n",
    "mae = mean_absolute_error(target_valid_0, predicted_valid_0)\n",
    "r2 = r2_score(target_valid_0, predicted_valid_0)\n",
    "\n",
    "print(\"РЕГИОН № 0.    Linear Regression\")\n",
    "print('Средний запас предсказанного сырья в регионе 0: {:.2f}'.format(predicted_valid_0.mean()))\n",
    "print('Средний реальный запас сырья в регионе 0: {:.2f}'.format(target_valid_0.mean()))\n",
    "print(\"RMSE модели = {:.7f}\".format(mse ** 0.5)) # np.sqrt(mse)\n",
    "print(\"МАЕ модели = {:.7f}\".format(mae))\n",
    "print(\"R2-score модели = {:.7f}\".format(r2))\n",
    "\n",
    "#Сравним нашу модель со константной моделью, предсказыыающей среднее значение трейна (можно взять и медиану)\n",
    "predicted_valid_const_0 = pd.Series(target_train_0.mean(), index = target_valid_0.index)\n",
    "mse_const = mean_squared_error(target_valid_0, predicted_valid_const_0)\n",
    "mae_const = mean_absolute_error(target_valid_0, predicted_valid_const_0)\n",
    "r2_const = r2_score(target_valid_0, predicted_valid_const_0)\n",
    "print()\n",
    "print(\"Константная модель (Mean)\")\n",
    "print(\"RMSE конст. модели = {:.2f}\".format(mse_const ** 0.5))\n",
    "print(\"МАЕ конст. модели = {:.7f}\".format(mae_const))\n",
    "print(\"R2-score конст. модели = {:.7f}\".format(r2_const))"
   ]
  },
  {
   "cell_type": "markdown",
   "metadata": {},
   "source": [
    "Наша модель предсказывает лучше константной: корень из средне-квадратичного отклонения и среднее абсолютное отклонение  меньше на 7 тыс.баррелей, чем у константной модели, и коэффициент детерминации также гораздо лучше (0.28 против 0)."
   ]
  },
  {
   "cell_type": "markdown",
   "metadata": {},
   "source": [
    "До этого мы построили базовую модель вручную. Так же для определения baseline можно использовать  DummyRegressor() для задач регрессии (и DummyClassifier  для задач классификации)."
   ]
  },
  {
   "cell_type": "code",
   "execution_count": 38,
   "metadata": {
    "scrolled": false
   },
   "outputs": [
    {
     "data": {
      "text/plain": [
       "DummyRegressor()"
      ]
     },
     "execution_count": 38,
     "metadata": {},
     "output_type": "execute_result"
    }
   ],
   "source": [
    "DummyRegressor()"
   ]
  },
  {
   "cell_type": "code",
   "execution_count": 39,
   "metadata": {
    "scrolled": true
   },
   "outputs": [
    {
     "name": "stdout",
     "output_type": "stream",
     "text": [
      "[92.64046775 92.64046775 92.64046775 ... 92.64046775 92.64046775\n",
      " 92.64046775]\n",
      "Коэффициент детерминации R2 базовой модели, предсказывающей среднее обучающей выборки:       0.0\n"
     ]
    }
   ],
   "source": [
    "# возьмем стратегию среднего (можем взять также медиану, квантиль или любую константу)\n",
    "dummy_regr = DummyRegressor(strategy=\"mean\")\n",
    "\n",
    "dummy_regr.fit(features_train_0, target_train_0)\n",
    "\n",
    "print(dummy_regr.predict(features_train_0))\n",
    "\n",
    "print(f'Коэффициент детерминации R2 базовой модели, предсказывающей среднее обучающей выборки: \\\n",
    "      {dummy_regr.score(features_train_0, target_train_0)}')"
   ]
  },
  {
   "cell_type": "markdown",
   "metadata": {},
   "source": [
    "Получили R2 равный нулю, что естественно вытекает из формулы расчета R2.\n"
   ]
  },
  {
   "cell_type": "markdown",
   "metadata": {},
   "source": [
    "### Построим модель Ridge"
   ]
  },
  {
   "cell_type": "markdown",
   "metadata": {},
   "source": [
    "Проверим, как работает модель линейной регресcии с встроенной L2-регуляризацией признаков (Ridge)."
   ]
  },
  {
   "cell_type": "code",
   "execution_count": 40,
   "metadata": {
    "scrolled": true
   },
   "outputs": [
    {
     "data": {
      "text/plain": [
       "Ridge()"
      ]
     },
     "execution_count": 40,
     "metadata": {},
     "output_type": "execute_result"
    }
   ],
   "source": [
    "Ridge()"
   ]
  },
  {
   "cell_type": "code",
   "execution_count": 41,
   "metadata": {},
   "outputs": [
    {
     "name": "stdout",
     "output_type": "stream",
     "text": [
      "РЕГИОН № 0.   Ridge\n",
      "Средний запас предсказанного сырья в регионе 0: 92.59\n",
      "Средний реальный запас сырья в регионе 0: 92.08\n",
      "RMSE = 37.58\n",
      "\n",
      "Разница между моделями Linear Regression и Ridge:\n",
      "Дельта в RMSE = 0.01\n"
     ]
    }
   ],
   "source": [
    "ridge_0 = Ridge(random_state = RS)\n",
    "ridge_0.fit(features_train_0, target_train_0)\n",
    "predicted_valid_0_ridge = ridge_0.predict(features_valid_0)\n",
    "mse_ridge = mean_squared_error(target_valid_0, predicted_valid_0_ridge)\n",
    "\n",
    "print(\"РЕГИОН № 0.   Ridge\")\n",
    "print('Средний запас предсказанного сырья в регионе 0: {:.2f}'.format(predicted_valid_0_ridge.mean()))\n",
    "print('Средний реальный запас сырья в регионе 0: {:.2f}'.format(target_valid_0.mean()))\n",
    "print(\"RMSE = {:.2f}\".format(mse_ridge ** 0.5))\n",
    "print()\n",
    "print('Разница между моделями Linear Regression и Ridge:')\n",
    "print('Дельта в RMSE = {:.2f}'.format((mse_ridge - mse) ** 0.5))"
   ]
  },
  {
   "cell_type": "markdown",
   "metadata": {},
   "source": [
    "Получили, что модель Ridge предсказывает также, как и обычная линейная регрессия (RMSE практически одинаков). Поэтому оставим и для этого (нулевого) региона  модель линейной регрессии (для остальных двух регионов Ridge не нужен, так как признаки так совсем не мультиколлинеарны)."
   ]
  },
  {
   "cell_type": "markdown",
   "metadata": {},
   "source": [
    "### Сохраним предсказания и правильные ответы на валидационной выборке"
   ]
  },
  {
   "cell_type": "markdown",
   "metadata": {},
   "source": [
    "Сохраняем наши предсказания не в виде массива array, а  в виде Series с индексами как у target_valid, чтобы было соответствие индексов предсказаний и реальных значений. Или даже лучше сразу сохраним их в DataFrame, куда добавим реальные значения"
   ]
  },
  {
   "cell_type": "code",
   "execution_count": 42,
   "metadata": {
    "scrolled": true
   },
   "outputs": [
    {
     "data": {
      "text/plain": [
       "array([ 95.89495185,  77.57258261,  77.89263965, ...,  61.50983303,\n",
       "       118.18039721, 118.16939229])"
      ]
     },
     "execution_count": 42,
     "metadata": {},
     "output_type": "execute_result"
    }
   ],
   "source": [
    "predicted_valid_0"
   ]
  },
  {
   "cell_type": "code",
   "execution_count": 43,
   "metadata": {},
   "outputs": [],
   "source": [
    "#predictions_0 = pd.Series(predicted_valid_0, index = target_valid_0.index)\n",
    "#predictions_0"
   ]
  },
  {
   "cell_type": "code",
   "execution_count": 44,
   "metadata": {
    "scrolled": true
   },
   "outputs": [
    {
     "data": {
      "text/html": [
       "<div>\n",
       "<style scoped>\n",
       "    .dataframe tbody tr th:only-of-type {\n",
       "        vertical-align: middle;\n",
       "    }\n",
       "\n",
       "    .dataframe tbody tr th {\n",
       "        vertical-align: top;\n",
       "    }\n",
       "\n",
       "    .dataframe thead th {\n",
       "        text-align: right;\n",
       "    }\n",
       "</style>\n",
       "<table border=\"1\" class=\"dataframe\">\n",
       "  <thead>\n",
       "    <tr style=\"text-align: right;\">\n",
       "      <th></th>\n",
       "      <th>predicted</th>\n",
       "    </tr>\n",
       "  </thead>\n",
       "  <tbody>\n",
       "    <tr>\n",
       "      <th>71751</th>\n",
       "      <td>95.894952</td>\n",
       "    </tr>\n",
       "    <tr>\n",
       "      <th>80493</th>\n",
       "      <td>77.572583</td>\n",
       "    </tr>\n",
       "    <tr>\n",
       "      <th>2655</th>\n",
       "      <td>77.892640</td>\n",
       "    </tr>\n",
       "    <tr>\n",
       "      <th>53233</th>\n",
       "      <td>90.175134</td>\n",
       "    </tr>\n",
       "    <tr>\n",
       "      <th>91141</th>\n",
       "      <td>70.510088</td>\n",
       "    </tr>\n",
       "  </tbody>\n",
       "</table>\n",
       "</div>"
      ],
      "text/plain": [
       "       predicted\n",
       "71751  95.894952\n",
       "80493  77.572583\n",
       "2655   77.892640\n",
       "53233  90.175134\n",
       "91141  70.510088"
      ]
     },
     "execution_count": 44,
     "metadata": {},
     "output_type": "execute_result"
    }
   ],
   "source": [
    "region_0 = pd.DataFrame(predicted_valid_0, index = target_valid_0.index, columns = ['predicted'])\n",
    "region_0.head()"
   ]
  },
  {
   "cell_type": "markdown",
   "metadata": {},
   "source": [
    "Проверим, что индексы получились у 'target_valid_0' одинаковыми с 'predicted_valid_0' :"
   ]
  },
  {
   "cell_type": "code",
   "execution_count": 45,
   "metadata": {},
   "outputs": [
    {
     "data": {
      "text/html": [
       "<div>\n",
       "<style scoped>\n",
       "    .dataframe tbody tr th:only-of-type {\n",
       "        vertical-align: middle;\n",
       "    }\n",
       "\n",
       "    .dataframe tbody tr th {\n",
       "        vertical-align: top;\n",
       "    }\n",
       "\n",
       "    .dataframe thead th {\n",
       "        text-align: right;\n",
       "    }\n",
       "</style>\n",
       "<table border=\"1\" class=\"dataframe\">\n",
       "  <thead>\n",
       "    <tr style=\"text-align: right;\">\n",
       "      <th></th>\n",
       "      <th>product</th>\n",
       "    </tr>\n",
       "  </thead>\n",
       "  <tbody>\n",
       "    <tr>\n",
       "      <th>71751</th>\n",
       "      <td>10.038645</td>\n",
       "    </tr>\n",
       "    <tr>\n",
       "      <th>80493</th>\n",
       "      <td>114.551489</td>\n",
       "    </tr>\n",
       "    <tr>\n",
       "      <th>2655</th>\n",
       "      <td>132.603635</td>\n",
       "    </tr>\n",
       "    <tr>\n",
       "      <th>53233</th>\n",
       "      <td>169.072125</td>\n",
       "    </tr>\n",
       "    <tr>\n",
       "      <th>91141</th>\n",
       "      <td>122.325180</td>\n",
       "    </tr>\n",
       "  </tbody>\n",
       "</table>\n",
       "</div>"
      ],
      "text/plain": [
       "          product\n",
       "71751   10.038645\n",
       "80493  114.551489\n",
       "2655   132.603635\n",
       "53233  169.072125\n",
       "91141  122.325180"
      ]
     },
     "execution_count": 45,
     "metadata": {},
     "output_type": "execute_result"
    }
   ],
   "source": [
    "pd.DataFrame(target_valid_0).head()"
   ]
  },
  {
   "cell_type": "markdown",
   "metadata": {},
   "source": [
    "Добавляем в результат к предсказанным значениям также и реальные значения запасов, и также номер региона."
   ]
  },
  {
   "cell_type": "code",
   "execution_count": 46,
   "metadata": {
    "scrolled": true
   },
   "outputs": [
    {
     "data": {
      "text/html": [
       "<div>\n",
       "<style scoped>\n",
       "    .dataframe tbody tr th:only-of-type {\n",
       "        vertical-align: middle;\n",
       "    }\n",
       "\n",
       "    .dataframe tbody tr th {\n",
       "        vertical-align: top;\n",
       "    }\n",
       "\n",
       "    .dataframe thead th {\n",
       "        text-align: right;\n",
       "    }\n",
       "</style>\n",
       "<table border=\"1\" class=\"dataframe\">\n",
       "  <thead>\n",
       "    <tr style=\"text-align: right;\">\n",
       "      <th></th>\n",
       "      <th>predicted</th>\n",
       "      <th>product</th>\n",
       "      <th>region</th>\n",
       "    </tr>\n",
       "  </thead>\n",
       "  <tbody>\n",
       "    <tr>\n",
       "      <th>71751</th>\n",
       "      <td>95.894952</td>\n",
       "      <td>10.038645</td>\n",
       "      <td>0</td>\n",
       "    </tr>\n",
       "    <tr>\n",
       "      <th>80493</th>\n",
       "      <td>77.572583</td>\n",
       "      <td>114.551489</td>\n",
       "      <td>0</td>\n",
       "    </tr>\n",
       "    <tr>\n",
       "      <th>2655</th>\n",
       "      <td>77.892640</td>\n",
       "      <td>132.603635</td>\n",
       "      <td>0</td>\n",
       "    </tr>\n",
       "    <tr>\n",
       "      <th>53233</th>\n",
       "      <td>90.175134</td>\n",
       "      <td>169.072125</td>\n",
       "      <td>0</td>\n",
       "    </tr>\n",
       "    <tr>\n",
       "      <th>91141</th>\n",
       "      <td>70.510088</td>\n",
       "      <td>122.325180</td>\n",
       "      <td>0</td>\n",
       "    </tr>\n",
       "  </tbody>\n",
       "</table>\n",
       "</div>"
      ],
      "text/plain": [
       "       predicted     product  region\n",
       "71751  95.894952   10.038645       0\n",
       "80493  77.572583  114.551489       0\n",
       "2655   77.892640  132.603635       0\n",
       "53233  90.175134  169.072125       0\n",
       "91141  70.510088  122.325180       0"
      ]
     },
     "execution_count": 46,
     "metadata": {},
     "output_type": "execute_result"
    }
   ],
   "source": [
    "region_0['product'] = target_valid_0\n",
    "region_0['region'] = 0\n",
    "region_0.head()"
   ]
  },
  {
   "cell_type": "markdown",
   "metadata": {},
   "source": [
    "Визуализируем график с сотами, чтобы посмотреть пересечения между предсказаниями и правильными ответами."
   ]
  },
  {
   "cell_type": "code",
   "execution_count": 47,
   "metadata": {},
   "outputs": [
    {
     "data": {
      "image/png": "[encoded data removed]",
      "text/plain": [
       "<Figure size 720x504 with 2 Axes>"
      ]
     },
     "metadata": {
      "needs_background": "light"
     },
     "output_type": "display_data"
    }
   ],
   "source": [
    "region_0.plot(x = 'predicted', y = 'product', kind='hexbin', gridsize=20, figsize=(10,7), sharex=False, grid=True);"
   ]
  },
  {
   "cell_type": "markdown",
   "metadata": {},
   "source": [
    "Начнем заполнять список с результатами моделирования. Добавим результаты по региону №0."
   ]
  },
  {
   "cell_type": "code",
   "execution_count": 48,
   "metadata": {
    "scrolled": true
   },
   "outputs": [
    {
     "data": {
      "text/plain": [
       "[['lr_0',\n",
       "  0.27994321524487775,\n",
       "  37.57942171508131,\n",
       "  30.919600777151313,\n",
       "  92.59256778438008,\n",
       "  LinearRegression()]]"
      ]
     },
     "execution_count": 48,
     "metadata": {},
     "output_type": "execute_result"
    }
   ],
   "source": [
    "# здесь заполняем списком, но можно заполнять и кортежами, как будет далее, в регионе 1 и 2. \n",
    "#DF потом можно будет создать и из списков , и из кортежей, причем можно смешивать, как сделано здесь\n",
    "results.append(['lr_0', r2, mse ** 0.5, mae,  region_0['predicted'].mean(), lr_0])\n",
    "results"
   ]
  },
  {
   "cell_type": "markdown",
   "metadata": {},
   "source": [
    "## 2.3.1.  Расчет для региона № 1"
   ]
  },
  {
   "cell_type": "markdown",
   "metadata": {},
   "source": [
    "### Проверим размеры получившихся выборок по региону № 1:"
   ]
  },
  {
   "cell_type": "code",
   "execution_count": 49,
   "metadata": {
    "scrolled": false
   },
   "outputs": [
    {
     "name": "stdout",
     "output_type": "stream",
     "text": [
      "(75000, 3)\n",
      "(25000, 3)\n",
      "(75000,)\n",
      "(25000,)\n"
     ]
    }
   ],
   "source": [
    "print(features_train_1.shape)\n",
    "print(features_valid_1.shape)\n",
    "print(target_train_1.shape)\n",
    "print(target_valid_1.shape)"
   ]
  },
  {
   "cell_type": "code",
   "execution_count": 50,
   "metadata": {
    "scrolled": false
   },
   "outputs": [
    {
     "data": {
      "text/html": [
       "<div>\n",
       "<style scoped>\n",
       "    .dataframe tbody tr th:only-of-type {\n",
       "        vertical-align: middle;\n",
       "    }\n",
       "\n",
       "    .dataframe tbody tr th {\n",
       "        vertical-align: top;\n",
       "    }\n",
       "\n",
       "    .dataframe thead th {\n",
       "        text-align: right;\n",
       "    }\n",
       "</style>\n",
       "<table border=\"1\" class=\"dataframe\">\n",
       "  <thead>\n",
       "    <tr style=\"text-align: right;\">\n",
       "      <th></th>\n",
       "      <th>f0</th>\n",
       "      <th>f1</th>\n",
       "      <th>f2</th>\n",
       "    </tr>\n",
       "  </thead>\n",
       "  <tbody>\n",
       "    <tr>\n",
       "      <th>27212</th>\n",
       "      <td>-0.850855</td>\n",
       "      <td>0.624428</td>\n",
       "      <td>0.296943</td>\n",
       "    </tr>\n",
       "    <tr>\n",
       "      <th>7866</th>\n",
       "      <td>1.971935</td>\n",
       "      <td>1.832275</td>\n",
       "      <td>0.294333</td>\n",
       "    </tr>\n",
       "    <tr>\n",
       "      <th>62041</th>\n",
       "      <td>1.079305</td>\n",
       "      <td>0.170127</td>\n",
       "      <td>-0.296418</td>\n",
       "    </tr>\n",
       "  </tbody>\n",
       "</table>\n",
       "</div>"
      ],
      "text/plain": [
       "             f0        f1        f2\n",
       "27212 -0.850855  0.624428  0.296943\n",
       "7866   1.971935  1.832275  0.294333\n",
       "62041  1.079305  0.170127 -0.296418"
      ]
     },
     "execution_count": 50,
     "metadata": {},
     "output_type": "execute_result"
    }
   ],
   "source": [
    "features_train_1.head(3)"
   ]
  },
  {
   "cell_type": "code",
   "execution_count": 51,
   "metadata": {
    "scrolled": true
   },
   "outputs": [
    {
     "data": {
      "text/plain": [
       "27212    84.038886\n",
       "7866     80.859783\n",
       "62041    53.906522\n",
       "Name: product, dtype: float64"
      ]
     },
     "execution_count": 51,
     "metadata": {},
     "output_type": "execute_result"
    }
   ],
   "source": [
    "target_train_1.head(3)"
   ]
  },
  {
   "cell_type": "markdown",
   "metadata": {},
   "source": [
    "Стандартизировали признаки мы ранее."
   ]
  },
  {
   "cell_type": "markdown",
   "metadata": {},
   "source": [
    "### Построим и обучим модель линейной регрессии, сделаем предсказания, выведем средние значения и метрики. Построим  baseline и сравним с ней результаты "
   ]
  },
  {
   "cell_type": "code",
   "execution_count": 52,
   "metadata": {
    "scrolled": true
   },
   "outputs": [
    {
     "name": "stdout",
     "output_type": "stream",
     "text": [
      "РЕГИОН № 1.   Linear Regression\n",
      "Средний запас предсказанного сырья в регионе №1: 68.73\n",
      "Средний реальный запас сырья в регионе №1: 68.72\n",
      "RMSE модели = 0.8930993\n",
      "МАЕ модели = 0.7187662\n",
      "R2-score модели = 0.9996234\n",
      "\n",
      "Константная модель (Mean)\n",
      "RMSE конст. модели = 46.02\n",
      "МАЕ конст. модели = 40.3700266\n",
      "R2-score конст. модели = -0.0000087\n"
     ]
    }
   ],
   "source": [
    "lr_1 = LinearRegression()\n",
    "lr_1.fit(features_train_1, target_train_1)\n",
    "predicted_valid_1 = lr_1.predict(features_valid_1)\n",
    "\n",
    "mse = mean_squared_error(target_valid_1, predicted_valid_1)\n",
    "mae = mean_absolute_error(target_valid_1, predicted_valid_1)\n",
    "r2 = r2_score(target_valid_1, predicted_valid_1)\n",
    "\n",
    "print(\"РЕГИОН № 1.   Linear Regression\")\n",
    "print('Средний запас предсказанного сырья в регионе №1: {:.2f}'.format(predicted_valid_1.mean()))\n",
    "print('Средний реальный запас сырья в регионе №1: {:.2f}'.format(target_valid_1.mean()))\n",
    "print(\"RMSE модели = {:.7f}\".format(mse ** 0.5)) # np.sqrt(mse)\n",
    "print(\"МАЕ модели = {:.7f}\".format(mae))\n",
    "print(\"R2-score модели = {:.7f}\".format(r2))\n",
    "\n",
    "#Сравним нашу модель со константной моделью, предсказыыающей среднее значение трейна (можно взять и медиану)\n",
    "predicted_valid_const_1 = pd.Series(target_train_1.mean(), index = target_valid_1.index)\n",
    "mse_const = mean_squared_error(target_valid_1, predicted_valid_const_1)\n",
    "mae_const = mean_absolute_error(target_valid_1, predicted_valid_const_1)\n",
    "r2_const = r2_score(target_valid_1, predicted_valid_const_1)\n",
    "print()\n",
    "print(\"Константная модель (Mean)\")\n",
    "print(\"RMSE конст. модели = {:.2f}\".format(mse_const ** 0.5))\n",
    "print(\"МАЕ конст. модели = {:.7f}\".format(mae_const))\n",
    "print(\"R2-score конст. модели = {:.7f}\".format(r2_const))"
   ]
  },
  {
   "cell_type": "markdown",
   "metadata": {},
   "source": [
    "Наша модель бесспорно предсказывает лучше константной: корень из средне-квадратичного отклонения и среднее абсолютное отклонение  очень малы (менее 1 тыс.баррелей) и коэффициент детерминации практически единица (против нуля у baseline). Столь хорошие показатели модели даже вызывают некоторые подозрения."
   ]
  },
  {
   "cell_type": "markdown",
   "metadata": {},
   "source": [
    "Здесь также стоит отметить, что ранее мы построили тепловую карту, и для данного региона замечена 100%-ная взаимосвязь признака 'f2' и целевой переменной (у них коэффициент корреляции Пирсона = 1). То есть по признаку 'f2' однозначно можно предсказать объем запасов скважины. В принципе, для данной конкретной модели (по данному региону) мы можем даже удалить остальные признаки ('f0' и 'f1'), которые создают шумы, и метрики должны еще больше улучшиться."
   ]
  },
  {
   "cell_type": "markdown",
   "metadata": {},
   "source": [
    "### Сохраним предсказания и правильные ответы на валидационной выборке"
   ]
  },
  {
   "cell_type": "markdown",
   "metadata": {},
   "source": [
    "Сохраняем наши предсказания по региону № 1  в DataFrame, куда добавим реальные значения запасов и номер региона."
   ]
  },
  {
   "cell_type": "code",
   "execution_count": 53,
   "metadata": {
    "scrolled": true
   },
   "outputs": [
    {
     "data": {
      "text/plain": [
       "array([ 82.66331365,  54.43178616,  29.74875995, ..., 137.87934053,\n",
       "        83.76196568,  53.95846638])"
      ]
     },
     "execution_count": 53,
     "metadata": {},
     "output_type": "execute_result"
    }
   ],
   "source": [
    "predicted_valid_1"
   ]
  },
  {
   "cell_type": "code",
   "execution_count": 54,
   "metadata": {
    "scrolled": true
   },
   "outputs": [
    {
     "data": {
      "text/html": [
       "<div>\n",
       "<style scoped>\n",
       "    .dataframe tbody tr th:only-of-type {\n",
       "        vertical-align: middle;\n",
       "    }\n",
       "\n",
       "    .dataframe tbody tr th {\n",
       "        vertical-align: top;\n",
       "    }\n",
       "\n",
       "    .dataframe thead th {\n",
       "        text-align: right;\n",
       "    }\n",
       "</style>\n",
       "<table border=\"1\" class=\"dataframe\">\n",
       "  <thead>\n",
       "    <tr style=\"text-align: right;\">\n",
       "      <th></th>\n",
       "      <th>predicted</th>\n",
       "      <th>product</th>\n",
       "      <th>region</th>\n",
       "    </tr>\n",
       "  </thead>\n",
       "  <tbody>\n",
       "    <tr>\n",
       "      <th>71751</th>\n",
       "      <td>82.663314</td>\n",
       "      <td>80.859783</td>\n",
       "      <td>1</td>\n",
       "    </tr>\n",
       "    <tr>\n",
       "      <th>80493</th>\n",
       "      <td>54.431786</td>\n",
       "      <td>53.906522</td>\n",
       "      <td>1</td>\n",
       "    </tr>\n",
       "    <tr>\n",
       "      <th>2655</th>\n",
       "      <td>29.748760</td>\n",
       "      <td>30.132364</td>\n",
       "      <td>1</td>\n",
       "    </tr>\n",
       "    <tr>\n",
       "      <th>53233</th>\n",
       "      <td>53.552133</td>\n",
       "      <td>53.906522</td>\n",
       "      <td>1</td>\n",
       "    </tr>\n",
       "    <tr>\n",
       "      <th>91141</th>\n",
       "      <td>1.243856</td>\n",
       "      <td>0.000000</td>\n",
       "      <td>1</td>\n",
       "    </tr>\n",
       "  </tbody>\n",
       "</table>\n",
       "</div>"
      ],
      "text/plain": [
       "       predicted    product  region\n",
       "71751  82.663314  80.859783       1\n",
       "80493  54.431786  53.906522       1\n",
       "2655   29.748760  30.132364       1\n",
       "53233  53.552133  53.906522       1\n",
       "91141   1.243856   0.000000       1"
      ]
     },
     "execution_count": 54,
     "metadata": {},
     "output_type": "execute_result"
    }
   ],
   "source": [
    "region_1 = pd.DataFrame(predicted_valid_1, index = target_valid_1.index, columns = ['predicted'])\n",
    "region_1['product'] = target_valid_1\n",
    "region_1['region'] = 1\n",
    "region_1.head()"
   ]
  },
  {
   "cell_type": "code",
   "execution_count": 55,
   "metadata": {},
   "outputs": [
    {
     "data": {
      "image/png": "[encoded data removed]",
      "text/plain": [
       "<Figure size 720x504 with 2 Axes>"
      ]
     },
     "metadata": {
      "needs_background": "light"
     },
     "output_type": "display_data"
    }
   ],
   "source": [
    "region_1.plot(x = 'predicted', y = 'product', kind='hexbin', gridsize=20, figsize=(10, 7), sharex=False, grid=True);"
   ]
  },
  {
   "cell_type": "markdown",
   "metadata": {},
   "source": [
    "Дополним список с результатами полученными данными по региону № 1:"
   ]
  },
  {
   "cell_type": "code",
   "execution_count": 56,
   "metadata": {},
   "outputs": [
    {
     "data": {
      "text/plain": [
       "[['lr_0',\n",
       "  0.27994321524487775,\n",
       "  37.57942171508131,\n",
       "  30.919600777151313,\n",
       "  92.59256778438008,\n",
       "  LinearRegression()],\n",
       " ('lr_1',\n",
       "  0.9996233978805127,\n",
       "  0.893099286775618,\n",
       "  0.7187662442124757,\n",
       "  68.72854689544583,\n",
       "  LinearRegression())]"
      ]
     },
     "execution_count": 56,
     "metadata": {},
     "output_type": "execute_result"
    }
   ],
   "source": [
    "results.append(('lr_1', r2, mse ** 0.5, mae,  region_1['predicted'].mean(), lr_1))\n",
    "results"
   ]
  },
  {
   "cell_type": "markdown",
   "metadata": {},
   "source": [
    "## 2.3.2.   Расчет для региона № 2"
   ]
  },
  {
   "cell_type": "markdown",
   "metadata": {},
   "source": [
    "### Проверим размеры получившихся выборок по региону № 2:"
   ]
  },
  {
   "cell_type": "code",
   "execution_count": 57,
   "metadata": {
    "scrolled": false
   },
   "outputs": [
    {
     "name": "stdout",
     "output_type": "stream",
     "text": [
      "(75000, 3)\n",
      "(25000, 3)\n",
      "(75000,)\n",
      "(25000,)\n"
     ]
    }
   ],
   "source": [
    "print(features_train_2.shape)\n",
    "print(features_valid_2.shape)\n",
    "print(target_train_2.shape)\n",
    "print(target_valid_2.shape)"
   ]
  },
  {
   "cell_type": "code",
   "execution_count": 58,
   "metadata": {
    "scrolled": false
   },
   "outputs": [
    {
     "data": {
      "text/html": [
       "<div>\n",
       "<style scoped>\n",
       "    .dataframe tbody tr th:only-of-type {\n",
       "        vertical-align: middle;\n",
       "    }\n",
       "\n",
       "    .dataframe tbody tr th {\n",
       "        vertical-align: top;\n",
       "    }\n",
       "\n",
       "    .dataframe thead th {\n",
       "        text-align: right;\n",
       "    }\n",
       "</style>\n",
       "<table border=\"1\" class=\"dataframe\">\n",
       "  <thead>\n",
       "    <tr style=\"text-align: right;\">\n",
       "      <th></th>\n",
       "      <th>f0</th>\n",
       "      <th>f1</th>\n",
       "      <th>f2</th>\n",
       "    </tr>\n",
       "  </thead>\n",
       "  <tbody>\n",
       "    <tr>\n",
       "      <th>27212</th>\n",
       "      <td>-0.526160</td>\n",
       "      <td>0.776329</td>\n",
       "      <td>-0.400793</td>\n",
       "    </tr>\n",
       "    <tr>\n",
       "      <th>7866</th>\n",
       "      <td>-0.889625</td>\n",
       "      <td>-0.404070</td>\n",
       "      <td>-1.222936</td>\n",
       "    </tr>\n",
       "    <tr>\n",
       "      <th>62041</th>\n",
       "      <td>-1.133984</td>\n",
       "      <td>0.208576</td>\n",
       "      <td>0.296765</td>\n",
       "    </tr>\n",
       "  </tbody>\n",
       "</table>\n",
       "</div>"
      ],
      "text/plain": [
       "             f0        f1        f2\n",
       "27212 -0.526160  0.776329 -0.400793\n",
       "7866  -0.889625 -0.404070 -1.222936\n",
       "62041 -1.133984  0.208576  0.296765"
      ]
     },
     "execution_count": 58,
     "metadata": {},
     "output_type": "execute_result"
    }
   ],
   "source": [
    "features_train_2.head(3)"
   ]
  },
  {
   "cell_type": "code",
   "execution_count": 59,
   "metadata": {
    "scrolled": true
   },
   "outputs": [
    {
     "data": {
      "text/plain": [
       "27212     16.733577\n",
       "7866      38.047492\n",
       "62041    116.149369\n",
       "Name: product, dtype: float64"
      ]
     },
     "execution_count": 59,
     "metadata": {},
     "output_type": "execute_result"
    }
   ],
   "source": [
    "target_train_2.head(3)"
   ]
  },
  {
   "cell_type": "markdown",
   "metadata": {},
   "source": [
    "Стандартизировали признаки мы ранее."
   ]
  },
  {
   "cell_type": "markdown",
   "metadata": {},
   "source": [
    "### Построим и обучим модель линейной регрессии, сделаем предсказания, выведем средние значения и метрики. Построим  baseline и сравним с ней результаты "
   ]
  },
  {
   "cell_type": "code",
   "execution_count": 60,
   "metadata": {
    "scrolled": true
   },
   "outputs": [
    {
     "name": "stdout",
     "output_type": "stream",
     "text": [
      "РЕГИОН № 2.   Linear Regression\n",
      "Средний запас предсказанного сырья в регионе №2: 94.97\n",
      "Средний реальный запас сырья в регионе №2: 94.88\n",
      "RMSE модели = 40.0297087\n",
      "МАЕ модели = 32.7926521\n",
      "R2-score модели = 0.2052476\n",
      "\n",
      "Константная модель (Mean)\n",
      "RMSE конст. модели = 44.90\n",
      "МАЕ конст. модели = 37.9210083\n",
      "R2-score конст. модели = -0.0000118\n"
     ]
    }
   ],
   "source": [
    "lr_2 = LinearRegression()\n",
    "lr_2.fit(features_train_2, target_train_2)\n",
    "predicted_valid_2 = lr_2.predict(features_valid_2)\n",
    "\n",
    "mse = mean_squared_error(target_valid_2, predicted_valid_2)\n",
    "mae = mean_absolute_error(target_valid_2, predicted_valid_2)\n",
    "r2 = r2_score(target_valid_2, predicted_valid_2)\n",
    "\n",
    "print(\"РЕГИОН № 2.   Linear Regression\")\n",
    "print('Средний запас предсказанного сырья в регионе №2: {:.2f}'.format(predicted_valid_2.mean()))\n",
    "print('Средний реальный запас сырья в регионе №2: {:.2f}'.format(target_valid_2.mean()))\n",
    "print(\"RMSE модели = {:.7f}\".format(np.sqrt(mse))) \n",
    "print(\"МАЕ модели = {:.7f}\".format(mae))\n",
    "print(\"R2-score модели = {:.7f}\".format(r2))\n",
    "\n",
    "#Сравним нашу модель со константной моделью, предсказыыающей среднее значение трейна (можно взять и медиану)\n",
    "predicted_valid_const_2 = pd.Series(target_train_2.mean(), index = target_valid_2.index)\n",
    "mse_const = mean_squared_error(target_valid_2, predicted_valid_const_2)\n",
    "mae_const = mean_absolute_error(target_valid_2, predicted_valid_const_2)\n",
    "r2_const = r2_score(target_valid_2, predicted_valid_const_2)\n",
    "print()\n",
    "print(\"Константная модель (Mean)\")\n",
    "print(\"RMSE конст. модели = {:.2f}\".format(mse_const ** 0.5))\n",
    "print(\"МАЕ конст. модели = {:.7f}\".format(mae_const))\n",
    "print(\"R2-score конст. модели = {:.7f}\".format(r2_const))"
   ]
  },
  {
   "cell_type": "markdown",
   "metadata": {},
   "source": [
    "Наша модель предсказывает лучше константной: корень из средне-квадратичного отклонения и среднее абсолютное отклонение  меньше примерно на 5 тыс.баррелей, чем у константной модели, и коэффициент детерминации также гораздо лучше (0.21 против 0)."
   ]
  },
  {
   "cell_type": "markdown",
   "metadata": {},
   "source": [
    "Здесь также стоит отметить, что ранее мы построили тепловую карту, и для данного региона замечена 100%-ная взаимосвязь признака 'f2' и целевой переменной (у них коэффициент корреляции Пирсона = 1). То есть по признаку 'f2' однозначно можно предсказать объем запасов скважины. В принципе, для данной конкретной модели (по данному региону) мы можем удалить остальные признаки ('f0' и 'f1'), которые создают шумы, и метрики должны еще больше улучшиться."
   ]
  },
  {
   "cell_type": "markdown",
   "metadata": {},
   "source": [
    "### Сохраним предсказания и правильные ответы на валидационной выборке"
   ]
  },
  {
   "cell_type": "markdown",
   "metadata": {},
   "source": [
    "Сохраняем наши предсказания по региону № 2  в DataFrame, куда добавим реальные значения запасов и номер региона."
   ]
  },
  {
   "cell_type": "code",
   "execution_count": 61,
   "metadata": {
    "scrolled": true
   },
   "outputs": [
    {
     "data": {
      "text/plain": [
       "array([ 93.59963303,  75.10515854,  90.06680936, ...,  99.40728116,\n",
       "        77.77991248, 129.03241718])"
      ]
     },
     "execution_count": 61,
     "metadata": {},
     "output_type": "execute_result"
    }
   ],
   "source": [
    "predicted_valid_2"
   ]
  },
  {
   "cell_type": "code",
   "execution_count": 62,
   "metadata": {
    "scrolled": false
   },
   "outputs": [
    {
     "data": {
      "text/html": [
       "<div>\n",
       "<style scoped>\n",
       "    .dataframe tbody tr th:only-of-type {\n",
       "        vertical-align: middle;\n",
       "    }\n",
       "\n",
       "    .dataframe tbody tr th {\n",
       "        vertical-align: top;\n",
       "    }\n",
       "\n",
       "    .dataframe thead th {\n",
       "        text-align: right;\n",
       "    }\n",
       "</style>\n",
       "<table border=\"1\" class=\"dataframe\">\n",
       "  <thead>\n",
       "    <tr style=\"text-align: right;\">\n",
       "      <th></th>\n",
       "      <th>predicted</th>\n",
       "      <th>product</th>\n",
       "      <th>region</th>\n",
       "    </tr>\n",
       "  </thead>\n",
       "  <tbody>\n",
       "    <tr>\n",
       "      <th>71751</th>\n",
       "      <td>93.599633</td>\n",
       "      <td>61.212375</td>\n",
       "      <td>2</td>\n",
       "    </tr>\n",
       "    <tr>\n",
       "      <th>80493</th>\n",
       "      <td>75.105159</td>\n",
       "      <td>41.850118</td>\n",
       "      <td>2</td>\n",
       "    </tr>\n",
       "    <tr>\n",
       "      <th>2655</th>\n",
       "      <td>90.066809</td>\n",
       "      <td>57.776581</td>\n",
       "      <td>2</td>\n",
       "    </tr>\n",
       "    <tr>\n",
       "      <th>53233</th>\n",
       "      <td>105.162375</td>\n",
       "      <td>100.053761</td>\n",
       "      <td>2</td>\n",
       "    </tr>\n",
       "    <tr>\n",
       "      <th>91141</th>\n",
       "      <td>115.303310</td>\n",
       "      <td>109.897122</td>\n",
       "      <td>2</td>\n",
       "    </tr>\n",
       "  </tbody>\n",
       "</table>\n",
       "</div>"
      ],
      "text/plain": [
       "        predicted     product  region\n",
       "71751   93.599633   61.212375       2\n",
       "80493   75.105159   41.850118       2\n",
       "2655    90.066809   57.776581       2\n",
       "53233  105.162375  100.053761       2\n",
       "91141  115.303310  109.897122       2"
      ]
     },
     "execution_count": 62,
     "metadata": {},
     "output_type": "execute_result"
    }
   ],
   "source": [
    "region_2 = pd.DataFrame(predicted_valid_2, index = target_valid_2.index, columns = ['predicted'])\n",
    "region_2['product'] = target_valid_2\n",
    "region_2['region'] = 2\n",
    "region_2.head()"
   ]
  },
  {
   "cell_type": "code",
   "execution_count": 63,
   "metadata": {},
   "outputs": [
    {
     "data": {
      "image/png": "[encoded data removed]",
      "text/plain": [
       "<Figure size 720x504 with 2 Axes>"
      ]
     },
     "metadata": {
      "needs_background": "light"
     },
     "output_type": "display_data"
    }
   ],
   "source": [
    "region_2.plot(x = 'predicted', y = 'product', kind='hexbin', gridsize=20, figsize=(10, 7), sharex=False, grid=True);"
   ]
  },
  {
   "cell_type": "markdown",
   "metadata": {},
   "source": [
    "Дополним список с результатами полученными данными по региону № 2:"
   ]
  },
  {
   "cell_type": "code",
   "execution_count": 64,
   "metadata": {
    "scrolled": true
   },
   "outputs": [
    {
     "data": {
      "text/plain": [
       "[['lr_0',\n",
       "  0.27994321524487775,\n",
       "  37.57942171508131,\n",
       "  30.919600777151313,\n",
       "  92.59256778438008,\n",
       "  LinearRegression()],\n",
       " ('lr_1',\n",
       "  0.9996233978805127,\n",
       "  0.893099286775618,\n",
       "  0.7187662442124757,\n",
       "  68.72854689544583,\n",
       "  LinearRegression()),\n",
       " ('lr_2',\n",
       "  0.20524758386040465,\n",
       "  40.02970873393434,\n",
       "  32.79265210548181,\n",
       "  94.96504596800509,\n",
       "  LinearRegression())]"
      ]
     },
     "execution_count": 64,
     "metadata": {},
     "output_type": "execute_result"
    }
   ],
   "source": [
    "results.append(('lr_2', r2, mse ** 0.5, mae,  region_2['predicted'].mean(), lr_2))\n",
    "results"
   ]
  },
  {
   "cell_type": "markdown",
   "metadata": {},
   "source": [
    "## 2.4  Выведем все результаты по всем трем регионам в одном датафрейме."
   ]
  },
  {
   "cell_type": "code",
   "execution_count": 65,
   "metadata": {},
   "outputs": [
    {
     "data": {
      "text/html": [
       "<div>\n",
       "<style scoped>\n",
       "    .dataframe tbody tr th:only-of-type {\n",
       "        vertical-align: middle;\n",
       "    }\n",
       "\n",
       "    .dataframe tbody tr th {\n",
       "        vertical-align: top;\n",
       "    }\n",
       "\n",
       "    .dataframe thead th {\n",
       "        text-align: right;\n",
       "    }\n",
       "</style>\n",
       "<table border=\"1\" class=\"dataframe\">\n",
       "  <thead>\n",
       "    <tr style=\"text-align: right;\">\n",
       "      <th></th>\n",
       "      <th>model</th>\n",
       "      <th>r2</th>\n",
       "      <th>rmse</th>\n",
       "      <th>mae</th>\n",
       "      <th>predicted_mean_product</th>\n",
       "      <th>params</th>\n",
       "    </tr>\n",
       "  </thead>\n",
       "  <tbody>\n",
       "    <tr>\n",
       "      <th>0</th>\n",
       "      <td>lr_0</td>\n",
       "      <td>0.279943</td>\n",
       "      <td>37.579422</td>\n",
       "      <td>30.919601</td>\n",
       "      <td>92.592568</td>\n",
       "      <td>LinearRegression()</td>\n",
       "    </tr>\n",
       "    <tr>\n",
       "      <th>1</th>\n",
       "      <td>lr_1</td>\n",
       "      <td>0.999623</td>\n",
       "      <td>0.893099</td>\n",
       "      <td>0.718766</td>\n",
       "      <td>68.728547</td>\n",
       "      <td>LinearRegression()</td>\n",
       "    </tr>\n",
       "    <tr>\n",
       "      <th>2</th>\n",
       "      <td>lr_2</td>\n",
       "      <td>0.205248</td>\n",
       "      <td>40.029709</td>\n",
       "      <td>32.792652</td>\n",
       "      <td>94.965046</td>\n",
       "      <td>LinearRegression()</td>\n",
       "    </tr>\n",
       "  </tbody>\n",
       "</table>\n",
       "</div>"
      ],
      "text/plain": [
       "  model        r2       rmse        mae  predicted_mean_product  \\\n",
       "0  lr_0  0.279943  37.579422  30.919601               92.592568   \n",
       "1  lr_1  0.999623   0.893099   0.718766               68.728547   \n",
       "2  lr_2  0.205248  40.029709  32.792652               94.965046   \n",
       "\n",
       "               params  \n",
       "0  LinearRegression()  \n",
       "1  LinearRegression()  \n",
       "2  LinearRegression()  "
      ]
     },
     "execution_count": 65,
     "metadata": {},
     "output_type": "execute_result"
    }
   ],
   "source": [
    "results_df = pd.DataFrame(results, columns=['model', 'r2', 'rmse', 'mae', 'predicted_mean_product', 'params'])\n",
    "results_df"
   ]
  },
  {
   "cell_type": "code",
   "execution_count": 66,
   "metadata": {
    "scrolled": false
   },
   "outputs": [
    {
     "data": {
      "text/html": [
       "<style  type=\"text/css\" >\n",
       "#T_03f4e_row1_col2,#T_03f4e_row1_col3,#T_03f4e_row1_col4,#T_03f4e_row2_col1{\n",
       "            background-color:  lightblue;\n",
       "        }</style><table id=\"T_03f4e_\" ><thead>    <tr>        <th class=\"blank level0\" ></th>        <th class=\"col_heading level0 col0\" >model</th>        <th class=\"col_heading level0 col1\" >r2</th>        <th class=\"col_heading level0 col2\" >rmse</th>        <th class=\"col_heading level0 col3\" >mae</th>        <th class=\"col_heading level0 col4\" >predicted_mean_product</th>    </tr></thead><tbody>\n",
       "                <tr>\n",
       "                        <th id=\"T_03f4e_level0_row0\" class=\"row_heading level0 row0\" >0</th>\n",
       "                        <td id=\"T_03f4e_row0_col0\" class=\"data row0 col0\" >lr_0</td>\n",
       "                        <td id=\"T_03f4e_row0_col1\" class=\"data row0 col1\" >0.279943</td>\n",
       "                        <td id=\"T_03f4e_row0_col2\" class=\"data row0 col2\" >37.579422</td>\n",
       "                        <td id=\"T_03f4e_row0_col3\" class=\"data row0 col3\" >30.919601</td>\n",
       "                        <td id=\"T_03f4e_row0_col4\" class=\"data row0 col4\" >92.592568</td>\n",
       "            </tr>\n",
       "            <tr>\n",
       "                        <th id=\"T_03f4e_level0_row1\" class=\"row_heading level0 row1\" >1</th>\n",
       "                        <td id=\"T_03f4e_row1_col0\" class=\"data row1 col0\" >lr_1</td>\n",
       "                        <td id=\"T_03f4e_row1_col1\" class=\"data row1 col1\" >0.999623</td>\n",
       "                        <td id=\"T_03f4e_row1_col2\" class=\"data row1 col2\" >0.893099</td>\n",
       "                        <td id=\"T_03f4e_row1_col3\" class=\"data row1 col3\" >0.718766</td>\n",
       "                        <td id=\"T_03f4e_row1_col4\" class=\"data row1 col4\" >68.728547</td>\n",
       "            </tr>\n",
       "            <tr>\n",
       "                        <th id=\"T_03f4e_level0_row2\" class=\"row_heading level0 row2\" >2</th>\n",
       "                        <td id=\"T_03f4e_row2_col0\" class=\"data row2 col0\" >lr_2</td>\n",
       "                        <td id=\"T_03f4e_row2_col1\" class=\"data row2 col1\" >0.205248</td>\n",
       "                        <td id=\"T_03f4e_row2_col2\" class=\"data row2 col2\" >40.029709</td>\n",
       "                        <td id=\"T_03f4e_row2_col3\" class=\"data row2 col3\" >32.792652</td>\n",
       "                        <td id=\"T_03f4e_row2_col4\" class=\"data row2 col4\" >94.965046</td>\n",
       "            </tr>\n",
       "    </tbody></table>"
      ],
      "text/plain": [
       "<pandas.io.formats.style.Styler at 0x124fed88>"
      ]
     },
     "execution_count": 66,
     "metadata": {},
     "output_type": "execute_result"
    }
   ],
   "source": [
    "results_df[['model', 'r2', 'rmse', 'mae', 'predicted_mean_product']].style.highlight_min(color='lightblue', axis = 0)"
   ]
  },
  {
   "cell_type": "markdown",
   "metadata": {},
   "source": [
    "**По всем трем регионам построили модели линейной регрессии со следующими метриками RMSE:**\n",
    "- регион №0:  37.58,\n",
    "- регион №1:  0.89,\n",
    "- регион №2:  40.03.\n",
    "**Наилучшие метрики имеет модель по региону № 1, однако целевая переменная этой модели имеет очень странное распределение: 6 значений через большие промежутки.**\n",
    "\n"
   ]
  },
  {
   "cell_type": "markdown",
   "metadata": {},
   "source": [
    "## 2.5  Сравним средние значения предсказанных и реальных запасов"
   ]
  },
  {
   "cell_type": "code",
   "execution_count": 67,
   "metadata": {},
   "outputs": [
    {
     "data": {
      "text/html": [
       "<div>\n",
       "<style scoped>\n",
       "    .dataframe tbody tr th:only-of-type {\n",
       "        vertical-align: middle;\n",
       "    }\n",
       "\n",
       "    .dataframe tbody tr th {\n",
       "        vertical-align: top;\n",
       "    }\n",
       "\n",
       "    .dataframe thead th {\n",
       "        text-align: right;\n",
       "    }\n",
       "</style>\n",
       "<table border=\"1\" class=\"dataframe\">\n",
       "  <thead>\n",
       "    <tr style=\"text-align: right;\">\n",
       "      <th></th>\n",
       "      <th>predicted</th>\n",
       "      <th>product</th>\n",
       "      <th>region</th>\n",
       "    </tr>\n",
       "  </thead>\n",
       "  <tbody>\n",
       "    <tr>\n",
       "      <th>71751</th>\n",
       "      <td>95.894952</td>\n",
       "      <td>10.038645</td>\n",
       "      <td>0</td>\n",
       "    </tr>\n",
       "    <tr>\n",
       "      <th>80493</th>\n",
       "      <td>77.572583</td>\n",
       "      <td>114.551489</td>\n",
       "      <td>0</td>\n",
       "    </tr>\n",
       "    <tr>\n",
       "      <th>2655</th>\n",
       "      <td>77.892640</td>\n",
       "      <td>132.603635</td>\n",
       "      <td>0</td>\n",
       "    </tr>\n",
       "    <tr>\n",
       "      <th>53233</th>\n",
       "      <td>90.175134</td>\n",
       "      <td>169.072125</td>\n",
       "      <td>0</td>\n",
       "    </tr>\n",
       "    <tr>\n",
       "      <th>91141</th>\n",
       "      <td>70.510088</td>\n",
       "      <td>122.325180</td>\n",
       "      <td>0</td>\n",
       "    </tr>\n",
       "    <tr>\n",
       "      <th>...</th>\n",
       "      <td>...</td>\n",
       "      <td>...</td>\n",
       "      <td>...</td>\n",
       "    </tr>\n",
       "    <tr>\n",
       "      <th>12581</th>\n",
       "      <td>78.765887</td>\n",
       "      <td>28.492402</td>\n",
       "      <td>2</td>\n",
       "    </tr>\n",
       "    <tr>\n",
       "      <th>18456</th>\n",
       "      <td>95.603394</td>\n",
       "      <td>21.431303</td>\n",
       "      <td>2</td>\n",
       "    </tr>\n",
       "    <tr>\n",
       "      <th>73035</th>\n",
       "      <td>99.407281</td>\n",
       "      <td>125.487229</td>\n",
       "      <td>2</td>\n",
       "    </tr>\n",
       "    <tr>\n",
       "      <th>63834</th>\n",
       "      <td>77.779912</td>\n",
       "      <td>99.422903</td>\n",
       "      <td>2</td>\n",
       "    </tr>\n",
       "    <tr>\n",
       "      <th>43558</th>\n",
       "      <td>129.032417</td>\n",
       "      <td>127.445075</td>\n",
       "      <td>2</td>\n",
       "    </tr>\n",
       "  </tbody>\n",
       "</table>\n",
       "<p>75000 rows × 3 columns</p>\n",
       "</div>"
      ],
      "text/plain": [
       "        predicted     product  region\n",
       "71751   95.894952   10.038645       0\n",
       "80493   77.572583  114.551489       0\n",
       "2655    77.892640  132.603635       0\n",
       "53233   90.175134  169.072125       0\n",
       "91141   70.510088  122.325180       0\n",
       "...           ...         ...     ...\n",
       "12581   78.765887   28.492402       2\n",
       "18456   95.603394   21.431303       2\n",
       "73035   99.407281  125.487229       2\n",
       "63834   77.779912   99.422903       2\n",
       "43558  129.032417  127.445075       2\n",
       "\n",
       "[75000 rows x 3 columns]"
      ]
     },
     "execution_count": 67,
     "metadata": {},
     "output_type": "execute_result"
    }
   ],
   "source": [
    "region_report = pd.concat([region_0, region_1, region_2])\n",
    "region_report"
   ]
  },
  {
   "cell_type": "code",
   "execution_count": 68,
   "metadata": {
    "scrolled": true
   },
   "outputs": [
    {
     "data": {
      "text/html": [
       "<div>\n",
       "<style scoped>\n",
       "    .dataframe tbody tr th:only-of-type {\n",
       "        vertical-align: middle;\n",
       "    }\n",
       "\n",
       "    .dataframe tbody tr th {\n",
       "        vertical-align: top;\n",
       "    }\n",
       "\n",
       "    .dataframe thead th {\n",
       "        text-align: right;\n",
       "    }\n",
       "</style>\n",
       "<table border=\"1\" class=\"dataframe\">\n",
       "  <thead>\n",
       "    <tr style=\"text-align: right;\">\n",
       "      <th></th>\n",
       "      <th>predicted</th>\n",
       "      <th>product</th>\n",
       "    </tr>\n",
       "    <tr>\n",
       "      <th>region</th>\n",
       "      <th></th>\n",
       "      <th></th>\n",
       "    </tr>\n",
       "  </thead>\n",
       "  <tbody>\n",
       "    <tr>\n",
       "      <th>0</th>\n",
       "      <td>92.592568</td>\n",
       "      <td>92.078597</td>\n",
       "    </tr>\n",
       "    <tr>\n",
       "      <th>1</th>\n",
       "      <td>68.728547</td>\n",
       "      <td>68.723136</td>\n",
       "    </tr>\n",
       "    <tr>\n",
       "      <th>2</th>\n",
       "      <td>94.965046</td>\n",
       "      <td>94.884233</td>\n",
       "    </tr>\n",
       "  </tbody>\n",
       "</table>\n",
       "</div>"
      ],
      "text/plain": [
       "        predicted    product\n",
       "region                      \n",
       "0       92.592568  92.078597\n",
       "1       68.728547  68.723136\n",
       "2       94.965046  94.884233"
      ]
     },
     "execution_count": 68,
     "metadata": {},
     "output_type": "execute_result"
    }
   ],
   "source": [
    "region_report.pivot_table(index='region')"
   ]
  },
  {
   "cell_type": "markdown",
   "metadata": {},
   "source": [
    "**Средние предсказанных запасов очень близки к средним реальных запасов.**<br>\n",
    "**При этом средние значения запасов в регионах гораздо меньше рассчитанного среднего в 112 тыс.баррелей, необходимого для безубыточной разработки новых месторождений.** Поэтому мы будем отбирать для разработки только самые перспективные скважины."
   ]
  },
  {
   "cell_type": "markdown",
   "metadata": {},
   "source": [
    "# 3. Подготовка к расчёту прибыли"
   ]
  },
  {
   "cell_type": "markdown",
   "metadata": {},
   "source": [
    "### 3.1 Расчет и сохранение ключевых значений"
   ]
  },
  {
   "cell_type": "markdown",
   "metadata": {},
   "source": [
    "Сохраним все ключевые значения для расчетов в отдельных переменных. Посчитаем недостающие значения."
   ]
  },
  {
   "cell_type": "markdown",
   "metadata": {},
   "source": [
    "Общий бюджет на разработку месторождений в регионе - 10 млрд. рублей"
   ]
  },
  {
   "cell_type": "code",
   "execution_count": 69,
   "metadata": {},
   "outputs": [],
   "source": [
    "BUDGET = 10000000000"
   ]
  },
  {
   "cell_type": "markdown",
   "metadata": {},
   "source": [
    "При разведке региона исследуют 500 точек, из которых с помощью машинного обучения будут выбирать 200 лучших для разработки. То есть в итоге разрабатываться будут только 200 скважин."
   ]
  },
  {
   "cell_type": "code",
   "execution_count": 70,
   "metadata": {},
   "outputs": [],
   "source": [
    "WELLS_COUNT = 200"
   ]
  },
  {
   "cell_type": "markdown",
   "metadata": {},
   "source": [
    "Посчитаем стоимость разработки одной скважины:"
   ]
  },
  {
   "cell_type": "code",
   "execution_count": 71,
   "metadata": {},
   "outputs": [
    {
     "data": {
      "text/plain": [
       "50000000.0"
      ]
     },
     "execution_count": 71,
     "metadata": {},
     "output_type": "execute_result"
    }
   ],
   "source": [
    "PRICE_PER_WELL = BUDGET / WELLS_COUNT\n",
    "PRICE_PER_WELL"
   ]
  },
  {
   "cell_type": "markdown",
   "metadata": {},
   "source": [
    "Получили стоимость разработки одной скважины - 50 млн. руб."
   ]
  },
  {
   "cell_type": "markdown",
   "metadata": {},
   "source": [
    "Один баррель сырья приносит 450 рублей дохода. Доход с каждой единицы продукта составляет 450 тыс. рублей, поскольку объём  запасов (product) в скважине указан в тысячах баррелей.<br>\n",
    "Доход с единицы продукта:"
   ]
  },
  {
   "cell_type": "code",
   "execution_count": 72,
   "metadata": {},
   "outputs": [
    {
     "data": {
      "text/plain": [
       "450000"
      ]
     },
     "execution_count": 72,
     "metadata": {},
     "output_type": "execute_result"
    }
   ],
   "source": [
    "INCOME_PER_THOUSAND_BARRELS = 450*1000\n",
    "INCOME_PER_THOUSAND_BARRELS"
   ]
  },
  {
   "cell_type": "markdown",
   "metadata": {},
   "source": [
    "### 3.2 Расчет минимального  объёма сырья (в среднем), достаточного для безубыточной разработки новой скважины"
   ]
  },
  {
   "cell_type": "markdown",
   "metadata": {},
   "source": [
    "Для того, чтобы найти минимально-необходимое количество сырья в скважине (в среднем по всем 200 скважинам), достаточное лдя бузубыточной разработки скважины, поделим стоимость разработки одной скважины на доход с одной единицы продукции, и округлим полученное значение вверх."
   ]
  },
  {
   "cell_type": "code",
   "execution_count": 73,
   "metadata": {},
   "outputs": [
    {
     "data": {
      "text/plain": [
       "112.0"
      ]
     },
     "execution_count": 73,
     "metadata": {},
     "output_type": "execute_result"
    }
   ],
   "source": [
    "minimum_mean_product = np.ceil(PRICE_PER_WELL / INCOME_PER_THOUSAND_BARRELS)\n",
    "minimum_mean_product"
   ]
  },
  {
   "cell_type": "markdown",
   "metadata": {},
   "source": [
    "**112 единиц продукции (то есть тысяч баррелей) должен быть минимальный запас в разрабатываемой скважине (в среднем) для ее безубыточности**.<br> Если мы еще раз посмотрим на описательные статистики и графики распределений целевой переменной, то увидим, что по регионам №0 и №2 более 25% от всех данных (а, значит, и от валидационной выборки) значения целевой переменной заведомо превышают это значение (75-я процентиль - 128 и  130 единиц соответственно). В регионе №1    85-я процентиль - 134 единиц. Значит, минимум 3750 скважин (15% * 25000 скважин) валидационной выборки любого региона удовлетворяют этому условию, а это заведомо больше 200 скважин по условию проекта. То есть нам будет из чего отобрать безубыточные скважины для разработки."
   ]
  },
  {
   "cell_type": "markdown",
   "metadata": {},
   "source": [
    "# 4. Расчёт прибыли и рисков "
   ]
  },
  {
   "cell_type": "markdown",
   "metadata": {},
   "source": [
    "### 4.1 Функция расчета прибыли"
   ]
  },
  {
   "cell_type": "markdown",
   "metadata": {},
   "source": [
    "Напишем функцию для расчёта прибыли по набору отобранных месторождений на основании предсказаний модели."
   ]
  },
  {
   "cell_type": "code",
   "execution_count": 74,
   "metadata": {},
   "outputs": [],
   "source": [
    "def profit_calculation(target, predictions, number_of_wells):\n",
    "    ''' Функция принимает на вход:\n",
    "    - predictions - набор из 500 (или любого кол-ва, но не менее 200) случайно отобранных предсказаний \n",
    "                из валидационной выборки (тип данных Series),\n",
    "    - target - набор соответствующих им реальных значений запасов из валид. выборки (тип данных Series),\n",
    "    - максимальное количество скважин к разработке (200) (тип данных int).\n",
    "    Сортирует объем предсказанных запасов по убыванию.  \n",
    "    Возвращает значение прибыли от разработки в регионе, посчитанное по реальным запасам скважин.\n",
    "    '''\n",
    "    best_predictions = predictions.sort_values(ascending = False)[:number_of_wells]\n",
    "    best_target = target[best_predictions.index]\n",
    "    profit = best_target.sum()*INCOME_PER_THOUSAND_BARRELS - BUDGET\n",
    "    return profit"
   ]
  },
  {
   "cell_type": "markdown",
   "metadata": {},
   "source": [
    "### 4.2  Функция для бутстрепа"
   ]
  },
  {
   "cell_type": "markdown",
   "metadata": {},
   "source": [
    "Напишем функцию для применения техники Bootstrap с 1000 подвыборок из валидационной выборки по 500 скважин в каждой, чтобы найти распределение прибыли."
   ]
  },
  {
   "cell_type": "markdown",
   "metadata": {},
   "source": [
    "При создании подвыборок при обычной фиксации параметра random_state (в виде random_state = 12345) выбранные случайные элементы всегда одинаковые. Чтобы это исправить, создадим объект RandomState() из модуля numpy.random."
   ]
  },
  {
   "cell_type": "markdown",
   "metadata": {},
   "source": [
    "Этот объект можно передавать аргументу random_state в любой функции. Важно, что при каждом новом вызове его состояние будет меняться на случайное. Так получаем разные подвыборки. И при этом при перезапуске ноутбука (ядра) данная \"последовательность cлучайностей\" будет повторяться. Так мы обеспечим воспроизводимость результатов эксперимента.<br>\n",
    "    Так же для того, чтобы мы каждый раз при создании подвыборок делали выбор из одной и той же исходной валидационной выборки в 25000 наблюдений, необходимо обеспечить выбор элементов с возвращением. То есть один и тот же элемент может попадать в подвыборку несколько раз. Для этого укажем аргумент replace=True в функции sample()."
   ]
  },
  {
   "cell_type": "code",
   "execution_count": 75,
   "metadata": {
    "scrolled": true
   },
   "outputs": [],
   "source": [
    "state = RandomState(12345) \n",
    "    \n",
    "def bootstrap(target, predictions,  N):\n",
    "    '''\n",
    "    Функция применяет технику Bootstrap с 1000 выборок, чтобы найти распределение прибыли.\n",
    "    Принимает на вход:\n",
    "    - набор предсказаний (predictions), сделанных на валидационной выборке (в нашем случае 25000), тип данных Series,\n",
    "    - набор соответствующих им реальных значений запасов (target) валид. выборки (25000 набл.), тип данных Series,\n",
    "    - количество выбираемых случайных образом скважин (в нашем случае 500 по условию задачи), тип данных int.\n",
    "                                                       \n",
    "    1000 раз из 25000 случайным образом выбирает 500 скважин. С помощью функции profit_calculation считаем по лучшим \n",
    "    200 из них прибыль. И так 1000 раз.\n",
    "    Возвращает набор (Series) из 1000 значений прибыли, посчитанной по лучшим 200 скважинам, отобранным из 500. \n",
    "    '''\n",
    "    profit_list = []\n",
    "    \n",
    "    for i in range(1000):\n",
    "        pred_subsample = predictions.sample(n = N, replace = True, random_state = state)\n",
    "        targ_subsample = target[pred_subsample.index]\n",
    "        profit_subsample = profit_calculation(targ_subsample, pred_subsample, WELLS_COUNT)\n",
    "        profit_list.append(profit_subsample)\n",
    "    \n",
    "    profit = pd.Series(profit_list)\n",
    "    \n",
    "    return profit"
   ]
  },
  {
   "cell_type": "markdown",
   "metadata": {},
   "source": [
    "Cоздадим список, в котором будем фиксировать результаты: номер региона, среднее значение прибыли для региона, 0.025-я квантиль, доверительный интервал и риск убытков."
   ]
  },
  {
   "cell_type": "code",
   "execution_count": 76,
   "metadata": {},
   "outputs": [],
   "source": [
    "profit_report = []"
   ]
  },
  {
   "cell_type": "markdown",
   "metadata": {},
   "source": [
    "### 4.3   Рассчитаем среднюю прибыль и риски убытков по региону №0."
   ]
  },
  {
   "cell_type": "code",
   "execution_count": 77,
   "metadata": {
    "scrolled": true
   },
   "outputs": [
    {
     "data": {
      "text/plain": [
       "0      9.886908e+08\n",
       "1      5.363934e+08\n",
       "2      6.336436e+08\n",
       "3      5.896001e+08\n",
       "4      2.719929e+08\n",
       "           ...     \n",
       "995    5.566130e+08\n",
       "996    9.280870e+08\n",
       "997    1.030250e+09\n",
       "998    5.354841e+08\n",
       "999    5.015203e+08\n",
       "Length: 1000, dtype: float64"
      ]
     },
     "execution_count": 77,
     "metadata": {},
     "output_type": "execute_result"
    }
   ],
   "source": [
    "profit_bootstrap_region_0 = bootstrap(region_0['product'], region_0['predicted'], 500)\n",
    "profit_bootstrap_region_0 #полученная бутстрепом выборка из прибыли"
   ]
  },
  {
   "cell_type": "code",
   "execution_count": 78,
   "metadata": {},
   "outputs": [
    {
     "name": "stdout",
     "output_type": "stream",
     "text": [
      "Средняя прибыль для региона №2 (в млн.руб.):  600.74\n",
      "0.025-я квантиль прибыли региона №2 (млн.руб.):  12.95\n",
      "Доверительный интервал (млн.руб.): ( 12.95 ; 1231.16 )\n"
     ]
    }
   ],
   "source": [
    "mean_profit_region_0 = round( profit_bootstrap_region_0.mean()/10**6, 2)   #средняя прибыль по региону №0\n",
    "lower_0 = round( profit_bootstrap_region_0.quantile(0.025)/10**6  , 2)  # нижняя граница доверительного интервала\n",
    "upper_0 = round( profit_bootstrap_region_0.quantile(0.975)/10**6 , 2)    # верхняя граница доверительного интервала\n",
    "\n",
    "print(\"Средняя прибыль для региона №2 (в млн.руб.): \", mean_profit_region_0)\n",
    "print('0.025-я квантиль прибыли региона №2 (млн.руб.): ', lower_0)\n",
    "print('Доверительный интервал (млн.руб.): (',lower_0, ';', upper_0, ')')"
   ]
  },
  {
   "cell_type": "code",
   "execution_count": 79,
   "metadata": {
    "scrolled": true
   },
   "outputs": [
    {
     "data": {
      "image/png": "[encoded data removed]",
      "text/plain": [
       "<Figure size 432x288 with 1 Axes>"
      ]
     },
     "metadata": {
      "needs_background": "light"
     },
     "output_type": "display_data"
    }
   ],
   "source": [
    "ax = sns.distplot(profit_bootstrap_region_0);\n",
    "ax.axvline(np.quantile(profit_bootstrap_region_0, 0.025),linestyle = '--',color='r');\n",
    "plt.title(\"Распределение прибыли в регионе № 0\");"
   ]
  },
  {
   "cell_type": "markdown",
   "metadata": {},
   "source": [
    "Чтобы посчитать риск убытков, найдем в нашей полученной бутстрепом выборке долю убытков (отрицательных значений прибыли) в общем количестве прибыли."
   ]
  },
  {
   "cell_type": "code",
   "execution_count": 80,
   "metadata": {
    "scrolled": true
   },
   "outputs": [
    {
     "data": {
      "text/plain": [
       "0.02"
      ]
     },
     "execution_count": 80,
     "metadata": {},
     "output_type": "execute_result"
    }
   ],
   "source": [
    "loss_risk_0 = profit_bootstrap_region_0[profit_bootstrap_region_0 < 0].count()/profit_bootstrap_region_0.count()\n",
    "loss_risk_0"
   ]
  },
  {
   "cell_type": "markdown",
   "metadata": {},
   "source": [
    "Занесем данные по региону № 0 в наш отчетный список."
   ]
  },
  {
   "cell_type": "code",
   "execution_count": 81,
   "metadata": {},
   "outputs": [
    {
     "data": {
      "text/plain": [
       "[['region_0', 600.74, 12.95, (12.95, 1231.16), 0.02]]"
      ]
     },
     "execution_count": 81,
     "metadata": {},
     "output_type": "execute_result"
    }
   ],
   "source": [
    "profit_report.append(['region_0', mean_profit_region_0, lower_0, \n",
    "                      (lower_0, upper_0), loss_risk_0])\n",
    "profit_report"
   ]
  },
  {
   "cell_type": "markdown",
   "metadata": {},
   "source": [
    "### 4.4  Рассчитаем среднюю прибыль и риски убытков по региону №1."
   ]
  },
  {
   "cell_type": "code",
   "execution_count": 82,
   "metadata": {
    "scrolled": true
   },
   "outputs": [
    {
     "data": {
      "text/plain": [
       "0      5.419387e+08\n",
       "1      2.008970e+08\n",
       "2      1.295538e+08\n",
       "3      5.862250e+08\n",
       "4      5.512065e+08\n",
       "           ...     \n",
       "995    5.805026e+08\n",
       "996    6.053826e+08\n",
       "997    5.447999e+08\n",
       "998    1.218984e+09\n",
       "999    3.971375e+08\n",
       "Length: 1000, dtype: float64"
      ]
     },
     "execution_count": 82,
     "metadata": {},
     "output_type": "execute_result"
    }
   ],
   "source": [
    "profit_bootstrap_region_1 = bootstrap(region_1['product'], region_1['predicted'], 500)\n",
    "profit_bootstrap_region_1 #полученная бутстрепом выборка из прибыли"
   ]
  },
  {
   "cell_type": "code",
   "execution_count": 83,
   "metadata": {},
   "outputs": [
    {
     "name": "stdout",
     "output_type": "stream",
     "text": [
      "Средняя прибыль для региона №2 (в млн.руб.):  663.96\n",
      "0.025-я квантиль прибыли региона №2 (млн.руб.):  206.48\n",
      "Доверительный интервал (млн.руб.): ( 206.48 ; 1191.2 )\n"
     ]
    }
   ],
   "source": [
    "mean_profit_region_1 = round( profit_bootstrap_region_1.mean()/10**6, 2)   #средняя прибыль по региону №1\n",
    "lower_1 = round( profit_bootstrap_region_1.quantile(0.025)/10**6  , 2)  # нижняя граница доверительного интервала\n",
    "upper_1 = round( profit_bootstrap_region_1.quantile(0.975)/10**6 , 2)    # верхняя граница доверительного интервала\n",
    "\n",
    "print(\"Средняя прибыль для региона №2 (в млн.руб.): \", mean_profit_region_1)\n",
    "print('0.025-я квантиль прибыли региона №2 (млн.руб.): ', lower_1)\n",
    "print('Доверительный интервал (млн.руб.): (',lower_1, ';', upper_1, ')')"
   ]
  },
  {
   "cell_type": "code",
   "execution_count": 84,
   "metadata": {
    "scrolled": false
   },
   "outputs": [
    {
     "data": {
      "image/png": "[encoded data removed]",
      "text/plain": [
       "<Figure size 432x288 with 1 Axes>"
      ]
     },
     "metadata": {
      "needs_background": "light"
     },
     "output_type": "display_data"
    }
   ],
   "source": [
    "ax = sns.distplot(profit_bootstrap_region_1);\n",
    "ax.axvline(np.quantile(profit_bootstrap_region_1, 0.025),linestyle = '--',color='r');\n",
    "plt.title(\"Распределение прибыли в регионе № 1\");"
   ]
  },
  {
   "cell_type": "markdown",
   "metadata": {},
   "source": [
    "Посчитаем риск убытков по региону №1."
   ]
  },
  {
   "cell_type": "code",
   "execution_count": 85,
   "metadata": {},
   "outputs": [
    {
     "data": {
      "text/plain": [
       "0.001"
      ]
     },
     "execution_count": 85,
     "metadata": {},
     "output_type": "execute_result"
    }
   ],
   "source": [
    "loss_risk_1 = profit_bootstrap_region_1[profit_bootstrap_region_1 < 0].count() / profit_bootstrap_region_1.count()\n",
    "loss_risk_1"
   ]
  },
  {
   "cell_type": "markdown",
   "metadata": {},
   "source": [
    "Дополним отчетный список данными  по региону № 1."
   ]
  },
  {
   "cell_type": "code",
   "execution_count": 86,
   "metadata": {},
   "outputs": [
    {
     "data": {
      "text/plain": [
       "[['region_0', 600.74, 12.95, (12.95, 1231.16), 0.02],\n",
       " ['region_1', 663.96, 206.48, (206.48, 1191.2), 0.001]]"
      ]
     },
     "execution_count": 86,
     "metadata": {},
     "output_type": "execute_result"
    }
   ],
   "source": [
    "profit_report.append(['region_1', mean_profit_region_1, lower_1, \n",
    "                      (lower_1, upper_1), loss_risk_1])\n",
    "profit_report"
   ]
  },
  {
   "cell_type": "markdown",
   "metadata": {},
   "source": [
    "### 4.5  Рассчитаем среднюю прибыль и риски убытков по региону №2."
   ]
  },
  {
   "cell_type": "code",
   "execution_count": 87,
   "metadata": {
    "scrolled": true
   },
   "outputs": [
    {
     "data": {
      "text/plain": [
       "0      8.627840e+08\n",
       "1      7.651569e+08\n",
       "2      3.418420e+08\n",
       "3      6.876462e+08\n",
       "4      6.528601e+08\n",
       "           ...     \n",
       "995    5.793411e+08\n",
       "996    3.741776e+08\n",
       "997    5.385141e+08\n",
       "998    9.475967e+08\n",
       "999    6.003961e+07\n",
       "Length: 1000, dtype: float64"
      ]
     },
     "execution_count": 87,
     "metadata": {},
     "output_type": "execute_result"
    }
   ],
   "source": [
    "profit_bootstrap_region_2 = bootstrap(region_2['product'], region_2['predicted'], 500)\n",
    "profit_bootstrap_region_2 #полученная бутстрепом выборка из прибыли"
   ]
  },
  {
   "cell_type": "code",
   "execution_count": 88,
   "metadata": {},
   "outputs": [
    {
     "name": "stdout",
     "output_type": "stream",
     "text": [
      "Средняя прибыль для региона №2 (в млн.руб.):  597.38\n",
      "0.025-я квантиль прибыли региона №2 (млн.руб.):  1.73\n",
      "Доверительный интервал (млн.руб.): ( 1.73 ; 1246.22 )\n"
     ]
    }
   ],
   "source": [
    "mean_profit_region_2 = round( profit_bootstrap_region_2.mean()/10**6, 2)   #средняя прибыль по региону №2\n",
    "lower_2 = round( profit_bootstrap_region_2.quantile(0.025)/10**6  , 2)  # нижняя граница доверительного интервала\n",
    "upper_2 = round( profit_bootstrap_region_2.quantile(0.975)/10**6 , 2)    # верхняя граница доверительного интервала\n",
    "\n",
    "print(\"Средняя прибыль для региона №2 (в млн.руб.): \", mean_profit_region_2)\n",
    "print('0.025-я квантиль прибыли региона №2 (млн.руб.): ', lower_2)\n",
    "print('Доверительный интервал (млн.руб.): (',lower_2, ';', upper_2, ')')"
   ]
  },
  {
   "cell_type": "code",
   "execution_count": 89,
   "metadata": {
    "scrolled": true
   },
   "outputs": [
    {
     "data": {
      "image/png": "[encoded data removed]",
      "text/plain": [
       "<Figure size 432x288 with 1 Axes>"
      ]
     },
     "metadata": {
      "needs_background": "light"
     },
     "output_type": "display_data"
    }
   ],
   "source": [
    "ax = sns.distplot(profit_bootstrap_region_2);\n",
    "ax.axvline(np.quantile(profit_bootstrap_region_2, 0.025),linestyle = '--',color='r');\n",
    "plt.title(\"Распределение прибыли в регионе № 2\");"
   ]
  },
  {
   "cell_type": "markdown",
   "metadata": {},
   "source": [
    "Посчитаем риск убытков по региону №2."
   ]
  },
  {
   "cell_type": "code",
   "execution_count": 90,
   "metadata": {},
   "outputs": [
    {
     "data": {
      "text/plain": [
       "0.025"
      ]
     },
     "execution_count": 90,
     "metadata": {},
     "output_type": "execute_result"
    }
   ],
   "source": [
    "loss_risk_2 = profit_bootstrap_region_2[profit_bootstrap_region_2 < 0].count() / profit_bootstrap_region_2.count()\n",
    "loss_risk_2"
   ]
  },
  {
   "cell_type": "markdown",
   "metadata": {},
   "source": [
    "Дополним отчет данными  по региону № 2."
   ]
  },
  {
   "cell_type": "code",
   "execution_count": 91,
   "metadata": {
    "scrolled": true
   },
   "outputs": [
    {
     "data": {
      "text/plain": [
       "[['region_0', 600.74, 12.95, (12.95, 1231.16), 0.02],\n",
       " ['region_1', 663.96, 206.48, (206.48, 1191.2), 0.001],\n",
       " ['region_2', 597.38, 1.73, (1.73, 1246.22), 0.025]]"
      ]
     },
     "execution_count": 91,
     "metadata": {},
     "output_type": "execute_result"
    }
   ],
   "source": [
    "profit_report.append(['region_2', mean_profit_region_2, lower_2, \n",
    "                      (lower_2, upper_2), loss_risk_2])\n",
    "profit_report"
   ]
  },
  {
   "cell_type": "markdown",
   "metadata": {},
   "source": [
    "# 5. Анализ результатов. Выбор региона для разработки"
   ]
  },
  {
   "cell_type": "markdown",
   "metadata": {},
   "source": [
    "Распределение прибыли по всем трем регионам - нормальное или близко к нормальному. В принципе, при таком колоколо-образном распределении, как у регионов № 1 и №2 для поиска доверительного интервала можно было мы использовать функцию st.t.interval их библиотеки scipy, но поскольку распределение прибыли для первого региона не идеально похоже на нормальное, мы решили использовать квантили для определения доверительного интервала всех трех регионов."
   ]
  },
  {
   "cell_type": "markdown",
   "metadata": {},
   "source": [
    "Выведем сводную информацию результатов по трем регионам."
   ]
  },
  {
   "cell_type": "code",
   "execution_count": 92,
   "metadata": {
    "scrolled": false
   },
   "outputs": [
    {
     "data": {
      "text/html": [
       "<style  type=\"text/css\" >\n",
       "#T_9625d_row1_col1,#T_9625d_row1_col2,#T_9625d_row2_col4{\n",
       "            background-color:  lightblue;\n",
       "        }</style><table id=\"T_9625d_\" ><thead>    <tr>        <th class=\"blank level0\" ></th>        <th class=\"col_heading level0 col0\" >region</th>        <th class=\"col_heading level0 col1\" >mean_revenue</th>        <th class=\"col_heading level0 col2\" >2.5%-quantile</th>        <th class=\"col_heading level0 col3\" >95%_conf_int</th>        <th class=\"col_heading level0 col4\" >loss_risk</th>    </tr></thead><tbody>\n",
       "                <tr>\n",
       "                        <th id=\"T_9625d_level0_row0\" class=\"row_heading level0 row0\" >0</th>\n",
       "                        <td id=\"T_9625d_row0_col0\" class=\"data row0 col0\" >region_0</td>\n",
       "                        <td id=\"T_9625d_row0_col1\" class=\"data row0 col1\" >600.740000</td>\n",
       "                        <td id=\"T_9625d_row0_col2\" class=\"data row0 col2\" >12.950000</td>\n",
       "                        <td id=\"T_9625d_row0_col3\" class=\"data row0 col3\" >(12.95, 1231.16)</td>\n",
       "                        <td id=\"T_9625d_row0_col4\" class=\"data row0 col4\" >0.020000</td>\n",
       "            </tr>\n",
       "            <tr>\n",
       "                        <th id=\"T_9625d_level0_row1\" class=\"row_heading level0 row1\" >1</th>\n",
       "                        <td id=\"T_9625d_row1_col0\" class=\"data row1 col0\" >region_1</td>\n",
       "                        <td id=\"T_9625d_row1_col1\" class=\"data row1 col1\" >663.960000</td>\n",
       "                        <td id=\"T_9625d_row1_col2\" class=\"data row1 col2\" >206.480000</td>\n",
       "                        <td id=\"T_9625d_row1_col3\" class=\"data row1 col3\" >(206.48, 1191.2)</td>\n",
       "                        <td id=\"T_9625d_row1_col4\" class=\"data row1 col4\" >0.001000</td>\n",
       "            </tr>\n",
       "            <tr>\n",
       "                        <th id=\"T_9625d_level0_row2\" class=\"row_heading level0 row2\" >2</th>\n",
       "                        <td id=\"T_9625d_row2_col0\" class=\"data row2 col0\" >region_2</td>\n",
       "                        <td id=\"T_9625d_row2_col1\" class=\"data row2 col1\" >597.380000</td>\n",
       "                        <td id=\"T_9625d_row2_col2\" class=\"data row2 col2\" >1.730000</td>\n",
       "                        <td id=\"T_9625d_row2_col3\" class=\"data row2 col3\" >(1.73, 1246.22)</td>\n",
       "                        <td id=\"T_9625d_row2_col4\" class=\"data row2 col4\" >0.025000</td>\n",
       "            </tr>\n",
       "    </tbody></table>"
      ],
      "text/plain": [
       "<pandas.io.formats.style.Styler at 0x1148e0c8>"
      ]
     },
     "execution_count": 92,
     "metadata": {},
     "output_type": "execute_result"
    }
   ],
   "source": [
    "profit_report_df = pd.DataFrame(profit_report, columns=['region', 'mean_revenue', '2.5%-quantile', '95%_conf_int', 'loss_risk'])\n",
    "profit_report_df.style.highlight_max(color='lightblue', axis = 0)"
   ]
  },
  {
   "cell_type": "markdown",
   "metadata": {},
   "source": [
    "Прежде всего напомним, что ранее мы отмечали синтетичность данных и странность распределений запасов нефти по регионам, в особенности для региона №1. Необходимо учитывать это при принятии решения на будущее.<br> \n",
    "\n",
    "Среднее значение прибыли по регионам колеблется в интервале от 597 до 664 млн.рублей: это не такой уж и большой разброс  средней прибыли (в пределах 10%). Однако 0.025-я квантиль уже имеет очень большой разброс: в регионе №1 - 206 млн.руб., а в регионе №2 - всего 1,7 млн.руб.  То есть распределение прибыли в регионе № 1  гораздо \"кучнее\" расположено вокруг среднего значения, чем у регионов №0 и №2 (это заметно и на графиках распределения), да и само среднее значение у региона №1 (664 млн. руб.) - выше, чем у остальных регионов.<br>\n",
    "Аналогично обстоят дела и с риском убытков: у нулевого и второго регионов значения риска убытков близки (2 и 2,5%), а у региона №1 риск убытков минимален и составляет всего 0,1%.<br> \n",
    "\n",
    "**Следовательно, по совокупности факторов выигрывает регион № 1: с вероятностью 95% прибыль от разработки новых 200 скважин составит от 206,5 до 1191 млн.руб., ожидаемое (среднее) значение прибыли - 664 млн.руб., риск убытков - 0,1%.**<br>\n",
    "\n",
    "**ТАКИМ ОБРАЗОМ, ПРЕДЛАГАЕМЫЙ К РАЗРАБОТКЕ НОВЫХ СКВАЖИН РЕГИОН - №1** (c учетом вышеизложенных оговорок)."
   ]
  },
  {
   "cell_type": "code",
   "execution_count": null,
   "metadata": {},
   "outputs": [],
   "source": []
  }
 ],
 "metadata": {
  "kernelspec": {
   "display_name": "Python 3",
   "language": "python",
   "name": "python3"
  },
  "language_info": {
   "codemirror_mode": {
    "name": "ipython",
    "version": 3
   },
   "file_extension": ".py",
   "mimetype": "text/x-python",
   "name": "python",
   "nbconvert_exporter": "python",
   "pygments_lexer": "ipython3",
   "version": "3.7.9"
  }
 },
 "nbformat": 4,
 "nbformat_minor": 2
}
