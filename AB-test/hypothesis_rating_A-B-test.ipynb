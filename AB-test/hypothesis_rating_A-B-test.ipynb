{
 "cells": [
  {
   "cell_type": "markdown",
   "metadata": {},
   "source": [
    "# Проект 7. Приоритезация гипотез и анализ А/В-теста "
   ]
  },
  {
   "cell_type": "markdown",
   "metadata": {},
   "source": [
    "## Введение"
   ]
  },
  {
   "cell_type": "markdown",
   "metadata": {},
   "source": [
    "### Описание проекта "
   ]
  },
  {
   "cell_type": "markdown",
   "metadata": {},
   "source": [
    "Для крупного интернет-магазина вместе с отделом маркетинга был подготовлен список гипотез для увеличения выручки.<br>\n",
    "Необходимо приоритезировать гипотезы, запустить A/B-тест и проанализовать результаты. <br>\n",
    "Проект будет состоять из 2х частей."
   ]
  },
  {
   "cell_type": "markdown",
   "metadata": {},
   "source": [
    "### Описание данных "
   ]
  },
  {
   "cell_type": "markdown",
   "metadata": {},
   "source": [
    "Данные для части 1.<br>\n",
    "Файл /datasets/hypothesis.csv. Содержит 9 гипотез по увеличению выручки интернет-магазина с указанными параметрами Reach, Impact, Confidence, Effort.<br>\n",
    "•\tHypothesis — краткое описание гипотезы;<br>\n",
    "•\tReach — охват пользователей по 10-балльной шкале;<br>\n",
    "•\tImpact — влияние на пользователей по 10-балльной шкале;<br>\n",
    "•\tConfidence — уверенность в гипотезе по 10-балльной шкале;<br>\n",
    "•\tEfforts — затраты ресурсов на проверку гипотезы по 10-балльной шкале. Чем больше значение Efforts, тем дороже проверка гипотезы.<br>\n",
    "\n",
    "Данные для части 2.<br>\n",
    "После проведения A/B-теста получили результаты, которые описаны в следующих файлах:<br>\n",
    "Файл /datasets/orders.csv. <br>\n",
    "•\ttransactionId — идентификатор заказа;<br>\n",
    "•\tvisitorId — идентификатор пользователя, совершившего заказ;<br>\n",
    "•\tdate — дата, когда был совершён заказ;<br>\n",
    "•\trevenue — выручка заказа;<br>\n",
    "•\tgroup — группа A/B-теста, в которую попал заказ.<br>\n",
    "Файл /datasets/visitors.csv. <br>\n",
    "•\tdate — дата;<br>\n",
    "•\tgroup — группа A/B-теста;<br>\n",
    "•\tvisitors — количество пользователей в указанную дату в указанной группе A/B-теста<br>\n"
   ]
  },
  {
   "cell_type": "markdown",
   "metadata": {},
   "source": [
    "### План исследования "
   ]
  },
  {
   "cell_type": "markdown",
   "metadata": {},
   "source": [
    "Часть 1. Приоритизация гипотез.<br>\n",
    "- [1.0 Загрузка данных и подготовка их к анализу](#prepare_1) \n",
    "- [1.1 Применение фреймворка ICE для приоритезации гипотез](#ICE)\n",
    "- [1.2 Применение фреймворка RICE для приоритезации гипотез](#RICE)\n",
    "- [1.3 Сравнение ICE и RICE](#vs)\n",
    "<br>\n",
    "\n",
    "Часть 2. Анализ A/B-теста.<br>\n",
    "\n",
    "- [2.0 Загрузка данных и подготовка их к анализу](#prepare_2)\n",
    "- [2.1 Анализ кумулятивной выручки по группам](#кум_выручка) <br>\n",
    "- [2.2 Анализ кумулятивного среднего чека по группам](#кум_средн_чек) <br>\n",
    "- [2.3 Анализ относительного изменения кумулятивного среднего чека группы B к группе A](#отн_изм_средн_чека) <br>\n",
    "- [2.4 Анализ кумулятивной конверсии по группам](#кум_конверсия) <br>\n",
    "- [2.5 Анализ относительного изменения кумулятивной конверсии группы B к группе A](#отн_изм_конверсии) <br>\n",
    "- [2.6 Анализ количества заказов по пользователям](#количество_заказов) <br>\n",
    "- [2.7 Определение выбросов и всплесков в количестве заказов на пользователя. Выбор границы для определения аномальных пользователей](#выбросы_в_заказах_граница)<br>\n",
    "- [2.8 Анализ стоимостей заказов](#стоимость_заказов) <br>\n",
    "- [2.9 Определение выбросов и всплесков в стоимости заказов. Выбор границы для определения аномальных заказов](#выбросы_в_стоимостях_граница)<br>\n",
    "- [2.10 Расчет статистической значимости различий в конверсии между группами по «сырым» данным](#сырые_стат_знач_конверсия)<br>\n",
    "- [2.11 Расчет статистической значимости различий в среднем чеке заказа между группами по «сырым» данным](#сырые_стат_знач_средн_чек) <br>\n",
    "- [2.12 Расчет статистической значимости различий в конверсии между группами по «очищенным» данным](#очищенные_стат_знач_конверсия) <br>\n",
    "- [2.13 Расчет статистической значимости различий в среднем чеке заказа между группами по «очищенным» данным](#очищенные_стат_знач_средн_чек) <br>\n",
    "- [2.14 Принятие решения по результатам теста](#решение_по_рез_теста) \n",
    "\n",
    "Часть 3. [Общий вывод](#conclusions)<br>"
   ]
  },
  {
   "cell_type": "markdown",
   "metadata": {},
   "source": [
    "## Часть 1.  Приоретизация гипотез"
   ]
  },
  {
   "cell_type": "markdown",
   "metadata": {},
   "source": [
    "### 1.0 Загрузка данных и предобработка <a id='prepare_1'></a>"
   ]
  },
  {
   "cell_type": "code",
   "execution_count": 1,
   "metadata": {},
   "outputs": [],
   "source": [
    "import pandas as pd\n",
    "import numpy as np\n",
    "import datetime as dt\n",
    "from scipy import stats as st\n",
    "%matplotlib inline\n",
    "from matplotlib import pyplot as plt\n",
    "import matplotlib.ticker as ticker\n",
    "\n",
    "from IPython.display import display\n",
    "import seaborn as sns\n",
    "import warnings\n",
    "warnings.filterwarnings(\"ignore\") \n"
   ]
  },
  {
   "cell_type": "code",
   "execution_count": 2,
   "metadata": {
    "scrolled": false
   },
   "outputs": [
    {
     "data": {
      "text/html": [
       "<div>\n",
       "<style scoped>\n",
       "    .dataframe tbody tr th:only-of-type {\n",
       "        vertical-align: middle;\n",
       "    }\n",
       "\n",
       "    .dataframe tbody tr th {\n",
       "        vertical-align: top;\n",
       "    }\n",
       "\n",
       "    .dataframe thead th {\n",
       "        text-align: right;\n",
       "    }\n",
       "</style>\n",
       "<table border=\"1\" class=\"dataframe\">\n",
       "  <thead>\n",
       "    <tr style=\"text-align: right;\">\n",
       "      <th></th>\n",
       "      <th>Hypothesis</th>\n",
       "      <th>Reach</th>\n",
       "      <th>Impact</th>\n",
       "      <th>Confidence</th>\n",
       "      <th>Efforts</th>\n",
       "    </tr>\n",
       "  </thead>\n",
       "  <tbody>\n",
       "    <tr>\n",
       "      <td>0</td>\n",
       "      <td>Добавить два новых канала привлечения трафика, что позволит привлекать на 30% больше пользователей</td>\n",
       "      <td>3</td>\n",
       "      <td>10</td>\n",
       "      <td>8</td>\n",
       "      <td>6</td>\n",
       "    </tr>\n",
       "    <tr>\n",
       "      <td>1</td>\n",
       "      <td>Запустить собственную службу доставки, что сократит срок доставки заказов</td>\n",
       "      <td>2</td>\n",
       "      <td>5</td>\n",
       "      <td>4</td>\n",
       "      <td>10</td>\n",
       "    </tr>\n",
       "    <tr>\n",
       "      <td>2</td>\n",
       "      <td>Добавить блоки рекомендаций товаров на сайт интернет магазина, чтобы повысить конверсию и средний чек заказа</td>\n",
       "      <td>8</td>\n",
       "      <td>3</td>\n",
       "      <td>7</td>\n",
       "      <td>3</td>\n",
       "    </tr>\n",
       "    <tr>\n",
       "      <td>3</td>\n",
       "      <td>Изменить структура категорий, что увеличит конверсию, т.к. пользователи быстрее найдут нужный товар</td>\n",
       "      <td>8</td>\n",
       "      <td>3</td>\n",
       "      <td>3</td>\n",
       "      <td>8</td>\n",
       "    </tr>\n",
       "    <tr>\n",
       "      <td>4</td>\n",
       "      <td>Изменить цвет фона главной страницы, чтобы увеличить вовлеченность пользователей</td>\n",
       "      <td>3</td>\n",
       "      <td>1</td>\n",
       "      <td>1</td>\n",
       "      <td>1</td>\n",
       "    </tr>\n",
       "    <tr>\n",
       "      <td>5</td>\n",
       "      <td>Добавить страницу отзывов клиентов о магазине, что позволит увеличить количество заказов</td>\n",
       "      <td>3</td>\n",
       "      <td>2</td>\n",
       "      <td>2</td>\n",
       "      <td>3</td>\n",
       "    </tr>\n",
       "    <tr>\n",
       "      <td>6</td>\n",
       "      <td>Показать на главной странице баннеры с актуальными акциями и распродажами, чтобы увеличить конверсию</td>\n",
       "      <td>5</td>\n",
       "      <td>3</td>\n",
       "      <td>8</td>\n",
       "      <td>3</td>\n",
       "    </tr>\n",
       "    <tr>\n",
       "      <td>7</td>\n",
       "      <td>Добавить форму подписки на все основные страницы, чтобы собрать базу клиентов для email-рассылок</td>\n",
       "      <td>10</td>\n",
       "      <td>7</td>\n",
       "      <td>8</td>\n",
       "      <td>5</td>\n",
       "    </tr>\n",
       "    <tr>\n",
       "      <td>8</td>\n",
       "      <td>Запустить акцию, дающую скидку на товар в день рождения</td>\n",
       "      <td>1</td>\n",
       "      <td>9</td>\n",
       "      <td>9</td>\n",
       "      <td>5</td>\n",
       "    </tr>\n",
       "  </tbody>\n",
       "</table>\n",
       "</div>"
      ],
      "text/plain": [
       "                                                                                                     Hypothesis  \\\n",
       "0            Добавить два новых канала привлечения трафика, что позволит привлекать на 30% больше пользователей   \n",
       "1                                     Запустить собственную службу доставки, что сократит срок доставки заказов   \n",
       "2  Добавить блоки рекомендаций товаров на сайт интернет магазина, чтобы повысить конверсию и средний чек заказа   \n",
       "3           Изменить структура категорий, что увеличит конверсию, т.к. пользователи быстрее найдут нужный товар   \n",
       "4                              Изменить цвет фона главной страницы, чтобы увеличить вовлеченность пользователей   \n",
       "5                      Добавить страницу отзывов клиентов о магазине, что позволит увеличить количество заказов   \n",
       "6          Показать на главной странице баннеры с актуальными акциями и распродажами, чтобы увеличить конверсию   \n",
       "7              Добавить форму подписки на все основные страницы, чтобы собрать базу клиентов для email-рассылок   \n",
       "8                                                       Запустить акцию, дающую скидку на товар в день рождения   \n",
       "\n",
       "   Reach  Impact  Confidence  Efforts  \n",
       "0      3      10           8        6  \n",
       "1      2       5           4       10  \n",
       "2      8       3           7        3  \n",
       "3      8       3           3        8  \n",
       "4      3       1           1        1  \n",
       "5      3       2           2        3  \n",
       "6      5       3           8        3  \n",
       "7     10       7           8        5  \n",
       "8      1       9           9        5  "
      ]
     },
     "metadata": {},
     "output_type": "display_data"
    },
    {
     "name": "stdout",
     "output_type": "stream",
     "text": [
      "<class 'pandas.core.frame.DataFrame'>\n",
      "RangeIndex: 9 entries, 0 to 8\n",
      "Data columns (total 5 columns):\n",
      "Hypothesis    9 non-null object\n",
      "Reach         9 non-null int64\n",
      "Impact        9 non-null int64\n",
      "Confidence    9 non-null int64\n",
      "Efforts       9 non-null int64\n",
      "dtypes: int64(4), object(1)\n",
      "memory usage: 488.0+ bytes\n"
     ]
    }
   ],
   "source": [
    "hypothesis  = pd.read_csv('/datasets/hypothesis.csv') \n",
    "pd.set_option('display.max_columns', None)   # устанавливаем параметр, чтобы показывать содержание ячейки полностью\n",
    "pd.options.display.max_colwidth = 150        # устанавливаем максимальную ширину колонки\n",
    "display(hypothesis)\n",
    "hypothesis.info()"
   ]
  },
  {
   "cell_type": "code",
   "execution_count": 3,
   "metadata": {
    "scrolled": false
   },
   "outputs": [
    {
     "data": {
      "text/html": [
       "<div>\n",
       "<style scoped>\n",
       "    .dataframe tbody tr th:only-of-type {\n",
       "        vertical-align: middle;\n",
       "    }\n",
       "\n",
       "    .dataframe tbody tr th {\n",
       "        vertical-align: top;\n",
       "    }\n",
       "\n",
       "    .dataframe thead th {\n",
       "        text-align: right;\n",
       "    }\n",
       "</style>\n",
       "<table border=\"1\" class=\"dataframe\">\n",
       "  <thead>\n",
       "    <tr style=\"text-align: right;\">\n",
       "      <th></th>\n",
       "      <th>Reach</th>\n",
       "      <th>Impact</th>\n",
       "      <th>Confidence</th>\n",
       "      <th>Efforts</th>\n",
       "    </tr>\n",
       "  </thead>\n",
       "  <tbody>\n",
       "    <tr>\n",
       "      <td>count</td>\n",
       "      <td>9.000000</td>\n",
       "      <td>9.000000</td>\n",
       "      <td>9.000000</td>\n",
       "      <td>9.000000</td>\n",
       "    </tr>\n",
       "    <tr>\n",
       "      <td>mean</td>\n",
       "      <td>4.777778</td>\n",
       "      <td>4.777778</td>\n",
       "      <td>5.555556</td>\n",
       "      <td>4.888889</td>\n",
       "    </tr>\n",
       "    <tr>\n",
       "      <td>std</td>\n",
       "      <td>3.153481</td>\n",
       "      <td>3.192874</td>\n",
       "      <td>3.045944</td>\n",
       "      <td>2.803767</td>\n",
       "    </tr>\n",
       "    <tr>\n",
       "      <td>min</td>\n",
       "      <td>1.000000</td>\n",
       "      <td>1.000000</td>\n",
       "      <td>1.000000</td>\n",
       "      <td>1.000000</td>\n",
       "    </tr>\n",
       "    <tr>\n",
       "      <td>25%</td>\n",
       "      <td>3.000000</td>\n",
       "      <td>3.000000</td>\n",
       "      <td>3.000000</td>\n",
       "      <td>3.000000</td>\n",
       "    </tr>\n",
       "    <tr>\n",
       "      <td>50%</td>\n",
       "      <td>3.000000</td>\n",
       "      <td>3.000000</td>\n",
       "      <td>7.000000</td>\n",
       "      <td>5.000000</td>\n",
       "    </tr>\n",
       "    <tr>\n",
       "      <td>75%</td>\n",
       "      <td>8.000000</td>\n",
       "      <td>7.000000</td>\n",
       "      <td>8.000000</td>\n",
       "      <td>6.000000</td>\n",
       "    </tr>\n",
       "    <tr>\n",
       "      <td>max</td>\n",
       "      <td>10.000000</td>\n",
       "      <td>10.000000</td>\n",
       "      <td>9.000000</td>\n",
       "      <td>10.000000</td>\n",
       "    </tr>\n",
       "  </tbody>\n",
       "</table>\n",
       "</div>"
      ],
      "text/plain": [
       "           Reach     Impact  Confidence    Efforts\n",
       "count   9.000000   9.000000    9.000000   9.000000\n",
       "mean    4.777778   4.777778    5.555556   4.888889\n",
       "std     3.153481   3.192874    3.045944   2.803767\n",
       "min     1.000000   1.000000    1.000000   1.000000\n",
       "25%     3.000000   3.000000    3.000000   3.000000\n",
       "50%     3.000000   3.000000    7.000000   5.000000\n",
       "75%     8.000000   7.000000    8.000000   6.000000\n",
       "max    10.000000  10.000000    9.000000  10.000000"
      ]
     },
     "execution_count": 3,
     "metadata": {},
     "output_type": "execute_result"
    }
   ],
   "source": [
    "hypothesis.describe()"
   ]
  },
  {
   "cell_type": "markdown",
   "metadata": {},
   "source": [
    "Пропусков в данных нет. Шкала параметров от 1 до 10."
   ]
  },
  {
   "cell_type": "markdown",
   "metadata": {},
   "source": [
    "Отформатируем названия столбцов."
   ]
  },
  {
   "cell_type": "code",
   "execution_count": 4,
   "metadata": {
    "scrolled": false
   },
   "outputs": [
    {
     "data": {
      "text/plain": [
       "Index(['hypothesis', 'reach', 'impact', 'confidence', 'efforts'], dtype='object')"
      ]
     },
     "execution_count": 4,
     "metadata": {},
     "output_type": "execute_result"
    }
   ],
   "source": [
    "hypothesis.columns=hypothesis.columns.str.lower()\n",
    "hypothesis.columns"
   ]
  },
  {
   "cell_type": "markdown",
   "metadata": {},
   "source": [
    "### 1.1  Применение фреймворка ICE для приоритезации гипотез <a id='ICE'></a>"
   ]
  },
  {
   "cell_type": "markdown",
   "metadata": {},
   "source": [
    "Приоритезируем гипотезы по методу `ICE`."
   ]
  },
  {
   "cell_type": "code",
   "execution_count": 5,
   "metadata": {
    "scrolled": true
   },
   "outputs": [
    {
     "data": {
      "text/html": [
       "<style  type=\"text/css\" >\n",
       "</style><table id=\"T_11cf79b8_eafc_11ea_bfa6_02420a393eea\" ><thead>    <tr>        <th class=\"blank level0\" ></th>        <th class=\"col_heading level0 col0\" >hypothesis</th>        <th class=\"col_heading level0 col1\" >reach</th>        <th class=\"col_heading level0 col2\" >impact</th>        <th class=\"col_heading level0 col3\" >confidence</th>        <th class=\"col_heading level0 col4\" >efforts</th>        <th class=\"col_heading level0 col5\" >ICE</th>    </tr></thead><tbody>\n",
       "                <tr>\n",
       "                        <th id=\"T_11cf79b8_eafc_11ea_bfa6_02420a393eealevel0_row0\" class=\"row_heading level0 row0\" >8</th>\n",
       "                        <td id=\"T_11cf79b8_eafc_11ea_bfa6_02420a393eearow0_col0\" class=\"data row0 col0\" >Запустить акцию, дающую скидку на товар в день рождения</td>\n",
       "                        <td id=\"T_11cf79b8_eafc_11ea_bfa6_02420a393eearow0_col1\" class=\"data row0 col1\" >1</td>\n",
       "                        <td id=\"T_11cf79b8_eafc_11ea_bfa6_02420a393eearow0_col2\" class=\"data row0 col2\" >9</td>\n",
       "                        <td id=\"T_11cf79b8_eafc_11ea_bfa6_02420a393eearow0_col3\" class=\"data row0 col3\" >9</td>\n",
       "                        <td id=\"T_11cf79b8_eafc_11ea_bfa6_02420a393eearow0_col4\" class=\"data row0 col4\" >5</td>\n",
       "                        <td id=\"T_11cf79b8_eafc_11ea_bfa6_02420a393eearow0_col5\" class=\"data row0 col5\" >16.2</td>\n",
       "            </tr>\n",
       "            <tr>\n",
       "                        <th id=\"T_11cf79b8_eafc_11ea_bfa6_02420a393eealevel0_row1\" class=\"row_heading level0 row1\" >0</th>\n",
       "                        <td id=\"T_11cf79b8_eafc_11ea_bfa6_02420a393eearow1_col0\" class=\"data row1 col0\" >Добавить два новых канала привлечения трафика, что позволит привлекать на 30% больше пользователей</td>\n",
       "                        <td id=\"T_11cf79b8_eafc_11ea_bfa6_02420a393eearow1_col1\" class=\"data row1 col1\" >3</td>\n",
       "                        <td id=\"T_11cf79b8_eafc_11ea_bfa6_02420a393eearow1_col2\" class=\"data row1 col2\" >10</td>\n",
       "                        <td id=\"T_11cf79b8_eafc_11ea_bfa6_02420a393eearow1_col3\" class=\"data row1 col3\" >8</td>\n",
       "                        <td id=\"T_11cf79b8_eafc_11ea_bfa6_02420a393eearow1_col4\" class=\"data row1 col4\" >6</td>\n",
       "                        <td id=\"T_11cf79b8_eafc_11ea_bfa6_02420a393eearow1_col5\" class=\"data row1 col5\" >13.3</td>\n",
       "            </tr>\n",
       "            <tr>\n",
       "                        <th id=\"T_11cf79b8_eafc_11ea_bfa6_02420a393eealevel0_row2\" class=\"row_heading level0 row2\" >7</th>\n",
       "                        <td id=\"T_11cf79b8_eafc_11ea_bfa6_02420a393eearow2_col0\" class=\"data row2 col0\" >Добавить форму подписки на все основные страницы, чтобы собрать базу клиентов для email-рассылок</td>\n",
       "                        <td id=\"T_11cf79b8_eafc_11ea_bfa6_02420a393eearow2_col1\" class=\"data row2 col1\" >10</td>\n",
       "                        <td id=\"T_11cf79b8_eafc_11ea_bfa6_02420a393eearow2_col2\" class=\"data row2 col2\" >7</td>\n",
       "                        <td id=\"T_11cf79b8_eafc_11ea_bfa6_02420a393eearow2_col3\" class=\"data row2 col3\" >8</td>\n",
       "                        <td id=\"T_11cf79b8_eafc_11ea_bfa6_02420a393eearow2_col4\" class=\"data row2 col4\" >5</td>\n",
       "                        <td id=\"T_11cf79b8_eafc_11ea_bfa6_02420a393eearow2_col5\" class=\"data row2 col5\" >11.2</td>\n",
       "            </tr>\n",
       "            <tr>\n",
       "                        <th id=\"T_11cf79b8_eafc_11ea_bfa6_02420a393eealevel0_row3\" class=\"row_heading level0 row3\" >6</th>\n",
       "                        <td id=\"T_11cf79b8_eafc_11ea_bfa6_02420a393eearow3_col0\" class=\"data row3 col0\" >Показать на главной странице баннеры с актуальными акциями и распродажами, чтобы увеличить конверсию</td>\n",
       "                        <td id=\"T_11cf79b8_eafc_11ea_bfa6_02420a393eearow3_col1\" class=\"data row3 col1\" >5</td>\n",
       "                        <td id=\"T_11cf79b8_eafc_11ea_bfa6_02420a393eearow3_col2\" class=\"data row3 col2\" >3</td>\n",
       "                        <td id=\"T_11cf79b8_eafc_11ea_bfa6_02420a393eearow3_col3\" class=\"data row3 col3\" >8</td>\n",
       "                        <td id=\"T_11cf79b8_eafc_11ea_bfa6_02420a393eearow3_col4\" class=\"data row3 col4\" >3</td>\n",
       "                        <td id=\"T_11cf79b8_eafc_11ea_bfa6_02420a393eearow3_col5\" class=\"data row3 col5\" >8.0</td>\n",
       "            </tr>\n",
       "            <tr>\n",
       "                        <th id=\"T_11cf79b8_eafc_11ea_bfa6_02420a393eealevel0_row4\" class=\"row_heading level0 row4\" >2</th>\n",
       "                        <td id=\"T_11cf79b8_eafc_11ea_bfa6_02420a393eearow4_col0\" class=\"data row4 col0\" >Добавить блоки рекомендаций товаров на сайт интернет магазина, чтобы повысить конверсию и средний чек заказа</td>\n",
       "                        <td id=\"T_11cf79b8_eafc_11ea_bfa6_02420a393eearow4_col1\" class=\"data row4 col1\" >8</td>\n",
       "                        <td id=\"T_11cf79b8_eafc_11ea_bfa6_02420a393eearow4_col2\" class=\"data row4 col2\" >3</td>\n",
       "                        <td id=\"T_11cf79b8_eafc_11ea_bfa6_02420a393eearow4_col3\" class=\"data row4 col3\" >7</td>\n",
       "                        <td id=\"T_11cf79b8_eafc_11ea_bfa6_02420a393eearow4_col4\" class=\"data row4 col4\" >3</td>\n",
       "                        <td id=\"T_11cf79b8_eafc_11ea_bfa6_02420a393eearow4_col5\" class=\"data row4 col5\" >7.0</td>\n",
       "            </tr>\n",
       "            <tr>\n",
       "                        <th id=\"T_11cf79b8_eafc_11ea_bfa6_02420a393eealevel0_row5\" class=\"row_heading level0 row5\" >1</th>\n",
       "                        <td id=\"T_11cf79b8_eafc_11ea_bfa6_02420a393eearow5_col0\" class=\"data row5 col0\" >Запустить собственную службу доставки, что сократит срок доставки заказов</td>\n",
       "                        <td id=\"T_11cf79b8_eafc_11ea_bfa6_02420a393eearow5_col1\" class=\"data row5 col1\" >2</td>\n",
       "                        <td id=\"T_11cf79b8_eafc_11ea_bfa6_02420a393eearow5_col2\" class=\"data row5 col2\" >5</td>\n",
       "                        <td id=\"T_11cf79b8_eafc_11ea_bfa6_02420a393eearow5_col3\" class=\"data row5 col3\" >4</td>\n",
       "                        <td id=\"T_11cf79b8_eafc_11ea_bfa6_02420a393eearow5_col4\" class=\"data row5 col4\" >10</td>\n",
       "                        <td id=\"T_11cf79b8_eafc_11ea_bfa6_02420a393eearow5_col5\" class=\"data row5 col5\" >2.0</td>\n",
       "            </tr>\n",
       "            <tr>\n",
       "                        <th id=\"T_11cf79b8_eafc_11ea_bfa6_02420a393eealevel0_row6\" class=\"row_heading level0 row6\" >5</th>\n",
       "                        <td id=\"T_11cf79b8_eafc_11ea_bfa6_02420a393eearow6_col0\" class=\"data row6 col0\" >Добавить страницу отзывов клиентов о магазине, что позволит увеличить количество заказов</td>\n",
       "                        <td id=\"T_11cf79b8_eafc_11ea_bfa6_02420a393eearow6_col1\" class=\"data row6 col1\" >3</td>\n",
       "                        <td id=\"T_11cf79b8_eafc_11ea_bfa6_02420a393eearow6_col2\" class=\"data row6 col2\" >2</td>\n",
       "                        <td id=\"T_11cf79b8_eafc_11ea_bfa6_02420a393eearow6_col3\" class=\"data row6 col3\" >2</td>\n",
       "                        <td id=\"T_11cf79b8_eafc_11ea_bfa6_02420a393eearow6_col4\" class=\"data row6 col4\" >3</td>\n",
       "                        <td id=\"T_11cf79b8_eafc_11ea_bfa6_02420a393eearow6_col5\" class=\"data row6 col5\" >1.3</td>\n",
       "            </tr>\n",
       "            <tr>\n",
       "                        <th id=\"T_11cf79b8_eafc_11ea_bfa6_02420a393eealevel0_row7\" class=\"row_heading level0 row7\" >3</th>\n",
       "                        <td id=\"T_11cf79b8_eafc_11ea_bfa6_02420a393eearow7_col0\" class=\"data row7 col0\" >Изменить структура категорий, что увеличит конверсию, т.к. пользователи быстрее найдут нужный товар</td>\n",
       "                        <td id=\"T_11cf79b8_eafc_11ea_bfa6_02420a393eearow7_col1\" class=\"data row7 col1\" >8</td>\n",
       "                        <td id=\"T_11cf79b8_eafc_11ea_bfa6_02420a393eearow7_col2\" class=\"data row7 col2\" >3</td>\n",
       "                        <td id=\"T_11cf79b8_eafc_11ea_bfa6_02420a393eearow7_col3\" class=\"data row7 col3\" >3</td>\n",
       "                        <td id=\"T_11cf79b8_eafc_11ea_bfa6_02420a393eearow7_col4\" class=\"data row7 col4\" >8</td>\n",
       "                        <td id=\"T_11cf79b8_eafc_11ea_bfa6_02420a393eearow7_col5\" class=\"data row7 col5\" >1.1</td>\n",
       "            </tr>\n",
       "            <tr>\n",
       "                        <th id=\"T_11cf79b8_eafc_11ea_bfa6_02420a393eealevel0_row8\" class=\"row_heading level0 row8\" >4</th>\n",
       "                        <td id=\"T_11cf79b8_eafc_11ea_bfa6_02420a393eearow8_col0\" class=\"data row8 col0\" >Изменить цвет фона главной страницы, чтобы увеличить вовлеченность пользователей</td>\n",
       "                        <td id=\"T_11cf79b8_eafc_11ea_bfa6_02420a393eearow8_col1\" class=\"data row8 col1\" >3</td>\n",
       "                        <td id=\"T_11cf79b8_eafc_11ea_bfa6_02420a393eearow8_col2\" class=\"data row8 col2\" >1</td>\n",
       "                        <td id=\"T_11cf79b8_eafc_11ea_bfa6_02420a393eearow8_col3\" class=\"data row8 col3\" >1</td>\n",
       "                        <td id=\"T_11cf79b8_eafc_11ea_bfa6_02420a393eearow8_col4\" class=\"data row8 col4\" >1</td>\n",
       "                        <td id=\"T_11cf79b8_eafc_11ea_bfa6_02420a393eearow8_col5\" class=\"data row8 col5\" >1.0</td>\n",
       "            </tr>\n",
       "    </tbody></table>"
      ],
      "text/plain": [
       "<pandas.io.formats.style.Styler at 0x7f4f2536f690>"
      ]
     },
     "metadata": {},
     "output_type": "display_data"
    }
   ],
   "source": [
    "hypothesis['ICE']=((hypothesis['impact']*hypothesis['confidence'])/hypothesis['efforts'])\n",
    "display(hypothesis.sort_values(by='ICE',ascending = False).style.format({'ICE':'{:.1f}'}))"
   ]
  },
  {
   "cell_type": "markdown",
   "metadata": {},
   "source": [
    "В первую четверку ***самых перспективных гипотез по методу `ICE`*** вошли гипотезы ***под следующими номерами номерами (в порядке убывания приоритета)***:\n",
    "- ***№8*** \"Запустить акцию, дающую скидку на товар в день рождения\", \n",
    "- ***№0*** \"Добавить два новых канала привлечения трафика, что позволит привлекать на 30% больше пользователей\",\n",
    "- ***№7*** \"Добавить форму подписки на все основные страницы, чтобы собрать базу клиентов для email-рассылок\",\n",
    "- ***№6*** \"Показать на главной странице баннеры с актуальными акциями и распродажами, чтобы увеличить конверсию\".\n",
    "<br>"
   ]
  },
  {
   "cell_type": "markdown",
   "metadata": {},
   "source": [
    "### 1.2 Применение фреймворка RICE для приоритезации гипотез <a id='RICE'></a>"
   ]
  },
  {
   "cell_type": "markdown",
   "metadata": {},
   "source": [
    "Приоритезируем гипотезы по методу `RICE`."
   ]
  },
  {
   "cell_type": "code",
   "execution_count": 6,
   "metadata": {},
   "outputs": [
    {
     "data": {
      "text/html": [
       "<style  type=\"text/css\" >\n",
       "</style><table id=\"T_11d28676_eafc_11ea_bfa6_02420a393eea\" ><thead>    <tr>        <th class=\"blank level0\" ></th>        <th class=\"col_heading level0 col0\" >hypothesis</th>        <th class=\"col_heading level0 col1\" >reach</th>        <th class=\"col_heading level0 col2\" >impact</th>        <th class=\"col_heading level0 col3\" >confidence</th>        <th class=\"col_heading level0 col4\" >efforts</th>        <th class=\"col_heading level0 col5\" >ICE</th>        <th class=\"col_heading level0 col6\" >RICE</th>    </tr></thead><tbody>\n",
       "                <tr>\n",
       "                        <th id=\"T_11d28676_eafc_11ea_bfa6_02420a393eealevel0_row0\" class=\"row_heading level0 row0\" >7</th>\n",
       "                        <td id=\"T_11d28676_eafc_11ea_bfa6_02420a393eearow0_col0\" class=\"data row0 col0\" >Добавить форму подписки на все основные страницы, чтобы собрать базу клиентов для email-рассылок</td>\n",
       "                        <td id=\"T_11d28676_eafc_11ea_bfa6_02420a393eearow0_col1\" class=\"data row0 col1\" >10</td>\n",
       "                        <td id=\"T_11d28676_eafc_11ea_bfa6_02420a393eearow0_col2\" class=\"data row0 col2\" >7</td>\n",
       "                        <td id=\"T_11d28676_eafc_11ea_bfa6_02420a393eearow0_col3\" class=\"data row0 col3\" >8</td>\n",
       "                        <td id=\"T_11d28676_eafc_11ea_bfa6_02420a393eearow0_col4\" class=\"data row0 col4\" >5</td>\n",
       "                        <td id=\"T_11d28676_eafc_11ea_bfa6_02420a393eearow0_col5\" class=\"data row0 col5\" >11.2</td>\n",
       "                        <td id=\"T_11d28676_eafc_11ea_bfa6_02420a393eearow0_col6\" class=\"data row0 col6\" >112.0</td>\n",
       "            </tr>\n",
       "            <tr>\n",
       "                        <th id=\"T_11d28676_eafc_11ea_bfa6_02420a393eealevel0_row1\" class=\"row_heading level0 row1\" >2</th>\n",
       "                        <td id=\"T_11d28676_eafc_11ea_bfa6_02420a393eearow1_col0\" class=\"data row1 col0\" >Добавить блоки рекомендаций товаров на сайт интернет магазина, чтобы повысить конверсию и средний чек заказа</td>\n",
       "                        <td id=\"T_11d28676_eafc_11ea_bfa6_02420a393eearow1_col1\" class=\"data row1 col1\" >8</td>\n",
       "                        <td id=\"T_11d28676_eafc_11ea_bfa6_02420a393eearow1_col2\" class=\"data row1 col2\" >3</td>\n",
       "                        <td id=\"T_11d28676_eafc_11ea_bfa6_02420a393eearow1_col3\" class=\"data row1 col3\" >7</td>\n",
       "                        <td id=\"T_11d28676_eafc_11ea_bfa6_02420a393eearow1_col4\" class=\"data row1 col4\" >3</td>\n",
       "                        <td id=\"T_11d28676_eafc_11ea_bfa6_02420a393eearow1_col5\" class=\"data row1 col5\" >7.0</td>\n",
       "                        <td id=\"T_11d28676_eafc_11ea_bfa6_02420a393eearow1_col6\" class=\"data row1 col6\" >56.0</td>\n",
       "            </tr>\n",
       "            <tr>\n",
       "                        <th id=\"T_11d28676_eafc_11ea_bfa6_02420a393eealevel0_row2\" class=\"row_heading level0 row2\" >0</th>\n",
       "                        <td id=\"T_11d28676_eafc_11ea_bfa6_02420a393eearow2_col0\" class=\"data row2 col0\" >Добавить два новых канала привлечения трафика, что позволит привлекать на 30% больше пользователей</td>\n",
       "                        <td id=\"T_11d28676_eafc_11ea_bfa6_02420a393eearow2_col1\" class=\"data row2 col1\" >3</td>\n",
       "                        <td id=\"T_11d28676_eafc_11ea_bfa6_02420a393eearow2_col2\" class=\"data row2 col2\" >10</td>\n",
       "                        <td id=\"T_11d28676_eafc_11ea_bfa6_02420a393eearow2_col3\" class=\"data row2 col3\" >8</td>\n",
       "                        <td id=\"T_11d28676_eafc_11ea_bfa6_02420a393eearow2_col4\" class=\"data row2 col4\" >6</td>\n",
       "                        <td id=\"T_11d28676_eafc_11ea_bfa6_02420a393eearow2_col5\" class=\"data row2 col5\" >13.3</td>\n",
       "                        <td id=\"T_11d28676_eafc_11ea_bfa6_02420a393eearow2_col6\" class=\"data row2 col6\" >40.0</td>\n",
       "            </tr>\n",
       "            <tr>\n",
       "                        <th id=\"T_11d28676_eafc_11ea_bfa6_02420a393eealevel0_row3\" class=\"row_heading level0 row3\" >6</th>\n",
       "                        <td id=\"T_11d28676_eafc_11ea_bfa6_02420a393eearow3_col0\" class=\"data row3 col0\" >Показать на главной странице баннеры с актуальными акциями и распродажами, чтобы увеличить конверсию</td>\n",
       "                        <td id=\"T_11d28676_eafc_11ea_bfa6_02420a393eearow3_col1\" class=\"data row3 col1\" >5</td>\n",
       "                        <td id=\"T_11d28676_eafc_11ea_bfa6_02420a393eearow3_col2\" class=\"data row3 col2\" >3</td>\n",
       "                        <td id=\"T_11d28676_eafc_11ea_bfa6_02420a393eearow3_col3\" class=\"data row3 col3\" >8</td>\n",
       "                        <td id=\"T_11d28676_eafc_11ea_bfa6_02420a393eearow3_col4\" class=\"data row3 col4\" >3</td>\n",
       "                        <td id=\"T_11d28676_eafc_11ea_bfa6_02420a393eearow3_col5\" class=\"data row3 col5\" >8.0</td>\n",
       "                        <td id=\"T_11d28676_eafc_11ea_bfa6_02420a393eearow3_col6\" class=\"data row3 col6\" >40.0</td>\n",
       "            </tr>\n",
       "            <tr>\n",
       "                        <th id=\"T_11d28676_eafc_11ea_bfa6_02420a393eealevel0_row4\" class=\"row_heading level0 row4\" >8</th>\n",
       "                        <td id=\"T_11d28676_eafc_11ea_bfa6_02420a393eearow4_col0\" class=\"data row4 col0\" >Запустить акцию, дающую скидку на товар в день рождения</td>\n",
       "                        <td id=\"T_11d28676_eafc_11ea_bfa6_02420a393eearow4_col1\" class=\"data row4 col1\" >1</td>\n",
       "                        <td id=\"T_11d28676_eafc_11ea_bfa6_02420a393eearow4_col2\" class=\"data row4 col2\" >9</td>\n",
       "                        <td id=\"T_11d28676_eafc_11ea_bfa6_02420a393eearow4_col3\" class=\"data row4 col3\" >9</td>\n",
       "                        <td id=\"T_11d28676_eafc_11ea_bfa6_02420a393eearow4_col4\" class=\"data row4 col4\" >5</td>\n",
       "                        <td id=\"T_11d28676_eafc_11ea_bfa6_02420a393eearow4_col5\" class=\"data row4 col5\" >16.2</td>\n",
       "                        <td id=\"T_11d28676_eafc_11ea_bfa6_02420a393eearow4_col6\" class=\"data row4 col6\" >16.2</td>\n",
       "            </tr>\n",
       "            <tr>\n",
       "                        <th id=\"T_11d28676_eafc_11ea_bfa6_02420a393eealevel0_row5\" class=\"row_heading level0 row5\" >3</th>\n",
       "                        <td id=\"T_11d28676_eafc_11ea_bfa6_02420a393eearow5_col0\" class=\"data row5 col0\" >Изменить структура категорий, что увеличит конверсию, т.к. пользователи быстрее найдут нужный товар</td>\n",
       "                        <td id=\"T_11d28676_eafc_11ea_bfa6_02420a393eearow5_col1\" class=\"data row5 col1\" >8</td>\n",
       "                        <td id=\"T_11d28676_eafc_11ea_bfa6_02420a393eearow5_col2\" class=\"data row5 col2\" >3</td>\n",
       "                        <td id=\"T_11d28676_eafc_11ea_bfa6_02420a393eearow5_col3\" class=\"data row5 col3\" >3</td>\n",
       "                        <td id=\"T_11d28676_eafc_11ea_bfa6_02420a393eearow5_col4\" class=\"data row5 col4\" >8</td>\n",
       "                        <td id=\"T_11d28676_eafc_11ea_bfa6_02420a393eearow5_col5\" class=\"data row5 col5\" >1.1</td>\n",
       "                        <td id=\"T_11d28676_eafc_11ea_bfa6_02420a393eearow5_col6\" class=\"data row5 col6\" >9.0</td>\n",
       "            </tr>\n",
       "            <tr>\n",
       "                        <th id=\"T_11d28676_eafc_11ea_bfa6_02420a393eealevel0_row6\" class=\"row_heading level0 row6\" >1</th>\n",
       "                        <td id=\"T_11d28676_eafc_11ea_bfa6_02420a393eearow6_col0\" class=\"data row6 col0\" >Запустить собственную службу доставки, что сократит срок доставки заказов</td>\n",
       "                        <td id=\"T_11d28676_eafc_11ea_bfa6_02420a393eearow6_col1\" class=\"data row6 col1\" >2</td>\n",
       "                        <td id=\"T_11d28676_eafc_11ea_bfa6_02420a393eearow6_col2\" class=\"data row6 col2\" >5</td>\n",
       "                        <td id=\"T_11d28676_eafc_11ea_bfa6_02420a393eearow6_col3\" class=\"data row6 col3\" >4</td>\n",
       "                        <td id=\"T_11d28676_eafc_11ea_bfa6_02420a393eearow6_col4\" class=\"data row6 col4\" >10</td>\n",
       "                        <td id=\"T_11d28676_eafc_11ea_bfa6_02420a393eearow6_col5\" class=\"data row6 col5\" >2.0</td>\n",
       "                        <td id=\"T_11d28676_eafc_11ea_bfa6_02420a393eearow6_col6\" class=\"data row6 col6\" >4.0</td>\n",
       "            </tr>\n",
       "            <tr>\n",
       "                        <th id=\"T_11d28676_eafc_11ea_bfa6_02420a393eealevel0_row7\" class=\"row_heading level0 row7\" >5</th>\n",
       "                        <td id=\"T_11d28676_eafc_11ea_bfa6_02420a393eearow7_col0\" class=\"data row7 col0\" >Добавить страницу отзывов клиентов о магазине, что позволит увеличить количество заказов</td>\n",
       "                        <td id=\"T_11d28676_eafc_11ea_bfa6_02420a393eearow7_col1\" class=\"data row7 col1\" >3</td>\n",
       "                        <td id=\"T_11d28676_eafc_11ea_bfa6_02420a393eearow7_col2\" class=\"data row7 col2\" >2</td>\n",
       "                        <td id=\"T_11d28676_eafc_11ea_bfa6_02420a393eearow7_col3\" class=\"data row7 col3\" >2</td>\n",
       "                        <td id=\"T_11d28676_eafc_11ea_bfa6_02420a393eearow7_col4\" class=\"data row7 col4\" >3</td>\n",
       "                        <td id=\"T_11d28676_eafc_11ea_bfa6_02420a393eearow7_col5\" class=\"data row7 col5\" >1.3</td>\n",
       "                        <td id=\"T_11d28676_eafc_11ea_bfa6_02420a393eearow7_col6\" class=\"data row7 col6\" >4.0</td>\n",
       "            </tr>\n",
       "            <tr>\n",
       "                        <th id=\"T_11d28676_eafc_11ea_bfa6_02420a393eealevel0_row8\" class=\"row_heading level0 row8\" >4</th>\n",
       "                        <td id=\"T_11d28676_eafc_11ea_bfa6_02420a393eearow8_col0\" class=\"data row8 col0\" >Изменить цвет фона главной страницы, чтобы увеличить вовлеченность пользователей</td>\n",
       "                        <td id=\"T_11d28676_eafc_11ea_bfa6_02420a393eearow8_col1\" class=\"data row8 col1\" >3</td>\n",
       "                        <td id=\"T_11d28676_eafc_11ea_bfa6_02420a393eearow8_col2\" class=\"data row8 col2\" >1</td>\n",
       "                        <td id=\"T_11d28676_eafc_11ea_bfa6_02420a393eearow8_col3\" class=\"data row8 col3\" >1</td>\n",
       "                        <td id=\"T_11d28676_eafc_11ea_bfa6_02420a393eearow8_col4\" class=\"data row8 col4\" >1</td>\n",
       "                        <td id=\"T_11d28676_eafc_11ea_bfa6_02420a393eearow8_col5\" class=\"data row8 col5\" >1.0</td>\n",
       "                        <td id=\"T_11d28676_eafc_11ea_bfa6_02420a393eearow8_col6\" class=\"data row8 col6\" >3.0</td>\n",
       "            </tr>\n",
       "    </tbody></table>"
      ],
      "text/plain": [
       "<pandas.io.formats.style.Styler at 0x7f4f24f9f990>"
      ]
     },
     "metadata": {},
     "output_type": "display_data"
    }
   ],
   "source": [
    "hypothesis['RICE']=(hypothesis['reach']*hypothesis['impact']*hypothesis['confidence'])/hypothesis['efforts']\n",
    "display(hypothesis.sort_values(by='RICE',ascending = False).style.format({'ICE':'{:.1f}', 'RICE':'{:.1f}'}))"
   ]
  },
  {
   "cell_type": "markdown",
   "metadata": {},
   "source": [
    "***По методу `RICE` самыми приоритетными гипотезами*** будут гипотезы ***под следующими номерами номерами (в порядке убывания приоритета)***:\n",
    "\n",
    "   - ***№7*** \"Добавить форму подписки на все основные страницы, чтобы собрать базу клиентов для email-рассылок\",\n",
    "   - ***№2*** \"Добавить блоки рекомендаций товаров на сайт интернет магазина, чтобы повысить конверсию и средний чек заказа\",\n",
    "   - ***№0*** \"Добавить два новых канала привлечения трафика, что позволит привлекать на 30% больше пользователей\",\n",
    "   - ***№6*** \"Показать на главной странице баннеры с актуальными акциями и распродажами, чтобы увеличить конверсию\".\n",
    "<br>"
   ]
  },
  {
   "cell_type": "markdown",
   "metadata": {},
   "source": [
    "### 1.3 Сравнение ICE и RICE <a id='vs'></a>"
   ]
  },
  {
   "cell_type": "markdown",
   "metadata": {},
   "source": [
    " Сравним результаты двух методов."
   ]
  },
  {
   "cell_type": "markdown",
   "metadata": {},
   "source": [
    "Как мы видим, ***в первую четверку по методу `RICE` по-прежнему входят все те же гипотезы №7*** \"Добавить форму подписки на все основные страницы, чтобы собрать базу клиентов для email-рассылок\", ***№0*** \"Добавить два новых канала привлечения трафика, что позволит привлекать на 30% больше пользователей\", ***и №6*** \"Показать на главной странице баннеры с актуальными акциями и распродажами, чтобы увеличить конверсию\", ***а занимавшую первое место в методе `ICE` гипотезу №8*** \"Запустить акцию, дающую скидку на товар в день рождения\" ***вытеснила на пятое место гипотеза №2***  \"Добавить блоки рекомендаций товаров на сайт интернет магазина, чтобы повысить конверсию и средний чек заказа\". ***Так получилось потому, что в методе `RICE` дополнительно учитывается в числителе показатель охвата `reach`, который у гипотезы №8 - минимальный среди всех гипотез (`reach` = 1), а у гипотезы №2 он достаточно велик  (`reach` = 8)***. И , действительно, при запуске акции, дающей скидку на товар в день рождения  данная акция охватит лишь небольшой процент пользователей, у которых будет день рождения в период проведения акции. В отличие от  добавления блоков рекомендаций товаров на сайт интернет-магазина, которые будут видеть от 80 до 100% пользователей (в зависимости от раздела или этапа заказа, в/на котором будет размещены данные блоки).<br>\n",
    "По этой же причине гипотеза №7 \"Добавить форму подписки на все основные страницы, чтобы собрать базу клиентов для email-рассылок\" поднялась с третьего место  на первое: у нее максимальный показатель охвата (`reach` = 10).<br>\n",
    "Итак, ***по методу `RICE`***, который наряду с показателями метода `ICE` учитывает также важный  показатель охвата (то есть показатель, учитывающий, насколько широкую аудиторию потенциальных клинтов затронет применение конкретной гипотезы), ***побеждает гипотеза №7 'Добавить форму подписки на все основные страницы, чтобы собрать базу клиентов для email-рассылок'***, как гипотеза с максимальным показателем охвата, достаточно высокими показателями влияния и уверенности, и относительно небольшими усилиями на ее реализацию."
   ]
  },
  {
   "cell_type": "markdown",
   "metadata": {},
   "source": [
    "## Часть 2.  Анализ результатов A/B-теста"
   ]
  },
  {
   "cell_type": "markdown",
   "metadata": {},
   "source": [
    "### 2.0 Загрузка данных и подготовка их к анализу <a id='prepare_2'></a>"
   ]
  },
  {
   "cell_type": "code",
   "execution_count": 7,
   "metadata": {},
   "outputs": [
    {
     "data": {
      "text/html": [
       "<div>\n",
       "<style scoped>\n",
       "    .dataframe tbody tr th:only-of-type {\n",
       "        vertical-align: middle;\n",
       "    }\n",
       "\n",
       "    .dataframe tbody tr th {\n",
       "        vertical-align: top;\n",
       "    }\n",
       "\n",
       "    .dataframe thead th {\n",
       "        text-align: right;\n",
       "    }\n",
       "</style>\n",
       "<table border=\"1\" class=\"dataframe\">\n",
       "  <thead>\n",
       "    <tr style=\"text-align: right;\">\n",
       "      <th></th>\n",
       "      <th>transactionId</th>\n",
       "      <th>visitorId</th>\n",
       "      <th>date</th>\n",
       "      <th>revenue</th>\n",
       "      <th>group</th>\n",
       "    </tr>\n",
       "  </thead>\n",
       "  <tbody>\n",
       "    <tr>\n",
       "      <td>0</td>\n",
       "      <td>3667963787</td>\n",
       "      <td>3312258926</td>\n",
       "      <td>2019-08-15</td>\n",
       "      <td>1650</td>\n",
       "      <td>B</td>\n",
       "    </tr>\n",
       "    <tr>\n",
       "      <td>1</td>\n",
       "      <td>2804400009</td>\n",
       "      <td>3642806036</td>\n",
       "      <td>2019-08-15</td>\n",
       "      <td>730</td>\n",
       "      <td>B</td>\n",
       "    </tr>\n",
       "    <tr>\n",
       "      <td>2</td>\n",
       "      <td>2961555356</td>\n",
       "      <td>4069496402</td>\n",
       "      <td>2019-08-15</td>\n",
       "      <td>400</td>\n",
       "      <td>A</td>\n",
       "    </tr>\n",
       "    <tr>\n",
       "      <td>3</td>\n",
       "      <td>3797467345</td>\n",
       "      <td>1196621759</td>\n",
       "      <td>2019-08-15</td>\n",
       "      <td>9759</td>\n",
       "      <td>B</td>\n",
       "    </tr>\n",
       "    <tr>\n",
       "      <td>4</td>\n",
       "      <td>2282983706</td>\n",
       "      <td>2322279887</td>\n",
       "      <td>2019-08-15</td>\n",
       "      <td>2308</td>\n",
       "      <td>B</td>\n",
       "    </tr>\n",
       "  </tbody>\n",
       "</table>\n",
       "</div>"
      ],
      "text/plain": [
       "   transactionId   visitorId        date  revenue group\n",
       "0     3667963787  3312258926  2019-08-15     1650     B\n",
       "1     2804400009  3642806036  2019-08-15      730     B\n",
       "2     2961555356  4069496402  2019-08-15      400     A\n",
       "3     3797467345  1196621759  2019-08-15     9759     B\n",
       "4     2282983706  2322279887  2019-08-15     2308     B"
      ]
     },
     "metadata": {},
     "output_type": "display_data"
    },
    {
     "name": "stdout",
     "output_type": "stream",
     "text": [
      "<class 'pandas.core.frame.DataFrame'>\n",
      "RangeIndex: 1197 entries, 0 to 1196\n",
      "Data columns (total 5 columns):\n",
      "transactionId    1197 non-null int64\n",
      "visitorId        1197 non-null int64\n",
      "date             1197 non-null object\n",
      "revenue          1197 non-null int64\n",
      "group            1197 non-null object\n",
      "dtypes: int64(3), object(2)\n",
      "memory usage: 46.9+ KB\n"
     ]
    }
   ],
   "source": [
    "#orders  = pd.read_csv('orders.csv') # для работы на локальном диске\n",
    "orders  = pd.read_csv('/datasets/orders.csv') # для работы в облаке\n",
    "display(orders.head())\n",
    "orders.info()"
   ]
  },
  {
   "cell_type": "code",
   "execution_count": 8,
   "metadata": {
    "scrolled": true
   },
   "outputs": [
    {
     "data": {
      "text/html": [
       "<div>\n",
       "<style scoped>\n",
       "    .dataframe tbody tr th:only-of-type {\n",
       "        vertical-align: middle;\n",
       "    }\n",
       "\n",
       "    .dataframe tbody tr th {\n",
       "        vertical-align: top;\n",
       "    }\n",
       "\n",
       "    .dataframe thead th {\n",
       "        text-align: right;\n",
       "    }\n",
       "</style>\n",
       "<table border=\"1\" class=\"dataframe\">\n",
       "  <thead>\n",
       "    <tr style=\"text-align: right;\">\n",
       "      <th></th>\n",
       "      <th>date</th>\n",
       "      <th>group</th>\n",
       "      <th>visitors</th>\n",
       "    </tr>\n",
       "  </thead>\n",
       "  <tbody>\n",
       "    <tr>\n",
       "      <td>0</td>\n",
       "      <td>2019-08-01</td>\n",
       "      <td>A</td>\n",
       "      <td>719</td>\n",
       "    </tr>\n",
       "    <tr>\n",
       "      <td>1</td>\n",
       "      <td>2019-08-02</td>\n",
       "      <td>A</td>\n",
       "      <td>619</td>\n",
       "    </tr>\n",
       "    <tr>\n",
       "      <td>2</td>\n",
       "      <td>2019-08-03</td>\n",
       "      <td>A</td>\n",
       "      <td>507</td>\n",
       "    </tr>\n",
       "    <tr>\n",
       "      <td>3</td>\n",
       "      <td>2019-08-04</td>\n",
       "      <td>A</td>\n",
       "      <td>717</td>\n",
       "    </tr>\n",
       "    <tr>\n",
       "      <td>4</td>\n",
       "      <td>2019-08-05</td>\n",
       "      <td>A</td>\n",
       "      <td>756</td>\n",
       "    </tr>\n",
       "  </tbody>\n",
       "</table>\n",
       "</div>"
      ],
      "text/plain": [
       "         date group  visitors\n",
       "0  2019-08-01     A       719\n",
       "1  2019-08-02     A       619\n",
       "2  2019-08-03     A       507\n",
       "3  2019-08-04     A       717\n",
       "4  2019-08-05     A       756"
      ]
     },
     "metadata": {},
     "output_type": "display_data"
    },
    {
     "name": "stdout",
     "output_type": "stream",
     "text": [
      "<class 'pandas.core.frame.DataFrame'>\n",
      "RangeIndex: 62 entries, 0 to 61\n",
      "Data columns (total 3 columns):\n",
      "date        62 non-null object\n",
      "group       62 non-null object\n",
      "visitors    62 non-null int64\n",
      "dtypes: int64(1), object(2)\n",
      "memory usage: 1.6+ KB\n"
     ]
    }
   ],
   "source": [
    "#visitors  = pd.read_csv('visitors.csv')  # для работы на локальном диске\n",
    "visitors  = pd.read_csv('/datasets/visitors.csv') # для работы в облаке\n",
    "display(visitors.head())\n",
    "visitors.info()"
   ]
  },
  {
   "cell_type": "code",
   "execution_count": 9,
   "metadata": {},
   "outputs": [
    {
     "data": {
      "text/plain": [
       "0"
      ]
     },
     "execution_count": 9,
     "metadata": {},
     "output_type": "execute_result"
    }
   ],
   "source": [
    "orders.duplicated().sum()"
   ]
  },
  {
   "cell_type": "code",
   "execution_count": 10,
   "metadata": {},
   "outputs": [
    {
     "data": {
      "text/plain": [
       "0"
      ]
     },
     "execution_count": 10,
     "metadata": {},
     "output_type": "execute_result"
    }
   ],
   "source": [
    "visitors.duplicated().sum()"
   ]
  },
  {
   "cell_type": "markdown",
   "metadata": {},
   "source": [
    "Пропусков и полных дубликатов нет."
   ]
  },
  {
   "cell_type": "markdown",
   "metadata": {},
   "source": [
    "Приведем столбцы с датой к формату 'datetime'."
   ]
  },
  {
   "cell_type": "code",
   "execution_count": 11,
   "metadata": {
    "scrolled": true
   },
   "outputs": [
    {
     "name": "stdout",
     "output_type": "stream",
     "text": [
      "<class 'pandas.core.frame.DataFrame'>\n",
      "RangeIndex: 1197 entries, 0 to 1196\n",
      "Data columns (total 5 columns):\n",
      "transactionId    1197 non-null int64\n",
      "visitorId        1197 non-null int64\n",
      "date             1197 non-null datetime64[ns]\n",
      "revenue          1197 non-null int64\n",
      "group            1197 non-null object\n",
      "dtypes: datetime64[ns](1), int64(3), object(1)\n",
      "memory usage: 46.9+ KB\n",
      "<class 'pandas.core.frame.DataFrame'>\n",
      "RangeIndex: 62 entries, 0 to 61\n",
      "Data columns (total 3 columns):\n",
      "date        62 non-null datetime64[ns]\n",
      "group       62 non-null object\n",
      "visitors    62 non-null int64\n",
      "dtypes: datetime64[ns](1), int64(1), object(1)\n",
      "memory usage: 1.6+ KB\n"
     ]
    }
   ],
   "source": [
    "#orders['date'] = pd.to_datetime(orders['date'], format = '%Y-%m-%d')\n",
    "#visitors['date'] = pd.to_datetime(visitors['date'], format = '%Y-%m-%d')\n",
    "orders['date'] = orders['date'].map(lambda x: dt.datetime.strptime(x, '%Y-%m-%d'))\n",
    "visitors['date'] = visitors['date'].map(lambda x: dt.datetime.strptime(x, '%Y-%m-%d'))\n",
    "orders.info()\n",
    "visitors.info()"
   ]
  },
  {
   "cell_type": "markdown",
   "metadata": {},
   "source": [
    "Проверим, что проведенный А/В - тест удовлетворял условию на равенство количества посетителей в обеих группах."
   ]
  },
  {
   "cell_type": "code",
   "execution_count": 12,
   "metadata": {},
   "outputs": [
    {
     "data": {
      "text/plain": [
       "18736"
      ]
     },
     "execution_count": 12,
     "metadata": {},
     "output_type": "execute_result"
    }
   ],
   "source": [
    "# считаем посетителей в группе А:\n",
    "count_visitors_in_A = visitors[visitors['group']=='A']['visitors'].sum()\n",
    "count_visitors_in_A"
   ]
  },
  {
   "cell_type": "code",
   "execution_count": 13,
   "metadata": {},
   "outputs": [
    {
     "data": {
      "text/plain": [
       "18916"
      ]
     },
     "execution_count": 13,
     "metadata": {},
     "output_type": "execute_result"
    }
   ],
   "source": [
    "# считаем посетителей в группе В:\n",
    "count_visitors_in_B = visitors[visitors['group']=='B']['visitors'].sum()\n",
    "count_visitors_in_B"
   ]
  },
  {
   "cell_type": "code",
   "execution_count": 14,
   "metadata": {
    "scrolled": true
   },
   "outputs": [
    {
     "name": "stdout",
     "output_type": "stream",
     "text": [
      "Разница в количестве посетителей в разных группах теста: 1.0%\n"
     ]
    }
   ],
   "source": [
    "print(\"Разница в количестве посетителей в разных группах теста: {0:.1%}\".format( (count_visitors_in_B - count_visitors_in_A)/count_visitors_in_A))"
   ]
  },
  {
   "cell_type": "markdown",
   "metadata": {},
   "source": [
    "Разница количества посетителей между группами не превышает допустимый 1%. Все хорошо."
   ]
  },
  {
   "cell_type": "code",
   "execution_count": 15,
   "metadata": {
    "scrolled": true
   },
   "outputs": [],
   "source": [
    "#orders['date'].describe()"
   ]
  },
  {
   "cell_type": "code",
   "execution_count": 16,
   "metadata": {},
   "outputs": [],
   "source": [
    "#visitors['date'].describe()"
   ]
  },
  {
   "cell_type": "markdown",
   "metadata": {},
   "source": [
    "## Исследовательский анализ данных"
   ]
  },
  {
   "cell_type": "markdown",
   "metadata": {},
   "source": [
    "### 2.1 Анализ кумулятивной выручки по группам. <a id='кум_выручка'></a>"
   ]
  },
  {
   "cell_type": "code",
   "execution_count": 17,
   "metadata": {},
   "outputs": [
    {
     "data": {
      "text/html": [
       "<div>\n",
       "<style scoped>\n",
       "    .dataframe tbody tr th:only-of-type {\n",
       "        vertical-align: middle;\n",
       "    }\n",
       "\n",
       "    .dataframe tbody tr th {\n",
       "        vertical-align: top;\n",
       "    }\n",
       "\n",
       "    .dataframe thead th {\n",
       "        text-align: right;\n",
       "    }\n",
       "</style>\n",
       "<table border=\"1\" class=\"dataframe\">\n",
       "  <thead>\n",
       "    <tr style=\"text-align: right;\">\n",
       "      <th></th>\n",
       "      <th>date</th>\n",
       "      <th>group</th>\n",
       "    </tr>\n",
       "  </thead>\n",
       "  <tbody>\n",
       "    <tr>\n",
       "      <td>0</td>\n",
       "      <td>2019-08-15</td>\n",
       "      <td>B</td>\n",
       "    </tr>\n",
       "    <tr>\n",
       "      <td>2</td>\n",
       "      <td>2019-08-15</td>\n",
       "      <td>A</td>\n",
       "    </tr>\n",
       "    <tr>\n",
       "      <td>45</td>\n",
       "      <td>2019-08-16</td>\n",
       "      <td>A</td>\n",
       "    </tr>\n",
       "    <tr>\n",
       "      <td>47</td>\n",
       "      <td>2019-08-16</td>\n",
       "      <td>B</td>\n",
       "    </tr>\n",
       "  </tbody>\n",
       "</table>\n",
       "</div>"
      ],
      "text/plain": [
       "         date group\n",
       "0  2019-08-15     B\n",
       "2  2019-08-15     A\n",
       "45 2019-08-16     A\n",
       "47 2019-08-16     B"
      ]
     },
     "execution_count": 17,
     "metadata": {},
     "output_type": "execute_result"
    }
   ],
   "source": [
    "# создаем массив уникальных пар значений дат и групп теста\n",
    "datesGroups = orders[['date','group']].drop_duplicates()\n",
    "datesGroups.head(4)"
   ]
  },
  {
   "cell_type": "code",
   "execution_count": 18,
   "metadata": {},
   "outputs": [
    {
     "data": {
      "text/html": [
       "<div>\n",
       "<style scoped>\n",
       "    .dataframe tbody tr th:only-of-type {\n",
       "        vertical-align: middle;\n",
       "    }\n",
       "\n",
       "    .dataframe tbody tr th {\n",
       "        vertical-align: top;\n",
       "    }\n",
       "\n",
       "    .dataframe thead th {\n",
       "        text-align: right;\n",
       "    }\n",
       "</style>\n",
       "<table border=\"1\" class=\"dataframe\">\n",
       "  <thead>\n",
       "    <tr style=\"text-align: right;\">\n",
       "      <th></th>\n",
       "      <th>date</th>\n",
       "      <th>group</th>\n",
       "      <th>transactionId</th>\n",
       "      <th>visitorId</th>\n",
       "      <th>revenue</th>\n",
       "    </tr>\n",
       "  </thead>\n",
       "  <tbody>\n",
       "    <tr>\n",
       "      <td>55</td>\n",
       "      <td>2019-08-01</td>\n",
       "      <td>A</td>\n",
       "      <td>24</td>\n",
       "      <td>20</td>\n",
       "      <td>148579</td>\n",
       "    </tr>\n",
       "    <tr>\n",
       "      <td>66</td>\n",
       "      <td>2019-08-01</td>\n",
       "      <td>B</td>\n",
       "      <td>21</td>\n",
       "      <td>20</td>\n",
       "      <td>101217</td>\n",
       "    </tr>\n",
       "  </tbody>\n",
       "</table>\n",
       "</div>"
      ],
      "text/plain": [
       "         date group  transactionId  visitorId  revenue\n",
       "55 2019-08-01     A             24         20   148579\n",
       "66 2019-08-01     B             21         20   101217"
      ]
     },
     "execution_count": 18,
     "metadata": {},
     "output_type": "execute_result"
    }
   ],
   "source": [
    "# получаем агрегированные кумулятивные по дням данные о заказах: построчно применяем функцию \"лямбда\" к datesGroups  \n",
    "ordersAggregated = datesGroups.apply(\n",
    "    lambda x: orders[np.logical_and(orders['date'] <= x['date'], orders['group'] == x['group'])]\n",
    "    .agg({'date' : 'max', 'group' : 'max', 'transactionId' : pd.Series.nunique, \n",
    "          'visitorId' : pd.Series.nunique, 'revenue' : 'sum'}), axis=1).sort_values(by=['date','group'])\n",
    "\n",
    "ordersAggregated.head(2)"
   ]
  },
  {
   "cell_type": "code",
   "execution_count": 19,
   "metadata": {},
   "outputs": [
    {
     "data": {
      "text/html": [
       "<div>\n",
       "<style scoped>\n",
       "    .dataframe tbody tr th:only-of-type {\n",
       "        vertical-align: middle;\n",
       "    }\n",
       "\n",
       "    .dataframe tbody tr th {\n",
       "        vertical-align: top;\n",
       "    }\n",
       "\n",
       "    .dataframe thead th {\n",
       "        text-align: right;\n",
       "    }\n",
       "</style>\n",
       "<table border=\"1\" class=\"dataframe\">\n",
       "  <thead>\n",
       "    <tr style=\"text-align: right;\">\n",
       "      <th></th>\n",
       "      <th>date</th>\n",
       "      <th>group</th>\n",
       "      <th>visitors</th>\n",
       "    </tr>\n",
       "  </thead>\n",
       "  <tbody>\n",
       "    <tr>\n",
       "      <td>55</td>\n",
       "      <td>2019-08-01</td>\n",
       "      <td>A</td>\n",
       "      <td>719</td>\n",
       "    </tr>\n",
       "    <tr>\n",
       "      <td>66</td>\n",
       "      <td>2019-08-01</td>\n",
       "      <td>B</td>\n",
       "      <td>713</td>\n",
       "    </tr>\n",
       "  </tbody>\n",
       "</table>\n",
       "</div>"
      ],
      "text/plain": [
       "         date group  visitors\n",
       "55 2019-08-01     A       719\n",
       "66 2019-08-01     B       713"
      ]
     },
     "metadata": {},
     "output_type": "display_data"
    }
   ],
   "source": [
    "# получаем агрегированные кумулятивные по дням данные о посетителях: построчно применяем функцию \"лямбда\" к datesGroups \n",
    "visitorsAggregated = datesGroups.apply(\n",
    "    lambda x: visitors[np.logical_and(visitors['date'] <= x['date'], visitors['group'] == x['group'])]\n",
    "    .agg({'date' : 'max', 'group' : 'max', 'visitors' : 'sum'}), axis=1).sort_values(by=['date','group'])\n",
    "\n",
    "display(visitorsAggregated.head(2))"
   ]
  },
  {
   "cell_type": "code",
   "execution_count": 20,
   "metadata": {},
   "outputs": [
    {
     "data": {
      "text/html": [
       "<div>\n",
       "<style scoped>\n",
       "    .dataframe tbody tr th:only-of-type {\n",
       "        vertical-align: middle;\n",
       "    }\n",
       "\n",
       "    .dataframe tbody tr th {\n",
       "        vertical-align: top;\n",
       "    }\n",
       "\n",
       "    .dataframe thead th {\n",
       "        text-align: right;\n",
       "    }\n",
       "</style>\n",
       "<table border=\"1\" class=\"dataframe\">\n",
       "  <thead>\n",
       "    <tr style=\"text-align: right;\">\n",
       "      <th></th>\n",
       "      <th>date</th>\n",
       "      <th>group</th>\n",
       "      <th>orders</th>\n",
       "      <th>buyers</th>\n",
       "      <th>revenue</th>\n",
       "      <th>visitors</th>\n",
       "    </tr>\n",
       "  </thead>\n",
       "  <tbody>\n",
       "    <tr>\n",
       "      <td>0</td>\n",
       "      <td>2019-08-01</td>\n",
       "      <td>A</td>\n",
       "      <td>24</td>\n",
       "      <td>20</td>\n",
       "      <td>148579</td>\n",
       "      <td>719</td>\n",
       "    </tr>\n",
       "    <tr>\n",
       "      <td>1</td>\n",
       "      <td>2019-08-01</td>\n",
       "      <td>B</td>\n",
       "      <td>21</td>\n",
       "      <td>20</td>\n",
       "      <td>101217</td>\n",
       "      <td>713</td>\n",
       "    </tr>\n",
       "    <tr>\n",
       "      <td>2</td>\n",
       "      <td>2019-08-02</td>\n",
       "      <td>A</td>\n",
       "      <td>44</td>\n",
       "      <td>38</td>\n",
       "      <td>242401</td>\n",
       "      <td>1338</td>\n",
       "    </tr>\n",
       "  </tbody>\n",
       "</table>\n",
       "</div>"
      ],
      "text/plain": [
       "        date group  orders  buyers  revenue  visitors\n",
       "0 2019-08-01     A      24      20   148579       719\n",
       "1 2019-08-01     B      21      20   101217       713\n",
       "2 2019-08-02     A      44      38   242401      1338"
      ]
     },
     "metadata": {},
     "output_type": "display_data"
    }
   ],
   "source": [
    "# объединяем кумулятивные данные в одной таблице, переименовываем некоторые столбцы\n",
    "cumulativeData = ordersAggregated.merge(visitorsAggregated, left_on=['date', 'group'], right_on=['date', 'group'])\n",
    "cumulativeData = cumulativeData.rename(columns = {'transactionId':'orders', 'visitorId':'buyers'})\n",
    "\n",
    "display(cumulativeData.head(3))"
   ]
  },
  {
   "cell_type": "code",
   "execution_count": 21,
   "metadata": {
    "scrolled": true
   },
   "outputs": [
    {
     "data": {
      "text/html": [
       "<div>\n",
       "<style scoped>\n",
       "    .dataframe tbody tr th:only-of-type {\n",
       "        vertical-align: middle;\n",
       "    }\n",
       "\n",
       "    .dataframe tbody tr th {\n",
       "        vertical-align: top;\n",
       "    }\n",
       "\n",
       "    .dataframe thead th {\n",
       "        text-align: right;\n",
       "    }\n",
       "</style>\n",
       "<table border=\"1\" class=\"dataframe\">\n",
       "  <thead>\n",
       "    <tr style=\"text-align: right;\">\n",
       "      <th></th>\n",
       "      <th>date</th>\n",
       "      <th>revenue</th>\n",
       "      <th>orders</th>\n",
       "    </tr>\n",
       "  </thead>\n",
       "  <tbody>\n",
       "    <tr>\n",
       "      <td>0</td>\n",
       "      <td>2019-08-01</td>\n",
       "      <td>148579</td>\n",
       "      <td>24</td>\n",
       "    </tr>\n",
       "  </tbody>\n",
       "</table>\n",
       "</div>"
      ],
      "text/plain": [
       "        date  revenue  orders\n",
       "0 2019-08-01   148579      24"
      ]
     },
     "metadata": {},
     "output_type": "display_data"
    },
    {
     "data": {
      "text/html": [
       "<div>\n",
       "<style scoped>\n",
       "    .dataframe tbody tr th:only-of-type {\n",
       "        vertical-align: middle;\n",
       "    }\n",
       "\n",
       "    .dataframe tbody tr th {\n",
       "        vertical-align: top;\n",
       "    }\n",
       "\n",
       "    .dataframe thead th {\n",
       "        text-align: right;\n",
       "    }\n",
       "</style>\n",
       "<table border=\"1\" class=\"dataframe\">\n",
       "  <thead>\n",
       "    <tr style=\"text-align: right;\">\n",
       "      <th></th>\n",
       "      <th>date</th>\n",
       "      <th>revenue</th>\n",
       "      <th>orders</th>\n",
       "    </tr>\n",
       "  </thead>\n",
       "  <tbody>\n",
       "    <tr>\n",
       "      <td>1</td>\n",
       "      <td>2019-08-01</td>\n",
       "      <td>101217</td>\n",
       "      <td>21</td>\n",
       "    </tr>\n",
       "  </tbody>\n",
       "</table>\n",
       "</div>"
      ],
      "text/plain": [
       "        date  revenue  orders\n",
       "1 2019-08-01   101217      21"
      ]
     },
     "metadata": {},
     "output_type": "display_data"
    }
   ],
   "source": [
    "# датафрейм с кумулятивным количеством заказов и кумулятивной выручкой по дням в группе А\n",
    "cumulativeRevenueA = cumulativeData[cumulativeData['group']=='A'][['date','revenue', 'orders']]\n",
    "\n",
    "# датафрейм с кумулятивным количеством заказов и кумулятивной выручкой по дням в группе B\n",
    "cumulativeRevenueB = cumulativeData[cumulativeData['group']=='B'][['date','revenue', 'orders']]\n",
    "\n",
    "display(cumulativeRevenueA.head(1))\n",
    "display(cumulativeRevenueB.head(1))"
   ]
  },
  {
   "cell_type": "markdown",
   "metadata": {},
   "source": [
    "Наконец, построим графики кумулятивной выручки по группам теста."
   ]
  },
  {
   "cell_type": "code",
   "execution_count": 22,
   "metadata": {
    "scrolled": false
   },
   "outputs": [
    {
     "data": {
      "image/png": "[encoded data removed]",
      "text/plain": [
       "<Figure size 792x504 with 1 Axes>"
      ]
     },
     "metadata": {
      "needs_background": "light"
     },
     "output_type": "display_data"
    }
   ],
   "source": [
    "plt.figure(figsize = (11,7))\n",
    "plt.title(\"Графики кумулятивной выручки по дням и группам A/B-тестирования\")\n",
    "plt.xlabel(\"Даты\")\n",
    "plt.ylabel(\"Выручка, в млн. руб.\")\n",
    "\n",
    "# Строим график выручки группы А\n",
    "plt.plot(cumulativeRevenueA['date'], cumulativeRevenueA['revenue'], label='A');\n",
    "\n",
    "# Строим график выручки группы B\n",
    "plt.plot(cumulativeRevenueB['date'], cumulativeRevenueB['revenue'], label='B');\n",
    "\n",
    "plt.legend();\n",
    "\n",
    "plt.axis([cumulativeRevenueA['date'].min(), cumulativeRevenueA['date'].max(), 0, 9900000]);"
   ]
  },
  {
   "cell_type": "markdown",
   "metadata": {},
   "source": [
    "Выручка почти равномерно увеличивается в течение всего теста. Это хороший знак. ***График кумулятивной выручки группы В с первых дней теста лучше графика для группы А***. Однако, примерно ***в середине проведения теста график группы В резко скакнул вверх: это может сигнализировать о всплесках числа заказов, либо о появлении очень дорогих заказов в выборке*** (это мы проанализируем позже). Заметим, что до конца проведения теста это увеличившееся различие в кумулятивных выручках стабильно сохранялось. То есть после скачка вверх, вероятно, не было серии аномально низких заказов, чтобы слегка сгладить это увеличившееся различие в группах."
   ]
  },
  {
   "cell_type": "markdown",
   "metadata": {},
   "source": [
    "### 2.2 Анализ кумулятивного среднего чека по группам <a id='кум_средн_чек'></a>"
   ]
  },
  {
   "cell_type": "markdown",
   "metadata": {},
   "source": [
    "Построим графики кумулятивного среднего чека по группам — отношение кумулятивной выручки к кумулятивному числу заказов.\n"
   ]
  },
  {
   "cell_type": "code",
   "execution_count": 23,
   "metadata": {
    "scrolled": false
   },
   "outputs": [
    {
     "data": {
      "image/png": "[encoded data removed]",
      "text/plain": [
       "<Figure size 792x504 with 1 Axes>"
      ]
     },
     "metadata": {
      "needs_background": "light"
     },
     "output_type": "display_data"
    }
   ],
   "source": [
    "plt.figure(figsize = (11,7))\n",
    "plt.title(\"Графики кумулятивного среднего чека по дням и группам A/B-тестирования\")\n",
    "plt.xlabel(\"Даты\")\n",
    "plt.ylabel(\"Средний чек, в руб.\")\n",
    "\n",
    "plt.plot(cumulativeRevenueA['date'], cumulativeRevenueA['revenue']/cumulativeRevenueA['orders'], label='A')\n",
    "plt.plot(cumulativeRevenueB['date'], cumulativeRevenueB['revenue']/cumulativeRevenueB['orders'], label='B')\n",
    "plt.legend();\n",
    "\n",
    "plt.axis([cumulativeRevenueA['date'].min(), cumulativeRevenueA['date'].max(), 0, 15000]);\n",
    "plt.axhline(y=7200, color='grey', linestyle='--');\n",
    "plt.axhline(y=9100, color='grey', linestyle='--');"
   ]
  },
  {
   "cell_type": "markdown",
   "metadata": {},
   "source": [
    "Средний чек становится равномерным ближе к концу  теста. В начале теста группы несколько раз \"обгоняют друг друга\", но дальше группа В вырывается вперед и фиксирует свое лидерство. Аналогично графику выручки здесь также виден ***резкий  скачок среднего чека группы В в середине теста: скорее всего, это аномально крупные заказы в группе B, либо же всплеск заказов  середине теста***. В пользу этого говорит снижающийся тренд графика группы В после резкого скачка - данные постепенно приходят к норме. Тогда этой группе нужно больше данных, чтобы прийти к реальному среднему чеку и установиться на его уровне. <br>\n",
    "Значение среднего чека группы А с 14 августа установилось примерно на уровне 7200 р.  Значение среднего чека группы B установилось примерно на уровне 9100 лишь в последние 4 дня. Возможно, целесообразно продолжить тест еще некоторое время."
   ]
  },
  {
   "cell_type": "markdown",
   "metadata": {},
   "source": [
    "### 2.3 Анализ относительного изменения кумулятивного среднего чека по группам <a id='отн_изм_средн_чека'></a>"
   ]
  },
  {
   "cell_type": "markdown",
   "metadata": {},
   "source": [
    "Построим график относительного различия для среднего чека."
   ]
  },
  {
   "cell_type": "code",
   "execution_count": 24,
   "metadata": {},
   "outputs": [
    {
     "data": {
      "text/html": [
       "<div>\n",
       "<style scoped>\n",
       "    .dataframe tbody tr th:only-of-type {\n",
       "        vertical-align: middle;\n",
       "    }\n",
       "\n",
       "    .dataframe tbody tr th {\n",
       "        vertical-align: top;\n",
       "    }\n",
       "\n",
       "    .dataframe thead th {\n",
       "        text-align: right;\n",
       "    }\n",
       "</style>\n",
       "<table border=\"1\" class=\"dataframe\">\n",
       "  <thead>\n",
       "    <tr style=\"text-align: right;\">\n",
       "      <th></th>\n",
       "      <th>date</th>\n",
       "      <th>revenueA</th>\n",
       "      <th>ordersA</th>\n",
       "      <th>revenueB</th>\n",
       "      <th>ordersB</th>\n",
       "    </tr>\n",
       "  </thead>\n",
       "  <tbody>\n",
       "    <tr>\n",
       "      <td>0</td>\n",
       "      <td>2019-08-01</td>\n",
       "      <td>148579</td>\n",
       "      <td>24</td>\n",
       "      <td>101217</td>\n",
       "      <td>21</td>\n",
       "    </tr>\n",
       "    <tr>\n",
       "      <td>1</td>\n",
       "      <td>2019-08-02</td>\n",
       "      <td>242401</td>\n",
       "      <td>44</td>\n",
       "      <td>266748</td>\n",
       "      <td>45</td>\n",
       "    </tr>\n",
       "  </tbody>\n",
       "</table>\n",
       "</div>"
      ],
      "text/plain": [
       "        date  revenueA  ordersA  revenueB  ordersB\n",
       "0 2019-08-01    148579       24    101217       21\n",
       "1 2019-08-02    242401       44    266748       45"
      ]
     },
     "execution_count": 24,
     "metadata": {},
     "output_type": "execute_result"
    }
   ],
   "source": [
    "# собираем данные в одном датафрейме\n",
    "mergedCumulativeRevenue = cumulativeRevenueA.merge(cumulativeRevenueB, left_on='date', \n",
    "                                                   right_on='date', how='left', suffixes=['A', 'B'])\n",
    "mergedCumulativeRevenue.head(2)"
   ]
  },
  {
   "cell_type": "code",
   "execution_count": 25,
   "metadata": {},
   "outputs": [
    {
     "data": {
      "image/png": "[encoded data removed]",
      "text/plain": [
       "<Figure size 792x504 with 1 Axes>"
      ]
     },
     "metadata": {
      "needs_background": "light"
     },
     "output_type": "display_data"
    }
   ],
   "source": [
    "plt.figure(figsize = (11,7))\n",
    "plt.title(\"График относительного различия кумулятивного среднего чека группы B к группе A\")\n",
    "plt.xlabel(\"Даты\")\n",
    "plt.ylabel(\"Относительное различие, в единицах\")\n",
    "\n",
    "# cтроим отношение средних чеков\n",
    "plt.plot(mergedCumulativeRevenue['date'], \n",
    "         (mergedCumulativeRevenue['revenueB']/mergedCumulativeRevenue['ordersB'])/          \\\n",
    "        (mergedCumulativeRevenue['revenueA']/mergedCumulativeRevenue['ordersA'])-1)\n",
    "\n",
    "# добавляем ось X\n",
    "plt.axhline(y=0, color='black', linestyle='--');\n",
    "plt.axis([mergedCumulativeRevenue['date'].min(), mergedCumulativeRevenue['date'].max(), -1, 1]);\n",
    "plt.axhline(y=0.25, color='grey', linestyle='--');"
   ]
  },
  {
   "cell_type": "markdown",
   "metadata": {},
   "source": [
    "Примерно с середины теста ***группа В уверенно занимает лидирующее положение и закрепляется на нем (плато последние 4 дня)***.<br>\n",
    "В нескольких точках график различия между группами резко \"скачет\". ***Очередное подозрение в наличии крупных заказов и/или их всплесков***. "
   ]
  },
  {
   "cell_type": "markdown",
   "metadata": {},
   "source": [
    "### 2.4 Анализ кумулятивной конверсии по группам <a id='кум_конверсия'></a>"
   ]
  },
  {
   "cell_type": "markdown",
   "metadata": {},
   "source": [
    "Проанализируем график кумулятивной конверсии."
   ]
  },
  {
   "cell_type": "code",
   "execution_count": 26,
   "metadata": {},
   "outputs": [],
   "source": [
    "# считаем кумулятивную конверсию\n",
    "cumulativeData['conversion'] = cumulativeData['orders']/cumulativeData['visitors']\n",
    "\n",
    "# отделяем данные по группе A\n",
    "cumulativeDataA = cumulativeData[cumulativeData['group']=='A']\n",
    "\n",
    "# отделяем данные по группе B\n",
    "cumulativeDataB = cumulativeData[cumulativeData['group']=='B']"
   ]
  },
  {
   "cell_type": "code",
   "execution_count": 27,
   "metadata": {
    "scrolled": false
   },
   "outputs": [
    {
     "data": {
      "image/png": "[encoded data removed]",
      "text/plain": [
       "<Figure size 720x432 with 1 Axes>"
      ]
     },
     "metadata": {
      "needs_background": "light"
     },
     "output_type": "display_data"
    }
   ],
   "source": [
    "plt.figure(figsize = (10,6))\n",
    "plt.title(\"График кумулятивной конверсии по группам A/В - теста\")\n",
    "plt.xlabel(\"Даты\")\n",
    "plt.ylabel(\"Конверсия, в единицах\")\n",
    "\n",
    "# строим графики\n",
    "plt.plot(cumulativeDataA['date'], cumulativeDataA['conversion'], label='A')\n",
    "plt.plot(cumulativeDataB['date'], cumulativeDataB['conversion'], label='B')\n",
    "plt.legend();\n",
    "\n",
    "#cumulativeDataA.info()\n",
    "#cumulativeDataB.info()\n",
    "# задаем масштаб осей\n",
    "plt.axis([cumulativeDataA['date'].min(), cumulativeDataA['date'].max(), 0, 0.05]);\n",
    "#plt.axis(['2019-08-01', '2019-08-31', 0, 0.05])\n",
    "plt.axhline(y=0.03, color='grey', linestyle='--');\n",
    "plt.axhline(y=0.034, color='grey', linestyle='--');"
   ]
  },
  {
   "cell_type": "markdown",
   "metadata": {},
   "source": [
    "В начале группа А была лучше по конверсии, но примерно через неделю от начала теста ***группа В вырвалась вперед и уверенно зафиксировалась на первом месте***. Интересно, что это произошло гораздо раньше, чем зафиксированы всплески по выручке и среднему чеку.<br>\n",
    "Кумулятивная конверсия группы А - примерно 3%, группы В - в районе 3,4%.  "
   ]
  },
  {
   "cell_type": "markdown",
   "metadata": {},
   "source": [
    "### 2.5 Анализ относительного изменения кумулятивной конверсии  по группам <a id='отн_изм_конверсии'></a>"
   ]
  },
  {
   "cell_type": "markdown",
   "metadata": {},
   "source": [
    "Объединим данные по конверсиям групп и построим график их относительного изменения."
   ]
  },
  {
   "cell_type": "code",
   "execution_count": 28,
   "metadata": {},
   "outputs": [
    {
     "data": {
      "text/html": [
       "<div>\n",
       "<style scoped>\n",
       "    .dataframe tbody tr th:only-of-type {\n",
       "        vertical-align: middle;\n",
       "    }\n",
       "\n",
       "    .dataframe tbody tr th {\n",
       "        vertical-align: top;\n",
       "    }\n",
       "\n",
       "    .dataframe thead th {\n",
       "        text-align: right;\n",
       "    }\n",
       "</style>\n",
       "<table border=\"1\" class=\"dataframe\">\n",
       "  <thead>\n",
       "    <tr style=\"text-align: right;\">\n",
       "      <th></th>\n",
       "      <th>date</th>\n",
       "      <th>conversionA</th>\n",
       "      <th>conversionB</th>\n",
       "    </tr>\n",
       "  </thead>\n",
       "  <tbody>\n",
       "    <tr>\n",
       "      <td>0</td>\n",
       "      <td>2019-08-01</td>\n",
       "      <td>0.033380</td>\n",
       "      <td>0.029453</td>\n",
       "    </tr>\n",
       "    <tr>\n",
       "      <td>1</td>\n",
       "      <td>2019-08-02</td>\n",
       "      <td>0.032885</td>\n",
       "      <td>0.034776</td>\n",
       "    </tr>\n",
       "    <tr>\n",
       "      <td>2</td>\n",
       "      <td>2019-08-03</td>\n",
       "      <td>0.036856</td>\n",
       "      <td>0.033833</td>\n",
       "    </tr>\n",
       "  </tbody>\n",
       "</table>\n",
       "</div>"
      ],
      "text/plain": [
       "        date  conversionA  conversionB\n",
       "0 2019-08-01     0.033380     0.029453\n",
       "1 2019-08-02     0.032885     0.034776\n",
       "2 2019-08-03     0.036856     0.033833"
      ]
     },
     "execution_count": 28,
     "metadata": {},
     "output_type": "execute_result"
    }
   ],
   "source": [
    "mergedCumulativeConversions = cumulativeDataA[['date','conversion']]    \\\n",
    "                                .merge(cumulativeDataB[['date','conversion']], left_on='date', right_on='date', \n",
    "                               how='left', suffixes=['A', 'B'])\n",
    "    \n",
    "mergedCumulativeConversions.head(3)"
   ]
  },
  {
   "cell_type": "code",
   "execution_count": 29,
   "metadata": {
    "scrolled": false
   },
   "outputs": [
    {
     "data": {
      "image/png": "[encoded data removed]",
      "text/plain": [
       "<Figure size 720x432 with 1 Axes>"
      ]
     },
     "metadata": {
      "needs_background": "light"
     },
     "output_type": "display_data"
    }
   ],
   "source": [
    "plt.figure(figsize = (10,6))\n",
    "plt.title(\"Относительный прирост конверсии группы B относительно группы A\")\n",
    "plt.xlabel(\"Даты\")\n",
    "plt.ylabel(\"Относительное различие, в единицах\")\n",
    "\n",
    "plt.plot(mergedCumulativeConversions['date'],\n",
    "         mergedCumulativeConversions['conversionB']/mergedCumulativeConversions['conversionA']-1)\n",
    "\n",
    "plt.axhline(y=0, color='black', linestyle='--');\n",
    "plt.axhline(y=0.15, color='grey', linestyle='--');\n",
    "plt.axis([ mergedCumulativeConversions['date'].min(), mergedCumulativeConversions['date'].max(), -0.6, 0.6]);\n",
    "#plt.axis([\"2019-04-01\", '2019-04-23', -0.7, 0.7])"
   ]
  },
  {
   "cell_type": "markdown",
   "metadata": {},
   "source": [
    "После недели проведения теста ***группа В стала явно \"лучше\" группы А: её превышение кумулятивной конверсии***  колебалось в течение оставшихся трех недель теста примерно между 10% и 20%, и к концу теста ***установилось примерно на 15%***.<br> Однако, прежде, чем делать выводы, необходимо проанализировать аномалии.<br>\n",
    "\n",
    "Перейдем к анализу выбросов и всплесков. "
   ]
  },
  {
   "cell_type": "markdown",
   "metadata": {},
   "source": [
    "### 2.6 Количество заказов по пользователям <a id='количество_заказов'></a>"
   ]
  },
  {
   "cell_type": "markdown",
   "metadata": {},
   "source": [
    " Найдем количество заказов для каждого пользователя."
   ]
  },
  {
   "cell_type": "code",
   "execution_count": 30,
   "metadata": {
    "scrolled": true
   },
   "outputs": [
    {
     "name": "stdout",
     "output_type": "stream",
     "text": [
      "Количество пользователей: 1031\n"
     ]
    },
    {
     "data": {
      "text/html": [
       "<div>\n",
       "<style scoped>\n",
       "    .dataframe tbody tr th:only-of-type {\n",
       "        vertical-align: middle;\n",
       "    }\n",
       "\n",
       "    .dataframe tbody tr th {\n",
       "        vertical-align: top;\n",
       "    }\n",
       "\n",
       "    .dataframe thead th {\n",
       "        text-align: right;\n",
       "    }\n",
       "</style>\n",
       "<table border=\"1\" class=\"dataframe\">\n",
       "  <thead>\n",
       "    <tr style=\"text-align: right;\">\n",
       "      <th></th>\n",
       "      <th>visitorId</th>\n",
       "      <th>orders</th>\n",
       "    </tr>\n",
       "  </thead>\n",
       "  <tbody>\n",
       "    <tr>\n",
       "      <td>1023</td>\n",
       "      <td>4256040402</td>\n",
       "      <td>11</td>\n",
       "    </tr>\n",
       "    <tr>\n",
       "      <td>591</td>\n",
       "      <td>2458001652</td>\n",
       "      <td>11</td>\n",
       "    </tr>\n",
       "    <tr>\n",
       "      <td>569</td>\n",
       "      <td>2378935119</td>\n",
       "      <td>9</td>\n",
       "    </tr>\n",
       "    <tr>\n",
       "      <td>487</td>\n",
       "      <td>2038680547</td>\n",
       "      <td>8</td>\n",
       "    </tr>\n",
       "    <tr>\n",
       "      <td>44</td>\n",
       "      <td>199603092</td>\n",
       "      <td>5</td>\n",
       "    </tr>\n",
       "    <tr>\n",
       "      <td>744</td>\n",
       "      <td>3062433592</td>\n",
       "      <td>5</td>\n",
       "    </tr>\n",
       "    <tr>\n",
       "      <td>55</td>\n",
       "      <td>237748145</td>\n",
       "      <td>5</td>\n",
       "    </tr>\n",
       "    <tr>\n",
       "      <td>917</td>\n",
       "      <td>3803269165</td>\n",
       "      <td>5</td>\n",
       "    </tr>\n",
       "    <tr>\n",
       "      <td>299</td>\n",
       "      <td>1230306981</td>\n",
       "      <td>5</td>\n",
       "    </tr>\n",
       "    <tr>\n",
       "      <td>897</td>\n",
       "      <td>3717692402</td>\n",
       "      <td>5</td>\n",
       "    </tr>\n",
       "  </tbody>\n",
       "</table>\n",
       "</div>"
      ],
      "text/plain": [
       "       visitorId  orders\n",
       "1023  4256040402      11\n",
       "591   2458001652      11\n",
       "569   2378935119       9\n",
       "487   2038680547       8\n",
       "44     199603092       5\n",
       "744   3062433592       5\n",
       "55     237748145       5\n",
       "917   3803269165       5\n",
       "299   1230306981       5\n",
       "897   3717692402       5"
      ]
     },
     "metadata": {},
     "output_type": "display_data"
    }
   ],
   "source": [
    "ordersByUsers = orders.groupby('visitorId', as_index=False).agg({'transactionId' : pd.Series.nunique})\n",
    "# второй способ:\n",
    "#ordersByUsers = orders.drop(['group', 'revenue', 'date'], axis=1).groupby('visitorId', as_index=False).agg({'transactionId' : pd.Series.nunique})\n",
    "ordersByUsers = ordersByUsers.rename(columns = {'transactionId':'orders'})\n",
    "print(\"Количество пользователей:\", ordersByUsers.shape[0])\n",
    "display(ordersByUsers.sort_values(by='orders',ascending=False).head(10))"
   ]
  },
  {
   "cell_type": "markdown",
   "metadata": {},
   "source": [
    "Создадим объект Series с порядковыми номерами покупателей."
   ]
  },
  {
   "cell_type": "code",
   "execution_count": 31,
   "metadata": {
    "scrolled": true
   },
   "outputs": [
    {
     "data": {
      "text/plain": [
       "1028    1028\n",
       "1029    1029\n",
       "1030    1030\n",
       "dtype: int64"
      ]
     },
     "execution_count": 31,
     "metadata": {},
     "output_type": "execute_result"
    }
   ],
   "source": [
    "x_values_1 = pd.Series(range(0, len(ordersByUsers)))\n",
    "x_values_1.tail(3)"
   ]
  },
  {
   "cell_type": "markdown",
   "metadata": {},
   "source": [
    "Построим точечный график количества заказов по покупателям. "
   ]
  },
  {
   "cell_type": "code",
   "execution_count": 32,
   "metadata": {
    "scrolled": false
   },
   "outputs": [
    {
     "data": {
      "image/png": "[encoded data removed]",
      "text/plain": [
       "<Figure size 648x432 with 1 Axes>"
      ]
     },
     "metadata": {
      "needs_background": "light"
     },
     "output_type": "display_data"
    }
   ],
   "source": [
    "plt.figure(figsize = (9,6))\n",
    "plt.title(\"Точечный график количества заказов на пользователя\")\n",
    "plt.xlabel(\"Порядковый номер посетителя\")\n",
    "plt.ylabel(\"Количество заказов, в шт.\")\n",
    "\n",
    "plt.scatter(x_values_1, ordersByUsers['orders'] );"
   ]
  },
  {
   "cell_type": "markdown",
   "metadata": {},
   "source": [
    "Как мы и предполагали - есть много пользователей с 2-3 заказами, а также же неколько пользователей с заказами от 4 до 11). Их доля точно неясна: непонятно, считать ли их аномалиями.<br>"
   ]
  },
  {
   "cell_type": "markdown",
   "metadata": {},
   "source": [
    "### 2.7 Оценка крайних значений данных по количеству заказов. Выбор границы для определения аномалий  <a id='выбросы_в_заказах_граница'></a>"
   ]
  },
  {
   "cell_type": "markdown",
   "metadata": {},
   "source": [
    "Оценим выборочные перцентили количества заказов на пользователя -от 95% до 99%."
   ]
  },
  {
   "cell_type": "code",
   "execution_count": 33,
   "metadata": {},
   "outputs": [
    {
     "name": "stdout",
     "output_type": "stream",
     "text": [
      "[2. 2. 2. 3. 4.]\n"
     ]
    }
   ],
   "source": [
    "percentiles_orders_count = np.percentile(ordersByUsers['orders'],[95, 96, 97, 98, 99])\n",
    "print(percentiles_orders_count)"
   ]
  },
  {
   "cell_type": "code",
   "execution_count": 34,
   "metadata": {},
   "outputs": [
    {
     "name": "stdout",
     "output_type": "stream",
     "text": [
      "2.9%\n"
     ]
    }
   ],
   "source": [
    "print(\"{0:.1%}\".format(ordersByUsers[ordersByUsers['orders']> 2]['visitorId'].count()/ ordersByUsers.shape[0]))"
   ]
  },
  {
   "cell_type": "markdown",
   "metadata": {},
   "source": [
    "***95-й и 99-й перцентили количества заказов на одного пользователя равны 2 и 4 заказа*** на пользователя соответственно. 3% пользователей совершают более 2-х заказов, и 1% пользователей - от 4х заказов. <br>\n",
    "Пользователи, совершившие много заказов, влияют на числитель формулы конверсии. Скорее всего, их поведение отличается от нормального. Если речь не идёт об интернет-магазине с регулярным спросом, «обычный» пользователь совершает не больше двух заказов за короткий срок. <br> Поэтому ***для определения выбросов возьмем границу в 2 заказа  - так мы отсечем 3% пользователей, совершающих более 2х заказов***."
   ]
  },
  {
   "cell_type": "markdown",
   "metadata": {},
   "source": [
    "### 2.8 Построение графика стоимостей заказов <a id='стоимость_заказов'></a>"
   ]
  },
  {
   "cell_type": "markdown",
   "metadata": {},
   "source": [
    "Построим точечный график стоимостей заказов."
   ]
  },
  {
   "cell_type": "code",
   "execution_count": 35,
   "metadata": {},
   "outputs": [
    {
     "data": {
      "text/plain": [
       "1194    1194\n",
       "1195    1195\n",
       "1196    1196\n",
       "dtype: int64"
      ]
     },
     "execution_count": 35,
     "metadata": {},
     "output_type": "execute_result"
    }
   ],
   "source": [
    "x_values_2 = pd.Series(range(0,len(orders)))\n",
    "x_values_2.tail(3)"
   ]
  },
  {
   "cell_type": "code",
   "execution_count": 36,
   "metadata": {
    "scrolled": false
   },
   "outputs": [
    {
     "data": {
      "image/png": "[encoded data removed]",
      "text/plain": [
       "<Figure size 648x432 with 1 Axes>"
      ]
     },
     "metadata": {
      "needs_background": "light"
     },
     "output_type": "display_data"
    }
   ],
   "source": [
    "plt.figure(figsize = (9,6))\n",
    "plt.title(\"Точечный график стоимостей заказов (выручки)\")\n",
    "plt.xlabel(\"Порядковый номер заказа\")\n",
    "plt.ylabel(\"Сумма заказа, в млн. руб.\")\n",
    "\n",
    "plt.scatter(x_values_2, orders['revenue']);"
   ]
  },
  {
   "cell_type": "code",
   "execution_count": 37,
   "metadata": {},
   "outputs": [
    {
     "data": {
      "image/png": "[encoded data removed]",
      "text/plain": [
       "<Figure size 504x360 with 1 Axes>"
      ]
     },
     "metadata": {
      "needs_background": "light"
     },
     "output_type": "display_data"
    }
   ],
   "source": [
    "#посмотрим как распределена выручка от заказа в пределах 100 000р.\n",
    "plt.figure(figsize = (7,5))\n",
    "plt.scatter(pd.Series(range(0,orders.query('revenue<100000').shape[0])),orders.query('revenue<100000')['revenue']);"
   ]
  },
  {
   "cell_type": "markdown",
   "metadata": {},
   "source": [
    "Как и предполагалось - есть два громадных по стоимости заказа - на 200 тыс.р. и даже на 1,3 млн.руб.! И много заказов от 20 000р. до 100 000р.<br>"
   ]
  },
  {
   "cell_type": "markdown",
   "metadata": {},
   "source": [
    "### 2.9 Определение выбросов и всплесков в стоимости заказов. Выбор границы для определения аномальных заказов  <a id='выбросы_в_стоимостях_граница'></a>"
   ]
  },
  {
   "cell_type": "markdown",
   "metadata": {},
   "source": [
    "Определим перцентили среднего чека в выборке."
   ]
  },
  {
   "cell_type": "code",
   "execution_count": 38,
   "metadata": {},
   "outputs": [
    {
     "name": "stdout",
     "output_type": "stream",
     "text": [
      "[28000.  31382.  35485.  44133.2 58233.2]\n"
     ]
    }
   ],
   "source": [
    "percentiles_revenue = np.percentile(orders['revenue'], [95, 96, 97, 98, 99])\n",
    "print(percentiles_revenue)"
   ]
  },
  {
   "cell_type": "markdown",
   "metadata": {},
   "source": [
    "***5% пользователей совершают заказы стоимостью свыше 28000 р., и 1% пользователей - свыше 58233 р***. <br>\n",
    "***Для определения выбросов возьмем границу в 40000 р. - так мы отсечем от 2% до 3% пользователей, совершающих дорогие заказы.***"
   ]
  },
  {
   "cell_type": "markdown",
   "metadata": {},
   "source": [
    "### 2.10 Оценка различий в конверсии между группами по «сырым» данным <a id='сырые_стат_знач_конверсия'></a>"
   ]
  },
  {
   "cell_type": "markdown",
   "metadata": {},
   "source": [
    "Посчитаем статистическую значимость различий в конверсии между группами теста по «сырым» данным — без удаления аномальных пользователей.<br>\n",
    "Подготовим данные к анализу.<br>"
   ]
  },
  {
   "cell_type": "code",
   "execution_count": 39,
   "metadata": {},
   "outputs": [
    {
     "data": {
      "text/html": [
       "<div>\n",
       "<style scoped>\n",
       "    .dataframe tbody tr th:only-of-type {\n",
       "        vertical-align: middle;\n",
       "    }\n",
       "\n",
       "    .dataframe tbody tr th {\n",
       "        vertical-align: top;\n",
       "    }\n",
       "\n",
       "    .dataframe thead th {\n",
       "        text-align: right;\n",
       "    }\n",
       "</style>\n",
       "<table border=\"1\" class=\"dataframe\">\n",
       "  <thead>\n",
       "    <tr style=\"text-align: right;\">\n",
       "      <th></th>\n",
       "      <th>date</th>\n",
       "      <th>visitorsPerDateA</th>\n",
       "    </tr>\n",
       "  </thead>\n",
       "  <tbody>\n",
       "    <tr>\n",
       "      <td>0</td>\n",
       "      <td>2019-08-01</td>\n",
       "      <td>719</td>\n",
       "    </tr>\n",
       "    <tr>\n",
       "      <td>1</td>\n",
       "      <td>2019-08-02</td>\n",
       "      <td>619</td>\n",
       "    </tr>\n",
       "    <tr>\n",
       "      <td>2</td>\n",
       "      <td>2019-08-03</td>\n",
       "      <td>507</td>\n",
       "    </tr>\n",
       "  </tbody>\n",
       "</table>\n",
       "</div>"
      ],
      "text/plain": [
       "        date  visitorsPerDateA\n",
       "0 2019-08-01               719\n",
       "1 2019-08-02               619\n",
       "2 2019-08-03               507"
      ]
     },
     "execution_count": 39,
     "metadata": {},
     "output_type": "execute_result"
    }
   ],
   "source": [
    "# количество пользователей в группе А на определенную дату\n",
    "visitorsADaily = visitors[visitors['group']=='A'][['date','visitors']]\n",
    "visitorsADaily  = visitorsADaily.rename(columns = {'visitors':'visitorsPerDateA'})\n",
    "visitorsADaily.head(3)"
   ]
  },
  {
   "cell_type": "code",
   "execution_count": 40,
   "metadata": {
    "scrolled": true
   },
   "outputs": [
    {
     "data": {
      "text/html": [
       "<div>\n",
       "<style scoped>\n",
       "    .dataframe tbody tr th:only-of-type {\n",
       "        vertical-align: middle;\n",
       "    }\n",
       "\n",
       "    .dataframe tbody tr th {\n",
       "        vertical-align: top;\n",
       "    }\n",
       "\n",
       "    .dataframe thead th {\n",
       "        text-align: right;\n",
       "    }\n",
       "</style>\n",
       "<table border=\"1\" class=\"dataframe\">\n",
       "  <thead>\n",
       "    <tr style=\"text-align: right;\">\n",
       "      <th></th>\n",
       "      <th>date</th>\n",
       "      <th>visitorsCummulativeA</th>\n",
       "    </tr>\n",
       "  </thead>\n",
       "  <tbody>\n",
       "    <tr>\n",
       "      <td>0</td>\n",
       "      <td>2019-08-01</td>\n",
       "      <td>719</td>\n",
       "    </tr>\n",
       "    <tr>\n",
       "      <td>1</td>\n",
       "      <td>2019-08-02</td>\n",
       "      <td>1338</td>\n",
       "    </tr>\n",
       "    <tr>\n",
       "      <td>2</td>\n",
       "      <td>2019-08-03</td>\n",
       "      <td>1845</td>\n",
       "    </tr>\n",
       "  </tbody>\n",
       "</table>\n",
       "</div>"
      ],
      "text/plain": [
       "        date  visitorsCummulativeA\n",
       "0 2019-08-01                   719\n",
       "1 2019-08-02                  1338\n",
       "2 2019-08-03                  1845"
      ]
     },
     "execution_count": 40,
     "metadata": {},
     "output_type": "execute_result"
    }
   ],
   "source": [
    "# количество пользователей нарастающим итогом (кумулятивное) в группе А на определенную дату\n",
    "visitorsACummulative = visitorsADaily.apply(\n",
    "                       lambda x:  visitorsADaily[visitorsADaily['date'] <= x['date']]  \\\n",
    "                        .agg({'date':'max', 'visitorsPerDateA':'sum'}) ,axis = 1)\n",
    "visitorsACummulative = visitorsACummulative.rename(columns = {'visitorsPerDateA':'visitorsCummulativeA'})\n",
    "visitorsACummulative.head(3)"
   ]
  },
  {
   "cell_type": "code",
   "execution_count": 41,
   "metadata": {
    "scrolled": true
   },
   "outputs": [
    {
     "data": {
      "text/html": [
       "<div>\n",
       "<style scoped>\n",
       "    .dataframe tbody tr th:only-of-type {\n",
       "        vertical-align: middle;\n",
       "    }\n",
       "\n",
       "    .dataframe tbody tr th {\n",
       "        vertical-align: top;\n",
       "    }\n",
       "\n",
       "    .dataframe thead th {\n",
       "        text-align: right;\n",
       "    }\n",
       "</style>\n",
       "<table border=\"1\" class=\"dataframe\">\n",
       "  <thead>\n",
       "    <tr style=\"text-align: right;\">\n",
       "      <th></th>\n",
       "      <th>date</th>\n",
       "      <th>visitorsPerDateB</th>\n",
       "    </tr>\n",
       "  </thead>\n",
       "  <tbody>\n",
       "    <tr>\n",
       "      <td>31</td>\n",
       "      <td>2019-08-01</td>\n",
       "      <td>713</td>\n",
       "    </tr>\n",
       "    <tr>\n",
       "      <td>32</td>\n",
       "      <td>2019-08-02</td>\n",
       "      <td>581</td>\n",
       "    </tr>\n",
       "    <tr>\n",
       "      <td>33</td>\n",
       "      <td>2019-08-03</td>\n",
       "      <td>509</td>\n",
       "    </tr>\n",
       "  </tbody>\n",
       "</table>\n",
       "</div>"
      ],
      "text/plain": [
       "         date  visitorsPerDateB\n",
       "31 2019-08-01               713\n",
       "32 2019-08-02               581\n",
       "33 2019-08-03               509"
      ]
     },
     "execution_count": 41,
     "metadata": {},
     "output_type": "execute_result"
    }
   ],
   "source": [
    "# количество пользователей в группе В на определенную дату\n",
    "visitorsBDaily = visitors[visitors['group']=='B'][['date','visitors']]\n",
    "visitorsBDaily  = visitorsBDaily.rename(columns = {'visitors':'visitorsPerDateB'})\n",
    "visitorsBDaily.head(3)"
   ]
  },
  {
   "cell_type": "code",
   "execution_count": 42,
   "metadata": {
    "scrolled": true
   },
   "outputs": [
    {
     "data": {
      "text/html": [
       "<div>\n",
       "<style scoped>\n",
       "    .dataframe tbody tr th:only-of-type {\n",
       "        vertical-align: middle;\n",
       "    }\n",
       "\n",
       "    .dataframe tbody tr th {\n",
       "        vertical-align: top;\n",
       "    }\n",
       "\n",
       "    .dataframe thead th {\n",
       "        text-align: right;\n",
       "    }\n",
       "</style>\n",
       "<table border=\"1\" class=\"dataframe\">\n",
       "  <thead>\n",
       "    <tr style=\"text-align: right;\">\n",
       "      <th></th>\n",
       "      <th>date</th>\n",
       "      <th>visitorsCummulativeB</th>\n",
       "    </tr>\n",
       "  </thead>\n",
       "  <tbody>\n",
       "    <tr>\n",
       "      <td>31</td>\n",
       "      <td>2019-08-01</td>\n",
       "      <td>713</td>\n",
       "    </tr>\n",
       "    <tr>\n",
       "      <td>32</td>\n",
       "      <td>2019-08-02</td>\n",
       "      <td>1294</td>\n",
       "    </tr>\n",
       "    <tr>\n",
       "      <td>33</td>\n",
       "      <td>2019-08-03</td>\n",
       "      <td>1803</td>\n",
       "    </tr>\n",
       "  </tbody>\n",
       "</table>\n",
       "</div>"
      ],
      "text/plain": [
       "         date  visitorsCummulativeB\n",
       "31 2019-08-01                   713\n",
       "32 2019-08-02                  1294\n",
       "33 2019-08-03                  1803"
      ]
     },
     "execution_count": 42,
     "metadata": {},
     "output_type": "execute_result"
    }
   ],
   "source": [
    "# количество пользователей нарастающим итогом (кумулятивное) в группе B на определенную дату\n",
    "visitorsBCummulative = visitorsBDaily.apply(\n",
    "                       lambda x:  visitorsBDaily[visitorsBDaily['date'] <= x['date']]  \\\n",
    "                        .agg({'date':'max', 'visitorsPerDateB':'sum'}) ,axis = 1)\n",
    "visitorsBCummulative = visitorsBCummulative.rename(columns = {'visitorsPerDateB':'visitorsCummulativeB'})\n",
    "visitorsBCummulative.head(3)"
   ]
  },
  {
   "cell_type": "code",
   "execution_count": 43,
   "metadata": {},
   "outputs": [
    {
     "data": {
      "text/html": [
       "<div>\n",
       "<style scoped>\n",
       "    .dataframe tbody tr th:only-of-type {\n",
       "        vertical-align: middle;\n",
       "    }\n",
       "\n",
       "    .dataframe tbody tr th {\n",
       "        vertical-align: top;\n",
       "    }\n",
       "\n",
       "    .dataframe thead th {\n",
       "        text-align: right;\n",
       "    }\n",
       "</style>\n",
       "<table border=\"1\" class=\"dataframe\">\n",
       "  <thead>\n",
       "    <tr style=\"text-align: right;\">\n",
       "      <th></th>\n",
       "      <th>date</th>\n",
       "      <th>ordersPerDateA</th>\n",
       "      <th>revenuePerDateA</th>\n",
       "    </tr>\n",
       "  </thead>\n",
       "  <tbody>\n",
       "    <tr>\n",
       "      <td>0</td>\n",
       "      <td>2019-08-01</td>\n",
       "      <td>24</td>\n",
       "      <td>148579</td>\n",
       "    </tr>\n",
       "    <tr>\n",
       "      <td>1</td>\n",
       "      <td>2019-08-02</td>\n",
       "      <td>20</td>\n",
       "      <td>93822</td>\n",
       "    </tr>\n",
       "  </tbody>\n",
       "</table>\n",
       "</div>"
      ],
      "text/plain": [
       "        date  ordersPerDateA  revenuePerDateA\n",
       "0 2019-08-01              24           148579\n",
       "1 2019-08-02              20            93822"
      ]
     },
     "execution_count": 43,
     "metadata": {},
     "output_type": "execute_result"
    }
   ],
   "source": [
    "# количество заказов и сумма выручки в группе А на определенную дату\n",
    "ordersADaily = orders[orders['group']=='A'].groupby('date', as_index = False)     \\\n",
    "                        .agg({'transactionId': pd.Series.nunique, 'revenue':'sum'})\n",
    "ordersADaily = ordersADaily.rename(columns = {'transactionId':'ordersPerDateA', 'revenue':'revenuePerDateA'})\n",
    "ordersADaily.head(2)"
   ]
  },
  {
   "cell_type": "code",
   "execution_count": 44,
   "metadata": {},
   "outputs": [
    {
     "data": {
      "text/html": [
       "<div>\n",
       "<style scoped>\n",
       "    .dataframe tbody tr th:only-of-type {\n",
       "        vertical-align: middle;\n",
       "    }\n",
       "\n",
       "    .dataframe tbody tr th {\n",
       "        vertical-align: top;\n",
       "    }\n",
       "\n",
       "    .dataframe thead th {\n",
       "        text-align: right;\n",
       "    }\n",
       "</style>\n",
       "<table border=\"1\" class=\"dataframe\">\n",
       "  <thead>\n",
       "    <tr style=\"text-align: right;\">\n",
       "      <th></th>\n",
       "      <th>date</th>\n",
       "      <th>ordersCummulativeA</th>\n",
       "      <th>revenueCummulativeA</th>\n",
       "    </tr>\n",
       "  </thead>\n",
       "  <tbody>\n",
       "    <tr>\n",
       "      <td>0</td>\n",
       "      <td>2019-08-01</td>\n",
       "      <td>24</td>\n",
       "      <td>148579</td>\n",
       "    </tr>\n",
       "    <tr>\n",
       "      <td>1</td>\n",
       "      <td>2019-08-02</td>\n",
       "      <td>44</td>\n",
       "      <td>242401</td>\n",
       "    </tr>\n",
       "    <tr>\n",
       "      <td>2</td>\n",
       "      <td>2019-08-03</td>\n",
       "      <td>68</td>\n",
       "      <td>354874</td>\n",
       "    </tr>\n",
       "  </tbody>\n",
       "</table>\n",
       "</div>"
      ],
      "text/plain": [
       "        date  ordersCummulativeA  revenueCummulativeA\n",
       "0 2019-08-01                  24               148579\n",
       "1 2019-08-02                  44               242401\n",
       "2 2019-08-03                  68               354874"
      ]
     },
     "execution_count": 44,
     "metadata": {},
     "output_type": "execute_result"
    }
   ],
   "source": [
    "# количество заказов и сумма выручки нарастающим итогом (кумулятивные) в группе А на определенную дату\n",
    "ordersACummulative = ordersADaily.apply(\n",
    "    lambda x: ordersADaily[ordersADaily['date'] <= x['date']]   \\\n",
    "                 .agg({'date':'max', \n",
    "                       'ordersPerDateA':'sum',\n",
    "                       'revenuePerDateA':'sum'}) ,\n",
    "    axis = 1).sort_values(by = 'date')  # сортировка не обязательна, и так выдает по порядку дат\n",
    "# axis = 1 - применяем функцию лямбда построчно к DF \"ordersADaily\"\n",
    "ordersACummulative = ordersACummulative.rename(columns = {'ordersPerDateA':'ordersCummulativeA',\n",
    "                                                          'revenuePerDateA':'revenueCummulativeA'})\n",
    "ordersACummulative.head(3)"
   ]
  },
  {
   "cell_type": "code",
   "execution_count": 45,
   "metadata": {
    "scrolled": true
   },
   "outputs": [
    {
     "data": {
      "text/html": [
       "<div>\n",
       "<style scoped>\n",
       "    .dataframe tbody tr th:only-of-type {\n",
       "        vertical-align: middle;\n",
       "    }\n",
       "\n",
       "    .dataframe tbody tr th {\n",
       "        vertical-align: top;\n",
       "    }\n",
       "\n",
       "    .dataframe thead th {\n",
       "        text-align: right;\n",
       "    }\n",
       "</style>\n",
       "<table border=\"1\" class=\"dataframe\">\n",
       "  <thead>\n",
       "    <tr style=\"text-align: right;\">\n",
       "      <th></th>\n",
       "      <th>date</th>\n",
       "      <th>ordersPerDateB</th>\n",
       "      <th>revenuePerDateB</th>\n",
       "    </tr>\n",
       "  </thead>\n",
       "  <tbody>\n",
       "    <tr>\n",
       "      <td>0</td>\n",
       "      <td>2019-08-01</td>\n",
       "      <td>21</td>\n",
       "      <td>101217</td>\n",
       "    </tr>\n",
       "    <tr>\n",
       "      <td>1</td>\n",
       "      <td>2019-08-02</td>\n",
       "      <td>24</td>\n",
       "      <td>165531</td>\n",
       "    </tr>\n",
       "    <tr>\n",
       "      <td>2</td>\n",
       "      <td>2019-08-03</td>\n",
       "      <td>16</td>\n",
       "      <td>114248</td>\n",
       "    </tr>\n",
       "  </tbody>\n",
       "</table>\n",
       "</div>"
      ],
      "text/plain": [
       "        date  ordersPerDateB  revenuePerDateB\n",
       "0 2019-08-01              21           101217\n",
       "1 2019-08-02              24           165531\n",
       "2 2019-08-03              16           114248"
      ]
     },
     "execution_count": 45,
     "metadata": {},
     "output_type": "execute_result"
    }
   ],
   "source": [
    "# количество заказов и сумма выручки в группе В на определенную дату\n",
    "ordersBDaily = orders[orders['group']=='B'].groupby('date', as_index = False)     \\\n",
    "                        .agg({'transactionId': pd.Series.nunique, 'revenue':'sum'})\n",
    "ordersBDaily = ordersBDaily.rename(columns = {'transactionId':'ordersPerDateB', 'revenue':'revenuePerDateB'})\n",
    "ordersBDaily.head(3)"
   ]
  },
  {
   "cell_type": "code",
   "execution_count": 46,
   "metadata": {
    "scrolled": false
   },
   "outputs": [
    {
     "data": {
      "text/html": [
       "<div>\n",
       "<style scoped>\n",
       "    .dataframe tbody tr th:only-of-type {\n",
       "        vertical-align: middle;\n",
       "    }\n",
       "\n",
       "    .dataframe tbody tr th {\n",
       "        vertical-align: top;\n",
       "    }\n",
       "\n",
       "    .dataframe thead th {\n",
       "        text-align: right;\n",
       "    }\n",
       "</style>\n",
       "<table border=\"1\" class=\"dataframe\">\n",
       "  <thead>\n",
       "    <tr style=\"text-align: right;\">\n",
       "      <th></th>\n",
       "      <th>date</th>\n",
       "      <th>ordersCummulativeB</th>\n",
       "      <th>revenueCummulativeB</th>\n",
       "    </tr>\n",
       "  </thead>\n",
       "  <tbody>\n",
       "    <tr>\n",
       "      <td>0</td>\n",
       "      <td>2019-08-01</td>\n",
       "      <td>21</td>\n",
       "      <td>101217</td>\n",
       "    </tr>\n",
       "    <tr>\n",
       "      <td>1</td>\n",
       "      <td>2019-08-02</td>\n",
       "      <td>45</td>\n",
       "      <td>266748</td>\n",
       "    </tr>\n",
       "    <tr>\n",
       "      <td>2</td>\n",
       "      <td>2019-08-03</td>\n",
       "      <td>61</td>\n",
       "      <td>380996</td>\n",
       "    </tr>\n",
       "  </tbody>\n",
       "</table>\n",
       "</div>"
      ],
      "text/plain": [
       "        date  ordersCummulativeB  revenueCummulativeB\n",
       "0 2019-08-01                  21               101217\n",
       "1 2019-08-02                  45               266748\n",
       "2 2019-08-03                  61               380996"
      ]
     },
     "execution_count": 46,
     "metadata": {},
     "output_type": "execute_result"
    }
   ],
   "source": [
    "# количество заказов и сумма выручки нарастающим итогом (кумулятивные) в группе В на определенную дату\n",
    "ordersBCummulative = ordersBDaily.apply(\n",
    "    lambda x: ordersBDaily[ordersBDaily['date'] <= x['date']]   \\\n",
    "                 .agg({'date':'max', \n",
    "                       'ordersPerDateB':'sum',\n",
    "                       'revenuePerDateB':'sum'}) ,\n",
    "    axis = 1).sort_values(by = 'date')  # сортировка не обязательна, и так выдает по порядку дат\n",
    "# axis = 1 - применяем функцию лямбда построчно к DF \"ordersBDaily\"\n",
    "ordersBCummulative = ordersBCummulative.rename(columns = {'ordersPerDateB':'ordersCummulativeB',\n",
    "                                                          'revenuePerDateB':'revenueCummulativeB'})\n",
    "ordersBCummulative.head(3)"
   ]
  },
  {
   "cell_type": "markdown",
   "metadata": {},
   "source": [
    "Объединим все полученные датасеты в один."
   ]
  },
  {
   "cell_type": "code",
   "execution_count": 47,
   "metadata": {
    "scrolled": true
   },
   "outputs": [
    {
     "data": {
      "text/html": [
       "<div>\n",
       "<style scoped>\n",
       "    .dataframe tbody tr th:only-of-type {\n",
       "        vertical-align: middle;\n",
       "    }\n",
       "\n",
       "    .dataframe tbody tr th {\n",
       "        vertical-align: top;\n",
       "    }\n",
       "\n",
       "    .dataframe thead th {\n",
       "        text-align: right;\n",
       "    }\n",
       "</style>\n",
       "<table border=\"1\" class=\"dataframe\">\n",
       "  <thead>\n",
       "    <tr style=\"text-align: right;\">\n",
       "      <th></th>\n",
       "      <th>date</th>\n",
       "      <th>ordersPerDateA</th>\n",
       "      <th>revenuePerDateA</th>\n",
       "      <th>ordersPerDateB</th>\n",
       "      <th>revenuePerDateB</th>\n",
       "      <th>ordersCummulativeA</th>\n",
       "      <th>revenueCummulativeA</th>\n",
       "      <th>ordersCummulativeB</th>\n",
       "      <th>revenueCummulativeB</th>\n",
       "      <th>visitorsPerDateA</th>\n",
       "      <th>visitorsPerDateB</th>\n",
       "      <th>visitorsCummulativeA</th>\n",
       "      <th>visitorsCummulativeB</th>\n",
       "    </tr>\n",
       "  </thead>\n",
       "  <tbody>\n",
       "    <tr>\n",
       "      <td>0</td>\n",
       "      <td>2019-08-01</td>\n",
       "      <td>24</td>\n",
       "      <td>148579</td>\n",
       "      <td>21</td>\n",
       "      <td>101217</td>\n",
       "      <td>24</td>\n",
       "      <td>148579</td>\n",
       "      <td>21</td>\n",
       "      <td>101217</td>\n",
       "      <td>719</td>\n",
       "      <td>713</td>\n",
       "      <td>719</td>\n",
       "      <td>713</td>\n",
       "    </tr>\n",
       "    <tr>\n",
       "      <td>1</td>\n",
       "      <td>2019-08-02</td>\n",
       "      <td>20</td>\n",
       "      <td>93822</td>\n",
       "      <td>24</td>\n",
       "      <td>165531</td>\n",
       "      <td>44</td>\n",
       "      <td>242401</td>\n",
       "      <td>45</td>\n",
       "      <td>266748</td>\n",
       "      <td>619</td>\n",
       "      <td>581</td>\n",
       "      <td>1338</td>\n",
       "      <td>1294</td>\n",
       "    </tr>\n",
       "    <tr>\n",
       "      <td>2</td>\n",
       "      <td>2019-08-03</td>\n",
       "      <td>24</td>\n",
       "      <td>112473</td>\n",
       "      <td>16</td>\n",
       "      <td>114248</td>\n",
       "      <td>68</td>\n",
       "      <td>354874</td>\n",
       "      <td>61</td>\n",
       "      <td>380996</td>\n",
       "      <td>507</td>\n",
       "      <td>509</td>\n",
       "      <td>1845</td>\n",
       "      <td>1803</td>\n",
       "    </tr>\n",
       "  </tbody>\n",
       "</table>\n",
       "</div>"
      ],
      "text/plain": [
       "        date  ordersPerDateA  revenuePerDateA  ordersPerDateB  \\\n",
       "0 2019-08-01              24           148579              21   \n",
       "1 2019-08-02              20            93822              24   \n",
       "2 2019-08-03              24           112473              16   \n",
       "\n",
       "   revenuePerDateB  ordersCummulativeA  revenueCummulativeA  \\\n",
       "0           101217                  24               148579   \n",
       "1           165531                  44               242401   \n",
       "2           114248                  68               354874   \n",
       "\n",
       "   ordersCummulativeB  revenueCummulativeB  visitorsPerDateA  \\\n",
       "0                  21               101217               719   \n",
       "1                  45               266748               619   \n",
       "2                  61               380996               507   \n",
       "\n",
       "   visitorsPerDateB  visitorsCummulativeA  visitorsCummulativeB  \n",
       "0               713                   719                   713  \n",
       "1               581                  1338                  1294  \n",
       "2               509                  1845                  1803  "
      ]
     },
     "execution_count": 47,
     "metadata": {},
     "output_type": "execute_result"
    }
   ],
   "source": [
    "data = (ordersADaily.merge(ordersBDaily, on = 'date', how = 'left')     \n",
    "                   .merge(ordersACummulative, on = 'date', how = 'left')  \n",
    "                   .merge(ordersBCummulative, on = 'date', how = 'left') \n",
    "                   .merge(visitorsADaily, on = 'date', how = 'left')  \n",
    "                   .merge(visitorsBDaily, on = 'date', how = 'left')  \n",
    "                   .merge(visitorsACummulative, on = 'date', how = 'left')  \n",
    "                   .merge(visitorsBCummulative, on = 'date', how = 'left')  )\n",
    "data.head(3)"
   ]
  },
  {
   "cell_type": "markdown",
   "metadata": {},
   "source": [
    "Создадим два датасета - для группы А и для группы В.  В них для пользователей, которые заказывали хотя бы 1 раз, укажем число совершённых заказов."
   ]
  },
  {
   "cell_type": "code",
   "execution_count": 48,
   "metadata": {},
   "outputs": [
    {
     "data": {
      "text/html": [
       "<div>\n",
       "<style scoped>\n",
       "    .dataframe tbody tr th:only-of-type {\n",
       "        vertical-align: middle;\n",
       "    }\n",
       "\n",
       "    .dataframe tbody tr th {\n",
       "        vertical-align: top;\n",
       "    }\n",
       "\n",
       "    .dataframe thead th {\n",
       "        text-align: right;\n",
       "    }\n",
       "</style>\n",
       "<table border=\"1\" class=\"dataframe\">\n",
       "  <thead>\n",
       "    <tr style=\"text-align: right;\">\n",
       "      <th></th>\n",
       "      <th>visitorId</th>\n",
       "      <th>orders</th>\n",
       "    </tr>\n",
       "  </thead>\n",
       "  <tbody>\n",
       "    <tr>\n",
       "      <td>500</td>\n",
       "      <td>4259830713</td>\n",
       "      <td>1</td>\n",
       "    </tr>\n",
       "    <tr>\n",
       "      <td>501</td>\n",
       "      <td>4266935830</td>\n",
       "      <td>1</td>\n",
       "    </tr>\n",
       "    <tr>\n",
       "      <td>502</td>\n",
       "      <td>4278982564</td>\n",
       "      <td>1</td>\n",
       "    </tr>\n",
       "  </tbody>\n",
       "</table>\n",
       "</div>"
      ],
      "text/plain": [
       "      visitorId  orders\n",
       "500  4259830713       1\n",
       "501  4266935830       1\n",
       "502  4278982564       1"
      ]
     },
     "execution_count": 48,
     "metadata": {},
     "output_type": "execute_result"
    }
   ],
   "source": [
    "ordersByUsersA = orders[orders['group']=='A'].groupby('visitorId', as_index = False)   \\\n",
    "                                             .agg({'transactionId':pd.Series.nunique})\n",
    "ordersByUsersA = ordersByUsersA.rename(columns = {'transactionId':'orders'})\n",
    "ordersByUsersA.tail(3)"
   ]
  },
  {
   "cell_type": "code",
   "execution_count": 49,
   "metadata": {},
   "outputs": [
    {
     "data": {
      "text/html": [
       "<div>\n",
       "<style scoped>\n",
       "    .dataframe tbody tr th:only-of-type {\n",
       "        vertical-align: middle;\n",
       "    }\n",
       "\n",
       "    .dataframe tbody tr th {\n",
       "        vertical-align: top;\n",
       "    }\n",
       "\n",
       "    .dataframe thead th {\n",
       "        text-align: right;\n",
       "    }\n",
       "</style>\n",
       "<table border=\"1\" class=\"dataframe\">\n",
       "  <thead>\n",
       "    <tr style=\"text-align: right;\">\n",
       "      <th></th>\n",
       "      <th>visitorId</th>\n",
       "      <th>orders</th>\n",
       "    </tr>\n",
       "  </thead>\n",
       "  <tbody>\n",
       "    <tr>\n",
       "      <td>583</td>\n",
       "      <td>4279090005</td>\n",
       "      <td>1</td>\n",
       "    </tr>\n",
       "    <tr>\n",
       "      <td>584</td>\n",
       "      <td>4281247801</td>\n",
       "      <td>1</td>\n",
       "    </tr>\n",
       "    <tr>\n",
       "      <td>585</td>\n",
       "      <td>4283872382</td>\n",
       "      <td>1</td>\n",
       "    </tr>\n",
       "  </tbody>\n",
       "</table>\n",
       "</div>"
      ],
      "text/plain": [
       "      visitorId  orders\n",
       "583  4279090005       1\n",
       "584  4281247801       1\n",
       "585  4283872382       1"
      ]
     },
     "execution_count": 49,
     "metadata": {},
     "output_type": "execute_result"
    }
   ],
   "source": [
    "ordersByUsersB = orders[orders['group']=='B'].groupby('visitorId', as_index = False)   \\\n",
    "                                             .agg({'transactionId':pd.Series.nunique})\n",
    "ordersByUsersB = ordersByUsersB.rename(columns = {'transactionId':'orders'})\n",
    "ordersByUsersB.tail(3)"
   ]
  },
  {
   "cell_type": "markdown",
   "metadata": {},
   "source": [
    "Объявим переменные `sampleA` и `sampleB`, в которых пользователям из разных групп будет соответствовать количество заказов. Тем, кто ничего не заказал, будут соответствовать нули. Это вспомогательный этап для подготовки выборок к проверке статистическим U-критерием Манна-Уитни."
   ]
  },
  {
   "cell_type": "markdown",
   "metadata": {},
   "source": [
    "Переменная `sampleA` должна состоять из двух частей:\n",
    "-   Список с количеством заказов для каждого из пользователей: `ordersByUsersA['orders']`.\n",
    "-   Нули для пользователей, которые ничего не заказывали. Их количество равно разнице между суммой посетителей и количеством записей о заказах: `data['visitorsPerDateA'].sum() - len(ordersByUsersA['orders'])`."
   ]
  },
  {
   "cell_type": "markdown",
   "metadata": {},
   "source": [
    "Создадим объект pd.Series нужной длины:"
   ]
  },
  {
   "cell_type": "code",
   "execution_count": 50,
   "metadata": {
    "scrolled": true
   },
   "outputs": [
    {
     "name": "stdout",
     "output_type": "stream",
     "text": [
      "Посетителей в группе А: 18736\n",
      "Покупателей в группе А: 503\n",
      "Разница между кол-вом посетителей и покупателей в группе А: 18233\n"
     ]
    },
    {
     "data": {
      "text/plain": [
       "0        0\n",
       "1        0\n",
       "2        0\n",
       "3        0\n",
       "4        0\n",
       "        ..\n",
       "18228    0\n",
       "18229    0\n",
       "18230    0\n",
       "18231    0\n",
       "18232    0\n",
       "Name: orders, Length: 18233, dtype: int64"
      ]
     },
     "execution_count": 50,
     "metadata": {},
     "output_type": "execute_result"
    }
   ],
   "source": [
    "print(\"Посетителей в группе А:\", data['visitorsPerDateA'].sum())\n",
    "print(\"Покупателей в группе А:\", len(ordersByUsersA['orders']))\n",
    "print(\"Разница между кол-вом посетителей и покупателей в группе А:\", \n",
    "      data['visitorsPerDateA'].sum() - len(ordersByUsersA['orders']))\n",
    "null_Series_A = pd.Series(0, np.arange(data['visitorsPerDateA'].sum() - len(ordersByUsersA['orders'])), \n",
    "                          name = 'orders')\n",
    "null_Series_A"
   ]
  },
  {
   "cell_type": "code",
   "execution_count": 51,
   "metadata": {},
   "outputs": [
    {
     "name": "stdout",
     "output_type": "stream",
     "text": [
      "Посетителей в группе В: 18916\n",
      "Покупателей в группе B: 586\n",
      "Разница между кол-вом посетителей и покупателей в группе B: 18330\n"
     ]
    },
    {
     "data": {
      "text/plain": [
       "0        0\n",
       "1        0\n",
       "2        0\n",
       "3        0\n",
       "4        0\n",
       "        ..\n",
       "18325    0\n",
       "18326    0\n",
       "18327    0\n",
       "18328    0\n",
       "18329    0\n",
       "Name: orders, Length: 18330, dtype: int64"
      ]
     },
     "execution_count": 51,
     "metadata": {},
     "output_type": "execute_result"
    }
   ],
   "source": [
    "print(\"Посетителей в группе В:\", data['visitorsPerDateB'].sum())\n",
    "print(\"Покупателей в группе B:\", len(ordersByUsersB['orders']))\n",
    "print(\"Разница между кол-вом посетителей и покупателей в группе B:\", \n",
    "      data['visitorsPerDateB'].sum() - len(ordersByUsersB['orders']))\n",
    "null_Series_B = pd.Series(0, np.arange(data['visitorsPerDateB'].sum() - len(ordersByUsersB['orders'])), \n",
    "                          name = 'orders')\n",
    "null_Series_B"
   ]
  },
  {
   "cell_type": "markdown",
   "metadata": {},
   "source": [
    "Объединим обе части в единую переменную - выборку `sampleA`. И тоже самое - для `sampleB`."
   ]
  },
  {
   "cell_type": "code",
   "execution_count": 52,
   "metadata": {
    "scrolled": false
   },
   "outputs": [
    {
     "data": {
      "text/plain": [
       "0      1\n",
       "1      1\n",
       "2      1\n",
       "3      1\n",
       "4      1\n",
       "      ..\n",
       "498    1\n",
       "499    7\n",
       "500    1\n",
       "501    1\n",
       "502    1\n",
       "Name: orders, Length: 503, dtype: int64"
      ]
     },
     "metadata": {},
     "output_type": "display_data"
    },
    {
     "data": {
      "text/plain": [
       "0        1\n",
       "1        1\n",
       "2        1\n",
       "3        1\n",
       "4        1\n",
       "        ..\n",
       "18731    0\n",
       "18732    0\n",
       "18733    0\n",
       "18734    0\n",
       "18735    0\n",
       "Name: orders, Length: 18736, dtype: int64"
      ]
     },
     "metadata": {},
     "output_type": "display_data"
    },
    {
     "data": {
      "text/plain": [
       "0      1\n",
       "1      1\n",
       "2      1\n",
       "3      1\n",
       "4      1\n",
       "      ..\n",
       "581    1\n",
       "582    1\n",
       "583    1\n",
       "584    1\n",
       "585    1\n",
       "Name: orders, Length: 586, dtype: int64"
      ]
     },
     "metadata": {},
     "output_type": "display_data"
    },
    {
     "data": {
      "text/plain": [
       "0        1\n",
       "1        1\n",
       "2        1\n",
       "3        1\n",
       "4        1\n",
       "        ..\n",
       "18911    0\n",
       "18912    0\n",
       "18913    0\n",
       "18914    0\n",
       "18915    0\n",
       "Name: orders, Length: 18916, dtype: int64"
      ]
     },
     "metadata": {},
     "output_type": "display_data"
    }
   ],
   "source": [
    "sampleA = pd.concat([ ordersByUsersA['orders'], null_Series_A ], axis = 0, ignore_index = True) \n",
    "                                                # соединяем вдоль строк  и переустанавливаем единые индексы\n",
    "sampleB = pd.concat( [ ordersByUsersB['orders'], null_Series_B ], axis = 0, ignore_index = True)\n",
    "\n",
    "display(ordersByUsersA['orders'])\n",
    "display(sampleA)\n",
    "display(ordersByUsersB['orders'])\n",
    "display(sampleB)"
   ]
  },
  {
   "cell_type": "markdown",
   "metadata": {},
   "source": [
    "Обычно, связанная с измеряемой социальной активностью величина распределена ненормально: отдельные пользователи могут совершать слишком большое количество действий относительно большинства, например, совершать очень много покупок в одном интернет-магазине за короткий срок, или же делать покупки на огромные суммы. Это выбросы, или аномалии. Такие выбросы могут сильно сдвигать результаты более точных (за счет работы со значениями) алгебраических (в том числе и параметрических) тестов. В таких случаях больше подходят непараметрические тесты: хоть они и  менее точные за счет работы с рангами значений, но зато они менее чувствительны к выбросам.<br>\n",
    "\n",
    "Воспользуемся одним из таких тестов - статистическим U-критерием Манна-Уитни. Уровень статистической значимости определим как в 5%."
   ]
  },
  {
   "cell_type": "code",
   "execution_count": 53,
   "metadata": {
    "scrolled": false
   },
   "outputs": [
    {
     "name": "stdout",
     "output_type": "stream",
     "text": [
      "0.00840\n",
      "Отвергаем нулевую гипотезу. По «сырым» данным имеется статистически значимое различие в конверсии групп A и B.\n"
     ]
    }
   ],
   "source": [
    "alpha = 0.05\n",
    "\n",
    "raw_data_conversion = st.mannwhitneyu(sampleA, sampleB)\n",
    "p_value = raw_data_conversion[1]\n",
    "print(\"{0:.5f}\".format(p_value))\n",
    "\n",
    "if p_value < alpha:\n",
    "    print(\"Отвергаем нулевую гипотезу. По «сырым» данным имеется статистически значимое различие в конверсии групп A и B.\")\n",
    "else:\n",
    "    print(\"Не удалось отвергнуть нулевую гипотезу. По «сырым» данным различий в конверсии групп A и B нет.\")"
   ]
  },
  {
   "cell_type": "markdown",
   "metadata": {},
   "source": [
    "***Тест, проведенный по \"сырым\" (неочищенным от аномалий) данным показал***, что с заданным уровнем статистической значимости в 5% имеется ***статистически значимое различие в конверсии групп A и B***. Оценим это различие.<br>\n",
    "\n",
    "Найдем относительный прирост конверсии группы B к конверсии группы А. "
   ]
  },
  {
   "cell_type": "markdown",
   "metadata": {},
   "source": [
    "Поскольку в `sampleA` - выборка, где каждый элемент — число заказов определённого пользователя, в том числе ноль. Значит, число элементов `sampleA` — это количество пользователей, сумма всех элементов — количество заказов. Чтобы получить конверсию в группе, поделим сумму заказов на число пользователей — найдём среднее в выборке `sampleA` методом `mean()`. Аналогично найдём конверсию группы B: `sampleB.mean()`. Относительный прирост конверсии группы : конверсия группы B / конверсия группы A - 1. <br>"
   ]
  },
  {
   "cell_type": "code",
   "execution_count": 54,
   "metadata": {},
   "outputs": [
    {
     "name": "stdout",
     "output_type": "stream",
     "text": [
      "13.8%\n"
     ]
    }
   ],
   "source": [
    "print(\"{0:.1%}\".format(sampleB.mean()/sampleA.mean() - 1))"
   ]
  },
  {
   "cell_type": "markdown",
   "metadata": {},
   "source": [
    "***Относительный прирост конверсии группы B к конверсии группы А составил почти 14%.***."
   ]
  },
  {
   "cell_type": "markdown",
   "metadata": {},
   "source": [
    "### 2.11 Оценка различий в среднем чеке между группами по «сырым» данным <a id='сырые_стат_знач_средн_чек'></a>"
   ]
  },
  {
   "cell_type": "markdown",
   "metadata": {},
   "source": [
    "Посмотрим на  относительные различия в среднем чеке между группами. И посчитаем относительный прирост среднего чека группы B к среднему чеку группы А. "
   ]
  },
  {
   "cell_type": "code",
   "execution_count": 55,
   "metadata": {
    "scrolled": false
   },
   "outputs": [
    {
     "name": "stdout",
     "output_type": "stream",
     "text": [
      "0.36465\n",
      "Не удалось отвергнуть нулевую гипотезу. По «сырым» данным различий в среднем чеке для групп A и B нет.\n"
     ]
    }
   ],
   "source": [
    "alpha = 0.05\n",
    "\n",
    "raw_data_average_check = st.mannwhitneyu(orders[orders['group']=='A']['revenue'], orders[orders['group']=='B']['revenue'])\n",
    "p_value = raw_data_average_check.pvalue\n",
    "print(\"{0:.5f}\".format(p_value))\n",
    "\n",
    "if p_value < alpha:\n",
    "    print(\"Отвергаем нулевую гипотезу. По «сырым» данным имеется статистически значимое различие в срелнем чеке групп A и B.\")\n",
    "else:\n",
    "    print(\"Не удалось отвергнуть нулевую гипотезу. По «сырым» данным различий в среднем чеке для групп A и B нет.\")"
   ]
  },
  {
   "cell_type": "code",
   "execution_count": 56,
   "metadata": {},
   "outputs": [
    {
     "name": "stdout",
     "output_type": "stream",
     "text": [
      "25.9%\n"
     ]
    }
   ],
   "source": [
    "print(\"{0:.1%}\".format(orders[orders['group']=='B']['revenue'].mean()/orders[orders['group']=='A']['revenue'].mean()-1))"
   ]
  },
  {
   "cell_type": "markdown",
   "metadata": {},
   "source": [
    "То есть ***по результатам теста по \"сырым\" данным причин отвергать нулевую гипотезу и считать, что в среднем чеке есть различия между группами , нет***.  Несмотря на то, что ***средний чек группы B почти на 26% выше среднего чека группы А***."
   ]
  },
  {
   "cell_type": "markdown",
   "metadata": {},
   "source": [
    "### 2.12 Оценка различий в конверсии между группами по «очищенным» данным <a id='очищенные_стат_знач_конверсия'></a>"
   ]
  },
  {
   "cell_type": "markdown",
   "metadata": {},
   "source": [
    "Теперь сравним конверсии и средние чеки групп, но уже по очищенным от аномалий данным. <br>\n",
    "\n",
    "Ранее мы определили, что аномально высокая стоимость чека - свыше 40 000р., и аномально большое количество заказов на пользователя - свыше 2х. Сделаем срезы пользователей с числом заказов больше 2х — `usersWithManyOrders` и пользователей, совершивших заказы дороже 40 000р. — `usersWithExpensiveOrders`. Объединим их в таблице `abnormalUsers`, удалим дубликаты, отсортируем. "
   ]
  },
  {
   "cell_type": "code",
   "execution_count": 57,
   "metadata": {},
   "outputs": [
    {
     "data": {
      "text/plain": [
       "24"
      ]
     },
     "execution_count": 57,
     "metadata": {},
     "output_type": "execute_result"
    }
   ],
   "source": [
    "usersWithManyOrders = pd.concat( [ordersByUsersA[ordersByUsersA['orders']>2]['visitorId'],\n",
    "                                    ordersByUsersB[ordersByUsersB['orders']>2]['visitorId']], axis = 0)\n",
    "usersWithManyOrders.count()"
   ]
  },
  {
   "cell_type": "code",
   "execution_count": 58,
   "metadata": {},
   "outputs": [
    {
     "data": {
      "text/plain": [
       "29"
      ]
     },
     "execution_count": 58,
     "metadata": {},
     "output_type": "execute_result"
    }
   ],
   "source": [
    "usersWithExpensiveOrders = orders[orders['revenue'] > 40000]['visitorId']\n",
    "usersWithExpensiveOrders.count()"
   ]
  },
  {
   "cell_type": "code",
   "execution_count": 59,
   "metadata": {},
   "outputs": [
    {
     "name": "stdout",
     "output_type": "stream",
     "text": [
      "1099    148427295\n",
      "18      199603092\n",
      "23      237748145\n",
      "37      249864742\n",
      "684     358944393\n",
      "Name: visitorId, dtype: int64\n",
      "(45,)\n"
     ]
    }
   ],
   "source": [
    "abnormalUsers = pd.concat([usersWithManyOrders, usersWithExpensiveOrders], axis = 0).drop_duplicates().sort_values()\n",
    "print(abnormalUsers.head(5))\n",
    "print(abnormalUsers.shape)"
   ]
  },
  {
   "cell_type": "markdown",
   "metadata": {},
   "source": [
    "Получилось всего 45 аномальных пользователей.<br>\n",
    "\n",
    "Узнаем, как их действия повлияли на результаты теста. Посчитаем статистическую значимость различий в конверсии между группами теста по очищенным данным. Сначала подготовим отфильтрованные выборки количества заказов по пользователям по группам теста."
   ]
  },
  {
   "cell_type": "code",
   "execution_count": 60,
   "metadata": {},
   "outputs": [],
   "source": [
    "#ordersByUsersA['visitorId'].isin(abnormalUsers).sum()"
   ]
  },
  {
   "cell_type": "code",
   "execution_count": 61,
   "metadata": {},
   "outputs": [],
   "source": [
    "#ordersByUsersB['visitorId'].isin(abnormalUsers).sum()"
   ]
  },
  {
   "cell_type": "code",
   "execution_count": 62,
   "metadata": {},
   "outputs": [
    {
     "data": {
      "text/plain": [
       "464    1\n",
       "465    1\n",
       "466    1\n",
       "467    1\n",
       "468    1\n",
       "Name: orders, dtype: int64"
      ]
     },
     "metadata": {},
     "output_type": "display_data"
    },
    {
     "data": {
      "text/plain": [
       "0        1\n",
       "1        1\n",
       "2        1\n",
       "3        1\n",
       "4        1\n",
       "        ..\n",
       "18697    0\n",
       "18698    0\n",
       "18699    0\n",
       "18700    0\n",
       "18701    0\n",
       "Name: orders, Length: 18702, dtype: int64"
      ]
     },
     "metadata": {},
     "output_type": "display_data"
    },
    {
     "data": {
      "text/plain": [
       "555    1\n",
       "556    1\n",
       "557    1\n",
       "558    1\n",
       "559    1\n",
       "Name: orders, dtype: int64"
      ]
     },
     "metadata": {},
     "output_type": "display_data"
    },
    {
     "data": {
      "text/plain": [
       "0        1\n",
       "1        1\n",
       "2        1\n",
       "3        1\n",
       "4        1\n",
       "        ..\n",
       "18885    0\n",
       "18886    0\n",
       "18887    0\n",
       "18888    0\n",
       "18889    0\n",
       "Name: orders, Length: 18890, dtype: int64"
      ]
     },
     "metadata": {},
     "output_type": "display_data"
    }
   ],
   "source": [
    "sampleAFiltered = pd.concat(\n",
    "    [ ordersByUsersA[~(ordersByUsersA['visitorId'].isin(abnormalUsers))]['orders'],\n",
    "      null_Series_A],\n",
    "      axis=0, ignore_index = True ) # соединяем вдоль строк  и переустанавливаем единые индексы\n",
    "\n",
    "\"\"\" знак отрицания ~ можно заменить на метод np.logical_not:\n",
    "sampleAFiltered = pd.concat(\n",
    "  [ordersByUsersA[np.logical_not(ordersByUsersA['visitorId'].isin(abnormalUsers))]['orders'],\n",
    "   null_Series_A],\n",
    "   axis=0)\n",
    "\"\"\"\n",
    "sampleBFiltered = pd.concat(\n",
    "    [ ordersByUsersB[~(ordersByUsersB['visitorId'].isin(abnormalUsers))]['orders'],\n",
    "      null_Series_B],\n",
    "      axis=0, ignore_index = True ) # соединяем вдоль строк  и переустанавливаем единые индексы\n",
    "\n",
    "display(ordersByUsersA[~(ordersByUsersA['visitorId'].isin(abnormalUsers))].reset_index()['orders'].tail())\n",
    "display(sampleAFiltered)\n",
    "display(ordersByUsersB[~(ordersByUsersB['visitorId'].isin(abnormalUsers))].reset_index()['orders'].tail())\n",
    "display(sampleBFiltered)"
   ]
  },
  {
   "cell_type": "markdown",
   "metadata": {},
   "source": [
    "Применим статистический критерий Манна-Уитни к полученным выборкам."
   ]
  },
  {
   "cell_type": "code",
   "execution_count": 63,
   "metadata": {
    "scrolled": true
   },
   "outputs": [
    {
     "name": "stdout",
     "output_type": "stream",
     "text": [
      "0.00330\n",
      "Отвергаем нулевую гипотезу. По «очищенным» данным имеется статистически значимое различие в конверсии групп A и B.\n"
     ]
    }
   ],
   "source": [
    "alpha = 0.05\n",
    "\n",
    "filtered_data_conversion = st.mannwhitneyu(sampleAFiltered, sampleBFiltered)\n",
    "p_value = filtered_data_conversion[1]\n",
    "print(\"{0:.5f}\".format(p_value))\n",
    "\n",
    "if p_value < alpha:\n",
    "    print(\"Отвергаем нулевую гипотезу. По «очищенным» данным имеется статистически значимое различие в конверсии групп A и B.\")\n",
    "else:\n",
    "    print(\"Не удалось отвергнуть нулевую гипотезу. По «очищенным» данным различий в конверсии групп A и B нет.\")"
   ]
  },
  {
   "cell_type": "code",
   "execution_count": 64,
   "metadata": {},
   "outputs": [
    {
     "name": "stdout",
     "output_type": "stream",
     "text": [
      "18.8%\n"
     ]
    }
   ],
   "source": [
    "print(\"{0:.1%}\".format(sampleBFiltered.mean()/sampleAFiltered.mean() - 1))"
   ]
  },
  {
   "cell_type": "markdown",
   "metadata": {},
   "source": [
    "***По результатам теста на очищенных от аномалий данных*** р-значение стало еще меньше , чем на сырых данных (0,3% против почти 0,9% на сырых данных), то есть ***подтверждается статистически значимое различие в конверсии групп***. ***Относительное различие в конверсиях групп на очищенных данных выросло до 19% (против 14% на сырых данных)***."
   ]
  },
  {
   "cell_type": "markdown",
   "metadata": {},
   "source": [
    "Посмотрим, как повлияли выбросы на средний чек."
   ]
  },
  {
   "cell_type": "markdown",
   "metadata": {},
   "source": [
    "### 2.13 Оценка различий в среднем чеке между группами по «очищенным» данным <a id='очищенные_стат_знач_средн_чек'></a>"
   ]
  },
  {
   "cell_type": "code",
   "execution_count": 65,
   "metadata": {
    "scrolled": true
   },
   "outputs": [
    {
     "name": "stdout",
     "output_type": "stream",
     "text": [
      "0.47220\n",
      "Не удалось отвергнуть нулевую гипотезу. По «очищенным» данным статистически значимого различия в среднем чеке для групп A и B нет.\n"
     ]
    }
   ],
   "source": [
    "alpha = 0.05\n",
    "\n",
    "filtered_data_average_check = st.mannwhitneyu(\n",
    "    orders.query('group ==\"A\" and visitorId not in @abnormalUsers')['revenue'],   #1-й вариант построения среза\n",
    "    orders[ (orders['group']=='B') & (~orders['visitorId'].isin(abnormalUsers))]['revenue']  # 2-й вариант\n",
    "                                              )\n",
    "#Третий вариант построения срезов с помощью методов np.logical_and() и np.logical_not():\n",
    "#filtered_data_average_check = st.mannwhitneyu(\n",
    "#    orders[np.logical_and(\n",
    "#        orders['group']=='A',\n",
    "#       np.logical_not(orders['visitorId'].isin(abnormalUsers)))]['revenue'],\n",
    "#    orders[np.logical_and(\n",
    "#        orders['group']=='B',\n",
    "#        np.logical_not(orders['visitorId'].isin(abnormalUsers)))]['revenue'])\n",
    "                                         \n",
    "p_value = filtered_data_average_check.pvalue\n",
    "print(\"{0:.5f}\".format(p_value))\n",
    "\n",
    "if p_value < alpha:\n",
    "    print(\"Отвергаем нулевую гипотезу. По «очищенным» данным имеется статистически значимое различие в среднем чеке групп A и B.\")\n",
    "else:\n",
    "    print(\"Не удалось отвергнуть нулевую гипотезу. По «очищенным» данным статистически значимого различия в среднем чеке для групп A и B нет.\")"
   ]
  },
  {
   "cell_type": "markdown",
   "metadata": {},
   "source": [
    "Относительный прирост среднего чека группы B к среднему чеку группы А:"
   ]
  },
  {
   "cell_type": "code",
   "execution_count": 66,
   "metadata": {},
   "outputs": [
    {
     "name": "stdout",
     "output_type": "stream",
     "text": [
      "5.8%\n"
     ]
    }
   ],
   "source": [
    "print(\"{0:.1%}\".format(\n",
    "    orders.query('group ==\"B\" and visitorId not in @abnormalUsers')['revenue'].mean()/\n",
    "    orders.query('group ==\"A\" and visitorId not in @abnormalUsers')['revenue'].mean() - 1))"
   ]
  },
  {
   "cell_type": "markdown",
   "metadata": {},
   "source": [
    "Хотя ***результаты теста на очищенных данных не изменились (по-прежнему для заданного уровня значимости нет статистически значимого различия между средними чеками групп А и В), но относительный прирост среднего чека группы B к среднему чеку группы снизился с 26% до 6%***. Это говорит о том, насколько сильно выбросы в данной выборке влияли на среднее значение."
   ]
  },
  {
   "cell_type": "markdown",
   "metadata": {},
   "source": [
    "### 2.14    Выводы и решения по результатам теста <a id='решение_по_рез_теста'></a>"
   ]
  },
  {
   "cell_type": "markdown",
   "metadata": {},
   "source": [
    "Имеющиеся факты по результатам теста:\n",
    "\n",
    "   - Есть статистически значимое различие между группами в конверсии как по «сырым», так и по данным после фильтрации аномалий;\n",
    "   - Нет статистически значимого различия по среднему чеку между группами ни по «сырым», ни по данным после фильтрации аномалий;\n",
    "   - График различия конверсии между группами сообщает, что результаты группы B лучше группы A примерно на 15% в течение трех недель из четырех;\n",
    "   - График различия среднего чека говорит о том, что результаты группы B значительно лучше результатов группы А с середины теста и в последние 4 дня зафиксировались на уровне 25%.<br>\n",
    "   \n",
    "Исходя из обнаруженных фактов ***имеет смысл остановить тест и признать победу группы В***."
   ]
  },
  {
   "cell_type": "markdown",
   "metadata": {},
   "source": [
    "## Часть 3. Общий вывод  <a id='conclusions'></a>"
   ]
  },
  {
   "cell_type": "markdown",
   "metadata": {},
   "source": [
    "В данном проекте для крупного интернет-магазина требовалось приоритезировать подготовленный список из 9ти гипотез для увеличения выручки, запустить A/B-тест и проанализовать его результаты.<br>\n",
    "\n",
    "Результаты первой части проекта (Приоритезация гипотез):<br> \n",
    "- В первую четверку самых перспективных гипотез по методу ICE вошли гипотезы под следующими номерами номерами (в порядке убывания приоритета):\n",
    "    №8 \"Запустить акцию, дающую скидку на товар в день рождения\",\n",
    "    №0 \"Добавить два новых канала привлечения трафика, что позволит привлекать на 30% больше пользователей\",\n",
    "    №7 \"Добавить форму подписки на все основные страницы, чтобы собрать базу клиентов для email-рассылок\",\n",
    "    №6 \"Показать на главной странице баннеры с актуальными акциями и распродажами, чтобы увеличить конверсию\"; \n",
    "- По методу RICE самыми приоритетными гипотезами будут гипотезы под следующими номерами номерами (в порядке убывания приоритета):\n",
    "    №7 \"Добавить форму подписки на все основные страницы, чтобы собрать базу клиентов для email-рассылок\",\n",
    "    №2 \"Добавить блоки рекомендаций товаров на сайт интернет магазина, чтобы повысить конверсию и средний чек заказа\",\n",
    "    №0 \"Добавить два новых канала привлечения трафика, что позволит привлекать на 30% больше пользователей\",\n",
    "    №6 \"Показать на главной странице баннеры с актуальными акциями и распродажами, чтобы увеличить конверсию\";\n",
    "- В первую четверку по методу `RICE` по-прежнему входят все те же гипотезы №7 \"Добавить форму подписки на все основные страницы, чтобы собрать базу клиентов для email-рассылок\", №0 \"Добавить два новых канала привлечения трафика, что позволит привлекать на 30% больше пользователей\", и №6 \"Показать на главной странице баннеры с актуальными акциями и распродажами, чтобы увеличить конверсию\", а занимавшую первое место в методе `ICE` гипотезу №8 \"Запустить акцию, дающую скидку на товар в день рождения\" вытеснила на пятое место гипотеза №2  \"Добавить блоки рекомендаций товаров на сайт интернет магазина, чтобы повысить конверсию и средний чек заказа\". Так получилось потому, что в методе `RICE` дополнительно учитывается в числителе показатель охвата `reach`, который у гипотезы №8 - минимальный среди всех гипотез (`reach` = 1), а у гипотезы №2 он достаточно велик  (`reach` = 8). Итак, по методу `RICE`, который наряду с показателями метода `ICE` учитывает также важный  показатель охвата (то есть показатель, учитывающий, насколько широкую аудиторию потенциальных клиентов затронет применение конкретной гипотезы), побеждает гипотеза №7 'Добавить форму подписки на все основные страницы, чтобы собрать базу клиентов для email-рассылок'.<br>\n",
    "\n",
    "Результаты второй части проекта (Анализ А/В-теста):\n",
    "- График кумулятивной выручки группы В с первых дней теста лучше графика для группы А. Однако, примерно в середине проведения теста график группы В резко скакнул вверх: это может сигнализировать о всплесках числа заказов, либо о появлении очень дорогих заказов в выборке;\n",
    "- График кумулятивного среднего чека становится равномерным ближе к концу  теста. В начале теста группы несколько раз \"обгоняют друг друга\", но дальше группа В вырывается вперед и фиксирует свое лидерство. Аналогично графику выручки здесь также виден резкий  скачок среднего чека группы В в середине теста: скорее всего, это аномально крупные заказы в группе B, либо же всплеск заказов  середине теста;\n",
    "- График различия среднего чека говорит о том, что результаты группы B значительно лучше результатов группы А с середины теста и в последние 4 дня её преимущество зафиксировалось на уровне 25%. В нескольких точках график резко \"скачет\": очередное подозрение в наличии крупных заказов и/или всплесков их количества;\n",
    "- График кумулятивной конверсии показывает, что примерно через неделю от начала теста группа В вырвалась вперед и уверенно зафиксировалась на первом месте;\n",
    "- График различия конверсий между группами сообщает, что результаты группы B лучше группы A примерно на 15% в течение трех недель из четырех;\n",
    "- Анализ всплесков показал, что 95-й и 99-й перцентили количества заказов на одного пользователя равны 2 и 4 заказа соответственно. 3% пользователей совершают более 2-х заказов. Наличие всплесков подтвердилось. Для определения аномалий возьмем границу в 2 заказа  - так мы отсечем 3% пользователей, совершающих более 2х заказов. ;\n",
    "- Анализ выбросов показал, что 5% пользователей совершают заказы стоимостью свыше 28000р., 3% - стоимостью свыше 35500р., 2% - свыше 44000р. и 1% пользователей - свыше 58233 р. Наличие выбросов подтвердилось. Для определения выбросов возьмем границу в 40000р. - так мы отсечем от 2% до 3% пользователей, совершающих дорогие заказы;\n",
    "- В качестве статистического критерия использовался U-критерий Манна-Уитни, являющийся непараметрическим тестом, который хоть и  менее точный за счет работы с рангами значений (а не с самими значениями), но зато менее чувствителен к выбросам;\n",
    "- Тест, проведенный по \"сырым\" (неочищенным от аномалий) данным показал, что с заданным уровнем статистической значимости в 5% имеется статистически значимое различие в конверсии групп A и B. Относительный прирост конверсии группы B к конверсии группы А составил почти 14%;\n",
    "- По результатам теста по \"сырым\" данным причин отвергать нулевую гипотезу и считать, что в среднем чеке есть различия между группами , нет.  Несмотря на то, что средний чек группы B почти на 26% выше среднего чека группы А;\n",
    "- После очистки данных по объявленным выше критериям было отсечено 45 аномальных пользователей;\n",
    "- По результатам теста на очищенных от аномалий данных р-значение стало еще меньше , чем на сырых данных (0,3% против почти 0,9% на сырых данных), то есть подтверждается статистически значимое различие в конверсии групп. Относительное различие в конверсиях групп на очищенных данных выросло до 19% (против 14% на сырых данных);\n",
    "- Хотя результаты теста на очищенных данных не изменились (по-прежнему для заданного уровня значимости нет статистически значимого различия между средними чеками групп А и В), но относительный прирост среднего чека группы B к среднему чеку группы снизился с 26% до 6%. Это говорит о том, насколько сильно выбросы в данной выборке влияли на среднее значение;\n",
    "\n",
    "- Исходя из обнаруженных фактов принято решение остановить тест и признать победу группы В.\n",
    "\n"
   ]
  },
  {
   "cell_type": "code",
   "execution_count": null,
   "metadata": {},
   "outputs": [],
   "source": []
  }
 ],
 "metadata": {
  "kernelspec": {
   "display_name": "Python 3",
   "language": "python",
   "name": "python3"
  },
  "language_info": {
   "codemirror_mode": {
    "name": "ipython",
    "version": 3
   },
   "file_extension": ".py",
   "mimetype": "text/x-python",
   "name": "python",
   "nbconvert_exporter": "python",
   "pygments_lexer": "ipython3",
   "version": "3.7.7"
  }
 },
 "nbformat": 4,
 "nbformat_minor": 2
}
