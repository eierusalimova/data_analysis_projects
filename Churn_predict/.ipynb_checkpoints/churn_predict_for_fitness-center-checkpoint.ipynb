{
 "cells": [
  {
   "cell_type": "markdown",
   "metadata": {},
   "source": [
    "# Проект 11. Прогнозирование вероятности оттока пользователей для фитнес-центра"
   ]
  },
  {
   "cell_type": "markdown",
   "metadata": {},
   "source": [
    "<div class=\"alert alert-warning\">\n",
    "! Внимание!   Расчет дендрограммы может занять время (от 2х минут)!\n",
    "</div>"
   ]
  },
  {
   "cell_type": "markdown",
   "metadata": {},
   "source": [
    "## Введение"
   ]
  },
  {
   "cell_type": "markdown",
   "metadata": {},
   "source": [
    "### Описание проекта "
   ]
  },
  {
   "cell_type": "markdown",
   "metadata": {},
   "source": [
    "Для сети пользователей фитнес-центров спрогнозировать вероятность оттока (на уровне следующего месяца)\n",
    "для каждого клиента; сформировать типичные портреты пользователей; выявить основные признаки, наиболее сильно влияющие на отток; разработать рекомендации по повышению качества работы с клиентами."
   ]
  },
  {
   "cell_type": "markdown",
   "metadata": {},
   "source": [
    "### Описание данных "
   ]
  },
  {
   "cell_type": "markdown",
   "metadata": {},
   "source": [
    "Таблица gym_churn.csv:\n",
    "\n",
    "- 'Churn' — факт оттока в текущем месяце;\n",
    "- 'gender' — пол\n",
    "- 'Near_Location' — проживание или работа в районе, где находится фитнес-центр\n",
    "- 'Partner' — сотрудник компании-партнёра клуба \n",
    "- 'Promo_friends' — факт первоначальной записи в рамках акции «приведи друга» \n",
    "- 'Phone' — наличие контактного телефона\n",
    "- 'Age' — возраст\n",
    "- 'Lifetime' — время с момента первого обращения в фитнес-центр (в месяцах)\n",
    "- 'Contract_period' — длительность текущего действующего абонемента (месяц, 3 месяца, 6 месяцев, год)\n",
    "- 'Month_to_end_contract' — срок до окончания текущего действующего абонемента (в месяцах)\n",
    "- 'Group_visits' — факт посещения групповых занятий\n",
    "- 'Avg_class_frequency_total' — средняя частота посещений в неделю за все время с начала действия абонемента\n",
    "- 'Avg_class_frequency_current_month' — средняя частота посещений в неделю за предыдущий месяц\n",
    "- 'Avg_additional_charges_total' — суммарная выручка от других услуг фитнес-центра: кафе, спорт-товары и тд"
   ]
  },
  {
   "cell_type": "markdown",
   "metadata": {},
   "source": [
    "### План исследования"
   ]
  },
  {
   "cell_type": "markdown",
   "metadata": {},
   "source": [
    "- [0. Загрузка данных и подготовка их к анализу](#prepare)\n",
    "\n",
    "- [1. Исследовательский анализ данных (EDA)](#EDA) <br>\n",
    "- [1.1  Описательные статистики](#describe) <br>\n",
    "- [1.2  Оценка средних значений признаков по группам ушедших и оставшихся](#средние_по_оттоку) <br>\n",
    "- [1.3  Выявление мультиколлинеарности](#corr) <br>\n",
    "- [1.4  Распределения признаков по ушедшим в отток и оставшимся](#barplot_boxplot)  <br>\n",
    "\n",
    "- [2.   Построение модели прогнозирования оттока пользователей](#binary_model) <br>\n",
    "- [2.1  Разделение и стандартизация выборок](#split_standart) <br>\n",
    "- [2.2  Сравнение алгоритмов логистической регрессии и случайного леса](#log_reg_vs_rand_for) <br>\n",
    "\n",
    "- [3.  Кластеризация пользователей](#clusterisation) <br>\n",
    "- [3.1 Определение оптимального количества кластеров](#dendro)<br>\n",
    "- [3.2 Проведение кластеризации](#K-means)<br>\n",
    "- [3.3 Расчет доли оттока по кластерам](#churn_share)\n",
    "- [3.4 Оценка средних значений признаков по кластерам](#cluster_mean)<br>\n",
    "- [3.5 Распределения признаков по кластерам](#cluster_bar_boxplot)<br>\n",
    "\n",
    "- [4. Выводы](#conclusions) <br>\n",
    "\n",
    "- [5. Рекомендации](#recommendations) <br>"
   ]
  },
  {
   "cell_type": "markdown",
   "metadata": {},
   "source": [
    "### 0. Загрузка данных и подготовка их к анализу <a id='prepare'></a>"
   ]
  },
  {
   "cell_type": "code",
   "execution_count": 1,
   "metadata": {},
   "outputs": [],
   "source": [
    "import pandas as pd\n",
    "import numpy as np\n",
    "\n",
    "from sklearn.model_selection import train_test_split\n",
    "\n",
    "from sklearn.preprocessing import StandardScaler\n",
    "\n",
    "from sklearn.linear_model import Lasso, Ridge\n",
    "from sklearn.linear_model import LogisticRegression\n",
    "\n",
    "from sklearn.tree import DecisionTreeClassifier\n",
    "\n",
    "from sklearn.ensemble import RandomForestClassifier, GradientBoostingClassifier\n",
    "\n",
    "from sklearn.metrics import mean_absolute_error, mean_squared_error, r2_score\n",
    "\n",
    "from sklearn.metrics import accuracy_score, precision_score, recall_score, f1_score\n",
    "from sklearn.metrics import roc_auc_score\n",
    "\n",
    "from scipy.cluster.hierarchy import dendrogram, linkage\n",
    "from sklearn.cluster import KMeans\n",
    "\n",
    "import matplotlib.pyplot as plt\n",
    "import seaborn as sns\n",
    "\n",
    "import warnings\n",
    "warnings.filterwarnings(\"ignore\")"
   ]
  },
  {
   "cell_type": "code",
   "execution_count": 3,
   "metadata": {},
   "outputs": [],
   "source": [
    "gym_df = pd.read_csv('gym_churn.csv') "
   ]
  },
  {
   "cell_type": "code",
   "execution_count": 4,
   "metadata": {
    "scrolled": false
   },
   "outputs": [
    {
     "name": "stdout",
     "output_type": "stream",
     "text": [
      "<class 'pandas.core.frame.DataFrame'>\n",
      "RangeIndex: 4000 entries, 0 to 3999\n",
      "Data columns (total 14 columns):\n",
      " #   Column                             Non-Null Count  Dtype  \n",
      "---  ------                             --------------  -----  \n",
      " 0   gender                             4000 non-null   int64  \n",
      " 1   Near_Location                      4000 non-null   int64  \n",
      " 2   Partner                            4000 non-null   int64  \n",
      " 3   Promo_friends                      4000 non-null   int64  \n",
      " 4   Phone                              4000 non-null   int64  \n",
      " 5   Contract_period                    4000 non-null   int64  \n",
      " 6   Group_visits                       4000 non-null   int64  \n",
      " 7   Age                                4000 non-null   int64  \n",
      " 8   Avg_additional_charges_total       4000 non-null   float64\n",
      " 9   Month_to_end_contract              4000 non-null   float64\n",
      " 10  Lifetime                           4000 non-null   int64  \n",
      " 11  Avg_class_frequency_total          4000 non-null   float64\n",
      " 12  Avg_class_frequency_current_month  4000 non-null   float64\n",
      " 13  Churn                              4000 non-null   int64  \n",
      "dtypes: float64(4), int64(10)\n",
      "memory usage: 437.6 KB\n"
     ]
    },
    {
     "data": {
      "text/html": [
       "<div>\n",
       "<style scoped>\n",
       "    .dataframe tbody tr th:only-of-type {\n",
       "        vertical-align: middle;\n",
       "    }\n",
       "\n",
       "    .dataframe tbody tr th {\n",
       "        vertical-align: top;\n",
       "    }\n",
       "\n",
       "    .dataframe thead th {\n",
       "        text-align: right;\n",
       "    }\n",
       "</style>\n",
       "<table border=\"1\" class=\"dataframe\">\n",
       "  <thead>\n",
       "    <tr style=\"text-align: right;\">\n",
       "      <th></th>\n",
       "      <th>gender</th>\n",
       "      <th>Near_Location</th>\n",
       "      <th>Partner</th>\n",
       "      <th>Promo_friends</th>\n",
       "      <th>Phone</th>\n",
       "      <th>Contract_period</th>\n",
       "      <th>Group_visits</th>\n",
       "      <th>Age</th>\n",
       "      <th>Avg_additional_charges_total</th>\n",
       "      <th>Month_to_end_contract</th>\n",
       "      <th>Lifetime</th>\n",
       "      <th>Avg_class_frequency_total</th>\n",
       "      <th>Avg_class_frequency_current_month</th>\n",
       "      <th>Churn</th>\n",
       "    </tr>\n",
       "  </thead>\n",
       "  <tbody>\n",
       "    <tr>\n",
       "      <th>0</th>\n",
       "      <td>1</td>\n",
       "      <td>1</td>\n",
       "      <td>1</td>\n",
       "      <td>1</td>\n",
       "      <td>0</td>\n",
       "      <td>6</td>\n",
       "      <td>1</td>\n",
       "      <td>29</td>\n",
       "      <td>14.227470</td>\n",
       "      <td>5.0</td>\n",
       "      <td>3</td>\n",
       "      <td>0.020398</td>\n",
       "      <td>0.000000</td>\n",
       "      <td>0</td>\n",
       "    </tr>\n",
       "    <tr>\n",
       "      <th>1</th>\n",
       "      <td>0</td>\n",
       "      <td>1</td>\n",
       "      <td>0</td>\n",
       "      <td>0</td>\n",
       "      <td>1</td>\n",
       "      <td>12</td>\n",
       "      <td>1</td>\n",
       "      <td>31</td>\n",
       "      <td>113.202938</td>\n",
       "      <td>12.0</td>\n",
       "      <td>7</td>\n",
       "      <td>1.922936</td>\n",
       "      <td>1.910244</td>\n",
       "      <td>0</td>\n",
       "    </tr>\n",
       "    <tr>\n",
       "      <th>2</th>\n",
       "      <td>0</td>\n",
       "      <td>1</td>\n",
       "      <td>1</td>\n",
       "      <td>0</td>\n",
       "      <td>1</td>\n",
       "      <td>1</td>\n",
       "      <td>0</td>\n",
       "      <td>28</td>\n",
       "      <td>129.448479</td>\n",
       "      <td>1.0</td>\n",
       "      <td>2</td>\n",
       "      <td>1.859098</td>\n",
       "      <td>1.736502</td>\n",
       "      <td>0</td>\n",
       "    </tr>\n",
       "    <tr>\n",
       "      <th>3</th>\n",
       "      <td>0</td>\n",
       "      <td>1</td>\n",
       "      <td>1</td>\n",
       "      <td>1</td>\n",
       "      <td>1</td>\n",
       "      <td>12</td>\n",
       "      <td>1</td>\n",
       "      <td>33</td>\n",
       "      <td>62.669863</td>\n",
       "      <td>12.0</td>\n",
       "      <td>2</td>\n",
       "      <td>3.205633</td>\n",
       "      <td>3.357215</td>\n",
       "      <td>0</td>\n",
       "    </tr>\n",
       "    <tr>\n",
       "      <th>4</th>\n",
       "      <td>1</td>\n",
       "      <td>1</td>\n",
       "      <td>1</td>\n",
       "      <td>1</td>\n",
       "      <td>1</td>\n",
       "      <td>1</td>\n",
       "      <td>0</td>\n",
       "      <td>26</td>\n",
       "      <td>198.362265</td>\n",
       "      <td>1.0</td>\n",
       "      <td>3</td>\n",
       "      <td>1.113884</td>\n",
       "      <td>1.120078</td>\n",
       "      <td>0</td>\n",
       "    </tr>\n",
       "  </tbody>\n",
       "</table>\n",
       "</div>"
      ],
      "text/plain": [
       "   gender  Near_Location  Partner  Promo_friends  Phone  Contract_period  \\\n",
       "0       1              1        1              1      0                6   \n",
       "1       0              1        0              0      1               12   \n",
       "2       0              1        1              0      1                1   \n",
       "3       0              1        1              1      1               12   \n",
       "4       1              1        1              1      1                1   \n",
       "\n",
       "   Group_visits  Age  Avg_additional_charges_total  Month_to_end_contract  \\\n",
       "0             1   29                     14.227470                    5.0   \n",
       "1             1   31                    113.202938                   12.0   \n",
       "2             0   28                    129.448479                    1.0   \n",
       "3             1   33                     62.669863                   12.0   \n",
       "4             0   26                    198.362265                    1.0   \n",
       "\n",
       "   Lifetime  Avg_class_frequency_total  Avg_class_frequency_current_month  \\\n",
       "0         3                   0.020398                           0.000000   \n",
       "1         7                   1.922936                           1.910244   \n",
       "2         2                   1.859098                           1.736502   \n",
       "3         2                   3.205633                           3.357215   \n",
       "4         3                   1.113884                           1.120078   \n",
       "\n",
       "   Churn  \n",
       "0      0  \n",
       "1      0  \n",
       "2      0  \n",
       "3      0  \n",
       "4      0  "
      ]
     },
     "execution_count": 4,
     "metadata": {},
     "output_type": "execute_result"
    }
   ],
   "source": [
    "gym_df.info()\n",
    "gym_df.head()"
   ]
  },
  {
   "cell_type": "code",
   "execution_count": 5,
   "metadata": {},
   "outputs": [
    {
     "data": {
      "text/plain": [
       "0"
      ]
     },
     "execution_count": 5,
     "metadata": {},
     "output_type": "execute_result"
    }
   ],
   "source": [
    "gym_df.duplicated().sum()"
   ]
  },
  {
   "cell_type": "markdown",
   "metadata": {},
   "source": [
    "Пропусков и полных дубликатов нет. Данные имеют нужные типы.<br>\n",
    "Приведем названия столбцов для удобства к строчному типу букв. Столбец с количеством месяцев до конца контракта приведем к целому типу данных. Заменим длинные названия столбцов на более короткие и читаемые."
   ]
  },
  {
   "cell_type": "code",
   "execution_count": 6,
   "metadata": {},
   "outputs": [],
   "source": [
    "gym_df.columns = gym_df.columns.str.lower()"
   ]
  },
  {
   "cell_type": "code",
   "execution_count": 7,
   "metadata": {},
   "outputs": [],
   "source": [
    "gym_df['month_to_end_contract'] = gym_df['month_to_end_contract'].astype('int')"
   ]
  },
  {
   "cell_type": "code",
   "execution_count": 8,
   "metadata": {},
   "outputs": [],
   "source": [
    "gym_df = gym_df.rename(columns = {'avg_additional_charges_total' : 'other_revenue',\n",
    "                            'avg_class_frequency_total' : 'freq_total',\n",
    "                            'avg_class_frequency_current_month' : 'freq_curr_month',\n",
    "                            'month_to_end_contract' : 'to_end_contract',\n",
    "                            'promo_friends' : 'promo',\n",
    "                            'near_location' : 'near_loc',\n",
    "                            'group_visits' : 'group'\n",
    "                           })"
   ]
  },
  {
   "cell_type": "code",
   "execution_count": 9,
   "metadata": {
    "scrolled": false
   },
   "outputs": [
    {
     "data": {
      "text/html": [
       "<div>\n",
       "<style scoped>\n",
       "    .dataframe tbody tr th:only-of-type {\n",
       "        vertical-align: middle;\n",
       "    }\n",
       "\n",
       "    .dataframe tbody tr th {\n",
       "        vertical-align: top;\n",
       "    }\n",
       "\n",
       "    .dataframe thead th {\n",
       "        text-align: right;\n",
       "    }\n",
       "</style>\n",
       "<table border=\"1\" class=\"dataframe\">\n",
       "  <thead>\n",
       "    <tr style=\"text-align: right;\">\n",
       "      <th></th>\n",
       "      <th>gender</th>\n",
       "      <th>near_loc</th>\n",
       "      <th>partner</th>\n",
       "      <th>promo</th>\n",
       "      <th>phone</th>\n",
       "      <th>contract_period</th>\n",
       "      <th>group</th>\n",
       "      <th>age</th>\n",
       "      <th>other_revenue</th>\n",
       "      <th>to_end_contract</th>\n",
       "      <th>lifetime</th>\n",
       "      <th>freq_total</th>\n",
       "      <th>freq_curr_month</th>\n",
       "      <th>churn</th>\n",
       "    </tr>\n",
       "  </thead>\n",
       "  <tbody>\n",
       "    <tr>\n",
       "      <th>0</th>\n",
       "      <td>1</td>\n",
       "      <td>1</td>\n",
       "      <td>1</td>\n",
       "      <td>1</td>\n",
       "      <td>0</td>\n",
       "      <td>6</td>\n",
       "      <td>1</td>\n",
       "      <td>29</td>\n",
       "      <td>14.227470</td>\n",
       "      <td>5</td>\n",
       "      <td>3</td>\n",
       "      <td>0.020398</td>\n",
       "      <td>0.000000</td>\n",
       "      <td>0</td>\n",
       "    </tr>\n",
       "    <tr>\n",
       "      <th>1</th>\n",
       "      <td>0</td>\n",
       "      <td>1</td>\n",
       "      <td>0</td>\n",
       "      <td>0</td>\n",
       "      <td>1</td>\n",
       "      <td>12</td>\n",
       "      <td>1</td>\n",
       "      <td>31</td>\n",
       "      <td>113.202938</td>\n",
       "      <td>12</td>\n",
       "      <td>7</td>\n",
       "      <td>1.922936</td>\n",
       "      <td>1.910244</td>\n",
       "      <td>0</td>\n",
       "    </tr>\n",
       "  </tbody>\n",
       "</table>\n",
       "</div>"
      ],
      "text/plain": [
       "   gender  near_loc  partner  promo  phone  contract_period  group  age  \\\n",
       "0       1         1        1      1      0                6      1   29   \n",
       "1       0         1        0      0      1               12      1   31   \n",
       "\n",
       "   other_revenue  to_end_contract  lifetime  freq_total  freq_curr_month  \\\n",
       "0      14.227470                5         3    0.020398         0.000000   \n",
       "1     113.202938               12         7    1.922936         1.910244   \n",
       "\n",
       "   churn  \n",
       "0      0  \n",
       "1      0  "
      ]
     },
     "execution_count": 9,
     "metadata": {},
     "output_type": "execute_result"
    }
   ],
   "source": [
    "gym_df.head(2)"
   ]
  },
  {
   "cell_type": "markdown",
   "metadata": {},
   "source": [
    "## 1.   Исследовательский анализ данных (EDA)<a id='EDA'></a> "
   ]
  },
  {
   "cell_type": "markdown",
   "metadata": {},
   "source": [
    "### 1.1   Описательные статистики<a id='describe'></a> "
   ]
  },
  {
   "cell_type": "markdown",
   "metadata": {},
   "source": [
    "Посмотрим, сколько людей из общей массы пользователей \"ушло в отток\"."
   ]
  },
  {
   "cell_type": "code",
   "execution_count": 10,
   "metadata": {},
   "outputs": [
    {
     "data": {
      "text/plain": [
       "0    2939\n",
       "1    1061\n",
       "Name: churn, dtype: int64"
      ]
     },
     "execution_count": 10,
     "metadata": {},
     "output_type": "execute_result"
    }
   ],
   "source": [
    "gym_df['churn'].value_counts()"
   ]
  },
  {
   "cell_type": "code",
   "execution_count": 11,
   "metadata": {
    "scrolled": true
   },
   "outputs": [
    {
     "data": {
      "text/plain": [
       "27.0"
      ]
     },
     "execution_count": 11,
     "metadata": {},
     "output_type": "execute_result"
    }
   ],
   "source": [
    "(gym_df['churn'].value_counts()[1] / (gym_df['churn'].value_counts()[1] + gym_df['churn'].value_counts()[0] )*100).round()"
   ]
  },
  {
   "cell_type": "markdown",
   "metadata": {},
   "source": [
    "27% клиентов ушло в отток в текущем месяце, 73% осталось. \n",
    "\n",
    "Выведем описательные статистики для признаков."
   ]
  },
  {
   "cell_type": "code",
   "execution_count": 12,
   "metadata": {
    "scrolled": false
   },
   "outputs": [
    {
     "data": {
      "text/html": [
       "<div>\n",
       "<style scoped>\n",
       "    .dataframe tbody tr th:only-of-type {\n",
       "        vertical-align: middle;\n",
       "    }\n",
       "\n",
       "    .dataframe tbody tr th {\n",
       "        vertical-align: top;\n",
       "    }\n",
       "\n",
       "    .dataframe thead th {\n",
       "        text-align: right;\n",
       "    }\n",
       "</style>\n",
       "<table border=\"1\" class=\"dataframe\">\n",
       "  <thead>\n",
       "    <tr style=\"text-align: right;\">\n",
       "      <th></th>\n",
       "      <th>gender</th>\n",
       "      <th>near_loc</th>\n",
       "      <th>partner</th>\n",
       "      <th>promo</th>\n",
       "      <th>phone</th>\n",
       "      <th>contract_period</th>\n",
       "      <th>group</th>\n",
       "      <th>age</th>\n",
       "      <th>other_revenue</th>\n",
       "      <th>to_end_contract</th>\n",
       "      <th>lifetime</th>\n",
       "      <th>freq_total</th>\n",
       "      <th>freq_curr_month</th>\n",
       "      <th>churn</th>\n",
       "    </tr>\n",
       "  </thead>\n",
       "  <tbody>\n",
       "    <tr>\n",
       "      <th>count</th>\n",
       "      <td>4000.00</td>\n",
       "      <td>4000.00</td>\n",
       "      <td>4000.00</td>\n",
       "      <td>4000.00</td>\n",
       "      <td>4000.0</td>\n",
       "      <td>4000.00</td>\n",
       "      <td>4000.00</td>\n",
       "      <td>4000.00</td>\n",
       "      <td>4000.00</td>\n",
       "      <td>4000.00</td>\n",
       "      <td>4000.00</td>\n",
       "      <td>4000.00</td>\n",
       "      <td>4000.00</td>\n",
       "      <td>4000.00</td>\n",
       "    </tr>\n",
       "    <tr>\n",
       "      <th>mean</th>\n",
       "      <td>0.51</td>\n",
       "      <td>0.85</td>\n",
       "      <td>0.49</td>\n",
       "      <td>0.31</td>\n",
       "      <td>0.9</td>\n",
       "      <td>4.68</td>\n",
       "      <td>0.41</td>\n",
       "      <td>29.18</td>\n",
       "      <td>146.94</td>\n",
       "      <td>4.32</td>\n",
       "      <td>3.72</td>\n",
       "      <td>1.88</td>\n",
       "      <td>1.77</td>\n",
       "      <td>0.27</td>\n",
       "    </tr>\n",
       "    <tr>\n",
       "      <th>std</th>\n",
       "      <td>0.50</td>\n",
       "      <td>0.36</td>\n",
       "      <td>0.50</td>\n",
       "      <td>0.46</td>\n",
       "      <td>0.3</td>\n",
       "      <td>4.55</td>\n",
       "      <td>0.49</td>\n",
       "      <td>3.26</td>\n",
       "      <td>96.36</td>\n",
       "      <td>4.19</td>\n",
       "      <td>3.75</td>\n",
       "      <td>0.97</td>\n",
       "      <td>1.05</td>\n",
       "      <td>0.44</td>\n",
       "    </tr>\n",
       "    <tr>\n",
       "      <th>min</th>\n",
       "      <td>0.00</td>\n",
       "      <td>0.00</td>\n",
       "      <td>0.00</td>\n",
       "      <td>0.00</td>\n",
       "      <td>0.0</td>\n",
       "      <td>1.00</td>\n",
       "      <td>0.00</td>\n",
       "      <td>18.00</td>\n",
       "      <td>0.15</td>\n",
       "      <td>1.00</td>\n",
       "      <td>0.00</td>\n",
       "      <td>0.00</td>\n",
       "      <td>0.00</td>\n",
       "      <td>0.00</td>\n",
       "    </tr>\n",
       "    <tr>\n",
       "      <th>25%</th>\n",
       "      <td>0.00</td>\n",
       "      <td>1.00</td>\n",
       "      <td>0.00</td>\n",
       "      <td>0.00</td>\n",
       "      <td>1.0</td>\n",
       "      <td>1.00</td>\n",
       "      <td>0.00</td>\n",
       "      <td>27.00</td>\n",
       "      <td>68.87</td>\n",
       "      <td>1.00</td>\n",
       "      <td>1.00</td>\n",
       "      <td>1.18</td>\n",
       "      <td>0.96</td>\n",
       "      <td>0.00</td>\n",
       "    </tr>\n",
       "    <tr>\n",
       "      <th>50%</th>\n",
       "      <td>1.00</td>\n",
       "      <td>1.00</td>\n",
       "      <td>0.00</td>\n",
       "      <td>0.00</td>\n",
       "      <td>1.0</td>\n",
       "      <td>1.00</td>\n",
       "      <td>0.00</td>\n",
       "      <td>29.00</td>\n",
       "      <td>136.22</td>\n",
       "      <td>1.00</td>\n",
       "      <td>3.00</td>\n",
       "      <td>1.83</td>\n",
       "      <td>1.72</td>\n",
       "      <td>0.00</td>\n",
       "    </tr>\n",
       "    <tr>\n",
       "      <th>75%</th>\n",
       "      <td>1.00</td>\n",
       "      <td>1.00</td>\n",
       "      <td>1.00</td>\n",
       "      <td>1.00</td>\n",
       "      <td>1.0</td>\n",
       "      <td>6.00</td>\n",
       "      <td>1.00</td>\n",
       "      <td>31.00</td>\n",
       "      <td>210.95</td>\n",
       "      <td>6.00</td>\n",
       "      <td>5.00</td>\n",
       "      <td>2.54</td>\n",
       "      <td>2.51</td>\n",
       "      <td>1.00</td>\n",
       "    </tr>\n",
       "    <tr>\n",
       "      <th>max</th>\n",
       "      <td>1.00</td>\n",
       "      <td>1.00</td>\n",
       "      <td>1.00</td>\n",
       "      <td>1.00</td>\n",
       "      <td>1.0</td>\n",
       "      <td>12.00</td>\n",
       "      <td>1.00</td>\n",
       "      <td>41.00</td>\n",
       "      <td>552.59</td>\n",
       "      <td>12.00</td>\n",
       "      <td>31.00</td>\n",
       "      <td>6.02</td>\n",
       "      <td>6.15</td>\n",
       "      <td>1.00</td>\n",
       "    </tr>\n",
       "  </tbody>\n",
       "</table>\n",
       "</div>"
      ],
      "text/plain": [
       "        gender  near_loc  partner    promo   phone  contract_period    group  \\\n",
       "count  4000.00   4000.00  4000.00  4000.00  4000.0          4000.00  4000.00   \n",
       "mean      0.51      0.85     0.49     0.31     0.9             4.68     0.41   \n",
       "std       0.50      0.36     0.50     0.46     0.3             4.55     0.49   \n",
       "min       0.00      0.00     0.00     0.00     0.0             1.00     0.00   \n",
       "25%       0.00      1.00     0.00     0.00     1.0             1.00     0.00   \n",
       "50%       1.00      1.00     0.00     0.00     1.0             1.00     0.00   \n",
       "75%       1.00      1.00     1.00     1.00     1.0             6.00     1.00   \n",
       "max       1.00      1.00     1.00     1.00     1.0            12.00     1.00   \n",
       "\n",
       "           age  other_revenue  to_end_contract  lifetime  freq_total  \\\n",
       "count  4000.00        4000.00          4000.00   4000.00     4000.00   \n",
       "mean     29.18         146.94             4.32      3.72        1.88   \n",
       "std       3.26          96.36             4.19      3.75        0.97   \n",
       "min      18.00           0.15             1.00      0.00        0.00   \n",
       "25%      27.00          68.87             1.00      1.00        1.18   \n",
       "50%      29.00         136.22             1.00      3.00        1.83   \n",
       "75%      31.00         210.95             6.00      5.00        2.54   \n",
       "max      41.00         552.59            12.00     31.00        6.02   \n",
       "\n",
       "       freq_curr_month    churn  \n",
       "count          4000.00  4000.00  \n",
       "mean              1.77     0.27  \n",
       "std               1.05     0.44  \n",
       "min               0.00     0.00  \n",
       "25%               0.96     0.00  \n",
       "50%               1.72     0.00  \n",
       "75%               2.51     1.00  \n",
       "max               6.15     1.00  "
      ]
     },
     "execution_count": 12,
     "metadata": {},
     "output_type": "execute_result"
    }
   ],
   "source": [
    "gym_df.describe().round(2)"
   ]
  },
  {
   "cell_type": "markdown",
   "metadata": {},
   "source": [
    "Можно заметить, что возрастной разброс клиентов не столь большой: среднее - 29 лет , стандартное отклонение - 3 года, хотя присутствуют и выбросы (18 лет, 41 год). А вот время с момента первого посещения довольно сильно варьируется: при среднем 3,74 мес. стандартное отклонение такое же (3,75 мес), и даже встречаются такие \"старички\",  кто уже 31 месяц ходят в клуб."
   ]
  },
  {
   "cell_type": "markdown",
   "metadata": {},
   "source": [
    "### 1.2   Оценка средних значений признаков по группам ушедших и оставшихся<a id='средние_по_оттоку'></a> "
   ]
  },
  {
   "cell_type": "markdown",
   "metadata": {},
   "source": [
    "Посмотрим на средние значения признаков в двух группах — тех, кто ушел в отток и тех, кто остался."
   ]
  },
  {
   "cell_type": "code",
   "execution_count": 13,
   "metadata": {
    "scrolled": true
   },
   "outputs": [
    {
     "data": {
      "text/html": [
       "<div>\n",
       "<style scoped>\n",
       "    .dataframe tbody tr th:only-of-type {\n",
       "        vertical-align: middle;\n",
       "    }\n",
       "\n",
       "    .dataframe tbody tr th {\n",
       "        vertical-align: top;\n",
       "    }\n",
       "\n",
       "    .dataframe thead th {\n",
       "        text-align: right;\n",
       "    }\n",
       "</style>\n",
       "<table border=\"1\" class=\"dataframe\">\n",
       "  <thead>\n",
       "    <tr style=\"text-align: right;\">\n",
       "      <th></th>\n",
       "      <th>gender</th>\n",
       "      <th>near_loc</th>\n",
       "      <th>partner</th>\n",
       "      <th>promo</th>\n",
       "      <th>phone</th>\n",
       "      <th>contract_period</th>\n",
       "      <th>group</th>\n",
       "      <th>age</th>\n",
       "      <th>other_revenue</th>\n",
       "      <th>to_end_contract</th>\n",
       "      <th>lifetime</th>\n",
       "      <th>freq_total</th>\n",
       "      <th>freq_curr_month</th>\n",
       "    </tr>\n",
       "    <tr>\n",
       "      <th>churn</th>\n",
       "      <th></th>\n",
       "      <th></th>\n",
       "      <th></th>\n",
       "      <th></th>\n",
       "      <th></th>\n",
       "      <th></th>\n",
       "      <th></th>\n",
       "      <th></th>\n",
       "      <th></th>\n",
       "      <th></th>\n",
       "      <th></th>\n",
       "      <th></th>\n",
       "      <th></th>\n",
       "    </tr>\n",
       "  </thead>\n",
       "  <tbody>\n",
       "    <tr>\n",
       "      <th>0</th>\n",
       "      <td>0.51</td>\n",
       "      <td>0.87</td>\n",
       "      <td>0.53</td>\n",
       "      <td>0.35</td>\n",
       "      <td>0.9</td>\n",
       "      <td>5.75</td>\n",
       "      <td>0.46</td>\n",
       "      <td>29.98</td>\n",
       "      <td>158.45</td>\n",
       "      <td>5.28</td>\n",
       "      <td>4.71</td>\n",
       "      <td>2.02</td>\n",
       "      <td>2.03</td>\n",
       "    </tr>\n",
       "    <tr>\n",
       "      <th>1</th>\n",
       "      <td>0.51</td>\n",
       "      <td>0.77</td>\n",
       "      <td>0.36</td>\n",
       "      <td>0.18</td>\n",
       "      <td>0.9</td>\n",
       "      <td>1.73</td>\n",
       "      <td>0.27</td>\n",
       "      <td>26.99</td>\n",
       "      <td>115.08</td>\n",
       "      <td>1.66</td>\n",
       "      <td>0.99</td>\n",
       "      <td>1.47</td>\n",
       "      <td>1.04</td>\n",
       "    </tr>\n",
       "  </tbody>\n",
       "</table>\n",
       "</div>"
      ],
      "text/plain": [
       "       gender  near_loc  partner  promo  phone  contract_period  group    age  \\\n",
       "churn                                                                           \n",
       "0        0.51      0.87     0.53   0.35    0.9             5.75   0.46  29.98   \n",
       "1        0.51      0.77     0.36   0.18    0.9             1.73   0.27  26.99   \n",
       "\n",
       "       other_revenue  to_end_contract  lifetime  freq_total  freq_curr_month  \n",
       "churn                                                                         \n",
       "0             158.45             5.28      4.71        2.02             2.03  \n",
       "1             115.08             1.66      0.99        1.47             1.04  "
      ]
     },
     "execution_count": 13,
     "metadata": {},
     "output_type": "execute_result"
    }
   ],
   "source": [
    "gym_df.groupby('churn').agg('mean').round(2) #.reset_index()"
   ]
  },
  {
   "cell_type": "markdown",
   "metadata": {},
   "source": [
    "Даже из этой небольшой таблички уже можно выудить полезную для бизнеса информацию. У группы ушедших в отток средние значения всех небинарных признаков заметно меньше, чем у оставшихся. Срок контракта общий и срок до конца контракта у оставшихся превышает срок у ушедших в 3 с лишним раза, средний возраст - на 3 года старше, выручка от \"других\" услуг - выше почти на 40%, частота посещения всего - на 30% выше, частота посещений в последний месяц выше в 2 раза, а \"время жизни\" выше почти в 5 раз. Кроме того, оставшися в клубе клиенты на 70% чаще посещали групповые занятия, в 2 раза больше из них пришло по промоакции \"Приведи друга\", и в полтора раза чаще среди низ встречаются сотрудники компаний-партнеров. Соотношение полов и наличие телефона в базе различия в группах не имеют."
   ]
  },
  {
   "cell_type": "markdown",
   "metadata": {},
   "source": [
    "### 1.3   Выявление мультиколлинеарности<a id='corr'></a> "
   ]
  },
  {
   "cell_type": "markdown",
   "metadata": {},
   "source": [
    "Построим матрицу корреляций признаков и отобразим ее в виде тепловой карты.<br>\n",
    "\n",
    "Сразу сделаем оговорку, что коэффициент корреляции Пирсона используется для поиска линейной взаимосвязи величин, и если зависимость криволинейная, данный коэффициент ее не уловит. То есть формально, не по всем признакам (в том числе интересующий нас параметр `churn`) правильно строить матрицу корреляций. Однако, для целей бизнеса и такой инструмент может быть полезен, так как хотя бы грубо может показать такие взаимосвязи."
   ]
  },
  {
   "cell_type": "code",
   "execution_count": 14,
   "metadata": {
    "scrolled": false
   },
   "outputs": [
    {
     "data": {
      "image/png": "[encoded data removed]",
      "text/plain": [
       "<Figure size 1296x720 with 2 Axes>"
      ]
     },
     "metadata": {
      "needs_background": "light"
     },
     "output_type": "display_data"
    }
   ],
   "source": [
    "plt.figure(figsize= (18, 10))\n",
    "                        #поменять палитру можно с помощью параметра cmap= 'coolwarm'\n",
    "sns.heatmap(gym_df.corr().round(2), annot = True, square = True, linewidths=1, linecolor='gray'); #  "
   ]
  },
  {
   "cell_type": "markdown",
   "metadata": {},
   "source": [
    "Очевидно наличие мультиколлинеарности в матрице наших признаков, т.к. мы имеем 2 пары очень высоко-корреллирующих между собой признаков: это параметры `общий срок контракта`  и `срок до конца контракта` , имеющие коэффициент корреляции 0,97, а также параметры `общая частота посещений` и `частота посещений в последний месяц`.  На интуитивном уровне также понятна их высокая взаимосвязь. <br>\n",
    "    \n",
    "   Некоторые прогнозные модели (в частности, модель логистической регресии, которую мы далее планируем использовать в исследовании) очень чувствительны к мультиколлинеарности. Потому нам следует избавиться от дублирующих признаков.<br>\n",
    "    \n",
    "   Среди первый двух признаков более показательным, на наш взгляд, является признак общего срока контракта, поскольку второй признак (срок до конца контракта) в большей степени зависит от точки, на которую мы делаем срез. Общий же срок контракта показывает, на сколько серьезно клиент настроен в момент покупки контракта. Так что оставляем `общий срок контракта` (удаляем `срок до конца контракта`).\n",
    "    \n",
    "   Аналогично со второй парой признаков: на наш взляд, показательней является частота посещений на длительном промежутке, нежели чем в послений месяц, поскольку в последний месяц может попасть отпуск клиента, и это спровоцирует на ошибочное установдение признака оттока. Оставляем `общая частота посещений` (удаляем `частота посещений в последний месяц`).<br>"
   ]
  },
  {
   "cell_type": "code",
   "execution_count": 15,
   "metadata": {},
   "outputs": [],
   "source": [
    "# в датафрейме gym_df оставляем полный изначальный набор признаков, в gym сохраним данные без взаимозависимых признаков\n",
    "gym = gym_df.drop('to_end_contract', axis = 1)\n",
    "gym = gym.drop('freq_curr_month', axis = 1)"
   ]
  },
  {
   "cell_type": "markdown",
   "metadata": {},
   "source": [
    "  \n",
    "   Также найдена средняя степень взаимосвязи между признаками `пришел по акции` и `сотрудник компании - партнера` (0,45), что не является признаком мультиколлинеарности. Остальные признаки практически не имеют взаимосвязи между собой.<br>\n",
    "   \n",
    "   Сразу же можно увидеть **умеренную обратную взаимосвязь между показателем оттока и** такими признаками, как **срок контракта, возраст и время с момента первого обращения**: можно предположить, что **чем выше эти показатели, тем ниже отток**."
   ]
  },
  {
   "cell_type": "markdown",
   "metadata": {},
   "source": [
    "### 1.4   Распределения признаков по ушедшим в отток и оставшимся<a id='barplot_boxplot'></a> "
   ]
  },
  {
   "cell_type": "markdown",
   "metadata": {},
   "source": [
    "Поделим признаки на бинарные и остальные (небинарные)."
   ]
  },
  {
   "cell_type": "code",
   "execution_count": 16,
   "metadata": {
    "scrolled": false
   },
   "outputs": [
    {
     "name": "stdout",
     "output_type": "stream",
     "text": [
      "['gender', 'near_loc', 'partner', 'promo', 'phone', 'group']\n",
      "['contract_period', 'age', 'other_revenue', 'lifetime', 'freq_total']\n"
     ]
    }
   ],
   "source": [
    "binary_list = []\n",
    "not_binary_list = []\n",
    "\n",
    "for col in gym.drop('churn', axis = 1).columns:\n",
    "    if gym[col].min() == 0 and gym[col].max() == 1:\n",
    "        binary_list.append(col) \n",
    "    else:\n",
    "        not_binary_list.append(col) \n",
    "\n",
    "print(binary_list)\n",
    "print(not_binary_list)"
   ]
  },
  {
   "cell_type": "markdown",
   "metadata": {},
   "source": [
    "Поделим с учетом полученных списков наши датафреймы на бинарные/небинарные  и добавим колонку `churn`."
   ]
  },
  {
   "cell_type": "code",
   "execution_count": 17,
   "metadata": {},
   "outputs": [],
   "source": [
    "gym_bin = gym[binary_list]\n",
    "gym_not_bin = gym[not_binary_list]\n",
    "\n",
    "gym_bin['churn'] = gym['churn']\n",
    "gym_not_bin['churn'] = gym['churn']"
   ]
  },
  {
   "cell_type": "code",
   "execution_count": 18,
   "metadata": {
    "scrolled": true
   },
   "outputs": [
    {
     "data": {
      "text/html": [
       "<div>\n",
       "<style scoped>\n",
       "    .dataframe tbody tr th:only-of-type {\n",
       "        vertical-align: middle;\n",
       "    }\n",
       "\n",
       "    .dataframe tbody tr th {\n",
       "        vertical-align: top;\n",
       "    }\n",
       "\n",
       "    .dataframe thead th {\n",
       "        text-align: right;\n",
       "    }\n",
       "</style>\n",
       "<table border=\"1\" class=\"dataframe\">\n",
       "  <thead>\n",
       "    <tr style=\"text-align: right;\">\n",
       "      <th></th>\n",
       "      <th>gender</th>\n",
       "      <th>near_loc</th>\n",
       "      <th>partner</th>\n",
       "      <th>promo</th>\n",
       "      <th>phone</th>\n",
       "      <th>group</th>\n",
       "      <th>churn</th>\n",
       "    </tr>\n",
       "  </thead>\n",
       "  <tbody>\n",
       "    <tr>\n",
       "      <th>0</th>\n",
       "      <td>1</td>\n",
       "      <td>1</td>\n",
       "      <td>1</td>\n",
       "      <td>1</td>\n",
       "      <td>0</td>\n",
       "      <td>1</td>\n",
       "      <td>0</td>\n",
       "    </tr>\n",
       "    <tr>\n",
       "      <th>1</th>\n",
       "      <td>0</td>\n",
       "      <td>1</td>\n",
       "      <td>0</td>\n",
       "      <td>0</td>\n",
       "      <td>1</td>\n",
       "      <td>1</td>\n",
       "      <td>0</td>\n",
       "    </tr>\n",
       "  </tbody>\n",
       "</table>\n",
       "</div>"
      ],
      "text/plain": [
       "   gender  near_loc  partner  promo  phone  group  churn\n",
       "0       1         1        1      1      0      1      0\n",
       "1       0         1        0      0      1      1      0"
      ]
     },
     "metadata": {},
     "output_type": "display_data"
    },
    {
     "data": {
      "text/html": [
       "<div>\n",
       "<style scoped>\n",
       "    .dataframe tbody tr th:only-of-type {\n",
       "        vertical-align: middle;\n",
       "    }\n",
       "\n",
       "    .dataframe tbody tr th {\n",
       "        vertical-align: top;\n",
       "    }\n",
       "\n",
       "    .dataframe thead th {\n",
       "        text-align: right;\n",
       "    }\n",
       "</style>\n",
       "<table border=\"1\" class=\"dataframe\">\n",
       "  <thead>\n",
       "    <tr style=\"text-align: right;\">\n",
       "      <th></th>\n",
       "      <th>contract_period</th>\n",
       "      <th>age</th>\n",
       "      <th>other_revenue</th>\n",
       "      <th>lifetime</th>\n",
       "      <th>freq_total</th>\n",
       "      <th>churn</th>\n",
       "    </tr>\n",
       "  </thead>\n",
       "  <tbody>\n",
       "    <tr>\n",
       "      <th>0</th>\n",
       "      <td>6</td>\n",
       "      <td>29</td>\n",
       "      <td>14.227470</td>\n",
       "      <td>3</td>\n",
       "      <td>0.020398</td>\n",
       "      <td>0</td>\n",
       "    </tr>\n",
       "    <tr>\n",
       "      <th>1</th>\n",
       "      <td>12</td>\n",
       "      <td>31</td>\n",
       "      <td>113.202938</td>\n",
       "      <td>7</td>\n",
       "      <td>1.922936</td>\n",
       "      <td>0</td>\n",
       "    </tr>\n",
       "  </tbody>\n",
       "</table>\n",
       "</div>"
      ],
      "text/plain": [
       "   contract_period  age  other_revenue  lifetime  freq_total  churn\n",
       "0                6   29      14.227470         3    0.020398      0\n",
       "1               12   31     113.202938         7    1.922936      0"
      ]
     },
     "metadata": {},
     "output_type": "display_data"
    }
   ],
   "source": [
    "display(gym_bin.head(2))\n",
    "display(gym_not_bin.head(2))"
   ]
  },
  {
   "cell_type": "markdown",
   "metadata": {},
   "source": [
    "Построим столбчатые диаграммы для каждого бинарного признака в разбивке по признаку оттока."
   ]
  },
  {
   "cell_type": "code",
   "execution_count": 19,
   "metadata": {
    "scrolled": false
   },
   "outputs": [
    {
     "data": {
      "image/png": "[encoded data removed]",
      "text/plain": [
       "<Figure size 576x288 with 1 Axes>"
      ]
     },
     "metadata": {
      "needs_background": "light"
     },
     "output_type": "display_data"
    },
    {
     "data": {
      "image/png": "[encoded data removed]",
      "text/plain": [
       "<Figure size 576x288 with 1 Axes>"
      ]
     },
     "metadata": {
      "needs_background": "light"
     },
     "output_type": "display_data"
    },
    {
     "data": {
      "image/png": "[encoded data removed]",
      "text/plain": [
       "<Figure size 576x288 with 1 Axes>"
      ]
     },
     "metadata": {
      "needs_background": "light"
     },
     "output_type": "display_data"
    },
    {
     "data": {
      "image/png": "[encoded data removed]",
      "text/plain": [
       "<Figure size 576x288 with 1 Axes>"
      ]
     },
     "metadata": {
      "needs_background": "light"
     },
     "output_type": "display_data"
    },
    {
     "data": {
      "image/png": "[encoded data removed]",
      "text/plain": [
       "<Figure size 576x288 with 1 Axes>"
      ]
     },
     "metadata": {
      "needs_background": "light"
     },
     "output_type": "display_data"
    },
    {
     "data": {
      "image/png": "[encoded data removed]",
      "text/plain": [
       "<Figure size 576x288 with 1 Axes>"
      ]
     },
     "metadata": {
      "needs_background": "light"
     },
     "output_type": "display_data"
    }
   ],
   "source": [
    "for col in binary_list:\n",
    "    fig, ax = plt.subplots(figsize=(8,4))\n",
    "    plt.title('Столбчатая диаграмма для признака   ' + col + '   в разбивке по признаку оттока', fontsize = 13)\n",
    "    ax = sns.barplot(data = gym_bin,  x = 'churn', y = col);\n",
    "    ax.yaxis.grid = True\n",
    "    plt.show()"
   ]
  },
  {
   "cell_type": "markdown",
   "metadata": {},
   "source": [
    "Распределения бинарных признаков в виде столбчатых диаграмм хорошо иллюстрируют все то, что мы уже смогли увидеть и описать выше по таблице средних значений признаков. Разве что можно добавить, что признак близости локации у ушедщих в отток чуть ниже, чем у оставшихся, однако различие нельзя назвать существенным."
   ]
  },
  {
   "cell_type": "markdown",
   "metadata": {},
   "source": [
    "Теперь построим диаграммы \"ящик с усами\" для каждого небинарного признака в разбивке по признаку оттока."
   ]
  },
  {
   "cell_type": "code",
   "execution_count": 20,
   "metadata": {
    "scrolled": false
   },
   "outputs": [
    {
     "data": {
      "image/png": "[encoded data removed]",
      "text/plain": [
       "<Figure size 576x288 with 1 Axes>"
      ]
     },
     "metadata": {
      "needs_background": "light"
     },
     "output_type": "display_data"
    },
    {
     "data": {
      "image/png": "[encoded data removed]",
      "text/plain": [
       "<Figure size 576x288 with 1 Axes>"
      ]
     },
     "metadata": {
      "needs_background": "light"
     },
     "output_type": "display_data"
    },
    {
     "data": {
      "image/png": "[encoded data removed]",
      "text/plain": [
       "<Figure size 576x288 with 1 Axes>"
      ]
     },
     "metadata": {
      "needs_background": "light"
     },
     "output_type": "display_data"
    },
    {
     "data": {
      "image/png": "[encoded data removed]",
      "text/plain": [
       "<Figure size 576x288 with 1 Axes>"
      ]
     },
     "metadata": {
      "needs_background": "light"
     },
     "output_type": "display_data"
    },
    {
     "data": {
      "image/png": "[encoded data removed]",
      "text/plain": [
       "<Figure size 576x288 with 1 Axes>"
      ]
     },
     "metadata": {
      "needs_background": "light"
     },
     "output_type": "display_data"
    }
   ],
   "source": [
    "for col in not_binary_list:\n",
    "    fig, ax = plt.subplots(figsize=(8,4))\n",
    "    plt.title('Диаграмма \"ящик с усами\" для признака   ' + col + '   в разбивке по признаку оттока', fontsize = 13)\n",
    "    ax = sns.boxplot(data = gym_not_bin, orient = 'h', x = col, y = 'churn')\n",
    "    ax.yaxis.grid = True\n",
    "    plt.show()"
   ]
  },
  {
   "cell_type": "markdown",
   "metadata": {},
   "source": [
    "А вот для небинарных признаков диаграмма \"ящик с усами\" дает уже больше информации, чем таблица средних значений.\n",
    "Почти все клиенты , ушедшие в отток имеют месячные контракты (единичные выбросы в 6 и 12 месяцев мы не считаем), в то время как у оставшихся все контракты распределены равномерно: и 1, и 6, и 12 месяцев.<br>\n",
    "\n",
    "Медиана возраста ушедших - 27 лет, у оставшихся - 30 с лишним. В целом группа оставшихся старше группы ушедших.<br>\n",
    "\n",
    "В основном группа оттока тратила от 50 до 160 единиц на \"другие \"услуги, и выбросов по тратам в этой группе мало. А вот в группе оставшихся очень много выбросов по тратам сверх 450 единиц, да и в основном эта группа потратила гораздо больше (от 80 до 230). <br>\n",
    "\n",
    "Почти целиком группа ушедших - это \"новички\", знакомые с клубом до 1 месяца. Оставшиеся же ходят в клуб уже от 3 до 7 месяцев в среднем, четвертая часть их них ходят от 7 до 13 месяцев, и даже есть те, кто ходит до 30 месяцев.<br>\n",
    "\n",
    "Частота посещения центра у  ушедших - в среднем 1,5 раза в неделю, и даже самые мотивированные из них посещали клуб  максимум 3 раза в неделю. У оставшихся медиана выше - 2 р/нед., а почти четверть группы посещала занятия от 3 до 5 р/нед."
   ]
  },
  {
   "cell_type": "markdown",
   "metadata": {},
   "source": [
    "## 2. Построение модели прогнозирования оттока пользователей<a id='binary_model'></a> "
   ]
  },
  {
   "cell_type": "markdown",
   "metadata": {},
   "source": [
    "### 2.1   Разделение и стандартизация выборок<a id='split_standart'></a> "
   ]
  },
  {
   "cell_type": "markdown",
   "metadata": {},
   "source": [
    "Построим модель бинарной классификации пользователей, где целевой признак — факт оттока пользователя в следующем месяце."
   ]
  },
  {
   "cell_type": "code",
   "execution_count": 21,
   "metadata": {},
   "outputs": [],
   "source": [
    "# разделим наши данные на признаки (матрица X) и целевую переменную (y)\n",
    "X = gym.drop('churn', axis = 1)\n",
    "y = gym['churn']\n",
    "\n",
    "# разделим модель на обучающую и валидационную выборку в классическом соотношении 80% к 20% \n",
    "# укажем важный параметр random_state = 0, необходимый при повторении экспериментов и при сравнении моделей\n",
    "# между собой, чтобы при делении в выборку каждый раз брались одни и те же значения\n",
    "X_train, X_test, y_train, y_test = train_test_split(X, y, test_size=0.2, random_state = 0) \n",
    "\n",
    "#display(X_train)\n",
    "#display(y_train)"
   ]
  },
  {
   "cell_type": "markdown",
   "metadata": {},
   "source": [
    "   Хотя стандартизация - это опциональный этап подготовки данных, и в данном случае при применении моделей логистической регрессии и случайного дерева её можно было бы и пропустить,  тем не менее,  её советуют проводить в любом случае, чтобы все значения были одного порядка.  Например, в случае логистической регриссии стандартизированные данные приводят коэффициенты модели к одному порядку, что упрощает анализ модели и ее использование. Также стандартизация упрощает обучение модели (именно вычисления), в случае, если модель рассчитывает коэффициенты на основе данных (хотя в случае с деревьями они не рассчитывают коэффициенты, поэтому стандартизация не влияет на вычисления так, как в логистической регрессии или при кластеризации с использованием K-Means).<br>\n",
    "\n",
    "   Кроме того, поскольку мы строим несколько разных моделей на одних данных, а потом  сравниваем, какая из моделей лучше, то нужно для всех моделей либо стандартизированть данные, либо нет, то есть проводить вычисления на одних и тех же данных, иначе результаты моделей будут несравнимы.<br>\n",
    "\n",
    "   Исходя из изложенного, принимаем решение стандартизировать данные. Стандартизация приведёт значения признаков к виду стандартного нормального распределения: значения будут центрированы относительно 0, а средний разброс данных составит 1. "
   ]
  },
  {
   "cell_type": "code",
   "execution_count": 22,
   "metadata": {},
   "outputs": [
    {
     "data": {
      "text/plain": [
       "array([[-1.01511421,  0.4175068 ,  1.03175391,  1.4800097 ,  0.31628211,\n",
       "         1.60502986, -0.84769226,  0.57944798,  0.37161711,  1.12734972,\n",
       "         1.75580418],\n",
       "       [-1.01511421,  0.4175068 , -0.96922337, -0.67567125,  0.31628211,\n",
       "        -0.81299073, -0.84769226,  0.27046055, -1.09697378,  5.88138322,\n",
       "        -0.2239674 ]])"
      ]
     },
     "execution_count": 22,
     "metadata": {},
     "output_type": "execute_result"
    }
   ],
   "source": [
    "# создадим объект класса StandardScaler и применим его к обучающей выборке\n",
    "#обучаем scaler на обучающей выборке и одновременно трансформируем матрицу обучающей выборки\n",
    "scaler = StandardScaler()\n",
    "X_train_st = scaler.fit_transform(X_train) \n",
    "\n",
    "# применяем стандартизацию к матрице признаков для тестовой (а точнее, валидационной) выборки\n",
    "X_test_st = scaler.transform(X_test)\n",
    "\n",
    "X_train_st[:2]"
   ]
  },
  {
   "cell_type": "markdown",
   "metadata": {},
   "source": [
    "Определим функцию, которая будет выводить нужные нам метрики."
   ]
  },
  {
   "cell_type": "code",
   "execution_count": 23,
   "metadata": {},
   "outputs": [],
   "source": [
    "def print_all_metrics(y_true, y_pred, title = 'Метрики классификации'):\n",
    "    print(title)\n",
    "    print('\\tAccuracy: {:.2f}'.format(accuracy_score(y_true, y_pred)))\n",
    "    print('\\tPrecision: {:.2f}'.format(precision_score(y_true, y_pred)))\n",
    "    print('\\tRecall: {:.2f}'.format(recall_score(y_true, y_pred)))"
   ]
  },
  {
   "cell_type": "markdown",
   "metadata": {},
   "source": [
    "### 2.2  Сравнение алгоритмов логистической регрессии и случайного леса<a id='log_reg_vs_rand_for'></a> "
   ]
  },
  {
   "cell_type": "markdown",
   "metadata": {},
   "source": [
    "Зададим алгоритм для новой модели на основе алгоритма логистической регрессии, обучим модель на обучающей выборке, сделаем прогноз на валидационной выборке и посчитаем метрики."
   ]
  },
  {
   "cell_type": "code",
   "execution_count": 24,
   "metadata": {
    "scrolled": true
   },
   "outputs": [
    {
     "name": "stdout",
     "output_type": "stream",
     "text": [
      "Метрики для модели логистической регрессии:\n",
      "\tAccuracy: 0.90\n",
      "\tPrecision: 0.79\n",
      "\tRecall: 0.81\n"
     ]
    }
   ],
   "source": [
    "lr_model = LogisticRegression(random_state = 0)\n",
    "# обучим модель лог.регрессии\n",
    "lr_model.fit(X_train_st, y_train)\n",
    "# воспользуемся уже обученной моделью, чтобы сделать прогнозы\n",
    "lr_predictions = lr_model.predict(X_test_st)\n",
    "lr_probabilities = lr_model.predict_proba(X_test_st)[:,1]\n",
    "# выведем все метрики\n",
    "print_all_metrics(y_test, lr_predictions, title='Метрики для модели логистической регрессии:')"
   ]
  },
  {
   "cell_type": "markdown",
   "metadata": {},
   "source": [
    "Аналогично - для алгоритма случайного леса."
   ]
  },
  {
   "cell_type": "code",
   "execution_count": 25,
   "metadata": {
    "scrolled": false
   },
   "outputs": [
    {
     "name": "stdout",
     "output_type": "stream",
     "text": [
      "Метрики для модели случайного леса:\n",
      "\tAccuracy: 0.89\n",
      "\tPrecision: 0.79\n",
      "\tRecall: 0.76\n"
     ]
    }
   ],
   "source": [
    "rf_model =  RandomForestClassifier(n_estimators = 100, random_state = 0) \n",
    "# обучим модель случайного леса\n",
    "rf_model.fit(X_train_st, y_train)\n",
    "# воспользуемся уже обученной моделью, чтобы сделать прогнозы\n",
    "rf_predictions =  rf_model.predict(X_test_st) \n",
    "rf_probabilities = rf_model.predict_proba(X_test_st)[:,1] \n",
    "# выведем все метрики\n",
    "print_all_metrics(y_test, rf_predictions,  title = 'Метрики для модели случайного леса:')"
   ]
  },
  {
   "cell_type": "markdown",
   "metadata": {},
   "source": [
    "Метрика `accuracy` является одной из метрик алгоритмов бинарной классификации и означает долю верно угаданных ответов из всех прогнозов. Чем ближе значение `accuracy` к 100%, тем лучше. В нашем случае она составляет 0.90 для алгоритма логистической регрессии и 0.89 - для случайного леса. Однако, данная метрика хорошо работает только в случае, если классы сбалансированы, то есть когда объектов каждого класса примерно поровну, 50% : 50%. Но мы ранее посчитали, что в нашей задаче классы имеют соотношение 27% : 73%, то есть баланс классов не соблюден. Так как классы не сбалансированны, то эта метрика скорей показывает не то, на сколько хорошо модель предсказывает положительные исходы (единицы, или отток в нашем случае), а то, насколько хорошо она определяет превалирующий класс."
   ]
  },
  {
   "cell_type": "markdown",
   "metadata": {},
   "source": [
    "Метрика `precision` говорит, какая доля прогнозов относительно \"1\" класса верна. То есть смотрим долю правильных ответов только среди целевого класса (класс \"оттока\").  В бизнесе метрика precision нужна, если каждое срабатывание  модели ( факт отнесения к классу \"1\" стоит ресурсов, а бизнес не хочет, чтобы модель часто «срабатывала попусту». `Precision` составляет 0.79 для обоих алгоритмов. <br>"
   ]
  },
  {
   "cell_type": "markdown",
   "metadata": {},
   "source": [
    "Метрика `recall` нацелена на минимизацию противоположных рисков:  показывает, сколько реальных объектов \"1\" класса мы смогли обнаружить с помощью модели. Она составляет  0.81 алгоритма логистической регрессии против 0.76 у алгоритма случайного леса.<br>\n",
    "\n",
    "Судя по метрикам, ***модель на основе алгоритма логистической регрессии показала чуть лучший результат, чем в модель на основе алгоритма случайного леса***. Поэтому, именно ее в данном случае можно было бы предложить для дальнейшего прогнозирования оттока пользователей фитнес-центра."
   ]
  },
  {
   "cell_type": "markdown",
   "metadata": {},
   "source": [
    "## 3. Кластеризация пользователей<a id='clusterisation'></a> "
   ]
  },
  {
   "cell_type": "markdown",
   "metadata": {},
   "source": [
    "### 3.1   Определение оптимального количества кластеров<a id='dendro'></a> "
   ]
  },
  {
   "cell_type": "markdown",
   "metadata": {},
   "source": [
    "Теперь проведем кластеризацию пользователей. Для этого возьмем матрицу признаков X (из нее исключен интересующий нас показатель оттока).<br>\n",
    "Поскольку алгоритмы кластеризации работают с расстояниями между точками векторов признаков (наблюдений), в этом случаем стандартизация просто необходима: нужно, чтобы все признаки были приведены к одному масштабу."
   ]
  },
  {
   "cell_type": "code",
   "execution_count": 26,
   "metadata": {},
   "outputs": [],
   "source": [
    "# обязательная стандартизация данных перед работой с алгоритмами кластеризации\n",
    "sc = StandardScaler()\n",
    "X_sc = sc.fit_transform(X)"
   ]
  },
  {
   "cell_type": "markdown",
   "metadata": {},
   "source": [
    "Проведем иерархическую агломеративную кластеризацию и затем нарисуем дендрограмму. "
   ]
  },
  {
   "cell_type": "code",
   "execution_count": 27,
   "metadata": {},
   "outputs": [
    {
     "data": {
      "text/plain": [
       "array([[7.13000000e+02, 2.03300000e+03, 1.27048836e-02, 2.00000000e+00],\n",
       "       [7.93000000e+02, 3.20500000e+03, 5.90387919e-02, 2.00000000e+00],\n",
       "       [7.50000000e+01, 1.64600000e+03, 6.49761006e-02, 2.00000000e+00],\n",
       "       ...,\n",
       "       [7.98500000e+03, 7.99500000e+03, 8.41193602e+01, 2.57000000e+03],\n",
       "       [7.98600000e+03, 7.99600000e+03, 8.97620484e+01, 2.95600000e+03],\n",
       "       [7.99200000e+03, 7.99700000e+03, 9.53923405e+01, 4.00000000e+03]])"
      ]
     },
     "execution_count": 27,
     "metadata": {},
     "output_type": "execute_result"
    }
   ],
   "source": [
    "linked = linkage(X_sc, method = 'ward') #чтобы диаграмма получилась показательной, \n",
    "linked                                           #лучше передать параметру method значение 'ward'"
   ]
  },
  {
   "cell_type": "markdown",
   "metadata": {},
   "source": [
    "Получили таблицу \"связок\" между объектами, или матрицу попарных расстояний между точками наблюдений. Визуализируем ее как дендрограмму (дерево)."
   ]
  },
  {
   "cell_type": "code",
   "execution_count": 28,
   "metadata": {},
   "outputs": [
    {
     "data": {
      "image/png": "[encoded data removed]",
      "text/plain": [
       "<Figure size 1080x720 with 1 Axes>"
      ]
     },
     "metadata": {
      "needs_background": "light"
     },
     "output_type": "display_data"
    }
   ],
   "source": [
    "plt.figure(figsize=(15, 10))  \n",
    "plt.title('Дендрограмма иерархической агломеративной кластеризации', fontsize = 13)\n",
    "dendrogram(linked, orientation='top')\n",
    "plt.show()"
   ]
  },
  {
   "cell_type": "markdown",
   "metadata": {},
   "source": [
    "По вертикали  - расстояние между кластерами, а по горизонтали — объекты. Каждая горизонтальная «связка» соответствует расстоянию между объединяемыми объектами.<br>\n",
    "Предложенное алгоритмом иерархической кластеризации **оптимальное число кластеров составляет 4** (4 разных цвета на графике). Хотя один из кластеров визуально гораздо больше остальных, и теоретически, можно было бы подумать о разбиении данного кластера еще на подкластеры. Вообще, деление на кластеры является отчасти творческой, экспертной задачей, и она должна согласовываться с задачами бизнеса, в том числе кластеры должны хорошо различаться и интерпретироваться. Поэтому, в данном случае я бы согласилась с предложенным моделью вариантом и остановилась бы на 4х кластерах. Однако, согласно требованию заказчика для целей сравнимости результата исследования с исследованиями других исполнителей  мы возьмем для дальнейших вычислений число кластеров, равное 5."
   ]
  },
  {
   "cell_type": "markdown",
   "metadata": {},
   "source": [
    "### 3.2   Проведение кластеризации<a id='K-means'></a>"
   ]
  },
  {
   "cell_type": "markdown",
   "metadata": {},
   "source": [
    "На основании алгоритма K-means спрогнозируем кластеры клиентов."
   ]
  },
  {
   "cell_type": "code",
   "execution_count": 29,
   "metadata": {},
   "outputs": [],
   "source": [
    "# задаём модель K-means с числом кластеров 5\n",
    "km = KMeans(n_clusters = 5, random_state = 0) "
   ]
  },
  {
   "cell_type": "code",
   "execution_count": 30,
   "metadata": {},
   "outputs": [],
   "source": [
    "# прогнозируем кластеры для наблюдений (алгоритм присваивает им номера от 0 до 4)\n",
    "labels = km.fit_predict(X_sc)"
   ]
  },
  {
   "cell_type": "code",
   "execution_count": 31,
   "metadata": {},
   "outputs": [
    {
     "name": "stdout",
     "output_type": "stream",
     "text": [
      "[4 2 3 1 1 2 4 3 1 2]\n"
     ]
    }
   ],
   "source": [
    "print(labels[:10])"
   ]
  },
  {
   "cell_type": "code",
   "execution_count": 40,
   "metadata": {
    "scrolled": false
   },
   "outputs": [
    {
     "data": {
      "text/html": [
       "<div>\n",
       "<style scoped>\n",
       "    .dataframe tbody tr th:only-of-type {\n",
       "        vertical-align: middle;\n",
       "    }\n",
       "\n",
       "    .dataframe tbody tr th {\n",
       "        vertical-align: top;\n",
       "    }\n",
       "\n",
       "    .dataframe thead th {\n",
       "        text-align: right;\n",
       "    }\n",
       "</style>\n",
       "<table border=\"1\" class=\"dataframe\">\n",
       "  <thead>\n",
       "    <tr style=\"text-align: right;\">\n",
       "      <th></th>\n",
       "      <th>gender</th>\n",
       "      <th>near_loc</th>\n",
       "      <th>partner</th>\n",
       "      <th>promo</th>\n",
       "      <th>phone</th>\n",
       "      <th>contract_period</th>\n",
       "      <th>group</th>\n",
       "      <th>age</th>\n",
       "      <th>other_revenue</th>\n",
       "      <th>lifetime</th>\n",
       "      <th>freq_total</th>\n",
       "      <th>churn</th>\n",
       "      <th>cluster_km</th>\n",
       "    </tr>\n",
       "  </thead>\n",
       "  <tbody>\n",
       "    <tr>\n",
       "      <th>0</th>\n",
       "      <td>1</td>\n",
       "      <td>1</td>\n",
       "      <td>1</td>\n",
       "      <td>1</td>\n",
       "      <td>0</td>\n",
       "      <td>6</td>\n",
       "      <td>1</td>\n",
       "      <td>29</td>\n",
       "      <td>14.227470</td>\n",
       "      <td>3</td>\n",
       "      <td>0.020398</td>\n",
       "      <td>0</td>\n",
       "      <td>4</td>\n",
       "    </tr>\n",
       "    <tr>\n",
       "      <th>1</th>\n",
       "      <td>0</td>\n",
       "      <td>1</td>\n",
       "      <td>0</td>\n",
       "      <td>0</td>\n",
       "      <td>1</td>\n",
       "      <td>12</td>\n",
       "      <td>1</td>\n",
       "      <td>31</td>\n",
       "      <td>113.202938</td>\n",
       "      <td>7</td>\n",
       "      <td>1.922936</td>\n",
       "      <td>0</td>\n",
       "      <td>2</td>\n",
       "    </tr>\n",
       "    <tr>\n",
       "      <th>2</th>\n",
       "      <td>0</td>\n",
       "      <td>1</td>\n",
       "      <td>1</td>\n",
       "      <td>0</td>\n",
       "      <td>1</td>\n",
       "      <td>1</td>\n",
       "      <td>0</td>\n",
       "      <td>28</td>\n",
       "      <td>129.448479</td>\n",
       "      <td>2</td>\n",
       "      <td>1.859098</td>\n",
       "      <td>0</td>\n",
       "      <td>3</td>\n",
       "    </tr>\n",
       "  </tbody>\n",
       "</table>\n",
       "</div>"
      ],
      "text/plain": [
       "   gender  near_loc  partner  promo  phone  contract_period  group  age  \\\n",
       "0       1         1        1      1      0                6      1   29   \n",
       "1       0         1        0      0      1               12      1   31   \n",
       "2       0         1        1      0      1                1      0   28   \n",
       "\n",
       "   other_revenue  lifetime  freq_total  churn  cluster_km  \n",
       "0      14.227470         3    0.020398      0           4  \n",
       "1     113.202938         7    1.922936      0           2  \n",
       "2     129.448479         2    1.859098      0           3  "
      ]
     },
     "metadata": {},
     "output_type": "display_data"
    }
   ],
   "source": [
    "# сохраняем метки кластера в столбец 'cluster_km' нашего исходного датасета - gym, и датасета с признаками - Х\n",
    "gym['cluster_km'] = labels\n",
    "display(gym.head(3))\n",
    "\n",
    "X['cluster_km']= labels\n",
    "#display(X.head(3))"
   ]
  },
  {
   "cell_type": "markdown",
   "metadata": {},
   "source": [
    "### 3.3   Расчет доли оттока по кластерам<a id='churn_share'></a>"
   ]
  },
  {
   "cell_type": "markdown",
   "metadata": {},
   "source": [
    "Для каждого кластера посчитаем количество клиентов в кластере и долю оттока."
   ]
  },
  {
   "cell_type": "code",
   "execution_count": 33,
   "metadata": {
    "scrolled": false
   },
   "outputs": [
    {
     "data": {
      "text/html": [
       "<div>\n",
       "<style scoped>\n",
       "    .dataframe tbody tr th:only-of-type {\n",
       "        vertical-align: middle;\n",
       "    }\n",
       "\n",
       "    .dataframe tbody tr th {\n",
       "        vertical-align: top;\n",
       "    }\n",
       "\n",
       "    .dataframe thead th {\n",
       "        text-align: right;\n",
       "    }\n",
       "</style>\n",
       "<table border=\"1\" class=\"dataframe\">\n",
       "  <thead>\n",
       "    <tr style=\"text-align: right;\">\n",
       "      <th></th>\n",
       "      <th>users_count</th>\n",
       "      <th>churn_count</th>\n",
       "      <th>churn_share</th>\n",
       "    </tr>\n",
       "    <tr>\n",
       "      <th>cluster_km</th>\n",
       "      <th></th>\n",
       "      <th></th>\n",
       "      <th></th>\n",
       "    </tr>\n",
       "  </thead>\n",
       "  <tbody>\n",
       "    <tr>\n",
       "      <th>0</th>\n",
       "      <td>559</td>\n",
       "      <td>224</td>\n",
       "      <td>0.40</td>\n",
       "    </tr>\n",
       "    <tr>\n",
       "      <th>1</th>\n",
       "      <td>1066</td>\n",
       "      <td>125</td>\n",
       "      <td>0.12</td>\n",
       "    </tr>\n",
       "    <tr>\n",
       "      <th>2</th>\n",
       "      <td>917</td>\n",
       "      <td>22</td>\n",
       "      <td>0.02</td>\n",
       "    </tr>\n",
       "    <tr>\n",
       "      <th>3</th>\n",
       "      <td>1072</td>\n",
       "      <td>587</td>\n",
       "      <td>0.55</td>\n",
       "    </tr>\n",
       "    <tr>\n",
       "      <th>4</th>\n",
       "      <td>386</td>\n",
       "      <td>103</td>\n",
       "      <td>0.27</td>\n",
       "    </tr>\n",
       "  </tbody>\n",
       "</table>\n",
       "</div>"
      ],
      "text/plain": [
       "            users_count  churn_count  churn_share\n",
       "cluster_km                                       \n",
       "0                   559          224         0.40\n",
       "1                  1066          125         0.12\n",
       "2                   917           22         0.02\n",
       "3                  1072          587         0.55\n",
       "4                   386          103         0.27"
      ]
     },
     "execution_count": 33,
     "metadata": {},
     "output_type": "execute_result"
    }
   ],
   "source": [
    "churn = gym.groupby('cluster_km').agg({'cluster_km':'count', 'churn' : 'sum'}) \n",
    "churn = churn.rename(columns = {'cluster_km':'users_count', 'churn':'churn_count'})\n",
    "churn['churn_share'] = (churn['churn_count'] / churn['users_count']).round(2)\n",
    "churn"
   ]
  },
  {
   "cell_type": "markdown",
   "metadata": {},
   "source": [
    "Больше всего склонны к оттоку клиенты кластеров \"3\" (55% клиентов ушла в отток в текущем месяце) и \"0\" (40%). А кластеры \"2\" и \"1\" являются самыми надежными (только 2 и 12% клиентов в оттоке соответственно).\n",
    "\n",
    "Закономерностей между размером кластера и склонностью его клиентов к оттоку мы не наблюдаем: и \"1\", и \"3\" кластеры одинаково большие, но склонность к оттоку у них противоположная. Поищем другие закономерности.<br>"
   ]
  },
  {
   "cell_type": "markdown",
   "metadata": {},
   "source": [
    "### 3.4  Оценка средних значений признаков по кластерам<a id='cluster_mean'></a>"
   ]
  },
  {
   "cell_type": "markdown",
   "metadata": {},
   "source": [
    "Посмотрим на средние значения признаков кластеров.  "
   ]
  },
  {
   "cell_type": "code",
   "execution_count": 34,
   "metadata": {
    "scrolled": false
   },
   "outputs": [
    {
     "data": {
      "text/html": [
       "<div>\n",
       "<style scoped>\n",
       "    .dataframe tbody tr th:only-of-type {\n",
       "        vertical-align: middle;\n",
       "    }\n",
       "\n",
       "    .dataframe tbody tr th {\n",
       "        vertical-align: top;\n",
       "    }\n",
       "\n",
       "    .dataframe thead th {\n",
       "        text-align: right;\n",
       "    }\n",
       "</style>\n",
       "<table border=\"1\" class=\"dataframe\">\n",
       "  <thead>\n",
       "    <tr style=\"text-align: right;\">\n",
       "      <th></th>\n",
       "      <th>gender</th>\n",
       "      <th>near_loc</th>\n",
       "      <th>partner</th>\n",
       "      <th>promo</th>\n",
       "      <th>phone</th>\n",
       "      <th>contract_period</th>\n",
       "      <th>group</th>\n",
       "      <th>age</th>\n",
       "      <th>other_revenue</th>\n",
       "      <th>lifetime</th>\n",
       "      <th>freq_total</th>\n",
       "      <th>churn</th>\n",
       "    </tr>\n",
       "    <tr>\n",
       "      <th>cluster_km</th>\n",
       "      <th></th>\n",
       "      <th></th>\n",
       "      <th></th>\n",
       "      <th></th>\n",
       "      <th></th>\n",
       "      <th></th>\n",
       "      <th></th>\n",
       "      <th></th>\n",
       "      <th></th>\n",
       "      <th></th>\n",
       "      <th></th>\n",
       "      <th></th>\n",
       "    </tr>\n",
       "  </thead>\n",
       "  <tbody>\n",
       "    <tr>\n",
       "      <th>0</th>\n",
       "      <td>0.502683</td>\n",
       "      <td>0.000000</td>\n",
       "      <td>0.490161</td>\n",
       "      <td>0.078712</td>\n",
       "      <td>1.0</td>\n",
       "      <td>3.000000</td>\n",
       "      <td>0.232558</td>\n",
       "      <td>28.708408</td>\n",
       "      <td>137.385192</td>\n",
       "      <td>3.007156</td>\n",
       "      <td>1.768159</td>\n",
       "      <td>0.400716</td>\n",
       "    </tr>\n",
       "    <tr>\n",
       "      <th>1</th>\n",
       "      <td>0.486867</td>\n",
       "      <td>0.996248</td>\n",
       "      <td>0.943715</td>\n",
       "      <td>0.883677</td>\n",
       "      <td>1.0</td>\n",
       "      <td>7.660413</td>\n",
       "      <td>0.523452</td>\n",
       "      <td>29.474672</td>\n",
       "      <td>149.409166</td>\n",
       "      <td>4.057223</td>\n",
       "      <td>1.912481</td>\n",
       "      <td>0.117261</td>\n",
       "    </tr>\n",
       "    <tr>\n",
       "      <th>2</th>\n",
       "      <td>0.561614</td>\n",
       "      <td>0.996728</td>\n",
       "      <td>0.267176</td>\n",
       "      <td>0.050164</td>\n",
       "      <td>1.0</td>\n",
       "      <td>5.241003</td>\n",
       "      <td>0.533261</td>\n",
       "      <td>30.958561</td>\n",
       "      <td>186.697490</td>\n",
       "      <td>5.778626</td>\n",
       "      <td>2.400164</td>\n",
       "      <td>0.023991</td>\n",
       "    </tr>\n",
       "    <tr>\n",
       "      <th>3</th>\n",
       "      <td>0.488806</td>\n",
       "      <td>1.000000</td>\n",
       "      <td>0.223881</td>\n",
       "      <td>0.078358</td>\n",
       "      <td>1.0</td>\n",
       "      <td>2.082090</td>\n",
       "      <td>0.286381</td>\n",
       "      <td>27.584888</td>\n",
       "      <td>116.455656</td>\n",
       "      <td>1.933769</td>\n",
       "      <td>1.466695</td>\n",
       "      <td>0.547575</td>\n",
       "    </tr>\n",
       "    <tr>\n",
       "      <th>4</th>\n",
       "      <td>0.523316</td>\n",
       "      <td>0.862694</td>\n",
       "      <td>0.471503</td>\n",
       "      <td>0.305699</td>\n",
       "      <td>0.0</td>\n",
       "      <td>4.777202</td>\n",
       "      <td>0.427461</td>\n",
       "      <td>29.297927</td>\n",
       "      <td>144.208179</td>\n",
       "      <td>3.940415</td>\n",
       "      <td>1.854211</td>\n",
       "      <td>0.266839</td>\n",
       "    </tr>\n",
       "  </tbody>\n",
       "</table>\n",
       "</div>"
      ],
      "text/plain": [
       "              gender  near_loc   partner     promo  phone  contract_period  \\\n",
       "cluster_km                                                                   \n",
       "0           0.502683  0.000000  0.490161  0.078712    1.0         3.000000   \n",
       "1           0.486867  0.996248  0.943715  0.883677    1.0         7.660413   \n",
       "2           0.561614  0.996728  0.267176  0.050164    1.0         5.241003   \n",
       "3           0.488806  1.000000  0.223881  0.078358    1.0         2.082090   \n",
       "4           0.523316  0.862694  0.471503  0.305699    0.0         4.777202   \n",
       "\n",
       "               group        age  other_revenue  lifetime  freq_total     churn  \n",
       "cluster_km                                                                      \n",
       "0           0.232558  28.708408     137.385192  3.007156    1.768159  0.400716  \n",
       "1           0.523452  29.474672     149.409166  4.057223    1.912481  0.117261  \n",
       "2           0.533261  30.958561     186.697490  5.778626    2.400164  0.023991  \n",
       "3           0.286381  27.584888     116.455656  1.933769    1.466695  0.547575  \n",
       "4           0.427461  29.297927     144.208179  3.940415    1.854211  0.266839  "
      ]
     },
     "metadata": {},
     "output_type": "display_data"
    }
   ],
   "source": [
    "# выводим статистику по средним значениям наших признаков по кластеру\n",
    "display(gym.groupby('cluster_km').mean())"
   ]
  },
  {
   "cell_type": "markdown",
   "metadata": {},
   "source": [
    "Мы видим, что в этой таблице средние значения показателя оттока (`churn`) по кластерам  полностью совпадает с посчитанной выше долей оттока. Это произошло потому, что наш показатель `churn` - бинарный. "
   ]
  },
  {
   "cell_type": "markdown",
   "metadata": {},
   "source": [
    "Даже просто глядя на средние значения признаков кластеров, уже многое можно заметить. Например, минимальный средний отток на уровне 2% и 12% наблюдается у кластеров под номерами \"2\" и \"1\" соответственно, при этом у  кластера \"1\" - максимальный средний контрактный период (7,6 месяцев), у кластера \"2\"  этот показатель второй по величине (5,2 месяца).<br> \n",
    "Аналогично, у данных кластеров наблюдается максимальный средний показатель `lifetime` - время с момента первого обращения в фитнес-центр: 5,8 мес. у кластера \"2\" и 4 мес. у кластера \"1\".<br>\n",
    "Также показатели выручки за другие услуги (массаж, каФе и тд) у данных двух кластеров максимальны (187 и 149 единиц соответственно), что, в общем-то, логично, поскольку  данные пользователи дольше всех посещают фитнес-центр (как мы видели только что) и успели больше потратить. <br>\n",
    "Средняя частота посещения также является у кластеров \"2\" и \"1\" максимальной - 2,4 раза в неделю у кластера \"2\" и 1,9 раз в неделю у кластера \"1\".<br>\n",
    "Признак `group` у обоих кластеров \"2\" и \"1\" тоже максимальный - по 53% клиентов этих кластеров посещают групповые занятия. Как и признак `возраст` - 31,0 и 29,5 лет - это максимальные показатели среди кластеров.<br> \n",
    "\n",
    "   Наихудшим кластером по показателю оттока является кластер под номером \"3\" - 55% клиентов. И для большинства признаков этого кластера характерна аналогичная обратная связь: минимальные средние значения среди всех кластеров  имеет данный кластер по тем же самым признакам, для которых максимальное значение мы увидели у кластера \"2\" (с минимальным оттоком), а именно, следующие признаки: **контрактный период** (2 мес.),  **время с момента первого обращения** (< 2 мес.), **\"другая\" выручка** (116 ед.), **средняя частота посещения** - 1,5 раза в неделю,  **возраст** - 27,6 лет. И показатель **посещение групповых занятий** является для кластера \"3\" хоть и не минимальным, имеет ближайшее к минимуму значение - только 29% из кластера посещают занятия в группах. <br>\n",
    "    \n",
    "   Интересно заметить, что все вышеперечисленые признаки (кроме признака `group`) являются небинарными.<br>\n",
    "   \n",
    "   **Из всего вышеизложенного можно сделать предварительный вывод о том, что все вышеперечисленные признаки (небинарные) обратно-пропорционально влияют на отток клиентов: чем выше значения данных признаков, тем ниже отток, и наоборот. Соответственно, стратегия взаимодействия с пользователями и их удержания должна учитывать максимизацию перечисленных признаков.**<br>\n",
    "    \n",
    "   Оставшиеся признаки, на первый взгляд, не имеют особого влияния на максимальность или минимальность оттока по кластерам. Но мы еще раз посмотрим на них на графиках.<br>"
   ]
  },
  {
   "cell_type": "markdown",
   "metadata": {},
   "source": [
    "### 3.5   Распределения признаков по кластерам<a id='cluster_bar_boxplot'></a>"
   ]
  },
  {
   "cell_type": "markdown",
   "metadata": {},
   "source": [
    "Теперь построим графики распределения с учетом разбиения по кластерам и посмотрим, что мы увидим по ним. <br>\n",
    "Для построения графиков опять поделим наш датафрейм на два: с бинарными и небинарными признаками, и добавим недостающие колонки. "
   ]
  },
  {
   "cell_type": "code",
   "execution_count": 35,
   "metadata": {},
   "outputs": [],
   "source": [
    "gym_bin_cl = gym[binary_list]\n",
    "gym_not_bin_cl = gym[not_binary_list]\n",
    "\n",
    "gym_bin_cl['churn'] = gym['churn']\n",
    "gym_not_bin_cl['churn'] = gym['churn']\n",
    "gym_bin_cl['cluster_km'] = gym['cluster_km']\n",
    "gym_not_bin_cl['cluster_km'] = gym['cluster_km']"
   ]
  },
  {
   "cell_type": "code",
   "execution_count": 36,
   "metadata": {},
   "outputs": [
    {
     "data": {
      "text/html": [
       "<div>\n",
       "<style scoped>\n",
       "    .dataframe tbody tr th:only-of-type {\n",
       "        vertical-align: middle;\n",
       "    }\n",
       "\n",
       "    .dataframe tbody tr th {\n",
       "        vertical-align: top;\n",
       "    }\n",
       "\n",
       "    .dataframe thead th {\n",
       "        text-align: right;\n",
       "    }\n",
       "</style>\n",
       "<table border=\"1\" class=\"dataframe\">\n",
       "  <thead>\n",
       "    <tr style=\"text-align: right;\">\n",
       "      <th></th>\n",
       "      <th>gender</th>\n",
       "      <th>near_loc</th>\n",
       "      <th>partner</th>\n",
       "      <th>promo</th>\n",
       "      <th>phone</th>\n",
       "      <th>group</th>\n",
       "      <th>churn</th>\n",
       "      <th>cluster_km</th>\n",
       "    </tr>\n",
       "  </thead>\n",
       "  <tbody>\n",
       "    <tr>\n",
       "      <th>0</th>\n",
       "      <td>1</td>\n",
       "      <td>1</td>\n",
       "      <td>1</td>\n",
       "      <td>1</td>\n",
       "      <td>0</td>\n",
       "      <td>1</td>\n",
       "      <td>0</td>\n",
       "      <td>4</td>\n",
       "    </tr>\n",
       "    <tr>\n",
       "      <th>1</th>\n",
       "      <td>0</td>\n",
       "      <td>1</td>\n",
       "      <td>0</td>\n",
       "      <td>0</td>\n",
       "      <td>1</td>\n",
       "      <td>1</td>\n",
       "      <td>0</td>\n",
       "      <td>2</td>\n",
       "    </tr>\n",
       "  </tbody>\n",
       "</table>\n",
       "</div>"
      ],
      "text/plain": [
       "   gender  near_loc  partner  promo  phone  group  churn  cluster_km\n",
       "0       1         1        1      1      0      1      0           4\n",
       "1       0         1        0      0      1      1      0           2"
      ]
     },
     "metadata": {},
     "output_type": "display_data"
    },
    {
     "data": {
      "text/html": [
       "<div>\n",
       "<style scoped>\n",
       "    .dataframe tbody tr th:only-of-type {\n",
       "        vertical-align: middle;\n",
       "    }\n",
       "\n",
       "    .dataframe tbody tr th {\n",
       "        vertical-align: top;\n",
       "    }\n",
       "\n",
       "    .dataframe thead th {\n",
       "        text-align: right;\n",
       "    }\n",
       "</style>\n",
       "<table border=\"1\" class=\"dataframe\">\n",
       "  <thead>\n",
       "    <tr style=\"text-align: right;\">\n",
       "      <th></th>\n",
       "      <th>contract_period</th>\n",
       "      <th>age</th>\n",
       "      <th>other_revenue</th>\n",
       "      <th>lifetime</th>\n",
       "      <th>freq_total</th>\n",
       "      <th>churn</th>\n",
       "      <th>cluster_km</th>\n",
       "    </tr>\n",
       "  </thead>\n",
       "  <tbody>\n",
       "    <tr>\n",
       "      <th>0</th>\n",
       "      <td>6</td>\n",
       "      <td>29</td>\n",
       "      <td>14.227470</td>\n",
       "      <td>3</td>\n",
       "      <td>0.020398</td>\n",
       "      <td>0</td>\n",
       "      <td>4</td>\n",
       "    </tr>\n",
       "    <tr>\n",
       "      <th>1</th>\n",
       "      <td>12</td>\n",
       "      <td>31</td>\n",
       "      <td>113.202938</td>\n",
       "      <td>7</td>\n",
       "      <td>1.922936</td>\n",
       "      <td>0</td>\n",
       "      <td>2</td>\n",
       "    </tr>\n",
       "  </tbody>\n",
       "</table>\n",
       "</div>"
      ],
      "text/plain": [
       "   contract_period  age  other_revenue  lifetime  freq_total  churn  \\\n",
       "0                6   29      14.227470         3    0.020398      0   \n",
       "1               12   31     113.202938         7    1.922936      0   \n",
       "\n",
       "   cluster_km  \n",
       "0           4  \n",
       "1           2  "
      ]
     },
     "metadata": {},
     "output_type": "display_data"
    }
   ],
   "source": [
    "display(gym_bin_cl.head(2))\n",
    "display(gym_not_bin_cl.head(2))"
   ]
  },
  {
   "cell_type": "code",
   "execution_count": 37,
   "metadata": {
    "scrolled": true
   },
   "outputs": [
    {
     "name": "stdout",
     "output_type": "stream",
     "text": [
      "(4000, 8)\n",
      "(4000, 7)\n"
     ]
    }
   ],
   "source": [
    "print(gym_bin_cl.shape)\n",
    "print(gym_not_bin_cl.shape)"
   ]
  },
  {
   "cell_type": "markdown",
   "metadata": {},
   "source": [
    "Посмотрим на распределения небинарных признаков в разбивке по кластерам."
   ]
  },
  {
   "cell_type": "code",
   "execution_count": 38,
   "metadata": {
    "scrolled": false
   },
   "outputs": [
    {
     "data": {
      "image/png": "[encoded data removed]",
      "text/plain": [
       "<Figure size 576x288 with 1 Axes>"
      ]
     },
     "metadata": {
      "needs_background": "light"
     },
     "output_type": "display_data"
    },
    {
     "data": {
      "image/png": "[encoded data removed]",
      "text/plain": [
       "<Figure size 576x288 with 1 Axes>"
      ]
     },
     "metadata": {
      "needs_background": "light"
     },
     "output_type": "display_data"
    },
    {
     "data": {
      "image/png": "[encoded data removed]",
      "text/plain": [
       "<Figure size 576x288 with 1 Axes>"
      ]
     },
     "metadata": {
      "needs_background": "light"
     },
     "output_type": "display_data"
    },
    {
     "data": {
      "image/png": "[encoded data removed]",
      "text/plain": [
       "<Figure size 576x288 with 1 Axes>"
      ]
     },
     "metadata": {
      "needs_background": "light"
     },
     "output_type": "display_data"
    },
    {
     "data": {
      "image/png": "[encoded data removed]",
      "text/plain": [
       "<Figure size 576x288 with 1 Axes>"
      ]
     },
     "metadata": {
      "needs_background": "light"
     },
     "output_type": "display_data"
    }
   ],
   "source": [
    "for col in not_binary_list:\n",
    "    fig, ax = plt.subplots(figsize=(8,4))\n",
    "    plt.title('Диаграмма \"ящик с усами\" для признака   ' + col + '   в разбивке по кластерам', fontsize = 13)\n",
    "    ax = sns.boxplot(data = gym_not_bin_cl, y = col, x = 'cluster_km')\n",
    "    ax.yaxis.grid = True\n",
    "    plt.show()"
   ]
  },
  {
   "cell_type": "markdown",
   "metadata": {},
   "source": [
    "По диаграммам \"ящика с усами\" мы можем видеть, что все клиенты наиболее склонного к оттоку кластера \"3\" имеют месячные контракты (единичные выбросы в 6 и 12 месяцев мы не считаем), в то время как в наиболее надежных кластерах \"2\" и \"1\" все контракты распределены равномерно: и 1, и 6, и 12 месяцев.  \n",
    "Основная часть контрактов \"0\" и \"4\" кластеров составляет 1 и 6 месяцев - их графики идентичны.<br>\n",
    "\n",
    "Клиенты самого надежного кластера \"2\" имеют в целом более зрелый возраст (медиана примерно на уровне 30,5 лет, три четверти клиентов - старше 29 лет), чем у наименее надежного кластера \"3\" (медиана на уровне 28 лет, три четверти клиентов - старше 27 лет). То есть возрастной сдвиг между пограничными кластерами - 2-3 года. \n",
    "Можно заметить идентичность кластеров \"0\" и \"4\"  по данному признаку.<br>\n",
    "\n",
    "Основная масса значений кластера \"2\" по признаку \"другая выручка\" (медиана - 190) расположена выше основной массы значений кластера \"3\" (медиана - 110), то есть клиенты более надежного кластера тратят больше денег и на другие попутные услуги клуба. Также отмечаем полную идентичность кластеров \"0\" и \"4\" по данному признаку.<br>\n",
    "\n",
    "По признаку `lifetime` три четверти значений кластеры \"2\" располагаются выше , чем три четверти значений кластера \"3\": подавляющее большинство самого надежного кластера \"2\" знакомы с клубом от 3 до 13 месяцев в пртивовес \"ненажежному \" кластеру, у которого большинство клиентов - новенькие (lifetime менее 3 мес.)<br>\n",
    "Кластеры \"0\" и \"4\" по данному признаку не идентичны, но наиболее близки между собой.<br>\n",
    "\n",
    "По частоте посещения опять же кластер \"2\" показывает наилучшие результаты: медиана ~2,6 раз в неделю и межквартильный размах от 1,5 до 3 р/нед. против медианы 1,6 р/нед и межквартильного размаза от 1 до 2 р/нед у кластера \"3\". Значения кластеров \"0\", \"1\" и \"4\" примерно совпадают, причем у \"0\" и \"4\" они почти полностью идентичны, как и по другим признакам.<br>\n",
    "\n",
    "**В целом по графикам распределения небинарных признаков можно сделать вывод о том, кластер \"2\" (наилучший по показателю оттока) имеет наивысшие значения небинарных признаков, кластер \"3\" (наихудший по оттоку) - имеет наименьшие значения. Кластер \"1\" имеет наибольший размах значений признаков (вероятно, и потому, что он почти наикрупнейший по размеру кластер). Кластеры \"0\" и \"4\" практически полностью индентичны по всем небинарным признакам**."
   ]
  },
  {
   "cell_type": "markdown",
   "metadata": {},
   "source": [
    "Посмотрим на распределения бинарных признаков в разбивке по кластерам."
   ]
  },
  {
   "cell_type": "code",
   "execution_count": 39,
   "metadata": {
    "scrolled": false
   },
   "outputs": [
    {
     "data": {
      "image/png": "[encoded data removed]",
      "text/plain": [
       "<Figure size 576x288 with 1 Axes>"
      ]
     },
     "metadata": {
      "needs_background": "light"
     },
     "output_type": "display_data"
    },
    {
     "data": {
      "image/png": "[encoded data removed]",
      "text/plain": [
       "<Figure size 576x288 with 1 Axes>"
      ]
     },
     "metadata": {
      "needs_background": "light"
     },
     "output_type": "display_data"
    },
    {
     "data": {
      "image/png": "[encoded data removed]",
      "text/plain": [
       "<Figure size 576x288 with 1 Axes>"
      ]
     },
     "metadata": {
      "needs_background": "light"
     },
     "output_type": "display_data"
    },
    {
     "data": {
      "image/png": "[encoded data removed]",
      "text/plain": [
       "<Figure size 576x288 with 1 Axes>"
      ]
     },
     "metadata": {
      "needs_background": "light"
     },
     "output_type": "display_data"
    },
    {
     "data": {
      "image/png": "[encoded data removed]",
      "text/plain": [
       "<Figure size 576x288 with 1 Axes>"
      ]
     },
     "metadata": {
      "needs_background": "light"
     },
     "output_type": "display_data"
    },
    {
     "data": {
      "image/png": "[encoded data removed]",
      "text/plain": [
       "<Figure size 576x288 with 1 Axes>"
      ]
     },
     "metadata": {
      "needs_background": "light"
     },
     "output_type": "display_data"
    }
   ],
   "source": [
    "for col in binary_list:\n",
    "    fig, ax = plt.subplots(figsize=(8,4))\n",
    "    plt.title('Столбчатая диаграмма для признака   ' + col + '   в разбивке по кластерам', fontsize = 13)\n",
    "    ax = sns.barplot(data = gym_bin_cl,  x = 'cluster_km', y = col);\n",
    "    ax.yaxis.grid = True\n",
    "    plt.show()"
   ]
  },
  {
   "cell_type": "markdown",
   "metadata": {},
   "source": [
    "По признаку `возраст` почти все кластеры индентичны, обращает на себя внимание лишь \"наилучший\" по оттоку кластер \"2\": в нем 56% клиентов пола под кодом №1. Это примерно на 7-15% больше, чем в других кластерах. Неважно, мужчины это или женщины, а важно то, что, клиенты именно этого пола имеют большую стойкость в следовании своим решениям по поддержанию здоровья и фигуры.  То есть, **еще одной рекомендацией мог бы служить совет обратить бОльшее внимание на привлечение клиентов пола \"1\", например, путем запуска специфических для этого пола промоакций.**<br>\n",
    "\n",
    "По признаку `близость локации` можно сказать, что клиенты первого, второго и третьего кластеров полностью живут или работают в непосредственной близости от фитнес-центра, то есть данный признак никак нельзя назвать определяющим в вопросе оттока. Можно заметить лишь , что кластер \"0\" сформирован по принципу дальней локации для всех клиентов кластера.<br>\n",
    "\n",
    "По признаку `сотрудник партнера` кластер \"1\" почти полностью состоит из таких клиентов, и при этом он показывает второй по надежности показатель (12% оттока). Хотя назвать этот показатель сильно определяющим нельзя, поскольку он почти одинаково низкий у наилучшего и наихудшего кластеров (\"2\" и \"3\"). Кластеры \"0\" и \"4\" полностью идентичны по данному признаку (по половине клиентов являются сотрудниками компаний-партнеров). <br>\n",
    "\n",
    "Тоже самое касается и признака `promo`: кластер \"1\" на 90% состоит из таких клиентов, при этом кластеры \"2\", \"3\" и \"0\" имеют рекордно низкие показатели - менее 10%. Таким образом, фактор прихода по акции \"Приведи друга\" тоже не является определяющим.<br>\n",
    "\n",
    "По столбчатой диаграмме признака `phone` можно увидеть, что, опять же наличие в базе телефона клиентов показывают все кластеры, кроме четвертого, то есть этот признак так же не является определяющим. Тем не менее, поскольку четвертый кластер имеет показатель оттока 27%, **еще одна рекомендация  менеждерам отдела продаж  - проверить, не является ли отсутствие номера в базе упущением при заключении контракта, или же клиент просто выбрал другой предпочтительный канал связи (например, емейл)**.<br>\n",
    "\n",
    "Признак `group`, пожалуй, единственный бинарный признак, который имеет значение влияние на формирование оттока: в наилучшем кластере \"2\" 53% клиентов посещали групповые занятия, а в наихудшем - лишь 29%. Кластер \"1\", занимающий второе мето по надежности (12% оттока) тоже имеет высокий групповой показатель - 52%. Налицо, опять же, обратная связь с оттоком.<br>\n",
    "\n",
    "**В общем, по бинарным признакам можно сделать вывод, что все они (кроме признака `group`) не являются определяющими в формировании оттока**.<br>\n",
    "\n",
    "Можно сделать интересное наблюдение, что кластеры \"0\" и \"4\" практически полностью идентичны, и отличаются лишь полным отсутствием телефонов клиентов в кластере \"4\", и полностью удаленной локацией клиентов кластера \"0\". В остальном  эти кластеры очень похожи, и их без особого ущерба для результатов исследования можно было бы объединить в один. Это подтвержает наше экспертное мнение о достаточности 4 классов вместо 5ти.<br>\n"
   ]
  },
  {
   "cell_type": "markdown",
   "metadata": {},
   "source": [
    "## 4. Выводы<a id='conclusions'></a>"
   ]
  },
  {
   "cell_type": "markdown",
   "metadata": {},
   "source": [
    "В данном проекте проведено исследование данных пользователей фитнес-центра с целью прогнозирования оттока пользователей.<br>\n",
    "\n",
    "В ходе сравнения двух групп пользователей - ушедших в отток и оставшихся - было выяснено, что:\n",
    "- оставшиеся пользователи имеют значения большинства признаков выше (на 30% - 500%), чем значения данных признаков у группы ушедших в отток;\n",
    "- эти признаки - общий срок контракта  и срок до конца контракта,  возраст, выручка от \"других\" услуг. частота посещения всего и частота посещений в последний месяц, \"время жизни\", посещаемость групповых занятий, приход по промоакции \"Приведи друга\", причастность к компании-партнеру;\n",
    "- соотношение полов и наличие телефона в базе различия по группам не имеют.<br>\n",
    "\n",
    "В процессе исследования взаимозависимостей признаков была выявлена мультиколлинерность признаков и определено, что такие признаки как \"частота посещения в последний месяц\" и \"срок до конца контракта\" можно удалиьт из рассмотрения без ущерба для результатов анализа.<br>\n",
    "\n",
    "Для прогнозирования оттока пользователей (на уровне следующего месяца) были построены и протестированы две модели бинарной классификации - с помощью алгоритмов логистической регрессии и случайного леса. На основании метрик доля правильных ответов, точность и полнота (accuracy, precision, recall) модель логистической регресии была признана более точной.<br>\n",
    "\n",
    "Далее с помощью алгоритмов агломеративной иерархической кластеризации и K-means была проведена сегментация пользователей на 5 кластеров. Было проведено сравнение признаков по данным кластерам. В результате определены два кластера с характерными значениями признаков для группы, наиболее склонной к оттоку, и наиболее надежной группы.<br>"
   ]
  },
  {
   "cell_type": "markdown",
   "metadata": {},
   "source": [
    "Таким образом на основании анализ кластеров можно выделить 2 наиболее яркие группы клиентов - надежных и склонных к оттоку, и сформулировать для них характерные признаки.\n",
    "\n",
    "**Наиболее надежными клиентами являются клиенты группы с максимальными небинарными признаками** (максимальным возрастом, длиной контракта, сроком \"жизни\" в фитнес-центре,  выручкой по прочим услугам, средней частотой посещения), **а также с максимальным процентом посещения групповых занятий**. Они не пришли по промоакции, живут или работают рядом, их номер телефона есть в базе клуба, они, в основном, не являются сотрудниками компаний-партнеров, и **количество клиентов пола №1 в этой группе превышает остальные группы (кластеры) в среднем на 10% процентов**.\n",
    "\n",
    "**Наименее надежными клиентами (более всего склонными к оттоку) являются, наоборот, клиенты группы с минимальными небинарными признаками**: минимальным возрастом, длиной контракта, сроком \"жизни\" в фитнес-центре,  выручкой по прочим услугам, средней частотой посещения, **а также с почти минимальным процентом посещения групповых занятий**. Они также, как и клиенты \"надежной\" группы, не пришли по промоакции, в основном, не являются сотрудниками компаний-партнеров, тоже живут или работают рядом, их номер телефона тоже есть в базе клуба,  а количество клиентов обоих поло в этой группе примерно одинаковое."
   ]
  },
  {
   "cell_type": "markdown",
   "metadata": {},
   "source": [
    "Можно проследить взаимосвязь. **Чем менее склонен клиент к оттоку, тем более высокое значение  имеют у него определяющие признаки, а именно:**\n",
    "- старше его возраст (и больше мотивации поддердивать фигуру и здоровье);\n",
    "- длиннее срок контракта (вероятно, жаль бросить, раз заплатил больше денег, либо же принято более осознанное решение о поддержке фигуры или здоровья);\n",
    "- чаще посещает фитнес-центр;\n",
    "- является более давним клиентом;\n",
    "- больше тратит на \"другие\" услуги центра;\n",
    "- чаще посещает групповые занятия;\n",
    "- он с бОльшей вероятностью принадлежит к полу №1."
   ]
  },
  {
   "cell_type": "markdown",
   "metadata": {},
   "source": [
    "## 5. Рекомендации<a id='recommendations'></a> "
   ]
  },
  {
   "cell_type": "markdown",
   "metadata": {},
   "source": [
    "**Целевой группой будет являться наиболее склонная к оттоку группа. Комплекс маркетинговых мероприятий рекомендуется направить на увеличение значений вышеперечисленных определяющих признаков для данной группы.**\n",
    "Например,\n",
    "- скидки на более \"длинные\" контракты (абонементы);\n",
    "- специализированная акция для привелечения клиентов пола №1;\n",
    "- промоакция для потенциальных клиентов возраста старше 30 лет;\n",
    "- \"связанные\" акции, например, скидочные предложения на \"другие\" услуги центра при покупке максимально \"длинного\" контракта;\n",
    "- стимуляция более частых посещений центра и/или групповых занятих (например, 9 занятий посетил - 10е в подарок, или 3 занятия в будни - в выходной посещение бесплатно);\n",
    "- преференции более давним клиентам.\n",
    "\n",
    "Также **рекомендуется провести анализ причин отсутствия телефонов в базе фитнес-центра** части пользователей: является ли это оплошностью менеждеров при заключении контрактов, либо же клиентами выбран альтернативный канал связи (емейл). "
   ]
  },
  {
   "cell_type": "code",
   "execution_count": null,
   "metadata": {},
   "outputs": [],
   "source": []
  }
 ],
 "metadata": {
  "kernelspec": {
   "display_name": "Python 3",
   "language": "python",
   "name": "python3"
  },
  "language_info": {
   "codemirror_mode": {
    "name": "ipython",
    "version": 3
   },
   "file_extension": ".py",
   "mimetype": "text/x-python",
   "name": "python",
   "nbconvert_exporter": "python",
   "pygments_lexer": "ipython3",
   "version": "3.7.7"
  }
 },
 "nbformat": 4,
 "nbformat_minor": 2
}
